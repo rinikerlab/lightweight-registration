{
 "cells": [
  {
   "cell_type": "code",
   "execution_count": 1,
   "id": "e97113bf",
   "metadata": {},
   "outputs": [],
   "source": [
    "from rdkit import Chem\n",
    "from rdkit.Chem.MolStandardize import rdMolStandardize\n",
    "from rdkit.Chem import rdForceFieldHelpers\n",
    "from rdkit.Chem.Draw import IPythonConsole\n",
    "IPythonConsole.ipython_3d = True\n",
    "import lwreg\n",
    "from lwreg import utils,standardization_lib\n",
    "import pandas as pd\n",
    "import rdkit\n",
    "\n",
    "from rdkit import RDLogger\n",
    "RDLogger.DisableLog('rdApp.info')"
   ]
  },
  {
   "cell_type": "markdown",
   "id": "fa04e42b",
   "metadata": {},
   "source": [
    "# Start by reading in a data set from ChEMBL"
   ]
  },
  {
   "cell_type": "code",
   "execution_count": 2,
   "id": "9f1e8d9b",
   "metadata": {},
   "outputs": [
    {
     "data": {
      "text/html": [
       "<div>\n",
       "<style scoped>\n",
       "    .dataframe tbody tr th:only-of-type {\n",
       "        vertical-align: middle;\n",
       "    }\n",
       "\n",
       "    .dataframe tbody tr th {\n",
       "        vertical-align: top;\n",
       "    }\n",
       "\n",
       "    .dataframe thead th {\n",
       "        text-align: right;\n",
       "    }\n",
       "</style>\n",
       "<table border=\"1\" class=\"dataframe\">\n",
       "  <thead>\n",
       "    <tr style=\"text-align: right;\">\n",
       "      <th></th>\n",
       "      <th>doc_id</th>\n",
       "      <th>molregno</th>\n",
       "      <th>standard_relation</th>\n",
       "      <th>standard_value</th>\n",
       "      <th>standard_units</th>\n",
       "      <th>standard_flag</th>\n",
       "      <th>standard_type</th>\n",
       "      <th>pchembl_value</th>\n",
       "      <th>canonical_smiles</th>\n",
       "      <th>compound_chembl_id</th>\n",
       "    </tr>\n",
       "  </thead>\n",
       "  <tbody>\n",
       "    <tr>\n",
       "      <th>0</th>\n",
       "      <td>5839</td>\n",
       "      <td>189018</td>\n",
       "      <td>=</td>\n",
       "      <td>82.0</td>\n",
       "      <td>nM</td>\n",
       "      <td>1</td>\n",
       "      <td>EC50</td>\n",
       "      <td>7.09</td>\n",
       "      <td>CCCCCCCCc1ccc(NC(=O)[C@@H](N)COP(=O)(O)O)cc1.O...</td>\n",
       "      <td>CHEMBL332050</td>\n",
       "    </tr>\n",
       "    <tr>\n",
       "      <th>1</th>\n",
       "      <td>5839</td>\n",
       "      <td>188442</td>\n",
       "      <td>=</td>\n",
       "      <td>322.1</td>\n",
       "      <td>nM</td>\n",
       "      <td>1</td>\n",
       "      <td>EC50</td>\n",
       "      <td>6.49</td>\n",
       "      <td>CCCCCCCCCCCCCCONC(=O)[C@@H](N)COP(=O)(O)O.OC(=...</td>\n",
       "      <td>CHEMBL115505</td>\n",
       "    </tr>\n",
       "    <tr>\n",
       "      <th>2</th>\n",
       "      <td>5839</td>\n",
       "      <td>188375</td>\n",
       "      <td>=</td>\n",
       "      <td>260.0</td>\n",
       "      <td>nM</td>\n",
       "      <td>1</td>\n",
       "      <td>EC50</td>\n",
       "      <td>6.58</td>\n",
       "      <td>CCCCCCc1ccc(NC(=O)[C@H](N)COP(=O)(O)O)cc1.OC(=...</td>\n",
       "      <td>CHEMBL115344</td>\n",
       "    </tr>\n",
       "    <tr>\n",
       "      <th>3</th>\n",
       "      <td>5839</td>\n",
       "      <td>188376</td>\n",
       "      <td>=</td>\n",
       "      <td>598.4</td>\n",
       "      <td>nM</td>\n",
       "      <td>1</td>\n",
       "      <td>EC50</td>\n",
       "      <td>6.22</td>\n",
       "      <td>CCCCCCCCCCCCNC(=O)[C@@H](N)COP(=O)(O)O.OC(=O)C...</td>\n",
       "      <td>CHEMBL324358</td>\n",
       "    </tr>\n",
       "    <tr>\n",
       "      <th>4</th>\n",
       "      <td>5839</td>\n",
       "      <td>188766</td>\n",
       "      <td>=</td>\n",
       "      <td>12.7</td>\n",
       "      <td>nM</td>\n",
       "      <td>1</td>\n",
       "      <td>EC50</td>\n",
       "      <td>7.90</td>\n",
       "      <td>CCCCCCCCCCCCCCNC(=O)[C@H](N)COP(=O)(O)O.OC(=O)...</td>\n",
       "      <td>CHEMBL332472</td>\n",
       "    </tr>\n",
       "  </tbody>\n",
       "</table>\n",
       "</div>"
      ],
      "text/plain": [
       "   doc_id  molregno standard_relation  standard_value standard_units  \\\n",
       "0    5839    189018                 =            82.0             nM   \n",
       "1    5839    188442                 =           322.1             nM   \n",
       "2    5839    188375                 =           260.0             nM   \n",
       "3    5839    188376                 =           598.4             nM   \n",
       "4    5839    188766                 =            12.7             nM   \n",
       "\n",
       "   standard_flag standard_type  pchembl_value  \\\n",
       "0              1          EC50           7.09   \n",
       "1              1          EC50           6.49   \n",
       "2              1          EC50           6.58   \n",
       "3              1          EC50           6.22   \n",
       "4              1          EC50           7.90   \n",
       "\n",
       "                                    canonical_smiles compound_chembl_id  \n",
       "0  CCCCCCCCc1ccc(NC(=O)[C@@H](N)COP(=O)(O)O)cc1.O...       CHEMBL332050  \n",
       "1  CCCCCCCCCCCCCCONC(=O)[C@@H](N)COP(=O)(O)O.OC(=...       CHEMBL115505  \n",
       "2  CCCCCCc1ccc(NC(=O)[C@H](N)COP(=O)(O)O)cc1.OC(=...       CHEMBL115344  \n",
       "3  CCCCCCCCCCCCNC(=O)[C@@H](N)COP(=O)(O)O.OC(=O)C...       CHEMBL324358  \n",
       "4  CCCCCCCCCCCCCCNC(=O)[C@H](N)COP(=O)(O)O.OC(=O)...       CHEMBL332472  "
      ]
     },
     "execution_count": 2,
     "metadata": {},
     "output_type": "execute_result"
    }
   ],
   "source": [
    "df = pd.read_csv('../demos/demo_data/S1P1_data.csv')\n",
    "df.head()"
   ]
  },
  {
   "cell_type": "markdown",
   "id": "436c5964",
   "metadata": {},
   "source": [
    "# Generate conformers"
   ]
  },
  {
   "cell_type": "markdown",
   "id": "7c89201e",
   "metadata": {},
   "source": [
    "Now we can go ahead and register ten unique molecules (we limit the size to allow the tutorial to run faster):"
   ]
  },
  {
   "cell_type": "code",
   "execution_count": 3,
   "id": "6680c8d7",
   "metadata": {},
   "outputs": [],
   "source": [
    "unique_smis = set()\n",
    "mols = []\n",
    "for smi in df.canonical_smiles:\n",
    "    mol = Chem.AddHs(rdMolStandardize.ChargeParent(Chem.MolFromSmiles(smi)))\n",
    "    smi = Chem.MolToSmiles(mol)\n",
    "    if smi not in unique_smis:\n",
    "        mols.append(mol)\n",
    "        unique_smis.add(smi)\n",
    "    if len(unique_smis) >= 10:\n",
    "        break"
   ]
  },
  {
   "cell_type": "code",
   "execution_count": 4,
   "id": "2e14c2de",
   "metadata": {},
   "outputs": [],
   "source": [
    "from rdkit.Chem import rdDistGeom\n",
    "params = rdDistGeom.ETKDGv3()\n",
    "params.numThreads = 8\n",
    "params.randomSeed = 0xf00d\n",
    "params.pruneRmsThresh = 1.0\n",
    "\n",
    "for mol in mols:\n",
    "    rdDistGeom.EmbedMultipleConfs(mol,5,params)\n",
    "    rdForceFieldHelpers.MMFFOptimizeMoleculeConfs(mol,numThreads=8)\n"
   ]
  },
  {
   "cell_type": "markdown",
   "id": "96791212",
   "metadata": {},
   "source": [
    "# Set up our lwreg instance"
   ]
  },
  {
   "cell_type": "code",
   "execution_count": 5,
   "id": "bb4cddb5",
   "metadata": {},
   "outputs": [],
   "source": [
    "config = utils.defaultConfig()\n",
    "config['dbtype'] = 'postgresql'\n",
    "config['dbname'] = 'lwreg_conformer_tutorial'\n",
    "\n",
    "# for each molecule we want to register one or more conformers\n",
    "config['registerConformers'] = True\n",
    "\n",
    "# For this application we're going to assume that the molecules which \n",
    "# come in are already standardized, so we won't make any changes to them\n",
    "config['standardization'] = 'none'"
   ]
  },
  {
   "cell_type": "markdown",
   "id": "2a3b6317",
   "metadata": {},
   "source": [
    "The next command should only be run at the beginning of a project since it will destroy all existing registration information."
   ]
  },
  {
   "cell_type": "markdown",
   "id": "ac3dacdd",
   "metadata": {},
   "source": [
    "Note that this will generate an error if the `lwreg_conformer_tutorial` database doesn't already exist. You need to create it from the command line with `createdb lwreg_conformer_tutorial`."
   ]
  },
  {
   "cell_type": "code",
   "execution_count": 6,
   "id": "a11dba39",
   "metadata": {},
   "outputs": [
    {
     "name": "stdout",
     "output_type": "stream",
     "text": [
      "This will destroy any existing information in the registration database.\n"
     ]
    },
    {
     "name": "stdin",
     "output_type": "stream",
     "text": [
      "  are you sure? [yes/no]:  yes\n"
     ]
    }
   ],
   "source": [
    "lwreg.initdb(config=config)\n",
    "lwreg.set_default_config(config)"
   ]
  },
  {
   "cell_type": "code",
   "execution_count": 7,
   "id": "cc1806e8",
   "metadata": {},
   "outputs": [],
   "source": [
    "from datetime import datetime\n",
    "def non_default_params_to_dict(obj,defaults):\n",
    "    ''' returns a dict of the non-default parameter values in an object'''\n",
    "    res = {}\n",
    "    for k in dir(obj):\n",
    "        if k.startswith('__'):\n",
    "            continue\n",
    "        v = getattr(obj,k)\n",
    "        if callable(v):\n",
    "            continue\n",
    "        if v == getattr(defaults,k):\n",
    "            continue\n",
    "        else:\n",
    "            res[k] = v\n",
    "    return res\n"
   ]
  },
  {
   "cell_type": "markdown",
   "id": "b271d11c",
   "metadata": {},
   "source": [
    "## Set up the experiments table which we will use to track what was done"
   ]
  },
  {
   "cell_type": "markdown",
   "id": "c8e423d0",
   "metadata": {},
   "source": [
    "This next one destroys data, so it needs to be manually activated. :-)"
   ]
  },
  {
   "cell_type": "code",
   "execution_count": 8,
   "id": "38eb79f8",
   "metadata": {},
   "outputs": [
    {
     "name": "stdin",
     "output_type": "stream",
     "text": [
      "Executing this will destroy data. Do you want to continue? [yes/no] yes\n"
     ]
    },
    {
     "name": "stdout",
     "output_type": "stream",
     "text": [
      "experiments schema reset\n"
     ]
    }
   ],
   "source": [
    "resp = input(\"Executing this will destroy data. Do you want to continue? [yes/no]\")\n",
    "\n",
    "if resp=='yes':\n",
    "    conn = utils.connect(config=config)\n",
    "    curs = conn.cursor()\n",
    "    curs.execute('create schema if not exists experiments')\n",
    "    curs.execute('drop table if exists experiments.metadata')\n",
    "    curs.execute('create table experiments.metadata (expt_uid text primary key,metadata jsonb)')\n",
    "    curs.execute('drop table if exists experiments.data')\n",
    "    curs.execute('create table experiments.data (expt_uid text not null,conf_id int not null,data jsonb,result_id serial primary key)')\n",
    "    conn.commit()\n",
    "    print('experiments schema reset')\n",
    "else:\n",
    "    print('cancelled')"
   ]
  },
  {
   "cell_type": "markdown",
   "id": "00bc7955",
   "metadata": {},
   "source": [
    "# Register the experiment:"
   ]
  },
  {
   "cell_type": "code",
   "execution_count": 9,
   "id": "6da4cfa8",
   "metadata": {},
   "outputs": [
    {
     "name": "stdout",
     "output_type": "stream",
     "text": [
      "{'Experiment Type': 'Conformer generation', 'Method': 'ETKDGv3', 'RDKit Version': '2024.09.5', 'Date': '2025-02-25 10:28:08.205654', 'target_num_conformers': 5, 'note': 'conformer generation then MMFF94 minimization', 'maxIterations': 540, 'numThreads': 8, 'pruneRmsThresh': 1.0, 'randomSeed': 61453}\n"
     ]
    }
   ],
   "source": [
    "from datetime import datetime\n",
    "\n",
    "# capture the non-default part of our conformer generation parameters\n",
    "dg_metadata = non_default_params_to_dict(params,rdDistGeom.ETKDGv3())\n",
    "\n",
    "cg_expt_metadata = {\n",
    "    'Experiment Type':'Conformer generation',\n",
    "    'Method': 'ETKDGv3',\n",
    "    'RDKit Version': rdkit.__version__,\n",
    "    'Date': str(datetime.now()),\n",
    "    'target_num_conformers':5,\n",
    "    'note':'conformer generation then MMFF94 minimization'\n",
    "}\n",
    "cg_expt_metadata.update(dg_metadata)\n",
    "print(cg_expt_metadata)"
   ]
  },
  {
   "cell_type": "code",
   "execution_count": 10,
   "id": "7d0b7764",
   "metadata": {},
   "outputs": [],
   "source": [
    "import json\n",
    "import uuid\n",
    "cg_expt_uid = str(uuid.uuid4())\n",
    "\n",
    "\n",
    "conn = utils.connect(config=config)\n",
    "curs = conn.cursor()\n",
    "curs.execute('insert into experiments.metadata values (%s,%s)',(str(cg_expt_uid),json.dumps(cg_expt_metadata)))\n",
    "conn.commit()"
   ]
  },
  {
   "cell_type": "markdown",
   "id": "ae089c27",
   "metadata": {},
   "source": [
    "# Register the conformers"
   ]
  },
  {
   "cell_type": "markdown",
   "id": "c167b00a",
   "metadata": {},
   "source": [
    "Here's what the results look like for a single molecule:"
   ]
  },
  {
   "cell_type": "code",
   "execution_count": 11,
   "id": "8c74b872",
   "metadata": {},
   "outputs": [
    {
     "data": {
      "text/plain": [
       "5"
      ]
     },
     "execution_count": 11,
     "metadata": {},
     "output_type": "execute_result"
    }
   ],
   "source": [
    "mols[0].GetNumConformers()"
   ]
  },
  {
   "cell_type": "code",
   "execution_count": 12,
   "id": "55470851",
   "metadata": {},
   "outputs": [],
   "source": [
    "results = lwreg.register_multiple_conformers(mol=mols[0])"
   ]
  },
  {
   "cell_type": "markdown",
   "id": "cdc21147",
   "metadata": {},
   "source": [
    "The return value is a list of (molregno,conf_id) tuples, one entry for each conformer:"
   ]
  },
  {
   "cell_type": "code",
   "execution_count": 13,
   "id": "4a95c427",
   "metadata": {},
   "outputs": [
    {
     "data": {
      "text/plain": [
       "((1, 1), (1, 2), (1, 3), (1, 4), (1, 5))"
      ]
     },
     "execution_count": 13,
     "metadata": {},
     "output_type": "execute_result"
    }
   ],
   "source": [
    "results"
   ]
  },
  {
   "cell_type": "markdown",
   "id": "85a0baa0",
   "metadata": {},
   "source": [
    "Now do the rest of the molecules"
   ]
  },
  {
   "cell_type": "code",
   "execution_count": 14,
   "id": "de6d64c5",
   "metadata": {},
   "outputs": [],
   "source": [
    "for mol in mols[1:]:\n",
    "    results = results + lwreg.register_multiple_conformers(mol=mol)"
   ]
  },
  {
   "cell_type": "code",
   "execution_count": 15,
   "id": "fe230d69",
   "metadata": {},
   "outputs": [
    {
     "data": {
      "text/plain": [
       "(49, 49)"
      ]
     },
     "execution_count": 15,
     "metadata": {},
     "output_type": "execute_result"
    }
   ],
   "source": [
    "unique_results = set(results)\n",
    "len(results),len(unique_results)"
   ]
  },
  {
   "cell_type": "markdown",
   "id": "1271827f",
   "metadata": {},
   "source": [
    "And now store the association between the conformers and the experiment:"
   ]
  },
  {
   "cell_type": "code",
   "execution_count": 16,
   "id": "44ef6344",
   "metadata": {},
   "outputs": [],
   "source": [
    "rows = [(cg_expt_uid,cid) for _,cid in results]\n",
    "conn = utils.connect(config=config)\n",
    "curs = conn.cursor()\n",
    "curs.executemany('insert into experiments.data values (%s,%s)',rows)\n",
    "conn.commit()"
   ]
  },
  {
   "cell_type": "markdown",
   "id": "d96ca08a",
   "metadata": {},
   "source": [
    "# Working with the registered conformers"
   ]
  },
  {
   "cell_type": "markdown",
   "id": "3a98cdbd",
   "metadata": {},
   "source": [
    "## Find all conformers for a given molecule:"
   ]
  },
  {
   "cell_type": "code",
   "execution_count": 17,
   "id": "24a5e419",
   "metadata": {},
   "outputs": [
    {
     "data": {
      "image/png": "[encoded data removed]",
      "text/plain": [
       "<rdkit.Chem.rdchem.Mol at 0x72894ef9c510>"
      ]
     },
     "execution_count": 17,
     "metadata": {},
     "output_type": "execute_result"
    }
   ],
   "source": [
    "query = Chem.MolFromSmiles('CCCCCCCCCCCCNC(=O)[C@@H](N)COP(=O)(O)O.OC(=O)C(F)(F)F')\n",
    "query"
   ]
  },
  {
   "cell_type": "markdown",
   "id": "0a168e4f",
   "metadata": {},
   "source": [
    "We start by finding the molregno for the molecule (if there is one). For this we need to prepare the molecule the same way that the original structures were prepared: calling `ChargeParent()` and `AddHs()`:"
   ]
  },
  {
   "cell_type": "code",
   "execution_count": 18,
   "id": "6dd8671c",
   "metadata": {},
   "outputs": [],
   "source": [
    "query = Chem.AddHs(rdMolStandardize.ChargeParent(query))"
   ]
  },
  {
   "cell_type": "markdown",
   "id": "b8d21580",
   "metadata": {},
   "source": [
    "Get the molregno for any matching topologies in the registration database:"
   ]
  },
  {
   "cell_type": "code",
   "execution_count": 19,
   "id": "b43ad0a8",
   "metadata": {},
   "outputs": [
    {
     "data": {
      "text/plain": [
       "[4]"
      ]
     },
     "execution_count": 19,
     "metadata": {},
     "output_type": "execute_result"
    }
   ],
   "source": [
    "ids = lwreg.query(mol=query)\n",
    "ids"
   ]
  },
  {
   "cell_type": "markdown",
   "id": "c353c59c",
   "metadata": {},
   "source": [
    "Now query for the (molregno,conf_id) pairs for those molregnos:"
   ]
  },
  {
   "cell_type": "code",
   "execution_count": 20,
   "id": "a2aa2286",
   "metadata": {},
   "outputs": [
    {
     "data": {
      "text/plain": [
       "[(4, 16), (4, 17), (4, 18), (4, 19), (4, 20)]"
      ]
     },
     "execution_count": 20,
     "metadata": {},
     "output_type": "execute_result"
    }
   ],
   "source": [
    "ids_with_confids = lwreg.query(ids=ids)\n",
    "ids_with_confids"
   ]
  },
  {
   "cell_type": "markdown",
   "id": "755f7157",
   "metadata": {},
   "source": [
    "And now we can actually retrieve the conformers:"
   ]
  },
  {
   "cell_type": "code",
   "execution_count": 21,
   "id": "00637681",
   "metadata": {},
   "outputs": [],
   "source": [
    "t = lwreg.retrieve(ids=ids_with_confids)"
   ]
  },
  {
   "cell_type": "markdown",
   "id": "40df8946",
   "metadata": {},
   "source": [
    "The result is a dictory of (molblock, 'mol') two-tuples keyed by (molregno,conf_id):"
   ]
  },
  {
   "cell_type": "code",
   "execution_count": 23,
   "id": "a9f86073",
   "metadata": {},
   "outputs": [
    {
     "name": "stdout",
     "output_type": "stream",
     "text": [
      "('\\n     RDKit          3D\\n\\n  0  0  0  0  0  0  0  0  0  0999 V3000\\nM  V30 BEGIN CTAB\\nM  V30 COUNTS 56 55 0 0 0\\nM  V30 BEGIN ATOM\\nM  V30 1 C -9.137147 0.038509 1.892044 0\\nM  V30 2 C -8.472348 -1.211018 1.334352 0\\nM  V30 3 C -6.948083 -1.104256 1.245960 0\\nM  V30 4 C -6.470946 -0.047494 0.245940 0\\nM  V30 5 C -4.944981 -0.054338 0.117179 0\\nM  V30 6 C -4.465898 1.026696 -0.853628 0\\nM  V30 7 C -2.939957 1.141712 -0.926906 0\\nM  V30 8 C -2.268770 -0.093608 -1.533408 0\\nM  V30 9 C -0.774349 0.107391 -1.805515 0\\nM  V30 10 C 0.058359 0.260082 -0.530230 0\\nM  V30 11 C 1.546383 0.402966 -0.854239 0\\nM  V30 12 C 2.385145 0.491099 0.418627 0\\nM  V30 13 N 3.781964 0.724951 0.131534 0\\nM  V30 14 C 4.635737 -0.265303 -0.302244 0\\nM  V30 15 O 4.274513 -1.407697 -0.567221 0\\nM  V30 16 C 6.099491 0.188320 -0.429186 0 CFG=1\\nM  V30 17 N 6.254782 1.628735 -0.053288 0\\nM  V30 18 C 6.983197 -0.709436 0.440509 0\\nM  V30 19 O 8.335820 -0.263926 0.348619 0\\nM  V30 20 P 9.425287 -1.163159 1.095838 0\\nM  V30 21 O 9.536077 -2.587181 0.677359 0\\nM  V30 22 O 10.793812 -0.374956 0.854132 0\\nM  V30 23 O 9.210196 -0.896739 2.652736 0\\nM  V30 24 H -9.019512 0.890934 1.216672 0\\nM  V30 25 H -8.716272 0.306515 2.866417 0\\nM  V30 26 H -10.210631 -0.134027 2.022725 0\\nM  V30 27 H -8.888752 -1.435662 0.344928 0\\nM  V30 28 H -8.723702 -2.057990 1.984005 0\\nM  V30 29 H -6.536868 -0.885345 2.239503 0\\nM  V30 30 H -6.552726 -2.083851 0.949029 0\\nM  V30 31 H -6.799125 0.947675 0.567977 0\\nM  V30 32 H -6.921970 -0.238770 -0.735922 0\\nM  V30 33 H -4.493960 0.110783 1.102662 0\\nM  V30 34 H -4.618757 -1.041041 -0.229211 0\\nM  V30 35 H -4.865306 1.997176 -0.534464 0\\nM  V30 36 H -4.870573 0.834149 -1.854477 0\\nM  V30 37 H -2.692672 2.020548 -1.536164 0\\nM  V30 38 H -2.546607 1.331631 0.078795 0\\nM  V30 39 H -2.759230 -0.337052 -2.484271 0\\nM  V30 40 H -2.401383 -0.959994 -0.875340 0\\nM  V30 41 H -0.631695 0.982264 -2.452107 0\\nM  V30 42 H -0.408935 -0.762370 -2.366749 0\\nM  V30 43 H -0.096526 -0.613529 0.114799 0\\nM  V30 44 H -0.269346 1.141627 0.032147 0\\nM  V30 45 H 1.705921 1.300896 -1.463446 0\\nM  V30 46 H 1.877125 -0.448683 -1.460391 0\\nM  V30 47 H 2.298515 -0.432767 1.000886 0\\nM  V30 48 H 2.044549 1.323630 1.043282 0\\nM  V30 49 H 4.246662 1.556010 0.492001 0\\nM  V30 50 H 6.397472 0.094216 -1.480412 0\\nM  V30 51 H 7.261517 1.806332 -0.005340 0\\nM  V30 52 H 5.921510 2.187495 -0.840716 0\\nM  V30 53 H 6.923063 -1.748906 0.099713 0\\nM  V30 54 H 6.666258 -0.674026 1.489173 0\\nM  V30 55 H 11.302676 -0.818753 0.149413 0\\nM  V30 56 H 9.480993 0.009536 2.887096 0\\nM  V30 END ATOM\\nM  V30 BEGIN BOND\\nM  V30 1 1 1 2\\nM  V30 2 1 2 3\\nM  V30 3 1 3 4\\nM  V30 4 1 4 5\\nM  V30 5 1 5 6\\nM  V30 6 1 6 7\\nM  V30 7 1 7 8\\nM  V30 8 1 8 9\\nM  V30 9 1 9 10\\nM  V30 10 1 10 11\\nM  V30 11 1 11 12\\nM  V30 12 1 12 13\\nM  V30 13 1 13 14\\nM  V30 14 2 14 15\\nM  V30 15 1 14 16\\nM  V30 16 1 16 17\\nM  V30 17 1 16 18\\nM  V30 18 1 18 19\\nM  V30 19 1 19 20\\nM  V30 20 2 20 21\\nM  V30 21 1 20 22\\nM  V30 22 1 20 23\\nM  V30 23 1 1 24\\nM  V30 24 1 1 25\\nM  V30 25 1 1 26\\nM  V30 26 1 2 27\\nM  V30 27 1 2 28\\nM  V30 28 1 3 29\\nM  V30 29 1 3 30\\nM  V30 30 1 4 31\\nM  V30 31 1 4 32\\nM  V30 32 1 5 33\\nM  V30 33 1 5 34\\nM  V30 34 1 6 35\\nM  V30 35 1 6 36\\nM  V30 36 1 7 37\\nM  V30 37 1 7 38\\nM  V30 38 1 8 39\\nM  V30 39 1 8 40\\nM  V30 40 1 9 41\\nM  V30 41 1 9 42\\nM  V30 42 1 10 43\\nM  V30 43 1 10 44\\nM  V30 44 1 11 45\\nM  V30 45 1 11 46\\nM  V30 46 1 12 47\\nM  V30 47 1 12 48\\nM  V30 48 1 13 49\\nM  V30 49 1 16 50 CFG=3\\nM  V30 50 1 17 51\\nM  V30 51 1 17 52\\nM  V30 52 1 18 53\\nM  V30 53 1 18 54\\nM  V30 54 1 22 55\\nM  V30 55 1 23 56\\nM  V30 END BOND\\nM  V30 END CTAB\\nM  END\\n', 'mol')\n"
     ]
    }
   ],
   "source": [
    "print(t[(4,16)])"
   ]
  },
  {
   "cell_type": "code",
   "execution_count": 26,
   "id": "d5b87214",
   "metadata": {},
   "outputs": [
    {
     "data": {
      "application/3dmoljs_load.v0": "<div id=\"3dmolviewer_17404757499177659\"  style=\"position: relative; width: 400px; height: 400px;\">\n        <p id=\"3dmolwarning_17404757499177659\" style=\"background-color:#ffcccc;color:black\">3Dmol.js failed to load for some reason.  Please check your browser console for error messages.<br></p>\n        </div>\n<script>\n\nvar loadScriptAsync = function(uri){\n  return new Promise((resolve, reject) => {\n    //this is to ignore the existence of requirejs amd\n    var savedexports, savedmodule;\n    if (typeof exports !== 'undefined') savedexports = exports;\n    else exports = {}\n    if (typeof module !== 'undefined') savedmodule = module;\n    else module = {}\n\n    var tag = document.createElement('script');\n    tag.src = uri;\n    tag.async = true;\n    tag.onload = () => {\n        exports = savedexports;\n        module = savedmodule;\n        resolve();\n    };\n  var firstScriptTag = document.getElementsByTagName('script')[0];\n  firstScriptTag.parentNode.insertBefore(tag, firstScriptTag);\n});\n};\n\nif(typeof $3Dmolpromise === 'undefined') {\n$3Dmolpromise = null;\n  $3Dmolpromise = loadScriptAsync('https://cdnjs.cloudflare.com/ajax/libs/3Dmol/2.4.2/3Dmol-min.js');\n}\n\nvar viewer_17404757499177659 = null;\nvar warn = document.getElementById(\"3dmolwarning_17404757499177659\");\nif(warn) {\n    warn.parentNode.removeChild(warn);\n}\n$3Dmolpromise.then(function() {\nviewer_17404757499177659 = $3Dmol.createViewer(document.getElementById(\"3dmolviewer_17404757499177659\"),{backgroundColor:\"white\"});\nviewer_17404757499177659.zoomTo();\n\tviewer_17404757499177659.removeAllModels();\n\tviewer_17404757499177659.addModel(\"\\n     RDKit          3D\\n\\n 56 55  0  0  0  0  0  0  0  0999 V2000\\n   -9.1371    0.0385    1.8920 C   0  0  0  0  0  0  0  0  0  0  0  0\\n   -8.4723   -1.2110    1.3344 C   0  0  0  0  0  0  0  0  0  0  0  0\\n   -6.9481   -1.1043    1.2460 C   0  0  0  0  0  0  0  0  0  0  0  0\\n   -6.4709   -0.0475    0.2459 C   0  0  0  0  0  0  0  0  0  0  0  0\\n   -4.9450   -0.0543    0.1172 C   0  0  0  0  0  0  0  0  0  0  0  0\\n   -4.4659    1.0267   -0.8536 C   0  0  0  0  0  0  0  0  0  0  0  0\\n   -2.9400    1.1417   -0.9269 C   0  0  0  0  0  0  0  0  0  0  0  0\\n   -2.2688   -0.0936   -1.5334 C   0  0  0  0  0  0  0  0  0  0  0  0\\n   -0.7743    0.1074   -1.8055 C   0  0  0  0  0  0  0  0  0  0  0  0\\n    0.0584    0.2601   -0.5302 C   0  0  0  0  0  0  0  0  0  0  0  0\\n    1.5464    0.4030   -0.8542 C   0  0  0  0  0  0  0  0  0  0  0  0\\n    2.3851    0.4911    0.4186 C   0  0  0  0  0  0  0  0  0  0  0  0\\n    3.7820    0.7250    0.1315 N   0  0  0  0  0  0  0  0  0  0  0  0\\n    4.6357   -0.2653   -0.3022 C   0  0  0  0  0  0  0  0  0  0  0  0\\n    4.2745   -1.4077   -0.5672 O   0  0  0  0  0  0  0  0  0  0  0  0\\n    6.0995    0.1883   -0.4292 C   0  0  1  0  0  0  0  0  0  0  0  0\\n    6.2548    1.6287   -0.0533 N   0  0  0  0  0  0  0  0  0  0  0  0\\n    6.9832   -0.7094    0.4405 C   0  0  0  0  0  0  0  0  0  0  0  0\\n    8.3358   -0.2639    0.3486 O   0  0  0  0  0  0  0  0  0  0  0  0\\n    9.4253   -1.1632    1.0958 P   0  0  0  0  0  0  0  0  0  0  0  0\\n    9.5361   -2.5872    0.6774 O   0  0  0  0  0  0  0  0  0  0  0  0\\n   10.7938   -0.3750    0.8541 O   0  0  0  0  0  0  0  0  0  0  0  0\\n    9.2102   -0.8967    2.6527 O   0  0  0  0  0  0  0  0  0  0  0  0\\n   -9.0195    0.8909    1.2167 H   0  0  0  0  0  0  0  0  0  0  0  0\\n   -8.7163    0.3065    2.8664 H   0  0  0  0  0  0  0  0  0  0  0  0\\n  -10.2106   -0.1340    2.0227 H   0  0  0  0  0  0  0  0  0  0  0  0\\n   -8.8888   -1.4357    0.3449 H   0  0  0  0  0  0  0  0  0  0  0  0\\n   -8.7237   -2.0580    1.9840 H   0  0  0  0  0  0  0  0  0  0  0  0\\n   -6.5369   -0.8853    2.2395 H   0  0  0  0  0  0  0  0  0  0  0  0\\n   -6.5527   -2.0839    0.9490 H   0  0  0  0  0  0  0  0  0  0  0  0\\n   -6.7991    0.9477    0.5680 H   0  0  0  0  0  0  0  0  0  0  0  0\\n   -6.9220   -0.2388   -0.7359 H   0  0  0  0  0  0  0  0  0  0  0  0\\n   -4.4940    0.1108    1.1027 H   0  0  0  0  0  0  0  0  0  0  0  0\\n   -4.6188   -1.0410   -0.2292 H   0  0  0  0  0  0  0  0  0  0  0  0\\n   -4.8653    1.9972   -0.5345 H   0  0  0  0  0  0  0  0  0  0  0  0\\n   -4.8706    0.8341   -1.8545 H   0  0  0  0  0  0  0  0  0  0  0  0\\n   -2.6927    2.0205   -1.5362 H   0  0  0  0  0  0  0  0  0  0  0  0\\n   -2.5466    1.3316    0.0788 H   0  0  0  0  0  0  0  0  0  0  0  0\\n   -2.7592   -0.3371   -2.4843 H   0  0  0  0  0  0  0  0  0  0  0  0\\n   -2.4014   -0.9600   -0.8753 H   0  0  0  0  0  0  0  0  0  0  0  0\\n   -0.6317    0.9823   -2.4521 H   0  0  0  0  0  0  0  0  0  0  0  0\\n   -0.4089   -0.7624   -2.3667 H   0  0  0  0  0  0  0  0  0  0  0  0\\n   -0.0965   -0.6135    0.1148 H   0  0  0  0  0  0  0  0  0  0  0  0\\n   -0.2693    1.1416    0.0321 H   0  0  0  0  0  0  0  0  0  0  0  0\\n    1.7059    1.3009   -1.4634 H   0  0  0  0  0  0  0  0  0  0  0  0\\n    1.8771   -0.4487   -1.4604 H   0  0  0  0  0  0  0  0  0  0  0  0\\n    2.2985   -0.4328    1.0009 H   0  0  0  0  0  0  0  0  0  0  0  0\\n    2.0445    1.3236    1.0433 H   0  0  0  0  0  0  0  0  0  0  0  0\\n    4.2467    1.5560    0.4920 H   0  0  0  0  0  0  0  0  0  0  0  0\\n    6.3975    0.0942   -1.4804 H   0  0  0  0  0  0  0  0  0  0  0  0\\n    7.2615    1.8063   -0.0053 H   0  0  0  0  0  0  0  0  0  0  0  0\\n    5.9215    2.1875   -0.8407 H   0  0  0  0  0  0  0  0  0  0  0  0\\n    6.9231   -1.7489    0.0997 H   0  0  0  0  0  0  0  0  0  0  0  0\\n    6.6663   -0.6740    1.4892 H   0  0  0  0  0  0  0  0  0  0  0  0\\n   11.3027   -0.8188    0.1494 H   0  0  0  0  0  0  0  0  0  0  0  0\\n    9.4810    0.0095    2.8871 H   0  0  0  0  0  0  0  0  0  0  0  0\\n  1  2  1  0\\n  2  3  1  0\\n  3  4  1  0\\n  4  5  1  0\\n  5  6  1  0\\n  6  7  1  0\\n  7  8  1  0\\n  8  9  1  0\\n  9 10  1  0\\n 10 11  1  0\\n 11 12  1  0\\n 12 13  1  0\\n 13 14  1  0\\n 14 15  2  0\\n 14 16  1  0\\n 16 17  1  0\\n 16 18  1  0\\n 18 19  1  0\\n 19 20  1  0\\n 20 21  2  0\\n 20 22  1  0\\n 20 23  1  0\\n  1 24  1  0\\n  1 25  1  0\\n  1 26  1  0\\n  2 27  1  0\\n  2 28  1  0\\n  3 29  1  0\\n  3 30  1  0\\n  4 31  1  0\\n  4 32  1  0\\n  5 33  1  0\\n  5 34  1  0\\n  6 35  1  0\\n  6 36  1  0\\n  7 37  1  0\\n  7 38  1  0\\n  8 39  1  0\\n  8 40  1  0\\n  9 41  1  0\\n  9 42  1  0\\n 10 43  1  0\\n 10 44  1  0\\n 11 45  1  0\\n 11 46  1  0\\n 12 47  1  0\\n 12 48  1  0\\n 13 49  1  0\\n 16 50  1  6\\n 17 51  1  0\\n 17 52  1  0\\n 18 53  1  0\\n 18 54  1  0\\n 22 55  1  0\\n 23 56  1  0\\nM  END\\n\",\"sdf\");\n\tviewer_17404757499177659.setStyle({\"stick\": {}});\n\tviewer_17404757499177659.setBackgroundColor(\"0xeeeeee\");\n\tviewer_17404757499177659.zoomTo();\nviewer_17404757499177659.render();\n});\n</script>",
      "text/html": [
       "<div id=\"3dmolviewer_17404757499177659\"  style=\"position: relative; width: 400px; height: 400px;\">\n",
       "        <p id=\"3dmolwarning_17404757499177659\" style=\"background-color:#ffcccc;color:black\">3Dmol.js failed to load for some reason.  Please check your browser console for error messages.<br></p>\n",
       "        </div>\n",
       "<script>\n",
       "\n",
       "var loadScriptAsync = function(uri){\n",
       "  return new Promise((resolve, reject) => {\n",
       "    //this is to ignore the existence of requirejs amd\n",
       "    var savedexports, savedmodule;\n",
       "    if (typeof exports !== 'undefined') savedexports = exports;\n",
       "    else exports = {}\n",
       "    if (typeof module !== 'undefined') savedmodule = module;\n",
       "    else module = {}\n",
       "\n",
       "    var tag = document.createElement('script');\n",
       "    tag.src = uri;\n",
       "    tag.async = true;\n",
       "    tag.onload = () => {\n",
       "        exports = savedexports;\n",
       "        module = savedmodule;\n",
       "        resolve();\n",
       "    };\n",
       "  var firstScriptTag = document.getElementsByTagName('script')[0];\n",
       "  firstScriptTag.parentNode.insertBefore(tag, firstScriptTag);\n",
       "});\n",
       "};\n",
       "\n",
       "if(typeof $3Dmolpromise === 'undefined') {\n",
       "$3Dmolpromise = null;\n",
       "  $3Dmolpromise = loadScriptAsync('https://cdnjs.cloudflare.com/ajax/libs/3Dmol/2.4.2/3Dmol-min.js');\n",
       "}\n",
       "\n",
       "var viewer_17404757499177659 = null;\n",
       "var warn = document.getElementById(\"3dmolwarning_17404757499177659\");\n",
       "if(warn) {\n",
       "    warn.parentNode.removeChild(warn);\n",
       "}\n",
       "$3Dmolpromise.then(function() {\n",
       "viewer_17404757499177659 = $3Dmol.createViewer(document.getElementById(\"3dmolviewer_17404757499177659\"),{backgroundColor:\"white\"});\n",
       "viewer_17404757499177659.zoomTo();\n",
       "\tviewer_17404757499177659.removeAllModels();\n",
       "\tviewer_17404757499177659.addModel(\"\\n     RDKit          3D\\n\\n 56 55  0  0  0  0  0  0  0  0999 V2000\\n   -9.1371    0.0385    1.8920 C   0  0  0  0  0  0  0  0  0  0  0  0\\n   -8.4723   -1.2110    1.3344 C   0  0  0  0  0  0  0  0  0  0  0  0\\n   -6.9481   -1.1043    1.2460 C   0  0  0  0  0  0  0  0  0  0  0  0\\n   -6.4709   -0.0475    0.2459 C   0  0  0  0  0  0  0  0  0  0  0  0\\n   -4.9450   -0.0543    0.1172 C   0  0  0  0  0  0  0  0  0  0  0  0\\n   -4.4659    1.0267   -0.8536 C   0  0  0  0  0  0  0  0  0  0  0  0\\n   -2.9400    1.1417   -0.9269 C   0  0  0  0  0  0  0  0  0  0  0  0\\n   -2.2688   -0.0936   -1.5334 C   0  0  0  0  0  0  0  0  0  0  0  0\\n   -0.7743    0.1074   -1.8055 C   0  0  0  0  0  0  0  0  0  0  0  0\\n    0.0584    0.2601   -0.5302 C   0  0  0  0  0  0  0  0  0  0  0  0\\n    1.5464    0.4030   -0.8542 C   0  0  0  0  0  0  0  0  0  0  0  0\\n    2.3851    0.4911    0.4186 C   0  0  0  0  0  0  0  0  0  0  0  0\\n    3.7820    0.7250    0.1315 N   0  0  0  0  0  0  0  0  0  0  0  0\\n    4.6357   -0.2653   -0.3022 C   0  0  0  0  0  0  0  0  0  0  0  0\\n    4.2745   -1.4077   -0.5672 O   0  0  0  0  0  0  0  0  0  0  0  0\\n    6.0995    0.1883   -0.4292 C   0  0  1  0  0  0  0  0  0  0  0  0\\n    6.2548    1.6287   -0.0533 N   0  0  0  0  0  0  0  0  0  0  0  0\\n    6.9832   -0.7094    0.4405 C   0  0  0  0  0  0  0  0  0  0  0  0\\n    8.3358   -0.2639    0.3486 O   0  0  0  0  0  0  0  0  0  0  0  0\\n    9.4253   -1.1632    1.0958 P   0  0  0  0  0  0  0  0  0  0  0  0\\n    9.5361   -2.5872    0.6774 O   0  0  0  0  0  0  0  0  0  0  0  0\\n   10.7938   -0.3750    0.8541 O   0  0  0  0  0  0  0  0  0  0  0  0\\n    9.2102   -0.8967    2.6527 O   0  0  0  0  0  0  0  0  0  0  0  0\\n   -9.0195    0.8909    1.2167 H   0  0  0  0  0  0  0  0  0  0  0  0\\n   -8.7163    0.3065    2.8664 H   0  0  0  0  0  0  0  0  0  0  0  0\\n  -10.2106   -0.1340    2.0227 H   0  0  0  0  0  0  0  0  0  0  0  0\\n   -8.8888   -1.4357    0.3449 H   0  0  0  0  0  0  0  0  0  0  0  0\\n   -8.7237   -2.0580    1.9840 H   0  0  0  0  0  0  0  0  0  0  0  0\\n   -6.5369   -0.8853    2.2395 H   0  0  0  0  0  0  0  0  0  0  0  0\\n   -6.5527   -2.0839    0.9490 H   0  0  0  0  0  0  0  0  0  0  0  0\\n   -6.7991    0.9477    0.5680 H   0  0  0  0  0  0  0  0  0  0  0  0\\n   -6.9220   -0.2388   -0.7359 H   0  0  0  0  0  0  0  0  0  0  0  0\\n   -4.4940    0.1108    1.1027 H   0  0  0  0  0  0  0  0  0  0  0  0\\n   -4.6188   -1.0410   -0.2292 H   0  0  0  0  0  0  0  0  0  0  0  0\\n   -4.8653    1.9972   -0.5345 H   0  0  0  0  0  0  0  0  0  0  0  0\\n   -4.8706    0.8341   -1.8545 H   0  0  0  0  0  0  0  0  0  0  0  0\\n   -2.6927    2.0205   -1.5362 H   0  0  0  0  0  0  0  0  0  0  0  0\\n   -2.5466    1.3316    0.0788 H   0  0  0  0  0  0  0  0  0  0  0  0\\n   -2.7592   -0.3371   -2.4843 H   0  0  0  0  0  0  0  0  0  0  0  0\\n   -2.4014   -0.9600   -0.8753 H   0  0  0  0  0  0  0  0  0  0  0  0\\n   -0.6317    0.9823   -2.4521 H   0  0  0  0  0  0  0  0  0  0  0  0\\n   -0.4089   -0.7624   -2.3667 H   0  0  0  0  0  0  0  0  0  0  0  0\\n   -0.0965   -0.6135    0.1148 H   0  0  0  0  0  0  0  0  0  0  0  0\\n   -0.2693    1.1416    0.0321 H   0  0  0  0  0  0  0  0  0  0  0  0\\n    1.7059    1.3009   -1.4634 H   0  0  0  0  0  0  0  0  0  0  0  0\\n    1.8771   -0.4487   -1.4604 H   0  0  0  0  0  0  0  0  0  0  0  0\\n    2.2985   -0.4328    1.0009 H   0  0  0  0  0  0  0  0  0  0  0  0\\n    2.0445    1.3236    1.0433 H   0  0  0  0  0  0  0  0  0  0  0  0\\n    4.2467    1.5560    0.4920 H   0  0  0  0  0  0  0  0  0  0  0  0\\n    6.3975    0.0942   -1.4804 H   0  0  0  0  0  0  0  0  0  0  0  0\\n    7.2615    1.8063   -0.0053 H   0  0  0  0  0  0  0  0  0  0  0  0\\n    5.9215    2.1875   -0.8407 H   0  0  0  0  0  0  0  0  0  0  0  0\\n    6.9231   -1.7489    0.0997 H   0  0  0  0  0  0  0  0  0  0  0  0\\n    6.6663   -0.6740    1.4892 H   0  0  0  0  0  0  0  0  0  0  0  0\\n   11.3027   -0.8188    0.1494 H   0  0  0  0  0  0  0  0  0  0  0  0\\n    9.4810    0.0095    2.8871 H   0  0  0  0  0  0  0  0  0  0  0  0\\n  1  2  1  0\\n  2  3  1  0\\n  3  4  1  0\\n  4  5  1  0\\n  5  6  1  0\\n  6  7  1  0\\n  7  8  1  0\\n  8  9  1  0\\n  9 10  1  0\\n 10 11  1  0\\n 11 12  1  0\\n 12 13  1  0\\n 13 14  1  0\\n 14 15  2  0\\n 14 16  1  0\\n 16 17  1  0\\n 16 18  1  0\\n 18 19  1  0\\n 19 20  1  0\\n 20 21  2  0\\n 20 22  1  0\\n 20 23  1  0\\n  1 24  1  0\\n  1 25  1  0\\n  1 26  1  0\\n  2 27  1  0\\n  2 28  1  0\\n  3 29  1  0\\n  3 30  1  0\\n  4 31  1  0\\n  4 32  1  0\\n  5 33  1  0\\n  5 34  1  0\\n  6 35  1  0\\n  6 36  1  0\\n  7 37  1  0\\n  7 38  1  0\\n  8 39  1  0\\n  8 40  1  0\\n  9 41  1  0\\n  9 42  1  0\\n 10 43  1  0\\n 10 44  1  0\\n 11 45  1  0\\n 11 46  1  0\\n 12 47  1  0\\n 12 48  1  0\\n 13 49  1  0\\n 16 50  1  6\\n 17 51  1  0\\n 17 52  1  0\\n 18 53  1  0\\n 18 54  1  0\\n 22 55  1  0\\n 23 56  1  0\\nM  END\\n\",\"sdf\");\n",
       "\tviewer_17404757499177659.setStyle({\"stick\": {}});\n",
       "\tviewer_17404757499177659.setBackgroundColor(\"0xeeeeee\");\n",
       "\tviewer_17404757499177659.zoomTo();\n",
       "viewer_17404757499177659.render();\n",
       "});\n",
       "</script>"
      ]
     },
     "metadata": {},
     "output_type": "display_data"
    },
    {
     "data": {
      "image/png": "[encoded data removed]",
      "text/html": [],
      "text/plain": [
       "<rdkit.Chem.rdchem.Mol at 0x72894e5acb30>"
      ]
     },
     "execution_count": 26,
     "metadata": {},
     "output_type": "execute_result"
    }
   ],
   "source": [
    "sampleMol = Chem.MolFromMolBlock(t[(4,16)][0],removeHs=False)\n",
    "sampleMol"
   ]
  },
  {
   "cell_type": "code",
   "execution_count": null,
   "id": "af81ed28-f104-483f-bba5-2aec6655d580",
   "metadata": {},
   "outputs": [],
   "source": []
  }
 ],
 "metadata": {
  "kernelspec": {
   "display_name": "Python 3 (ipykernel)",
   "language": "python",
   "name": "python3"
  },
  "language_info": {
   "codemirror_mode": {
    "name": "ipython",
    "version": 3
   },
   "file_extension": ".py",
   "mimetype": "text/x-python",
   "name": "python",
   "nbconvert_exporter": "python",
   "pygments_lexer": "ipython3",
   "version": "3.13.2"
  }
 },
 "nbformat": 4,
 "nbformat_minor": 5
}
