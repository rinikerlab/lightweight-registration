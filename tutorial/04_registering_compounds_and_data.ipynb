{
 "cells": [
  {
   "cell_type": "code",
   "execution_count": 48,
   "id": "42e5b2ad",
   "metadata": {},
   "outputs": [
    {
     "name": "stdout",
     "output_type": "stream",
     "text": [
      "2024.09.5\n"
     ]
    }
   ],
   "source": [
    "from rdkit import Chem\n",
    "from rdkit.Chem import Draw\n",
    "from rdkit.Chem.Draw import IPythonConsole\n",
    "\n",
    "# switch the renderer to use black and white mode and increase the font size for legends\n",
    "IPythonConsole.drawOptions.useBWAtomPalette()\n",
    "IPythonConsole.drawOptions.legendFontSize=24\n",
    "\n",
    "\n",
    "import numpy as np\n",
    "\n",
    "import rdkit\n",
    "print(rdkit.__version__)"
   ]
  },
  {
   "cell_type": "code",
   "execution_count": 2,
   "id": "04afadc3",
   "metadata": {},
   "outputs": [
    {
     "data": {
      "text/plain": [
       "{'dbname': './testdb.sqlt',\n",
       " 'dbtype': 'sqlite3',\n",
       " 'standardization': 'fragment',\n",
       " 'removeHs': 1,\n",
       " 'useTautomerHashv2': 0,\n",
       " 'registerConformers': 0,\n",
       " 'numConformerDigits': 3,\n",
       " 'lwregSchema': ''}"
      ]
     },
     "execution_count": 2,
     "metadata": {},
     "output_type": "execute_result"
    }
   ],
   "source": [
    "import lwreg\n",
    "\n",
    "# get the base lwreg configuration:\n",
    "config = lwreg.utils.defaultConfig()\n",
    "config"
   ]
  },
  {
   "cell_type": "code",
   "execution_count": 3,
   "id": "9cb70f07-a426-4b51-b6c0-266910706b8f",
   "metadata": {},
   "outputs": [],
   "source": [
    "# set the name of the database we'll work with:\n",
    "config['dbname'] = 'jupyter_data_demo.sqlt'\n",
    "\n",
    "# and then tell lwreg to use ths configuration as the default in all other commands\n",
    "# we call in this session:\n",
    "lwreg.set_default_config(config)"
   ]
  },
  {
   "cell_type": "markdown",
   "id": "5e918495",
   "metadata": {},
   "source": [
    "Initialize the database. \n",
    "    \n",
    "**Note** that this erases everything in the current database, so be very careful with this command!"
   ]
  },
  {
   "cell_type": "code",
   "execution_count": 4,
   "id": "523fde8d",
   "metadata": {},
   "outputs": [
    {
     "name": "stdout",
     "output_type": "stream",
     "text": [
      "This will destroy any existing information in the registration database.\n"
     ]
    },
    {
     "name": "stdin",
     "output_type": "stream",
     "text": [
      "  are you sure? [yes/no]:  yes\n"
     ]
    },
    {
     "data": {
      "text/plain": [
       "True"
      ]
     },
     "execution_count": 4,
     "metadata": {},
     "output_type": "execute_result"
    }
   ],
   "source": [
    "lwreg.initdb()"
   ]
  },
  {
   "cell_type": "markdown",
   "id": "b814945d-ce1d-4df5-969e-c2a24472a55c",
   "metadata": {},
   "source": [
    "## Register the compounds"
   ]
  },
  {
   "cell_type": "code",
   "execution_count": 5,
   "id": "ff589f6a",
   "metadata": {},
   "outputs": [],
   "source": [
    "# The RDKit standardizer is quite verbose by default, make it be quiet:\n",
    "from rdkit import RDLogger\n",
    "RDLogger.DisableLog('rdApp.info')"
   ]
  },
  {
   "cell_type": "markdown",
   "id": "43a3c726-5ed6-4feb-aa30-ee408393ebda",
   "metadata": {},
   "source": [
    "Read in a file containing data exported from ChEMBL. This has bioactivity data as well as SMILES for molecules."
   ]
  },
  {
   "cell_type": "code",
   "execution_count": 6,
   "id": "b1c22edc",
   "metadata": {},
   "outputs": [
    {
     "data": {
      "text/html": [
       "<div>\n",
       "<style scoped>\n",
       "    .dataframe tbody tr th:only-of-type {\n",
       "        vertical-align: middle;\n",
       "    }\n",
       "\n",
       "    .dataframe tbody tr th {\n",
       "        vertical-align: top;\n",
       "    }\n",
       "\n",
       "    .dataframe thead th {\n",
       "        text-align: right;\n",
       "    }\n",
       "</style>\n",
       "<table border=\"1\" class=\"dataframe\">\n",
       "  <thead>\n",
       "    <tr style=\"text-align: right;\">\n",
       "      <th></th>\n",
       "      <th>doc_id</th>\n",
       "      <th>molregno</th>\n",
       "      <th>standard_relation</th>\n",
       "      <th>standard_value</th>\n",
       "      <th>standard_units</th>\n",
       "      <th>standard_flag</th>\n",
       "      <th>standard_type</th>\n",
       "      <th>pchembl_value</th>\n",
       "      <th>canonical_smiles</th>\n",
       "      <th>compound_chembl_id</th>\n",
       "    </tr>\n",
       "  </thead>\n",
       "  <tbody>\n",
       "    <tr>\n",
       "      <th>0</th>\n",
       "      <td>5839</td>\n",
       "      <td>189018</td>\n",
       "      <td>=</td>\n",
       "      <td>82.0</td>\n",
       "      <td>nM</td>\n",
       "      <td>1</td>\n",
       "      <td>EC50</td>\n",
       "      <td>7.09</td>\n",
       "      <td>CCCCCCCCc1ccc(NC(=O)[C@@H](N)COP(=O)(O)O)cc1.O...</td>\n",
       "      <td>CHEMBL332050</td>\n",
       "    </tr>\n",
       "    <tr>\n",
       "      <th>1</th>\n",
       "      <td>5839</td>\n",
       "      <td>188442</td>\n",
       "      <td>=</td>\n",
       "      <td>322.1</td>\n",
       "      <td>nM</td>\n",
       "      <td>1</td>\n",
       "      <td>EC50</td>\n",
       "      <td>6.49</td>\n",
       "      <td>CCCCCCCCCCCCCCONC(=O)[C@@H](N)COP(=O)(O)O.OC(=...</td>\n",
       "      <td>CHEMBL115505</td>\n",
       "    </tr>\n",
       "    <tr>\n",
       "      <th>2</th>\n",
       "      <td>5839</td>\n",
       "      <td>188375</td>\n",
       "      <td>=</td>\n",
       "      <td>260.0</td>\n",
       "      <td>nM</td>\n",
       "      <td>1</td>\n",
       "      <td>EC50</td>\n",
       "      <td>6.58</td>\n",
       "      <td>CCCCCCc1ccc(NC(=O)[C@H](N)COP(=O)(O)O)cc1.OC(=...</td>\n",
       "      <td>CHEMBL115344</td>\n",
       "    </tr>\n",
       "    <tr>\n",
       "      <th>3</th>\n",
       "      <td>5839</td>\n",
       "      <td>188376</td>\n",
       "      <td>=</td>\n",
       "      <td>598.4</td>\n",
       "      <td>nM</td>\n",
       "      <td>1</td>\n",
       "      <td>EC50</td>\n",
       "      <td>6.22</td>\n",
       "      <td>CCCCCCCCCCCCNC(=O)[C@@H](N)COP(=O)(O)O.OC(=O)C...</td>\n",
       "      <td>CHEMBL324358</td>\n",
       "    </tr>\n",
       "    <tr>\n",
       "      <th>4</th>\n",
       "      <td>5839</td>\n",
       "      <td>188766</td>\n",
       "      <td>=</td>\n",
       "      <td>12.7</td>\n",
       "      <td>nM</td>\n",
       "      <td>1</td>\n",
       "      <td>EC50</td>\n",
       "      <td>7.90</td>\n",
       "      <td>CCCCCCCCCCCCCCNC(=O)[C@H](N)COP(=O)(O)O.OC(=O)...</td>\n",
       "      <td>CHEMBL332472</td>\n",
       "    </tr>\n",
       "  </tbody>\n",
       "</table>\n",
       "</div>"
      ],
      "text/plain": [
       "   doc_id  molregno standard_relation  standard_value standard_units  \\\n",
       "0    5839    189018                 =            82.0             nM   \n",
       "1    5839    188442                 =           322.1             nM   \n",
       "2    5839    188375                 =           260.0             nM   \n",
       "3    5839    188376                 =           598.4             nM   \n",
       "4    5839    188766                 =            12.7             nM   \n",
       "\n",
       "   standard_flag standard_type  pchembl_value  \\\n",
       "0              1          EC50           7.09   \n",
       "1              1          EC50           6.49   \n",
       "2              1          EC50           6.58   \n",
       "3              1          EC50           6.22   \n",
       "4              1          EC50           7.90   \n",
       "\n",
       "                                    canonical_smiles compound_chembl_id  \n",
       "0  CCCCCCCCc1ccc(NC(=O)[C@@H](N)COP(=O)(O)O)cc1.O...       CHEMBL332050  \n",
       "1  CCCCCCCCCCCCCCONC(=O)[C@@H](N)COP(=O)(O)O.OC(=...       CHEMBL115505  \n",
       "2  CCCCCCc1ccc(NC(=O)[C@H](N)COP(=O)(O)O)cc1.OC(=...       CHEMBL115344  \n",
       "3  CCCCCCCCCCCCNC(=O)[C@@H](N)COP(=O)(O)O.OC(=O)C...       CHEMBL324358  \n",
       "4  CCCCCCCCCCCCCCNC(=O)[C@H](N)COP(=O)(O)O.OC(=O)...       CHEMBL332472  "
      ]
     },
     "execution_count": 6,
     "metadata": {},
     "output_type": "execute_result"
    }
   ],
   "source": [
    "import pandas as pd\n",
    "df = pd.read_csv('./tutorial_data/S1P1_data.csv')\n",
    "df.head()"
   ]
  },
  {
   "cell_type": "markdown",
   "id": "618c9daa-4572-41e1-af78-0f05e20ec614",
   "metadata": {},
   "source": [
    "Construct the molecules and then register them. Keep track of the molregnos.\n",
    "\n",
    "This takes a couple of minutes:"
   ]
  },
  {
   "cell_type": "code",
   "execution_count": 7,
   "id": "89fc6009-dd2b-4fae-a726-6ab545ac01ce",
   "metadata": {},
   "outputs": [
    {
     "data": {
      "text/plain": [
       "(2253, 2253)"
      ]
     },
     "execution_count": 7,
     "metadata": {},
     "output_type": "execute_result"
    }
   ],
   "source": [
    "ms = [Chem.MolFromSmiles(smi) for smi in df.canonical_smiles]\n",
    "\n",
    "mrns = lwreg.bulk_register(mols=ms,fail_on_duplicate=False)\n",
    "len(ms),len(mrns)"
   ]
  },
  {
   "cell_type": "markdown",
   "id": "dce55240-feb4-486f-ad10-834471fd3157",
   "metadata": {},
   "source": [
    "Now create a new table to hold the data from our input file.\n",
    "To do this we're going to be interacting directly with the database instead of using lwreg functions.\n",
    "\n",
    "We start by asking lwreg to give us a database connection and then create a cursor to use to do our work.\n",
    "\n",
    "> NOTE that, for performance reasons, lwreg caches the database connection that it uses and keeps it alive."
   ]
  },
  {
   "cell_type": "code",
   "execution_count": 8,
   "id": "48a64d29-806e-4244-912a-4d305091e44a",
   "metadata": {},
   "outputs": [],
   "source": [
    "cn = lwreg.utils.connect(config=config)\n",
    "curs = cn.cursor()"
   ]
  },
  {
   "cell_type": "markdown",
   "id": "ed9dfafa-b70c-40e2-915e-ddda0c73f41b",
   "metadata": {},
   "source": [
    "Create our table with the columns we want:"
   ]
  },
  {
   "cell_type": "code",
   "execution_count": 44,
   "id": "110c5fed-2cea-4998-920c-b72ba1c9ed03",
   "metadata": {},
   "outputs": [
    {
     "data": {
      "text/plain": [
       "<sqlite3.Cursor at 0x7ea32ed935c0>"
      ]
     },
     "execution_count": 44,
     "metadata": {},
     "output_type": "execute_result"
    }
   ],
   "source": [
    "curs.execute('create table chembl_s1p1_data (molregno integer, doc_id integer, standard_relation text, standard_value real,\\\n",
    " standard_units text, standard_flag integer, standard_type text, pchembl_value real, compound_chembl_id text)')"
   ]
  },
  {
   "cell_type": "markdown",
   "id": "fb839e36-8ff5-4545-8afb-b69542cffad4",
   "metadata": {},
   "source": [
    "Get a version of our data with only the useful columns:"
   ]
  },
  {
   "cell_type": "code",
   "execution_count": 50,
   "id": "b2c3a9c4-f1a7-4ff9-be18-b8d166006964",
   "metadata": {},
   "outputs": [
    {
     "data": {
      "text/html": [
       "<div>\n",
       "<style scoped>\n",
       "    .dataframe tbody tr th:only-of-type {\n",
       "        vertical-align: middle;\n",
       "    }\n",
       "\n",
       "    .dataframe tbody tr th {\n",
       "        vertical-align: top;\n",
       "    }\n",
       "\n",
       "    .dataframe thead th {\n",
       "        text-align: right;\n",
       "    }\n",
       "</style>\n",
       "<table border=\"1\" class=\"dataframe\">\n",
       "  <thead>\n",
       "    <tr style=\"text-align: right;\">\n",
       "      <th></th>\n",
       "      <th>doc_id</th>\n",
       "      <th>standard_relation</th>\n",
       "      <th>standard_value</th>\n",
       "      <th>standard_units</th>\n",
       "      <th>standard_flag</th>\n",
       "      <th>standard_type</th>\n",
       "      <th>pchembl_value</th>\n",
       "      <th>compound_chembl_id</th>\n",
       "    </tr>\n",
       "  </thead>\n",
       "  <tbody>\n",
       "    <tr>\n",
       "      <th>0</th>\n",
       "      <td>5839</td>\n",
       "      <td>=</td>\n",
       "      <td>82.0</td>\n",
       "      <td>nM</td>\n",
       "      <td>1</td>\n",
       "      <td>EC50</td>\n",
       "      <td>7.09</td>\n",
       "      <td>CHEMBL332050</td>\n",
       "    </tr>\n",
       "    <tr>\n",
       "      <th>1</th>\n",
       "      <td>5839</td>\n",
       "      <td>=</td>\n",
       "      <td>322.1</td>\n",
       "      <td>nM</td>\n",
       "      <td>1</td>\n",
       "      <td>EC50</td>\n",
       "      <td>6.49</td>\n",
       "      <td>CHEMBL115505</td>\n",
       "    </tr>\n",
       "    <tr>\n",
       "      <th>2</th>\n",
       "      <td>5839</td>\n",
       "      <td>=</td>\n",
       "      <td>260.0</td>\n",
       "      <td>nM</td>\n",
       "      <td>1</td>\n",
       "      <td>EC50</td>\n",
       "      <td>6.58</td>\n",
       "      <td>CHEMBL115344</td>\n",
       "    </tr>\n",
       "    <tr>\n",
       "      <th>3</th>\n",
       "      <td>5839</td>\n",
       "      <td>=</td>\n",
       "      <td>598.4</td>\n",
       "      <td>nM</td>\n",
       "      <td>1</td>\n",
       "      <td>EC50</td>\n",
       "      <td>6.22</td>\n",
       "      <td>CHEMBL324358</td>\n",
       "    </tr>\n",
       "    <tr>\n",
       "      <th>4</th>\n",
       "      <td>5839</td>\n",
       "      <td>=</td>\n",
       "      <td>12.7</td>\n",
       "      <td>nM</td>\n",
       "      <td>1</td>\n",
       "      <td>EC50</td>\n",
       "      <td>7.90</td>\n",
       "      <td>CHEMBL332472</td>\n",
       "    </tr>\n",
       "  </tbody>\n",
       "</table>\n",
       "</div>"
      ],
      "text/plain": [
       "   doc_id standard_relation  standard_value standard_units  standard_flag  \\\n",
       "0    5839                 =            82.0             nM              1   \n",
       "1    5839                 =           322.1             nM              1   \n",
       "2    5839                 =           260.0             nM              1   \n",
       "3    5839                 =           598.4             nM              1   \n",
       "4    5839                 =            12.7             nM              1   \n",
       "\n",
       "  standard_type  pchembl_value compound_chembl_id  \n",
       "0          EC50           7.09       CHEMBL332050  \n",
       "1          EC50           6.49       CHEMBL115505  \n",
       "2          EC50           6.58       CHEMBL115344  \n",
       "3          EC50           6.22       CHEMBL324358  \n",
       "4          EC50           7.90       CHEMBL332472  "
      ]
     },
     "execution_count": 50,
     "metadata": {},
     "output_type": "execute_result"
    }
   ],
   "source": [
    "filtered_df = df.drop(columns=['molregno','canonical_smiles'])\n",
    "filtered_df.head()"
   ]
  },
  {
   "cell_type": "markdown",
   "id": "ab9efa66-5d19-49c3-a2ba-d8640b5eeacd",
   "metadata": {},
   "source": [
    "add the molregnos from lwreg to the beginning of each row:"
   ]
  },
  {
   "cell_type": "code",
   "execution_count": 51,
   "id": "3359a7e1-38cb-465c-9c08-35363fdf259a",
   "metadata": {},
   "outputs": [
    {
     "data": {
      "text/plain": [
       "2253"
      ]
     },
     "execution_count": 51,
     "metadata": {},
     "output_type": "execute_result"
    }
   ],
   "source": [
    "to_add = [[mrn] + filtered_df.iloc[i].to_list() for i,mrn in enumerate(mrns)]\n",
    "len(to_add)"
   ]
  },
  {
   "cell_type": "markdown",
   "id": "527c31fb-45eb-45ab-ba62-e4a1398425bf",
   "metadata": {},
   "source": [
    "Integer columns need to be converted to python ints instead of the numpy values that pandas use. This is ugly but unfortunately necessary when working with pandas and sqlite."
   ]
  },
  {
   "cell_type": "code",
   "execution_count": 52,
   "id": "a26d8637-1160-465f-8843-eb881ab9476f",
   "metadata": {},
   "outputs": [],
   "source": [
    "import sqlite3\n",
    "sqlite3.register_adapter(np.int64, int)\n",
    "sqlite3.register_adapter(np.int32, int)\n"
   ]
  },
  {
   "cell_type": "markdown",
   "id": "c8eae967-555b-4688-ac2f-267e268b5894",
   "metadata": {},
   "source": [
    "And now insert that into the database:"
   ]
  },
  {
   "cell_type": "code",
   "execution_count": 53,
   "id": "3e0161a8-2bae-428d-966c-7511ee739f2f",
   "metadata": {},
   "outputs": [
    {
     "data": {
      "text/plain": [
       "<sqlite3.Cursor at 0x7ea32ed935c0>"
      ]
     },
     "execution_count": 53,
     "metadata": {},
     "output_type": "execute_result"
    }
   ],
   "source": [
    "qs = ','.join('?'*len(to_add[0]))\n",
    "sql = f'insert into chembl_s1p1_data values ({qs})'\n",
    "curs.executemany(sql,to_add)"
   ]
  },
  {
   "cell_type": "code",
   "execution_count": 54,
   "id": "67bc216d-e076-4c87-95ce-94cb951fc76e",
   "metadata": {},
   "outputs": [],
   "source": [
    "cn.commit()"
   ]
  },
  {
   "cell_type": "markdown",
   "id": "fa54d736-c132-4d44-aee2-49a4a4d777c6",
   "metadata": {},
   "source": [
    "## Retrieve structures and data:"
   ]
  },
  {
   "cell_type": "markdown",
   "id": "91aef486-d162-4187-bc57-74f2c94e4169",
   "metadata": {},
   "source": [
    "Start by querying for a structure:"
   ]
  },
  {
   "cell_type": "code",
   "execution_count": 55,
   "id": "ad5fcb96-7401-49d6-ac87-d942acab9a2a",
   "metadata": {},
   "outputs": [
    {
     "data": {
      "text/plain": [
       "[100]"
      ]
     },
     "execution_count": 55,
     "metadata": {},
     "output_type": "execute_result"
    }
   ],
   "source": [
    "qres = lwreg.query(smiles='CC(C)Oc1ncc(cc1Cl)c2nnc(s2)c3ccc(CCC(=O)O)cc3C')\n",
    "qres"
   ]
  },
  {
   "cell_type": "markdown",
   "id": "98c89b96-bf43-4bb3-8e2f-b26bcc9f6d33",
   "metadata": {},
   "source": [
    "Get the compound structure:"
   ]
  },
  {
   "cell_type": "code",
   "execution_count": 56,
   "id": "6aebe81a-1415-4c8f-a38d-c80970a0d188",
   "metadata": {},
   "outputs": [],
   "source": [
    "mid = qres[0]\n",
    "res = lwreg.retrieve(id=mid)\n",
    "mol = Chem.MolFromMolBlock(res[mid][0])"
   ]
  },
  {
   "cell_type": "markdown",
   "id": "c9a4684d-6d31-48cd-9730-2df7bfb3471d",
   "metadata": {},
   "source": [
    "Get the data:"
   ]
  },
  {
   "cell_type": "code",
   "execution_count": 67,
   "id": "e6b4ab80-f33a-42d2-9aa3-19805dc3e3df",
   "metadata": {},
   "outputs": [
    {
     "data": {
      "text/plain": [
       "{'molregno': 100,\n",
       " 'doc_id': 31478,\n",
       " 'standard_relation': '=',\n",
       " 'standard_value': 2.1,\n",
       " 'standard_units': 'nM',\n",
       " 'standard_flag': 1,\n",
       " 'standard_type': 'EC50',\n",
       " 'pchembl_value': 8.68,\n",
       " 'compound_chembl_id': 'CHEMBL212420'}"
      ]
     },
     "execution_count": 67,
     "metadata": {},
     "output_type": "execute_result"
    }
   ],
   "source": [
    "curs.execute('select * from chembl_s1p1_data where molregno=?',(mid,))\n",
    "rows = curs.fetchall()\n",
    "\n",
    "# now convert the rows into a list of dicts with column names as keys:\n",
    "drows = []\n",
    "for row in rows:\n",
    "    drow = {}\n",
    "    for tpl,v in zip(curs.description,row):\n",
    "        drow[tpl[0]] = v\n",
    "    drows.append(drow)\n",
    "drow = drows[0]\n",
    "drow"
   ]
  },
  {
   "cell_type": "markdown",
   "id": "17a5ea6c-37d5-4273-8d20-5aa05d80c4f4",
   "metadata": {},
   "source": [
    "Display the molecule with the pchembl value:"
   ]
  },
  {
   "cell_type": "code",
   "execution_count": 66,
   "id": "38640b19-8a78-42c3-8ee6-dda9753e47b9",
   "metadata": {},
   "outputs": [
    {
     "data": {
      "image/png": "[encoded data removed]",
      "text/html": [
       "<table><tr><td colspan=\"2\" style=\"text-align: center;\"><image src=\"data:image/png;base64,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\"></td></tr>\n",
       "<tr><th style=\"text-align: right\">pEC50</th><td style=\"text-align: left\">8.68</td></tr>\n",
       "<tr><th style=\"text-align: right\">ChEMBL ID</th><td style=\"text-align: left\">CHEMBL212420</td></tr></table>"
      ],
      "text/plain": [
       "<rdkit.Chem.rdchem.Mol at 0x7ea32ec09460>"
      ]
     },
     "execution_count": 66,
     "metadata": {},
     "output_type": "execute_result"
    }
   ],
   "source": [
    "mol.SetProp('ChEMBL ID',drow['compound_chembl_id'])\n",
    "mol.SetDoubleProp(f'p{drow['standard_type']}',drow['pchembl_value'])\n",
    "\n",
    "mol"
   ]
  },
  {
   "cell_type": "code",
   "execution_count": 64,
   "id": "b498fb34-f735-43c4-9852-b4e2d6492102",
   "metadata": {},
   "outputs": [
    {
     "data": {
      "text/plain": [
       "(('molregno', None, None, None, None, None, None),\n",
       " ('doc_id', None, None, None, None, None, None),\n",
       " ('standard_relation', None, None, None, None, None, None),\n",
       " ('standard_value', None, None, None, None, None, None),\n",
       " ('standard_units', None, None, None, None, None, None),\n",
       " ('standard_flag', None, None, None, None, None, None),\n",
       " ('standard_type', None, None, None, None, None, None),\n",
       " ('pchembl_value', None, None, None, None, None, None),\n",
       " ('compound_chembl_id', None, None, None, None, None, None))"
      ]
     },
     "execution_count": 64,
     "metadata": {},
     "output_type": "execute_result"
    }
   ],
   "source": [
    "curs.description"
   ]
  },
  {
   "cell_type": "code",
   "execution_count": null,
   "id": "5f553f23-28e0-47fc-a0ca-accab5dbd52c",
   "metadata": {},
   "outputs": [],
   "source": []
  }
 ],
 "metadata": {
  "kernelspec": {
   "display_name": "Python 3 (ipykernel)",
   "language": "python",
   "name": "python3"
  },
  "language_info": {
   "codemirror_mode": {
    "name": "ipython",
    "version": 3
   },
   "file_extension": ".py",
   "mimetype": "text/x-python",
   "name": "python",
   "nbconvert_exporter": "python",
   "pygments_lexer": "ipython3",
   "version": "3.13.2"
  },
  "varInspector": {
   "cols": {
    "lenName": 16,
    "lenType": 16,
    "lenVar": 40
   },
   "kernels_config": {
    "python": {
     "delete_cmd_postfix": "",
     "delete_cmd_prefix": "del ",
     "library": "var_list.py",
     "varRefreshCmd": "print(var_dic_list())"
    },
    "r": {
     "delete_cmd_postfix": ") ",
     "delete_cmd_prefix": "rm(",
     "library": "var_list.r",
     "varRefreshCmd": "cat(var_dic_list()) "
    }
   },
   "types_to_exclude": [
    "module",
    "function",
    "builtin_function_or_method",
    "instance",
    "_Feature"
   ],
   "window_display": false
  }
 },
 "nbformat": 4,
 "nbformat_minor": 5
}
