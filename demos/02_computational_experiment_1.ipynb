{
 "cells": [
  {
   "cell_type": "markdown",
   "id": "5ba91b6a",
   "metadata": {},
   "source": [
    "# Tracking a computational experiment: conformer generation"
   ]
  },
  {
   "cell_type": "code",
   "execution_count": 1,
   "id": "42e5b2ad",
   "metadata": {},
   "outputs": [
    {
     "name": "stdout",
     "output_type": "stream",
     "text": [
      "2023.09.3\n"
     ]
    }
   ],
   "source": [
    "from rdkit import Chem\n",
    "from rdkit.Chem import Draw\n",
    "from rdkit.Chem.Draw import IPythonConsole\n",
    "from rdkit.Chem import rdDepictor\n",
    "rdDepictor.SetPreferCoordGen(True)\n",
    "from rdkit.Chem import rdDistGeom\n",
    "import os\n",
    "import rdkit\n",
    "print(rdkit.__version__)\n",
    "%load_ext sql"
   ]
  },
  {
   "cell_type": "markdown",
   "id": "58e8f8f3",
   "metadata": {},
   "source": [
    "Some data from ChEMBL"
   ]
  },
  {
   "cell_type": "code",
   "execution_count": 2,
   "id": "b50974f8",
   "metadata": {},
   "outputs": [
    {
     "data": {
      "text/html": [
       "<div>\n",
       "<style scoped>\n",
       "    .dataframe tbody tr th:only-of-type {\n",
       "        vertical-align: middle;\n",
       "    }\n",
       "\n",
       "    .dataframe tbody tr th {\n",
       "        vertical-align: top;\n",
       "    }\n",
       "\n",
       "    .dataframe thead th {\n",
       "        text-align: right;\n",
       "    }\n",
       "</style>\n",
       "<table border=\"1\" class=\"dataframe\">\n",
       "  <thead>\n",
       "    <tr style=\"text-align: right;\">\n",
       "      <th></th>\n",
       "      <th>standard_relation</th>\n",
       "      <th>standard_value</th>\n",
       "      <th>standard_type</th>\n",
       "      <th>pchembl_value</th>\n",
       "      <th>assay_chembl_id</th>\n",
       "      <th>target_chembl_id</th>\n",
       "      <th>canonical_smiles</th>\n",
       "      <th>compound_chembl_id</th>\n",
       "    </tr>\n",
       "  </thead>\n",
       "  <tbody>\n",
       "    <tr>\n",
       "      <th>0</th>\n",
       "      <td>&gt;</td>\n",
       "      <td>10000.0</td>\n",
       "      <td>Ki</td>\n",
       "      <td>NaN</td>\n",
       "      <td>CHEMBL615807</td>\n",
       "      <td>CHEMBL214</td>\n",
       "      <td>CCN(C)C1CCCc2ccncc12.OC(=O)\\C=C/C(=O)O.OC(=O)\\...</td>\n",
       "      <td>CHEMBL1794855</td>\n",
       "    </tr>\n",
       "    <tr>\n",
       "      <th>1</th>\n",
       "      <td>=</td>\n",
       "      <td>168.0</td>\n",
       "      <td>Ki</td>\n",
       "      <td>6.78</td>\n",
       "      <td>CHEMBL615460</td>\n",
       "      <td>CHEMBL214</td>\n",
       "      <td>CCCN(CCC)[C@@H]1CCc2c(OC)cccc2[C@@H]1C</td>\n",
       "      <td>CHEMBL278751</td>\n",
       "    </tr>\n",
       "    <tr>\n",
       "      <th>2</th>\n",
       "      <td>=</td>\n",
       "      <td>181.0</td>\n",
       "      <td>Ki</td>\n",
       "      <td>6.74</td>\n",
       "      <td>CHEMBL615809</td>\n",
       "      <td>CHEMBL214</td>\n",
       "      <td>C(N1CCN(CC1)c2ncccn2)c3c[nH]c(n3)c4ccccc4</td>\n",
       "      <td>CHEMBL103772</td>\n",
       "    </tr>\n",
       "    <tr>\n",
       "      <th>3</th>\n",
       "      <td>=</td>\n",
       "      <td>3.9</td>\n",
       "      <td>Ki</td>\n",
       "      <td>8.41</td>\n",
       "      <td>CHEMBL615460</td>\n",
       "      <td>CHEMBL214</td>\n",
       "      <td>CCCN1CC[C@@H]2[C@H]1CCc3ccc4ccoc4c23</td>\n",
       "      <td>CHEMBL328107</td>\n",
       "    </tr>\n",
       "    <tr>\n",
       "      <th>4</th>\n",
       "      <td>=</td>\n",
       "      <td>1.6</td>\n",
       "      <td>Ki</td>\n",
       "      <td>8.80</td>\n",
       "      <td>CHEMBL615756</td>\n",
       "      <td>CHEMBL214</td>\n",
       "      <td>COc1cccc2OC[C@H](CN3[C@@H]4CC[C@H]3C[C@@](O)(C...</td>\n",
       "      <td>CHEMBL148860</td>\n",
       "    </tr>\n",
       "  </tbody>\n",
       "</table>\n",
       "</div>"
      ],
      "text/plain": [
       "  standard_relation  standard_value standard_type  pchembl_value   \n",
       "0                 >         10000.0            Ki            NaN  \\\n",
       "1                 =           168.0            Ki           6.78   \n",
       "2                 =           181.0            Ki           6.74   \n",
       "3                 =             3.9            Ki           8.41   \n",
       "4                 =             1.6            Ki           8.80   \n",
       "\n",
       "  assay_chembl_id target_chembl_id   \n",
       "0    CHEMBL615807        CHEMBL214  \\\n",
       "1    CHEMBL615460        CHEMBL214   \n",
       "2    CHEMBL615809        CHEMBL214   \n",
       "3    CHEMBL615460        CHEMBL214   \n",
       "4    CHEMBL615756        CHEMBL214   \n",
       "\n",
       "                                    canonical_smiles compound_chembl_id  \n",
       "0  CCN(C)C1CCCc2ccncc12.OC(=O)\\C=C/C(=O)O.OC(=O)\\...      CHEMBL1794855  \n",
       "1             CCCN(CCC)[C@@H]1CCc2c(OC)cccc2[C@@H]1C       CHEMBL278751  \n",
       "2          C(N1CCN(CC1)c2ncccn2)c3c[nH]c(n3)c4ccccc4       CHEMBL103772  \n",
       "3               CCCN1CC[C@@H]2[C@H]1CCc3ccc4ccoc4c23       CHEMBL328107  \n",
       "4  COc1cccc2OC[C@H](CN3[C@@H]4CC[C@H]3C[C@@](O)(C...       CHEMBL148860  "
      ]
     },
     "execution_count": 2,
     "metadata": {},
     "output_type": "execute_result"
    }
   ],
   "source": [
    "import pandas as pd\n",
    "from io import StringIO\n",
    "txt = '''\"standard_relation\",\"standard_value\",\"standard_type\",\"pchembl_value\",\"assay_chembl_id\",\"target_chembl_id\",\"canonical_smiles\",\"compound_chembl_id\"\n",
    "\">\",10000.0,\"Ki\",,\"CHEMBL615807\",\"CHEMBL214\",\"CCN(C)C1CCCc2ccncc12.OC(=O)\\C=C/C(=O)O.OC(=O)\\C=C/C(=O)O\",\"CHEMBL1794855\"\n",
    "\"=\",168.0,\"Ki\",6.78,\"CHEMBL615460\",\"CHEMBL214\",\"CCCN(CCC)[C@@H]1CCc2c(OC)cccc2[C@@H]1C\",\"CHEMBL278751\"\n",
    "\"=\",181.0,\"Ki\",6.74,\"CHEMBL615809\",\"CHEMBL214\",\"C(N1CCN(CC1)c2ncccn2)c3c[nH]c(n3)c4ccccc4\",\"CHEMBL103772\"\n",
    "\"=\",3.9,\"Ki\",8.41,\"CHEMBL615460\",\"CHEMBL214\",\"CCCN1CC[C@@H]2[C@H]1CCc3ccc4ccoc4c23\",\"CHEMBL328107\"\n",
    "\"=\",1.6,\"Ki\",8.8,\"CHEMBL615756\",\"CHEMBL214\",\"COc1cccc2OC[C@H](CN3[C@@H]4CC[C@H]3C[C@@](O)(C4)c5csc6ccccc56)Oc12\",\"CHEMBL148860\"\n",
    "\"=\",210.0,\"Ki\",6.68,\"CHEMBL615460\",\"CHEMBL214\",\"CCCN(CCC)C1CCc2c(C1)ccc3ccoc23\",\"CHEMBL96735\"\n",
    "\"=\",1.7,\"Ki\",8.77,\"CHEMBL616120\",\"CHEMBL214\",\"CCc1cccc(OC[C@@H](O)CN2CCC3(CC2)OCc4c3ccc5ccccc45)c1\",\"CHEMBL111065\"\n",
    "\"=\",344.0,\"Ki\",6.46,\"CHEMBL615460\",\"CHEMBL214\",\"CCCN(CCC)C1CCc2c(O)cccc2C1\",\"CHEMBL273273\"\n",
    "\"=\",127.7,\"Ki\",6.89,\"CHEMBL615756\",\"CHEMBL214\",\"COc1cccc2OC[C@H](CN3C4CCC3C=C(C4)n5ccc6cc(F)ccc56)Oc12\",\"CHEMBL150050\"\n",
    "\"=\",5.87,\"Ki\",8.23,\"CHEMBL615756\",\"CHEMBL214\",\"CCOc1cccc2OC[C@H](CN3[C@@H]4CC[C@H]3C[C@@](O)(C4)c5ccc6ccccc6c5)Oc12\",\"CHEMBL151786\"\n",
    "'''\n",
    "sio = StringIO(txt)\n",
    "df = pd.read_csv(sio)\n",
    "df.head()"
   ]
  },
  {
   "cell_type": "code",
   "execution_count": 3,
   "id": "e69a0718",
   "metadata": {},
   "outputs": [
    {
     "data": {
      "image/png": "[encoded data removed]",
      "text/plain": [
       "<IPython.core.display.Image object>"
      ]
     },
     "execution_count": 3,
     "metadata": {},
     "output_type": "execute_result"
    }
   ],
   "source": [
    "ms = [Chem.MolFromSmiles(smi) for smi in df.canonical_smiles]\n",
    "Draw.MolsToGridImage(ms,legends=list(df.compound_chembl_id),molsPerRow=3,subImgSize=(250,200))"
   ]
  },
  {
   "cell_type": "code",
   "execution_count": 4,
   "id": "04afadc3",
   "metadata": {},
   "outputs": [],
   "source": [
    "import lwreg\n",
    "from lwreg import standardization_lib\n",
    "from lwreg import utils\n",
    "\n",
    "config = lwreg.utils.defaultConfig()\n",
    "# set the name of the database we'll work with:\n",
    "config['dbtype'] = 'postgresql'\n",
    "config['dbname'] = 'lwreg_experiments_demo'\n",
    "# be explicit about what our standardization is:\n",
    "config['standardization'] = standardization_lib.ChargeParent()\n",
    "lwreg.set_default_config(config)"
   ]
  },
  {
   "cell_type": "markdown",
   "id": "5e918495",
   "metadata": {},
   "source": [
    "Initialize the database. **Note** that this erases everything in the current database, so be very careful with this command!"
   ]
  },
  {
   "cell_type": "code",
   "execution_count": 5,
   "id": "523fde8d",
   "metadata": {},
   "outputs": [
    {
     "name": "stdout",
     "output_type": "stream",
     "text": [
      "This will destroy any existing information in the registration database.\n",
      "  are you sure? [yes/no]: yes\n"
     ]
    },
    {
     "data": {
      "text/plain": [
       "True"
      ]
     },
     "execution_count": 5,
     "metadata": {},
     "output_type": "execute_result"
    }
   ],
   "source": [
    "lwreg.initdb()"
   ]
  },
  {
   "cell_type": "markdown",
   "id": "b6b1a221",
   "metadata": {},
   "source": [
    "Register all of our compounds at once:"
   ]
  },
  {
   "cell_type": "code",
   "execution_count": 6,
   "id": "ff589f6a",
   "metadata": {},
   "outputs": [],
   "source": [
    "# The RDKit standardizer is quite verbose by default, make it be quiet:\n",
    "from rdkit import RDLogger\n",
    "RDLogger.DisableLog('rdApp.info')"
   ]
  },
  {
   "cell_type": "code",
   "execution_count": 7,
   "id": "0315afb7",
   "metadata": {},
   "outputs": [
    {
     "name": "stdout",
     "output_type": "stream",
     "text": [
      "Registered 10 unique compounds.\n"
     ]
    }
   ],
   "source": [
    "# now bulk register. We want to also collect IDs of compounds which were already registered.\n",
    "reg_ids = lwreg.bulk_register(mols=ms,failOnDuplicate=False)\n",
    "reg_ids = set(reg_ids)\n",
    "print(f'Registered {len(reg_ids)} unique compounds.')"
   ]
  },
  {
   "cell_type": "markdown",
   "id": "ec345215",
   "metadata": {},
   "source": [
    "Get the registered mol blocks from lwreg."
   ]
  },
  {
   "cell_type": "code",
   "execution_count": 8,
   "id": "63623771",
   "metadata": {},
   "outputs": [
    {
     "data": {
      "text/plain": [
       "{1, 2, 3, 4, 5, 6, 7, 8, 9, 10}"
      ]
     },
     "execution_count": 8,
     "metadata": {},
     "output_type": "execute_result"
    }
   ],
   "source": [
    "reg_ids"
   ]
  },
  {
   "cell_type": "code",
   "execution_count": 9,
   "id": "ebd25528",
   "metadata": {},
   "outputs": [
    {
     "data": {
      "image/png": "[encoded data removed]",
      "text/plain": [
       "<IPython.core.display.Image object>"
      ]
     },
     "execution_count": 9,
     "metadata": {},
     "output_type": "execute_result"
    }
   ],
   "source": [
    "mol_data = lwreg.retrieve(ids=list(reg_ids))\n",
    "mids,new_mols = zip(*[(mid,Chem.MolFromMolBlock(d)) for mid,(d,_) in mol_data.items()])\n",
    "Draw.MolsToGridImage(new_mols,legends=[str(x) for x in mids],molsPerRow=3,subImgSize=(250,200))"
   ]
  },
  {
   "cell_type": "markdown",
   "id": "4f01d8d0",
   "metadata": {},
   "source": [
    "# Set up schema to hold experiments and results in the database:"
   ]
  },
  {
   "cell_type": "markdown",
   "id": "495ebc3a",
   "metadata": {},
   "source": [
    "Initialize the experiment database:"
   ]
  },
  {
   "cell_type": "code",
   "execution_count": 10,
   "id": "d14a82a3",
   "metadata": {},
   "outputs": [],
   "source": [
    "cn = utils.connect(config)\n",
    "curs = cn.cursor()\n",
    "curs.execute('create schema if not exists experiments')\n",
    "curs.execute('drop table if exists experiments.metadata')\n",
    "curs.execute('create table experiments.metadata (expt_uid text primary key,metadata jsonb)')\n",
    "curs.execute('drop table if exists experiments.data')\n",
    "curs.execute('create table experiments.data (expt_uid text not null,molregno int not null,data jsonb)')\n",
    "cn.commit()"
   ]
  },
  {
   "cell_type": "code",
   "execution_count": 11,
   "id": "f2b49ae0",
   "metadata": {},
   "outputs": [],
   "source": [
    "from datetime import datetime\n",
    "def non_default_params_to_dict(obj,defaults):\n",
    "    res = {}\n",
    "    for k in dir(obj):\n",
    "        if k.startswith('__'):\n",
    "            continue\n",
    "        v = getattr(obj,k)\n",
    "        if callable(v):\n",
    "            continue\n",
    "        if v == getattr(defaults,k):\n",
    "            continue\n",
    "        else:\n",
    "            res[k] = v\n",
    "    return res\n"
   ]
  },
  {
   "cell_type": "markdown",
   "id": "5fe39960",
   "metadata": {},
   "source": [
    "# Experiment 1: Generate conformers and store results in files\n",
    "\n",
    "It's also possible to store the conformers directly in the database; this will be demonstrated in a different notebook."
   ]
  },
  {
   "cell_type": "code",
   "execution_count": 12,
   "id": "fa69288b",
   "metadata": {},
   "outputs": [],
   "source": [
    "from rdkit.Chem import rdMolDescriptors\n",
    "ps = rdDistGeom.ETKDGv3()\n",
    "ps.randomSeed = 0xf00d\n",
    "ps.numThreads = 8\n",
    "\n",
    "dg_metadata = non_default_params_to_dict(ps,rdDistGeom.ETKDGv3())\n",
    "\n",
    "cg_expt_metadata = {\n",
    "    'Experiment Type':'Conformer generation',\n",
    "    'Method': 'ETKDGv3',\n",
    "    'RDKit Version': rdkit.__version__,\n",
    "    'Date': str(datetime.now()),\n",
    "    'target_num_conformers':1,\n",
    "    'note':'run1: 3D conformers of some ChEMBL molecules + some 3D descriptors'\n",
    "}\n",
    "cg_expt_metadata.update(dg_metadata)"
   ]
  },
  {
   "cell_type": "code",
   "execution_count": 13,
   "id": "6ea3ab62",
   "metadata": {},
   "outputs": [
    {
     "name": "stdout",
     "output_type": "stream",
     "text": [
      "got a conformer for 10 of 10 molecules\n"
     ]
    }
   ],
   "source": [
    "m3ds = []\n",
    "for mid,m in zip(mids,new_mols):\n",
    "    mh = Chem.AddHs(m)\n",
    "    cid = rdDistGeom.EmbedMolecule(mh,ps)\n",
    "    if cid != -1:\n",
    "        mh.SetDoubleProp('NPR1',rdMolDescriptors.CalcNPR1(mh))\n",
    "        mh.SetDoubleProp('NPR2',rdMolDescriptors.CalcNPR2(mh))\n",
    "        mh.SetDoubleProp('RadiusOfGyration',rdMolDescriptors.CalcRadiusOfGyration(mh))\n",
    "        mh.SetDoubleProp('PBF',rdMolDescriptors.CalcPBF(mh))\n",
    "        m3ds.append((mid,mh))\n",
    "        \n",
    "print(f'got a conformer for {len(m3ds)} of {len(new_mols)} molecules')\n",
    "    "
   ]
  },
  {
   "cell_type": "code",
   "execution_count": 14,
   "id": "31286e2c",
   "metadata": {},
   "outputs": [
    {
     "data": {
      "text/plain": [
       "{'Experiment Type': 'Conformer generation',\n",
       " 'Method': 'ETKDGv3',\n",
       " 'RDKit Version': '2023.09.3',\n",
       " 'Date': '2023-12-13 15:51:52.474502',\n",
       " 'target_num_conformers': 1,\n",
       " 'note': 'run1: 3D conformers of some ChEMBL molecules + some 3D descriptors',\n",
       " 'numThreads': 8,\n",
       " 'randomSeed': 61453}"
      ]
     },
     "execution_count": 14,
     "metadata": {},
     "output_type": "execute_result"
    }
   ],
   "source": [
    "cg_expt_metadata"
   ]
  },
  {
   "cell_type": "markdown",
   "id": "b2a0106d",
   "metadata": {},
   "source": [
    "Register the experiment"
   ]
  },
  {
   "cell_type": "code",
   "execution_count": 15,
   "id": "2c668d4a",
   "metadata": {},
   "outputs": [],
   "source": [
    "import json\n",
    "import uuid\n",
    "cg_expt_uid = str(uuid.uuid4())\n",
    "curs.execute('insert into experiments.metadata values (%s,%s)',(str(cg_expt_uid),json.dumps(cg_expt_metadata)))\n",
    "cn.commit()"
   ]
  },
  {
   "cell_type": "markdown",
   "id": "d07e4845",
   "metadata": {},
   "source": [
    "And now capture the results"
   ]
  },
  {
   "cell_type": "code",
   "execution_count": 16,
   "id": "54588a80",
   "metadata": {},
   "outputs": [],
   "source": [
    "pathn = f'./results/expt_{cg_expt_uid}'\n",
    "try:\n",
    "    os.mkdir(pathn)\n",
    "except FileExistsError:\n",
    "    pass\n",
    "for mid,m in m3ds:\n",
    "    mol_uid = str(uuid.uuid4())\n",
    "    fn = f'{pathn}/{mol_uid}.sdf'\n",
    "    with Chem.SDWriter(fn) as w:\n",
    "        m.SetProp('_Name',str(mid))\n",
    "        w.write(m)\n",
    "    props = m.GetPropsAsDict()\n",
    "    props['sdf'] = fn\n",
    "    curs.execute('insert into experiments.data values (%s, %s, %s)',(cg_expt_uid,mid,json.dumps(props)))\n",
    "cn.commit()"
   ]
  },
  {
   "cell_type": "markdown",
   "id": "68b90e70",
   "metadata": {},
   "source": [
    "## Some queries"
   ]
  },
  {
   "cell_type": "markdown",
   "id": "02b5d527",
   "metadata": {},
   "source": [
    "Find the experiment ID we want to use:"
   ]
  },
  {
   "cell_type": "code",
   "execution_count": 17,
   "id": "d635eb0e",
   "metadata": {},
   "outputs": [
    {
     "name": "stdout",
     "output_type": "stream",
     "text": [
      "1 rows affected.\n"
     ]
    },
    {
     "data": {
      "text/html": [
       "<table>\n",
       "    <thead>\n",
       "        <tr>\n",
       "            <th>expt_uid</th>\n",
       "            <th>text</th>\n",
       "        </tr>\n",
       "    </thead>\n",
       "    <tbody>\n",
       "        <tr>\n",
       "            <td>857704ae-c2e6-4853-80f7-1594839dd146</td>\n",
       "            <td>&quot;run1: 3D conformers of some ChEMBL molecules + some 3D descriptors&quot;</td>\n",
       "        </tr>\n",
       "    </tbody>\n",
       "</table>"
      ],
      "text/plain": [
       "[('857704ae-c2e6-4853-80f7-1594839dd146', '\"run1: 3D conformers of some ChEMBL molecules + some 3D descriptors\"')]"
      ]
     },
     "execution_count": 17,
     "metadata": {},
     "output_type": "execute_result"
    }
   ],
   "source": [
    "d = %sql postgresql://localhost/lwreg_experiments_demo \\\n",
    "    select expt_uid,(metadata->'note')::text from experiments.metadata;\n",
    "d"
   ]
  },
  {
   "cell_type": "code",
   "execution_count": 18,
   "id": "c87b04dc",
   "metadata": {},
   "outputs": [
    {
     "name": "stdout",
     "output_type": "stream",
     "text": [
      "1 rows affected.\n"
     ]
    }
   ],
   "source": [
    "d = %sql postgresql://localhost/lwreg_experiments_demo \\\n",
    "    select expt_uid from experiments.metadata \\\n",
    "            where metadata->>'note' like 'run1:%';\n",
    "cg_expt_uid = d[0][0]"
   ]
  },
  {
   "cell_type": "code",
   "execution_count": 19,
   "id": "d5d45b01",
   "metadata": {
    "scrolled": false
   },
   "outputs": [
    {
     "name": "stdout",
     "output_type": "stream",
     "text": [
      "4 rows affected.\n"
     ]
    },
    {
     "data": {
      "text/html": [
       "<table>\n",
       "    <thead>\n",
       "        <tr>\n",
       "            <th>molregno</th>\n",
       "            <th>canonical_smiles</th>\n",
       "            <th>pbf</th>\n",
       "        </tr>\n",
       "    </thead>\n",
       "    <tbody>\n",
       "        <tr>\n",
       "            <td>6</td>\n",
       "            <td>CCCN(CCC)C1CCc2c(ccc3ccoc23)C1</td>\n",
       "            <td>1.0535661581675395</td>\n",
       "        </tr>\n",
       "        <tr>\n",
       "            <td>7</td>\n",
       "            <td>CCc1cccc(OC[C@@H](O)CN2CCC3(CC2)OCc2c3ccc3ccccc23)c1</td>\n",
       "            <td>1.2336334447824557</td>\n",
       "        </tr>\n",
       "        <tr>\n",
       "            <td>9</td>\n",
       "            <td>COc1cccc2c1O[C@@H](CN1C3C=C(n4ccc5cc(F)ccc54)CC1CC3)CO2</td>\n",
       "            <td>1.361095166040832</td>\n",
       "        </tr>\n",
       "        <tr>\n",
       "            <td>10</td>\n",
       "            <td>CCOc1cccc2c1O[C@@H](CN1[C@@H]3CC[C@H]1C[C@](O)(c1ccc4ccccc4c1)C3)CO2</td>\n",
       "            <td>1.3048834253527042</td>\n",
       "        </tr>\n",
       "    </tbody>\n",
       "</table>"
      ],
      "text/plain": [
       "[(6, 'CCCN(CCC)C1CCc2c(ccc3ccoc23)C1', 1.0535661581675395),\n",
       " (7, 'CCc1cccc(OC[C@@H](O)CN2CCC3(CC2)OCc2c3ccc3ccccc23)c1', 1.2336334447824557),\n",
       " (9, 'COc1cccc2c1O[C@@H](CN1C3C=C(n4ccc5cc(F)ccc54)CC1CC3)CO2', 1.361095166040832),\n",
       " (10, 'CCOc1cccc2c1O[C@@H](CN1[C@@H]3CC[C@H]1C[C@](O)(c1ccc4ccccc4c1)C3)CO2', 1.3048834253527042)]"
      ]
     },
     "execution_count": 19,
     "metadata": {},
     "output_type": "execute_result"
    }
   ],
   "source": [
    "%sql postgresql://localhost/lwreg_experiments_demo \\\n",
    "    select molregno,canonical_smiles,(data->'PBF')::float pbf from experiments.data \\\n",
    "            join hashes using (molregno) where expt_uid=:cg_expt_uid and (data->'PBF')::float>1.0;"
   ]
  },
  {
   "cell_type": "markdown",
   "id": "573cde2f",
   "metadata": {},
   "source": [
    "## Multi-conformer generation"
   ]
  },
  {
   "cell_type": "code",
   "execution_count": 20,
   "id": "7361ce37",
   "metadata": {},
   "outputs": [],
   "source": [
    "ps = rdDistGeom.ETKDGv3()\n",
    "ps.randomSeed = 0xf00d\n",
    "ps.numThreads = 8\n",
    "ps.pruneRmsThresh = 0.5\n",
    "\n",
    "dg_metadata = non_default_params_to_dict(ps,rdDistGeom.ETKDGv3())\n",
    "\n",
    "target_num_confs = 100\n",
    "cg_expt_metadata = {\n",
    "    'Experiment Type':'Conformer generation',\n",
    "    'Method': 'ETKDGv3',\n",
    "    'RDKit Version': rdkit.__version__,\n",
    "    'Date': str(datetime.now()),\n",
    "    'target_num_conformers':target_num_confs,\n",
    "    'note':'run2: multiconf run ChEMBL molecules + MM94s energies'\n",
    "}\n",
    "cg_expt_metadata.update(dg_metadata)"
   ]
  },
  {
   "cell_type": "code",
   "execution_count": 21,
   "id": "f89b7e59",
   "metadata": {},
   "outputs": [],
   "source": [
    "import json\n",
    "import uuid\n",
    "cg_expt_uid = str(uuid.uuid4())\n",
    "curs.execute('insert into experiments.metadata values (%s,%s)',(str(cg_expt_uid),json.dumps(cg_expt_metadata)))\n",
    "cn.commit()"
   ]
  },
  {
   "cell_type": "code",
   "execution_count": 22,
   "id": "6c221fd7",
   "metadata": {},
   "outputs": [],
   "source": [
    "from rdkit.Chem import rdForceFieldHelpers\n",
    "\n",
    "pathn = f'./results/expt_{cg_expt_uid}'\n",
    "try:\n",
    "    os.mkdir(pathn)\n",
    "except FileExistsError:\n",
    "    pass\n",
    "for mid,m in zip(mids,new_mols):\n",
    "    mh = Chem.AddHs(m)\n",
    "    mol_uid = str(uuid.uuid4())\n",
    "    cids = rdDistGeom.EmbedMultipleConfs(mh,target_num_confs,ps)\n",
    "    mp = rdForceFieldHelpers.MMFFGetMoleculeProperties(mh,mmffVariant='MMFF94s')\n",
    "    fn = f'{pathn}/{mol_uid}.sdf'\n",
    "    energies = []\n",
    "    with Chem.SDWriter(fn) as w:\n",
    "        for cid in cids:\n",
    "            ff = rdForceFieldHelpers.MMFFGetMoleculeForceField(mh,mp,confId=cid)\n",
    "            mc = Chem.Mol(mh)\n",
    "            mc.SetProp('_Name',str(mid))\n",
    "            e = ff.CalcEnergy()\n",
    "            energies.append(e)\n",
    "            mc.SetDoubleProp('MMFF94s_Energy',e)\n",
    "            mc.RemoveAllConformers()\n",
    "            mc.AddConformer(mh.GetConformer(cid))\n",
    "            w.write(mc)\n",
    "            \n",
    "        props = m.GetPropsAsDict()\n",
    "        props['sdf'] = fn\n",
    "        props['MMFF94s_energies'] = energies\n",
    "    curs.execute('insert into experiments.data values (%s, %s, %s)',(cg_expt_uid,mid,json.dumps(props)))\n",
    "    cn.commit()\n",
    "    "
   ]
  },
  {
   "cell_type": "code",
   "execution_count": 23,
   "id": "b45264e8",
   "metadata": {},
   "outputs": [
    {
     "name": "stdout",
     "output_type": "stream",
     "text": [
      "10 rows affected.\n"
     ]
    },
    {
     "data": {
      "text/html": [
       "<table>\n",
       "    <thead>\n",
       "        <tr>\n",
       "            <th>molregno</th>\n",
       "            <th>canonical_smiles</th>\n",
       "            <th>num_confs</th>\n",
       "        </tr>\n",
       "    </thead>\n",
       "    <tbody>\n",
       "        <tr>\n",
       "            <td>7</td>\n",
       "            <td>CCc1cccc(OC[C@@H](O)CN2CCC3(CC2)OCc2c3ccc3ccccc23)c1</td>\n",
       "            <td>88</td>\n",
       "        </tr>\n",
       "        <tr>\n",
       "            <td>9</td>\n",
       "            <td>COc1cccc2c1O[C@@H](CN1C3C=C(n4ccc5cc(F)ccc54)CC1CC3)CO2</td>\n",
       "            <td>62</td>\n",
       "        </tr>\n",
       "        <tr>\n",
       "            <td>10</td>\n",
       "            <td>CCOc1cccc2c1O[C@@H](CN1[C@@H]3CC[C@H]1C[C@](O)(c1ccc4ccccc4c1)C3)CO2</td>\n",
       "            <td>50</td>\n",
       "        </tr>\n",
       "        <tr>\n",
       "            <td>5</td>\n",
       "            <td>COc1cccc2c1O[C@@H](CN1[C@@H]3CC[C@H]1C[C@](O)(c1csc4ccccc14)C3)CO2</td>\n",
       "            <td>48</td>\n",
       "        </tr>\n",
       "        <tr>\n",
       "            <td>6</td>\n",
       "            <td>CCCN(CCC)C1CCc2c(ccc3ccoc23)C1</td>\n",
       "            <td>19</td>\n",
       "        </tr>\n",
       "        <tr>\n",
       "            <td>8</td>\n",
       "            <td>CCCN(CCC)C1CCc2c(O)cccc2C1</td>\n",
       "            <td>17</td>\n",
       "        </tr>\n",
       "        <tr>\n",
       "            <td>2</td>\n",
       "            <td>CCCN(CCC)[C@@H]1CCc2c(OC)cccc2[C@@H]1C</td>\n",
       "            <td>17</td>\n",
       "        </tr>\n",
       "        <tr>\n",
       "            <td>3</td>\n",
       "            <td>c1ccc(-c2nc(CN3CCN(c4ncccn4)CC3)c[nH]2)cc1</td>\n",
       "            <td>15</td>\n",
       "        </tr>\n",
       "        <tr>\n",
       "            <td>1</td>\n",
       "            <td>CCN(C)C1CCCc2ccncc21</td>\n",
       "            <td>10</td>\n",
       "        </tr>\n",
       "        <tr>\n",
       "            <td>4</td>\n",
       "            <td>CCCN1CC[C@H]2c3c(ccc4ccoc34)CC[C@H]21</td>\n",
       "            <td>10</td>\n",
       "        </tr>\n",
       "    </tbody>\n",
       "</table>"
      ],
      "text/plain": [
       "[(7, 'CCc1cccc(OC[C@@H](O)CN2CCC3(CC2)OCc2c3ccc3ccccc23)c1', 88),\n",
       " (9, 'COc1cccc2c1O[C@@H](CN1C3C=C(n4ccc5cc(F)ccc54)CC1CC3)CO2', 62),\n",
       " (10, 'CCOc1cccc2c1O[C@@H](CN1[C@@H]3CC[C@H]1C[C@](O)(c1ccc4ccccc4c1)C3)CO2', 50),\n",
       " (5, 'COc1cccc2c1O[C@@H](CN1[C@@H]3CC[C@H]1C[C@](O)(c1csc4ccccc14)C3)CO2', 48),\n",
       " (6, 'CCCN(CCC)C1CCc2c(ccc3ccoc23)C1', 19),\n",
       " (8, 'CCCN(CCC)C1CCc2c(O)cccc2C1', 17),\n",
       " (2, 'CCCN(CCC)[C@@H]1CCc2c(OC)cccc2[C@@H]1C', 17),\n",
       " (3, 'c1ccc(-c2nc(CN3CCN(c4ncccn4)CC3)c[nH]2)cc1', 15),\n",
       " (1, 'CCN(C)C1CCCc2ccncc21', 10),\n",
       " (4, 'CCCN1CC[C@H]2c3c(ccc4ccoc34)CC[C@H]21', 10)]"
      ]
     },
     "execution_count": 23,
     "metadata": {},
     "output_type": "execute_result"
    }
   ],
   "source": [
    "%sql postgresql://localhost/lwreg_experiments_demo \\\n",
    "    select molregno,canonical_smiles,jsonb_array_length(data->'MMFF94s_energies') num_confs from experiments.data \\\n",
    "            join hashes using (molregno) where expt_uid=:cg_expt_uid \\\n",
    "        order by num_confs desc;"
   ]
  },
  {
   "cell_type": "code",
   "execution_count": 24,
   "id": "359aab80",
   "metadata": {},
   "outputs": [
    {
     "name": "stdout",
     "output_type": "stream",
     "text": [
      "10 rows affected.\n"
     ]
    },
    {
     "data": {
      "text/html": [
       "<table>\n",
       "    <thead>\n",
       "        <tr>\n",
       "            <th>molregno</th>\n",
       "            <th>delta_e</th>\n",
       "        </tr>\n",
       "    </thead>\n",
       "    <tbody>\n",
       "        <tr>\n",
       "            <td>10</td>\n",
       "            <td>151.82593719772024</td>\n",
       "        </tr>\n",
       "        <tr>\n",
       "            <td>9</td>\n",
       "            <td>147.30036916688536</td>\n",
       "        </tr>\n",
       "        <tr>\n",
       "            <td>2</td>\n",
       "            <td>118.74938820373323</td>\n",
       "        </tr>\n",
       "        <tr>\n",
       "            <td>7</td>\n",
       "            <td>86.64988367979984</td>\n",
       "        </tr>\n",
       "        <tr>\n",
       "            <td>5</td>\n",
       "            <td>83.19096455177223</td>\n",
       "        </tr>\n",
       "        <tr>\n",
       "            <td>8</td>\n",
       "            <td>49.82362127978321</td>\n",
       "        </tr>\n",
       "        <tr>\n",
       "            <td>6</td>\n",
       "            <td>36.048734388773184</td>\n",
       "        </tr>\n",
       "        <tr>\n",
       "            <td>4</td>\n",
       "            <td>27.878777558869437</td>\n",
       "        </tr>\n",
       "        <tr>\n",
       "            <td>3</td>\n",
       "            <td>18.384744597266568</td>\n",
       "        </tr>\n",
       "        <tr>\n",
       "            <td>1</td>\n",
       "            <td>17.05996202049439</td>\n",
       "        </tr>\n",
       "    </tbody>\n",
       "</table>"
      ],
      "text/plain": [
       "[(10, 151.82593719772024),\n",
       " (9, 147.30036916688536),\n",
       " (2, 118.74938820373323),\n",
       " (7, 86.64988367979984),\n",
       " (5, 83.19096455177223),\n",
       " (8, 49.82362127978321),\n",
       " (6, 36.048734388773184),\n",
       " (4, 27.878777558869437),\n",
       " (3, 18.384744597266568),\n",
       " (1, 17.05996202049439)]"
      ]
     },
     "execution_count": 24,
     "metadata": {},
     "output_type": "execute_result"
    }
   ],
   "source": [
    "%sql postgresql://localhost/lwreg_experiments_demo \\\n",
    "  select molregno,max(E::float)-min(E::float) delta_E from experiments.data,\\\n",
    "    jsonb_array_elements(data->'MMFF94s_energies') with ordinality arr(E,idx) \\\n",
    "    where expt_uid=:cg_expt_uid group by molregno \\\n",
    "        order by delta_E desc;"
   ]
  },
  {
   "cell_type": "markdown",
   "id": "b18fd335",
   "metadata": {},
   "source": [
    "# Experiment 2: partial charges"
   ]
  },
  {
   "cell_type": "code",
   "execution_count": 25,
   "id": "5f7a9278",
   "metadata": {},
   "outputs": [],
   "source": [
    "from rdkit.Chem import rdEHTTools\n",
    "\n",
    "qm_expt_metadata = {\n",
    "    'Experiment Type':'QM Single Point',\n",
    "    'Method': 'eHT',\n",
    "    'RDKit Version': rdkit.__version__,\n",
    "    'Date': str(datetime.now()),\n",
    "    'note': 'property calculation with mulliken charges and reduced overlap populations'\n",
    "}\n",
    "import json\n",
    "import uuid\n",
    "qm_expt_uid = str(uuid.uuid4())\n",
    "curs.execute('insert into experiments.metadata values (%s,%s)',(str(qm_expt_uid),json.dumps(qm_expt_metadata)))\n",
    "cn.commit()"
   ]
  },
  {
   "cell_type": "markdown",
   "id": "008cbc1a",
   "metadata": {},
   "source": [
    "Retrieve the 3D structures we are going to work with:"
   ]
  },
  {
   "cell_type": "code",
   "execution_count": 26,
   "id": "394ec867",
   "metadata": {},
   "outputs": [
    {
     "name": "stdout",
     "output_type": "stream",
     "text": [
      "1 rows affected.\n"
     ]
    }
   ],
   "source": [
    "d = %sql postgresql://localhost/lwreg_experiments_demo \\\n",
    "    select expt_uid from experiments.metadata \\\n",
    "            where metadata->>'note' like 'run1:%';\n",
    "cg_expt_uid = d[0][0]"
   ]
  },
  {
   "cell_type": "code",
   "execution_count": 27,
   "id": "b6e34221",
   "metadata": {},
   "outputs": [
    {
     "name": "stdout",
     "output_type": "stream",
     "text": [
      "10 rows affected.\n"
     ]
    }
   ],
   "source": [
    "d = %sql postgresql://localhost/lwreg_experiments_demo \\\n",
    "    select molregno,data->>'sdf' from experiments.data \\\n",
    "            where expt_uid=:cg_expt_uid;\n",
    "m3ds = []\n",
    "for mrn,sdname in d:\n",
    "    m = Chem.MolFromMolFile(sdname,removeHs=False)\n",
    "    m3ds.append((mrn,m))"
   ]
  },
  {
   "cell_type": "code",
   "execution_count": 28,
   "id": "2d6e9b78",
   "metadata": {},
   "outputs": [],
   "source": [
    "IPythonConsole.ipython_3d = True"
   ]
  },
  {
   "cell_type": "code",
   "execution_count": 29,
   "id": "5b023788",
   "metadata": {},
   "outputs": [
    {
     "data": {
      "application/3dmoljs_load.v0": "<div id=\"3dmolviewer_17024791638731966\"  style=\"position: relative; width: 400px; height: 400px\">\n        <p id=\"3dmolwarning_17024791638731966\" style=\"background-color:#ffcccc;color:black\">You appear to be running in JupyterLab (or JavaScript failed to load for some other reason).  You need to install the 3dmol extension: <br>\n        <tt>jupyter labextension install jupyterlab_3dmol</tt></p>\n        </div>\n<script>\n\nvar loadScriptAsync = function(uri){\n  return new Promise((resolve, reject) => {\n    //this is to ignore the existence of requirejs amd\n    var savedexports, savedmodule;\n    if (typeof exports !== 'undefined') savedexports = exports;\n    else exports = {}\n    if (typeof module !== 'undefined') savedmodule = module;\n    else module = {}\n\n    var tag = document.createElement('script');\n    tag.src = uri;\n    tag.async = true;\n    tag.onload = () => {\n        exports = savedexports;\n        module = savedmodule;\n        resolve();\n    };\n  var firstScriptTag = document.getElementsByTagName('script')[0];\n  firstScriptTag.parentNode.insertBefore(tag, firstScriptTag);\n});\n};\n\nif(typeof $3Dmolpromise === 'undefined') {\n$3Dmolpromise = null;\n  $3Dmolpromise = loadScriptAsync('https://cdnjs.cloudflare.com/ajax/libs/3Dmol/2.0.1/3Dmol-min.js');\n}\n\nvar viewer_17024791638731966 = null;\nvar warn = document.getElementById(\"3dmolwarning_17024791638731966\");\nif(warn) {\n    warn.parentNode.removeChild(warn);\n}\n$3Dmolpromise.then(function() {\nviewer_17024791638731966 = $3Dmol.createViewer(document.getElementById(\"3dmolviewer_17024791638731966\"),{backgroundColor:\"white\"});\nviewer_17024791638731966.zoomTo();\n\tviewer_17024791638731966.removeAllModels();\n\tviewer_17024791638731966.addModel(\"1\\n     RDKit          3D\\n\\n 32 33  0  0  0  0  0  0  0  0999 V2000\\n   -3.3031   -0.8110    1.0354 C   0  0  0  0  0  0  0  0  0  0  0  0\\n   -2.3471   -0.9324   -0.1373 C   0  0  0  0  0  0  0  0  0  0  0  0\\n   -1.2342   -0.0058   -0.0019 N   0  0  0  0  0  0  0  0  0  0  0  0\\n   -1.7540    1.3461   -0.1499 C   0  0  0  0  0  0  0  0  0  0  0  0\\n   -0.1903   -0.2089   -0.9417 C   0  0  2  0  0  0  0  0  0  0  0  0\\n    0.4058   -1.6049   -0.8792 C   0  0  0  0  0  0  0  0  0  0  0  0\\n    0.8840   -1.8062    0.5625 C   0  0  0  0  0  0  0  0  0  0  0  0\\n    2.1589   -1.0349    0.7225 C   0  0  0  0  0  0  0  0  0  0  0  0\\n    2.0208    0.2947    0.1270 C   0  0  0  0  0  0  0  0  0  0  0  0\\n    3.0736    1.1883    0.3730 C   0  0  0  0  0  0  0  0  0  0  0  0\\n    3.0076    2.4465   -0.1776 C   0  0  0  0  0  0  0  0  0  0  0  0\\n    1.9564    2.8116   -0.9349 N   0  0  0  0  0  0  0  0  0  0  0  0\\n    0.9150    1.9813   -1.2000 C   0  0  0  0  0  0  0  0  0  0  0  0\\n    0.9738    0.7083   -0.6470 C   0  0  0  0  0  0  0  0  0  0  0  0\\n   -2.9746   -0.0829    1.7936 H   0  0  0  0  0  0  0  0  0  0  0  0\\n   -3.4428   -1.7913    1.5446 H   0  0  0  0  0  0  0  0  0  0  0  0\\n   -4.3264   -0.5026    0.7030 H   0  0  0  0  0  0  0  0  0  0  0  0\\n   -1.9236   -1.9558   -0.1015 H   0  0  0  0  0  0  0  0  0  0  0  0\\n   -2.9336   -0.7253   -1.0516 H   0  0  0  0  0  0  0  0  0  0  0  0\\n   -2.6819    1.4307    0.4733 H   0  0  0  0  0  0  0  0  0  0  0  0\\n   -1.0879    2.1233    0.2140 H   0  0  0  0  0  0  0  0  0  0  0  0\\n   -2.0627    1.5715   -1.1894 H   0  0  0  0  0  0  0  0  0  0  0  0\\n   -0.5126   -0.0130   -1.9622 H   0  0  0  0  0  0  0  0  0  0  0  0\\n   -0.2596   -2.4148   -1.1273 H   0  0  0  0  0  0  0  0  0  0  0  0\\n    1.3135   -1.6401   -1.5022 H   0  0  0  0  0  0  0  0  0  0  0  0\\n    0.9969   -2.8848    0.7877 H   0  0  0  0  0  0  0  0  0  0  0  0\\n    0.0976   -1.3294    1.1923 H   0  0  0  0  0  0  0  0  0  0  0  0\\n    2.3519   -0.9854    1.8289 H   0  0  0  0  0  0  0  0  0  0  0  0\\n    3.0164   -1.5417    0.2111 H   0  0  0  0  0  0  0  0  0  0  0  0\\n    3.9266    0.9167    0.9778 H   0  0  0  0  0  0  0  0  0  0  0  0\\n    3.8388    3.1328    0.0248 H   0  0  0  0  0  0  0  0  0  0  0  0\\n    0.0968    2.3196   -1.8241 H   0  0  0  0  0  0  0  0  0  0  0  0\\n  1  2  1  0\\n  2  3  1  0\\n  3  4  1  0\\n  3  5  1  0\\n  5  6  1  0\\n  6  7  1  0\\n  7  8  1  0\\n  8  9  1  0\\n  9 10  2  0\\n 10 11  1  0\\n 11 12  2  0\\n 12 13  1  0\\n 13 14  2  0\\n 14  5  1  0\\n 14  9  1  0\\n  1 15  1  0\\n  1 16  1  0\\n  1 17  1  0\\n  2 18  1  0\\n  2 19  1  0\\n  4 20  1  0\\n  4 21  1  0\\n  4 22  1  0\\n  5 23  1  6\\n  6 24  1  0\\n  6 25  1  0\\n  7 26  1  0\\n  7 27  1  0\\n  8 28  1  0\\n  8 29  1  0\\n 10 30  1  0\\n 11 31  1  0\\n 13 32  1  0\\nM  END\\n\",\"sdf\");\n\tviewer_17024791638731966.setStyle({\"stick\": {}});\n\tviewer_17024791638731966.setBackgroundColor(\"0xeeeeee\");\n\tviewer_17024791638731966.zoomTo();\nviewer_17024791638731966.render();\n});\n</script>",
      "text/html": [
       "<div id=\"3dmolviewer_17024791638731966\"  style=\"position: relative; width: 400px; height: 400px\">\n",
       "        <p id=\"3dmolwarning_17024791638731966\" style=\"background-color:#ffcccc;color:black\">You appear to be running in JupyterLab (or JavaScript failed to load for some other reason).  You need to install the 3dmol extension: <br>\n",
       "        <tt>jupyter labextension install jupyterlab_3dmol</tt></p>\n",
       "        </div>\n",
       "<script>\n",
       "\n",
       "var loadScriptAsync = function(uri){\n",
       "  return new Promise((resolve, reject) => {\n",
       "    //this is to ignore the existence of requirejs amd\n",
       "    var savedexports, savedmodule;\n",
       "    if (typeof exports !== 'undefined') savedexports = exports;\n",
       "    else exports = {}\n",
       "    if (typeof module !== 'undefined') savedmodule = module;\n",
       "    else module = {}\n",
       "\n",
       "    var tag = document.createElement('script');\n",
       "    tag.src = uri;\n",
       "    tag.async = true;\n",
       "    tag.onload = () => {\n",
       "        exports = savedexports;\n",
       "        module = savedmodule;\n",
       "        resolve();\n",
       "    };\n",
       "  var firstScriptTag = document.getElementsByTagName('script')[0];\n",
       "  firstScriptTag.parentNode.insertBefore(tag, firstScriptTag);\n",
       "});\n",
       "};\n",
       "\n",
       "if(typeof $3Dmolpromise === 'undefined') {\n",
       "$3Dmolpromise = null;\n",
       "  $3Dmolpromise = loadScriptAsync('https://cdnjs.cloudflare.com/ajax/libs/3Dmol/2.0.1/3Dmol-min.js');\n",
       "}\n",
       "\n",
       "var viewer_17024791638731966 = null;\n",
       "var warn = document.getElementById(\"3dmolwarning_17024791638731966\");\n",
       "if(warn) {\n",
       "    warn.parentNode.removeChild(warn);\n",
       "}\n",
       "$3Dmolpromise.then(function() {\n",
       "viewer_17024791638731966 = $3Dmol.createViewer(document.getElementById(\"3dmolviewer_17024791638731966\"),{backgroundColor:\"white\"});\n",
       "viewer_17024791638731966.zoomTo();\n",
       "\tviewer_17024791638731966.removeAllModels();\n",
       "\tviewer_17024791638731966.addModel(\"1\\n     RDKit          3D\\n\\n 32 33  0  0  0  0  0  0  0  0999 V2000\\n   -3.3031   -0.8110    1.0354 C   0  0  0  0  0  0  0  0  0  0  0  0\\n   -2.3471   -0.9324   -0.1373 C   0  0  0  0  0  0  0  0  0  0  0  0\\n   -1.2342   -0.0058   -0.0019 N   0  0  0  0  0  0  0  0  0  0  0  0\\n   -1.7540    1.3461   -0.1499 C   0  0  0  0  0  0  0  0  0  0  0  0\\n   -0.1903   -0.2089   -0.9417 C   0  0  2  0  0  0  0  0  0  0  0  0\\n    0.4058   -1.6049   -0.8792 C   0  0  0  0  0  0  0  0  0  0  0  0\\n    0.8840   -1.8062    0.5625 C   0  0  0  0  0  0  0  0  0  0  0  0\\n    2.1589   -1.0349    0.7225 C   0  0  0  0  0  0  0  0  0  0  0  0\\n    2.0208    0.2947    0.1270 C   0  0  0  0  0  0  0  0  0  0  0  0\\n    3.0736    1.1883    0.3730 C   0  0  0  0  0  0  0  0  0  0  0  0\\n    3.0076    2.4465   -0.1776 C   0  0  0  0  0  0  0  0  0  0  0  0\\n    1.9564    2.8116   -0.9349 N   0  0  0  0  0  0  0  0  0  0  0  0\\n    0.9150    1.9813   -1.2000 C   0  0  0  0  0  0  0  0  0  0  0  0\\n    0.9738    0.7083   -0.6470 C   0  0  0  0  0  0  0  0  0  0  0  0\\n   -2.9746   -0.0829    1.7936 H   0  0  0  0  0  0  0  0  0  0  0  0\\n   -3.4428   -1.7913    1.5446 H   0  0  0  0  0  0  0  0  0  0  0  0\\n   -4.3264   -0.5026    0.7030 H   0  0  0  0  0  0  0  0  0  0  0  0\\n   -1.9236   -1.9558   -0.1015 H   0  0  0  0  0  0  0  0  0  0  0  0\\n   -2.9336   -0.7253   -1.0516 H   0  0  0  0  0  0  0  0  0  0  0  0\\n   -2.6819    1.4307    0.4733 H   0  0  0  0  0  0  0  0  0  0  0  0\\n   -1.0879    2.1233    0.2140 H   0  0  0  0  0  0  0  0  0  0  0  0\\n   -2.0627    1.5715   -1.1894 H   0  0  0  0  0  0  0  0  0  0  0  0\\n   -0.5126   -0.0130   -1.9622 H   0  0  0  0  0  0  0  0  0  0  0  0\\n   -0.2596   -2.4148   -1.1273 H   0  0  0  0  0  0  0  0  0  0  0  0\\n    1.3135   -1.6401   -1.5022 H   0  0  0  0  0  0  0  0  0  0  0  0\\n    0.9969   -2.8848    0.7877 H   0  0  0  0  0  0  0  0  0  0  0  0\\n    0.0976   -1.3294    1.1923 H   0  0  0  0  0  0  0  0  0  0  0  0\\n    2.3519   -0.9854    1.8289 H   0  0  0  0  0  0  0  0  0  0  0  0\\n    3.0164   -1.5417    0.2111 H   0  0  0  0  0  0  0  0  0  0  0  0\\n    3.9266    0.9167    0.9778 H   0  0  0  0  0  0  0  0  0  0  0  0\\n    3.8388    3.1328    0.0248 H   0  0  0  0  0  0  0  0  0  0  0  0\\n    0.0968    2.3196   -1.8241 H   0  0  0  0  0  0  0  0  0  0  0  0\\n  1  2  1  0\\n  2  3  1  0\\n  3  4  1  0\\n  3  5  1  0\\n  5  6  1  0\\n  6  7  1  0\\n  7  8  1  0\\n  8  9  1  0\\n  9 10  2  0\\n 10 11  1  0\\n 11 12  2  0\\n 12 13  1  0\\n 13 14  2  0\\n 14  5  1  0\\n 14  9  1  0\\n  1 15  1  0\\n  1 16  1  0\\n  1 17  1  0\\n  2 18  1  0\\n  2 19  1  0\\n  4 20  1  0\\n  4 21  1  0\\n  4 22  1  0\\n  5 23  1  6\\n  6 24  1  0\\n  6 25  1  0\\n  7 26  1  0\\n  7 27  1  0\\n  8 28  1  0\\n  8 29  1  0\\n 10 30  1  0\\n 11 31  1  0\\n 13 32  1  0\\nM  END\\n\",\"sdf\");\n",
       "\tviewer_17024791638731966.setStyle({\"stick\": {}});\n",
       "\tviewer_17024791638731966.setBackgroundColor(\"0xeeeeee\");\n",
       "\tviewer_17024791638731966.zoomTo();\n",
       "viewer_17024791638731966.render();\n",
       "});\n",
       "</script>"
      ]
     },
     "metadata": {},
     "output_type": "display_data"
    },
    {
     "data": {
      "image/png": "[encoded data removed]",
      "text/html": [],
      "text/plain": [
       "<rdkit.Chem.rdchem.Mol at 0x7ff73ce55cb0>"
      ]
     },
     "execution_count": 29,
     "metadata": {},
     "output_type": "execute_result"
    }
   ],
   "source": [
    "m3ds[0][1]"
   ]
  },
  {
   "cell_type": "code",
   "execution_count": 30,
   "id": "d507371f",
   "metadata": {},
   "outputs": [
    {
     "name": "stderr",
     "output_type": "stream",
     "text": [
      "!!! Warning !!! Distance between atoms 51 and 19 (0.986362 A) is suspicious.\n",
      "!!! Warning !!! Distance between atoms 43 and 11 (0.998451 A) is suspicious.\n"
     ]
    }
   ],
   "source": [
    "for mid,mh in m3ds:\n",
    "    ok,res = rdEHTTools.RunMol(mh)\n",
    "    if not ok:\n",
    "        continue\n",
    "    d = {'atomic_charges':list(res.GetAtomicCharges())}\n",
    "    opm = res.GetReducedOverlapPopulationMatrix()\n",
    "    bnds = []\n",
    "    nats = mh.GetNumAtoms()\n",
    "    for bond in mh.GetBonds():\n",
    "        a1 = bond.GetBeginAtomIdx()\n",
    "        a2 = bond.GetEndAtomIdx()\n",
    "        if a1<a2:\n",
    "            a1,a2 = a2,a1\n",
    "            \n",
    "        o = opm[(a1*(a1+1))//2 + a2]\n",
    "        bnds.append(o)\n",
    "    d['mulliken_overlap_pops'] = bnds\n",
    "    curs.execute('insert into experiments.data values (%s, %s, %s)',(qm_expt_uid,mid,json.dumps(d)))\n",
    "cn.commit()"
   ]
  },
  {
   "cell_type": "code",
   "execution_count": 31,
   "id": "58e7f2e8",
   "metadata": {},
   "outputs": [
    {
     "name": "stdout",
     "output_type": "stream",
     "text": [
      "10 rows affected.\n"
     ]
    },
    {
     "data": {
      "text/html": [
       "<table>\n",
       "    <thead>\n",
       "        <tr>\n",
       "            <th>molregno</th>\n",
       "            <th>?column?</th>\n",
       "        </tr>\n",
       "    </thead>\n",
       "    <tbody>\n",
       "        <tr>\n",
       "            <td>1</td>\n",
       "            <td>[0.7588210854129853, 0.6960798035320421, 0.7030709648557724, 0.7193538868339985, 0.774150798589617, 0.7486630435805379, 0.7757295534979947, 0.8240735932579611, 1.0520943408018026, 1.1352782675808042, 0.9486525638689337, 0.9368013265572955, 1.1172784701723986, 0.7882606379393313, 1.1260320927153076, 0.788663147973945, 0.780929555369681, 0.7779392404840062, 0.7989484932972828, 0.7901179946034863, 0.7848156987894137, 0.7992092191106055, 0.7812049995190007, 0.8046291552644913, 0.8062814345550681, 0.799533820775415, 0.7885854135579193, 0.7924200251543123, 0.7719850380749549, 0.770171722783104, 0.8029440490205249, 0.7938294456191481, 0.8075969291587768]</td>\n",
       "        </tr>\n",
       "        <tr>\n",
       "            <td>2</td>\n",
       "            <td>[0.774911503854123, 0.7974007519937242, 0.7421931820239639, 0.7443806512437614, 0.7647854001849247, 0.7519030940366851, 0.7323103096071877, 0.7751628833479896, 0.7415006179285412, 0.8028857563168267, 1.0709100263538045, 0.6305446785232481, 0.604421236976903, 1.147074540233091, 1.0600427385605435, 1.1249442931314033, 1.0778702109274747, 0.8061807696564158, 0.7430185002100813, 0.785512546501707, 1.1456050131354911, 0.7644053700453084, 0.7920377048917417, 0.7795270529063039, 0.7799574702277807, 0.7701111450519953, 0.7587656995982754, 0.7869340761426045, 0.796840174506572, 0.7994447777940437, 0.7969731458442706, 0.7877645493045676, 0.7827835485889024, 0.7767241511879495, 0.7912992331952657, 0.8004375876511254, 0.8086474224674401, 0.8085245132654055, 0.7830442489879057, 0.7961394556213328, 0.7823003435389484, 0.7787346311596386, 0.7732368197518475, 0.7923135338198736, 0.8007966017968785, 0.7948083315521933, 0.8011183379703815, 0.7804338293820499, 0.798191811660951, 0.7738848478773526]</td>\n",
       "        </tr>\n",
       "        <tr>\n",
       "            <td>3</td>\n",
       "            <td>[0.6938095037811264, 0.7137513112497068, 0.7743770295300594, 0.6968457877277664, 0.7228526914464398, 0.7687050756798072, 0.8696945672277703, 0.9611091232928075, 0.9441633391631379, 1.101760816885246, 1.1034977607293392, 0.9425235578949482, 0.8354783810865715, 1.195533583163416, 0.8981860310459817, 0.9782750256059157, 0.9820376585442234, 0.9080167405001632, 1.0918218272768696, 1.0907661160510413, 1.1052692160022668, 1.0923749488790462, 1.1079475429191092, 0.7204253489794624, 0.9553617925627014, 0.8902629093666007, 1.077609839315123, 0.7742410109754332, 0.7876768119487396, 0.7936814626175499, 0.7732828083125542, 0.7812682457304935, 0.7878129936496628, 0.7801486538266198, 0.7843401626954423, 0.7962185791761798, 0.7772021254275813, 0.7904406088489522, 0.790531200111451, 0.8011279260448956, 0.7982149226393346, 0.7025822993791397, 0.8056343621773251, 0.7924877655243366, 0.7963306731514601, 0.7964253291494335, 0.8084497275059398]</td>\n",
       "        </tr>\n",
       "        <tr>\n",
       "            <td>4</td>\n",
       "            <td>[0.7712548395695309, 0.7542917927825599, 0.7126346263132948, 0.7083553491316641, 0.7761149902524034, 0.7382986483097811, 0.7868954377922771, 0.794918322392599, 0.7478462979845351, 0.7931774102258639, 1.104241731494547, 1.095950654922912, 1.0699263693193457, 0.9639063279657902, 1.214584601868207, 0.736295271685004, 0.7228481918714987, 1.0886464002516756, 0.7308632330167328, 0.8247968432346587, 1.1286360947883716, 1.1003008568515018, 0.7702962440477982, 0.7788451336009682, 0.7949374603591409, 0.7806697796478443, 0.7960799042302197, 0.7912208458563902, 0.79983248010577, 0.7909825017102383, 0.7944061807294913, 0.7980716504930876, 0.7938447604719843, 0.7881142409217655, 0.7949631610514396, 0.7938040006051386, 0.7882526757601083, 0.7910479940103801, 0.781968177309874, 0.8032607317858611, 0.7995578321327544, 0.799310771795418, 0.7962316079472732]</td>\n",
       "        </tr>\n",
       "        <tr>\n",
       "            <td>5</td>\n",
       "            <td>[0.576224777994397, 0.6160123149378874, 1.110588288640848, 1.0940231506011444, 1.087911266692821, 1.1193422204892145, 0.6043558964149478, 0.5662200170819174, 0.8012183624872663, 0.7870291409731206, 0.7275286742112098, 0.6761716316342347, 0.7995233244634663, 0.7499665754769174, 0.7686640222463181, 0.7990174300640809, 0.807027403068359, 0.5637627690524396, 0.8005515203736366, 0.7759542532733601, 1.159536994215805, 0.7766405018918688, 0.7713857653713801, 1.080663941624549, 1.0939891595784668, 1.0789914194982393, 1.1449795485352905, 0.9979837384499094, 0.5452686381180989, 0.6167666206744872, 1.127074165360573, 1.1049080243037515, 0.6944223557903594, 0.7727265994384299, 1.0800495704082356, 1.0688190017631964, 0.7840370768187223, 0.7900747628747651, 0.776054427679598, 0.7960676761668452, 0.7884097061417713, 0.7833644404324234, 0.7806532458328923, 0.793085278407595, 0.7901948251025452, 0.792306973750474, 0.7804460090830591, 0.8049285240159724, 0.7819233676892127, 0.791612214151181, 0.8016333112119317, 0.7980522763205081, 0.8006338612066164, 0.7728425503541984, 0.7967747292423091, 0.6087286956697573, 0.787226675309461, 0.7838019792986639, 0.8071439496262053, 0.8022240297733033, 0.8036821313601388, 0.7880113145715281, 0.8076910075896782]</td>\n",
       "        </tr>\n",
       "        <tr>\n",
       "            <td>6</td>\n",
       "            <td>[0.7380449825617963, 0.7854104891502292, 0.6802762508834178, 0.7611494382405269, 0.7755541021373449, 0.7323251228280936, 0.710152532769898, 0.8188586408141583, 0.735528919754723, 0.8088253659707823, 1.1050131799306377, 0.8306943922260032, 1.1033673390206322, 1.106693712904381, 1.0680920997997503, 0.9783199851328578, 1.217363709724021, 0.7231024923899475, 0.713376548822144, 0.74753607227359, 1.1216602692809197, 1.0787343781700311, 0.7763400440273762, 0.795712860031391, 0.7910191445498631, 0.7880220992253597, 0.7918046208914886, 0.8021993963786395, 0.7947096336581929, 0.7636905466418, 0.7861557271119126, 0.7751588853037038, 0.807282420829343, 0.7875359228913797, 0.7940445077893575, 0.7716875390204625, 0.793403749060501, 0.7617050034981141, 0.8012980976691173, 0.7938274459841802, 0.7920822404599541, 0.7803096933171226, 0.7897118213358006, 0.7918564573951685, 0.8055682750837934, 0.7860712384390692, 0.7883483091040482]</td>\n",
       "        </tr>\n",
       "        <tr>\n",
       "            <td>7</td>\n",
       "            <td>[0.7323279663217072, 0.8005380103333706, 1.1152592562441002, 1.0764230510945338, 1.1354394143548168, 1.0558576538402906, 0.6786003144725955, 0.6368829329486034, 0.7847767696235575, 0.5946135524454305, 0.7949449282106232, 0.7145415975234899, 0.7342846155038266, 0.7617008934745412, 0.7934766313675521, 0.78663682863451, 0.7742662556708053, 0.5508322664508895, 0.5882621415214888, 0.8166942239718289, 1.114716769475042, 1.0740095284080526, 1.1235942144861204, 1.0409973013859284, 1.0511900726560472, 1.1373749194206173, 1.0508980241333417, 1.1497511000047735, 1.032119992505129, 1.115848082166271, 1.0950173968819192, 0.7242371418508488, 0.8329291329409848, 1.0636718959822031, 1.0347690434560182, 0.7739569394177594, 0.7943362269801757, 0.7828664727713659, 0.7908670842639637, 0.7910883159457791, 0.7993374140608935, 0.7929741052657209, 0.7965860605810267, 0.7725863438072764, 0.7682495398508055, 0.7705815250972786, 0.5991221566935175, 0.7872844739140358, 0.775619775399301, 0.7780538437887357, 0.7864888190948104, 0.7792640885015603, 0.7905454268698235, 0.7785397279830686, 0.7912963836860677, 0.7866555792743894, 0.7775115852782419, 0.7818685844274835, 0.7757823330318929, 0.8015907357556887, 0.8048276589990608, 0.7983507701694358, 0.7964968732717763, 0.8020137865648225, 0.8024493250046087, 0.7941539712840345]</td>\n",
       "        </tr>\n",
       "        <tr>\n",
       "            <td>8</td>\n",
       "            <td>[0.7506406117578357, 0.7952889433198674, 0.7502683736889039, 0.7323749469317432, 0.7930644101572415, 0.7268545263842374, 0.6993633793823701, 0.7878698980400083, 0.7505577507017671, 0.7919360172971466, 1.1017319772139682, 0.6081020349970073, 1.123199195664634, 1.0897431857784767, 1.1005267574148447, 1.0925487533250289, 0.8178417284351522, 0.8025230837956169, 1.1344083730379977, 0.7756286323174773, 0.7844224282938684, 0.7871363154163376, 0.7992835098103199, 0.754033567565175, 0.7716833798966837, 0.7567266268016861, 0.8041814527449457, 0.7725391055381017, 0.7897191529629847, 0.7918091552661766, 0.791178699458822, 0.7877698338153174, 0.7814452483311403, 0.7791506117162977, 0.7975560313771435, 0.7987159829777397, 0.7834385571883735, 0.7901913608281211, 0.5830479796227515, 0.7970686556192316, 0.7970564513420799, 0.8112194087935822, 0.7828394629768601, 0.7557901334239993]</td>\n",
       "        </tr>\n",
       "        <tr>\n",
       "            <td>9</td>\n",
       "            <td>[0.5697513260334658, 0.6120346324234829, 1.0975283911692522, 1.0992186010263567, 1.089173006005872, 1.1005439792160092, 0.6230463467847567, 0.5704605327552177, 0.8143254056071865, 0.7849629083668566, 0.7463508054337257, 0.6916267554967201, 0.7427490762297273, 0.7556892001559835, 0.7479677047669668, 0.813934596213185, 1.2434930782393356, 0.8368872476631923, 0.8073928267142131, 0.8834400797490994, 1.194885087100952, 0.9842279922766741, 1.0713889238679153, 1.1238657118631408, 0.47478699317292916, 1.1026453081738234, 1.0940528866940247, 1.0931401927582467, 0.560439975231287, 0.6281542167430161, 1.117287141434053, 1.1055883979519505, 0.7070569953495144, 0.7721241549944216, 0.8701317690800133, 1.0471605519390617, 0.7930636609907961, 0.7763814898919581, 0.7866812653896447, 0.8068675316816296, 0.7882110682380676, 0.8035388395458017, 0.7914938306759358, 0.7784813216900299, 0.7646560725275319, 0.7844844644647666, 0.7751723052858711, 0.8078982859830565, 0.7998908851493178, 0.7983965962286858, 0.8066363958097543, 0.7801161052853586, 0.7987681422152173, 0.8131871502268165, 0.7483454653856482, 0.7997322764124346, 0.8086703756503477, 0.7976417348960798, 0.7847047488731864, 0.7931864599569032, 0.7955582024160557]</td>\n",
       "        </tr>\n",
       "        <tr>\n",
       "            <td>10</td>\n",
       "            <td>[0.7740385594438057, 0.579206054552073, 0.6305248448839478, 1.1158434140948403, 1.0714151599532182, 1.1180266810373891, 1.0920161343765664, 0.606405304928739, 0.5749213608246658, 0.7780651073773823, 0.7976822935802599, 0.7800766651441402, 0.7424323173093894, 0.7578183826996221, 0.7620725819304202, 0.7690520996509589, 0.757655791492156, 0.8127912712489234, 0.5341605691888217, 0.7822592074624494, 0.8223702300358011, 1.039579505785206, 1.145489451323771, 1.032785828759119, 1.040807330042568, 1.128740692076211, 1.0653351316788788, 1.1349508881427166, 1.0534811693669233, 1.0264983101800027, 0.5730690853954605, 0.596328134885865, 1.0854173493879378, 1.146562938991409, 0.7352910955716947, 0.7612077141762966, 1.1553488924076716, 1.0475219900284236, 0.7885069618903773, 0.7658972211763178, 0.7794753131575295, 0.7926334741149752, 0.7793064047754195, 0.8083555227319491, 0.8011057450971989, 0.7944385017475712, 0.7826221114855831, 0.8026777202199634, 0.7843933312965117, 0.7712456508629502, 0.7692112315163036, 0.8111202851637497, 0.7858652825378877, 0.8059247534709506, 0.8053791440611116, 0.7777413134276621, 0.8114952556633417, 0.7891386616490763, 0.7902813686292545, 0.5930980234175104, 0.7878334793870646, 0.7988968801604494, 0.798943852649296, 0.8015572018566156, 0.8098540920431015, 0.7964619268447708, 0.7942771435947844, 0.8060879015675084, 0.817509545058806]</td>\n",
       "        </tr>\n",
       "    </tbody>\n",
       "</table>"
      ],
      "text/plain": [
       "[(1, '[0.7588210854129853, 0.6960798035320421, 0.7030709648557724, 0.7193538868339985, 0.774150798589617, 0.7486630435805379, 0.7757295534979947, 0.8240735 ... (357 characters truncated) ... 820775415, 0.7885854135579193, 0.7924200251543123, 0.7719850380749549, 0.770171722783104, 0.8029440490205249, 0.7938294456191481, 0.8075969291587768]'),\n",
       " (2, '[0.774911503854123, 0.7974007519937242, 0.7421931820239639, 0.7443806512437614, 0.7647854001849247, 0.7519030940366851, 0.7323103096071877, 0.7751628 ... (696 characters truncated) ... 197518475, 0.7923135338198736, 0.8007966017968785, 0.7948083315521933, 0.8011183379703815, 0.7804338293820499, 0.798191811660951, 0.7738848478773526]'),\n",
       " (3, '[0.6938095037811264, 0.7137513112497068, 0.7743770295300594, 0.6968457877277664, 0.7228526914464398, 0.7687050756798072, 0.8696945672277703, 0.961109 ... (638 characters truncated) ... 60448956, 0.7982149226393346, 0.7025822993791397, 0.8056343621773251, 0.7924877655243366, 0.7963306731514601, 0.7964253291494335, 0.8084497275059398]'),\n",
       " (4, '[0.7712548395695309, 0.7542917927825599, 0.7126346263132948, 0.7083553491316641, 0.7761149902524034, 0.7382986483097811, 0.7868954377922771, 0.794918 ... (553 characters truncated) ... 0006051386, 0.7882526757601083, 0.7910479940103801, 0.781968177309874, 0.8032607317858611, 0.7995578321327544, 0.799310771795418, 0.7962316079472732]'),\n",
       " (5, '[0.576224777994397, 0.6160123149378874, 1.110588288640848, 1.0940231506011444, 1.087911266692821, 1.1193422204892145, 0.6043558964149478, 0.566220017 ... (950 characters truncated) ... 956697573, 0.787226675309461, 0.7838019792986639, 0.8071439496262053, 0.8022240297733033, 0.8036821313601388, 0.7880113145715281, 0.8076910075896782]'),\n",
       " (6, '[0.7380449825617963, 0.7854104891502292, 0.6802762508834178, 0.7611494382405269, 0.7755541021373449, 0.7323251228280936, 0.710152532769898, 0.8188586 ... (629 characters truncated) ... 59841802, 0.7920822404599541, 0.7803096933171226, 0.7897118213358006, 0.7918564573951685, 0.8055682750837934, 0.7860712384390692, 0.7883483091040482]'),\n",
       " (7, '[0.7323279663217072, 0.8005380103333706, 1.1152592562441002, 1.0764230510945338, 1.1354394143548168, 1.0558576538402906, 0.6786003144725955, 0.636882 ... (1016 characters truncated) ... 30318929, 0.8015907357556887, 0.8048276589990608, 0.7983507701694358, 0.7964968732717763, 0.8020137865648225, 0.8024493250046087, 0.7941539712840345]'),\n",
       " (8, '[0.7506406117578357, 0.7952889433198674, 0.7502683736889039, 0.7323749469317432, 0.7930644101572415, 0.7268545263842374, 0.6993633793823701, 0.787869 ... (579 characters truncated) ... 71883735, 0.7901913608281211, 0.5830479796227515, 0.7970686556192316, 0.7970564513420799, 0.8112194087935822, 0.7828394629768601, 0.7557901334239993]'),\n",
       " (9, '[0.5697513260334658, 0.6120346324234829, 1.0975283911692522, 1.0992186010263567, 1.089173006005872, 1.1005439792160092, 0.6230463467847567, 0.5704605 ... (918 characters truncated) ... 02268165, 0.7483454653856482, 0.7997322764124346, 0.8086703756503477, 0.7976417348960798, 0.7847047488731864, 0.7931864599569032, 0.7955582024160557]'),\n",
       " (10, '[0.7740385594438057, 0.579206054552073, 0.6305248448839478, 1.1158434140948403, 1.0714151599532182, 1.1180266810373891, 1.0920161343765664, 0.6064053 ... (1070 characters truncated) ... 8801604494, 0.798943852649296, 0.8015572018566156, 0.8098540920431015, 0.7964619268447708, 0.7942771435947844, 0.8060879015675084, 0.817509545058806]')]"
      ]
     },
     "execution_count": 31,
     "metadata": {},
     "output_type": "execute_result"
    }
   ],
   "source": [
    "%sql postgresql://localhost/lwreg_experiments_demo \\\n",
    "    select molregno,data->>'mulliken_overlap_pops' from experiments.data \\\n",
    "    where experiments.data.expt_uid=:qm_expt_uid limit 10;"
   ]
  },
  {
   "cell_type": "markdown",
   "id": "3b7c962e",
   "metadata": {},
   "source": [
    "Max Mulliken overlap population in each molecule"
   ]
  },
  {
   "cell_type": "code",
   "execution_count": 32,
   "id": "4d5d4669",
   "metadata": {},
   "outputs": [
    {
     "name": "stdout",
     "output_type": "stream",
     "text": [
      "10 rows affected.\n"
     ]
    },
    {
     "data": {
      "text/html": [
       "<table>\n",
       "    <thead>\n",
       "        <tr>\n",
       "            <th>molregno</th>\n",
       "            <th>max</th>\n",
       "        </tr>\n",
       "    </thead>\n",
       "    <tbody>\n",
       "        <tr>\n",
       "            <td>8</td>\n",
       "            <td>1.1344083730379977</td>\n",
       "        </tr>\n",
       "        <tr>\n",
       "            <td>10</td>\n",
       "            <td>1.1553488924076716</td>\n",
       "        </tr>\n",
       "        <tr>\n",
       "            <td>9</td>\n",
       "            <td>1.2434930782393356</td>\n",
       "        </tr>\n",
       "        <tr>\n",
       "            <td>7</td>\n",
       "            <td>1.1497511000047735</td>\n",
       "        </tr>\n",
       "        <tr>\n",
       "            <td>1</td>\n",
       "            <td>1.1352782675808042</td>\n",
       "        </tr>\n",
       "        <tr>\n",
       "            <td>5</td>\n",
       "            <td>1.159536994215805</td>\n",
       "        </tr>\n",
       "        <tr>\n",
       "            <td>4</td>\n",
       "            <td>1.214584601868207</td>\n",
       "        </tr>\n",
       "        <tr>\n",
       "            <td>2</td>\n",
       "            <td>1.147074540233091</td>\n",
       "        </tr>\n",
       "        <tr>\n",
       "            <td>6</td>\n",
       "            <td>1.217363709724021</td>\n",
       "        </tr>\n",
       "        <tr>\n",
       "            <td>3</td>\n",
       "            <td>1.195533583163416</td>\n",
       "        </tr>\n",
       "    </tbody>\n",
       "</table>"
      ],
      "text/plain": [
       "[(8, 1.1344083730379977),\n",
       " (10, 1.1553488924076716),\n",
       " (9, 1.2434930782393356),\n",
       " (7, 1.1497511000047735),\n",
       " (1, 1.1352782675808042),\n",
       " (5, 1.159536994215805),\n",
       " (4, 1.214584601868207),\n",
       " (2, 1.147074540233091),\n",
       " (6, 1.217363709724021),\n",
       " (3, 1.195533583163416)]"
      ]
     },
     "execution_count": 32,
     "metadata": {},
     "output_type": "execute_result"
    }
   ],
   "source": [
    "%sql postgresql://localhost/lwreg_experiments_demo \\\n",
    "  select molregno,max(bo::float) from experiments.data,\\\n",
    "    jsonb_array_elements(data->'mulliken_overlap_pops') with ordinality arr(bo,idx) \\\n",
    "    where expt_uid=:qm_expt_uid group by molregno;"
   ]
  },
  {
   "cell_type": "markdown",
   "id": "ba00dcc3",
   "metadata": {},
   "source": [
    "Max and min charges in each molecule"
   ]
  },
  {
   "cell_type": "code",
   "execution_count": 33,
   "id": "bfd6d703",
   "metadata": {},
   "outputs": [
    {
     "name": "stdout",
     "output_type": "stream",
     "text": [
      "10 rows affected.\n"
     ]
    },
    {
     "data": {
      "text/html": [
       "<table>\n",
       "    <thead>\n",
       "        <tr>\n",
       "            <th>molregno</th>\n",
       "            <th>max</th>\n",
       "            <th>min</th>\n",
       "        </tr>\n",
       "    </thead>\n",
       "    <tbody>\n",
       "        <tr>\n",
       "            <td>8</td>\n",
       "            <td>0.44516900085739053</td>\n",
       "            <td>-0.7809297596432287</td>\n",
       "        </tr>\n",
       "        <tr>\n",
       "            <td>10</td>\n",
       "            <td>0.5233252282489422</td>\n",
       "            <td>-0.8801320235439563</td>\n",
       "        </tr>\n",
       "        <tr>\n",
       "            <td>9</td>\n",
       "            <td>0.639263696220022</td>\n",
       "            <td>-0.7619058660693274</td>\n",
       "        </tr>\n",
       "        <tr>\n",
       "            <td>7</td>\n",
       "            <td>0.5702907600636768</td>\n",
       "            <td>-0.8838589477665888</td>\n",
       "        </tr>\n",
       "        <tr>\n",
       "            <td>1</td>\n",
       "            <td>0.3210692035320335</td>\n",
       "            <td>-0.8346751638651995</td>\n",
       "        </tr>\n",
       "        <tr>\n",
       "            <td>5</td>\n",
       "            <td>0.5170544059409743</td>\n",
       "            <td>-0.8421302590480964</td>\n",
       "        </tr>\n",
       "        <tr>\n",
       "            <td>4</td>\n",
       "            <td>0.4054796608916149</td>\n",
       "            <td>-0.6334188848836144</td>\n",
       "        </tr>\n",
       "        <tr>\n",
       "            <td>2</td>\n",
       "            <td>0.44439125775232924</td>\n",
       "            <td>-0.7182056946615631</td>\n",
       "        </tr>\n",
       "        <tr>\n",
       "            <td>6</td>\n",
       "            <td>0.4328597837576069</td>\n",
       "            <td>-0.6142212669793095</td>\n",
       "        </tr>\n",
       "        <tr>\n",
       "            <td>3</td>\n",
       "            <td>0.921604479447378</td>\n",
       "            <td>-0.9802933954102797</td>\n",
       "        </tr>\n",
       "    </tbody>\n",
       "</table>"
      ],
      "text/plain": [
       "[(8, 0.44516900085739053, -0.7809297596432287),\n",
       " (10, 0.5233252282489422, -0.8801320235439563),\n",
       " (9, 0.639263696220022, -0.7619058660693274),\n",
       " (7, 0.5702907600636768, -0.8838589477665888),\n",
       " (1, 0.3210692035320335, -0.8346751638651995),\n",
       " (5, 0.5170544059409743, -0.8421302590480964),\n",
       " (4, 0.4054796608916149, -0.6334188848836144),\n",
       " (2, 0.44439125775232924, -0.7182056946615631),\n",
       " (6, 0.4328597837576069, -0.6142212669793095),\n",
       " (3, 0.921604479447378, -0.9802933954102797)]"
      ]
     },
     "execution_count": 33,
     "metadata": {},
     "output_type": "execute_result"
    }
   ],
   "source": [
    "%sql postgresql://localhost/lwreg_experiments_demo \\\n",
    "  select molregno,max(q::float),min(q::float) from experiments.data,\\\n",
    "    jsonb_array_elements(data->'atomic_charges') with ordinality arr(q,idx) \\\n",
    "    where expt_uid=:qm_expt_uid group by molregno;"
   ]
  },
  {
   "cell_type": "markdown",
   "id": "c1d88bd5",
   "metadata": {},
   "source": [
    "Extract the arrays directly"
   ]
  },
  {
   "cell_type": "code",
   "execution_count": 34,
   "id": "55337942",
   "metadata": {},
   "outputs": [
    {
     "name": "stdout",
     "output_type": "stream",
     "text": [
      "10 rows affected.\n"
     ]
    },
    {
     "data": {
      "text/plain": [
       "[-0.06590088904479785,\n",
       " 0.23134220701194863,\n",
       " -0.617167913893411,\n",
       " 0.18179706474711566,\n",
       " 0.2714988653046362,\n",
       " -0.04561805405865016,\n",
       " -0.02377397464984199,\n",
       " 0.006780304737958431,\n",
       " 0.16562310168241012,\n",
       " -0.0956823291079445,\n",
       " 0.30881714862022136,\n",
       " -0.8346751638651995,\n",
       " 0.3210692035320335,\n",
       " -0.00012562265862925415,\n",
       " 0.022327371755636705,\n",
       " 0.012741876709696953,\n",
       " 0.011127053863674519,\n",
       " 0.0055389123162967735,\n",
       " -0.0029148426838219166,\n",
       " 0.0016839440904732328,\n",
       " 0.018231994036113974,\n",
       " 0.00093978809309192,\n",
       " -0.01483513651692192,\n",
       " 0.016241420173173537,\n",
       " 0.007952465448852308,\n",
       " 0.002643726173118921,\n",
       " 0.009555949809282538,\n",
       " 0.007053282872220734,\n",
       " 0.017700073436571984,\n",
       " 0.031014579857696845,\n",
       " 0.019368644631867937,\n",
       " 0.029644786513017607]"
      ]
     },
     "execution_count": 34,
     "metadata": {},
     "output_type": "execute_result"
    }
   ],
   "source": [
    "d = %sql postgresql://localhost/lwreg_experiments_demo \\\n",
    "  select molregno,data->'atomic_charges' \\\n",
    "    from experiments.data where expt_uid=:qm_expt_uid;\n",
    "d[0][1]"
   ]
  },
  {
   "cell_type": "markdown",
   "id": "52cf68c2",
   "metadata": {},
   "source": [
    "Note that the above is a string, *not* a list"
   ]
  },
  {
   "cell_type": "code",
   "execution_count": 35,
   "id": "d24cf2df",
   "metadata": {},
   "outputs": [],
   "source": [
    "import matplotlib.pyplot as plt\n",
    "%matplotlib inline\n",
    "plt.style.use('tableau-colorblind10')\n"
   ]
  },
  {
   "cell_type": "markdown",
   "id": "b5a8a5bf",
   "metadata": {},
   "source": [
    "Plot C-C overlap population vs distance for these molecules"
   ]
  },
  {
   "cell_type": "code",
   "execution_count": 36,
   "id": "e71c2c2a",
   "metadata": {},
   "outputs": [
    {
     "name": "stdout",
     "output_type": "stream",
     "text": [
      "10 rows affected.\n"
     ]
    }
   ],
   "source": [
    "import ast\n",
    "\n",
    "rows = %sql postgresql://localhost/lwreg_experiments_demo \\\n",
    "    select molregno,data->>'mulliken_overlap_pops' from experiments.data \\\n",
    "    where experiments.data.expt_uid=:qm_expt_uid limit 10;\n",
    "cc_mops = []\n",
    "cc_dists = []\n",
    "cc_bos = []\n",
    "for mrn,mops in rows:\n",
    "    mops = ast.literal_eval(mops)\n",
    "    mol = None\n",
    "    for tpl in m3ds:\n",
    "        if tpl[0]==mrn:\n",
    "            mol = tpl[1]\n",
    "            break\n",
    "    assert mol is not None\n",
    "    conf = mol.GetConformer()\n",
    "    for idx,mop in enumerate(mops):\n",
    "        bnd = mol.GetBondWithIdx(idx)\n",
    "        if bnd.GetBeginAtom().GetAtomicNum()==6 and bnd.GetEndAtom().GetAtomicNum()==6:\n",
    "            dist = (conf.GetAtomPosition(bnd.GetBeginAtomIdx())-conf.GetAtomPosition(bnd.GetEndAtomIdx())).Length()\n",
    "            cc_mops.append(mop)\n",
    "            cc_dists.append(dist)\n",
    "            cc_bos.append(bnd.GetBondType())\n",
    "    "
   ]
  },
  {
   "cell_type": "code",
   "execution_count": 37,
   "id": "95c4396f",
   "metadata": {},
   "outputs": [],
   "source": [
    "from collections import defaultdict\n",
    "cc_dists_1 = defaultdict(list)\n",
    "cc_mops_1 = defaultdict(list)\n",
    "for bo,d,mop in zip(cc_bos,cc_dists,cc_mops):\n",
    "    cc_dists_1[bo].append(d)\n",
    "    cc_mops_1[bo].append(mop)\n",
    "        "
   ]
  },
  {
   "cell_type": "code",
   "execution_count": 38,
   "id": "a37141e4",
   "metadata": {},
   "outputs": [
    {
     "data": {
      "image/png": "[encoded data removed]",
      "text/plain": [
       "<Figure size 640x480 with 1 Axes>"
      ]
     },
     "metadata": {},
     "output_type": "display_data"
    }
   ],
   "source": [
    "for k in cc_dists_1.keys():\n",
    "    plt.scatter(cc_dists_1[k],cc_mops_1[k],label=str(k))\n",
    "plt.legend()\n",
    "plt.xlabel('C-C distance ($\\AA$)')\n",
    "plt.ylabel('Mulliken overlap population');"
   ]
  },
  {
   "cell_type": "code",
   "execution_count": null,
   "id": "624f9f18",
   "metadata": {},
   "outputs": [],
   "source": []
  }
 ],
 "metadata": {
  "kernelspec": {
   "display_name": "Python 3 (ipykernel)",
   "language": "python",
   "name": "python3"
  },
  "language_info": {
   "codemirror_mode": {
    "name": "ipython",
    "version": 3
   },
   "file_extension": ".py",
   "mimetype": "text/x-python",
   "name": "python",
   "nbconvert_exporter": "python",
   "pygments_lexer": "ipython3",
   "version": "3.11.3"
  },
  "varInspector": {
   "cols": {
    "lenName": 16,
    "lenType": 16,
    "lenVar": 40
   },
   "kernels_config": {
    "python": {
     "delete_cmd_postfix": "",
     "delete_cmd_prefix": "del ",
     "library": "var_list.py",
     "varRefreshCmd": "print(var_dic_list())"
    },
    "r": {
     "delete_cmd_postfix": ") ",
     "delete_cmd_prefix": "rm(",
     "library": "var_list.r",
     "varRefreshCmd": "cat(var_dic_list()) "
    }
   },
   "types_to_exclude": [
    "module",
    "function",
    "builtin_function_or_method",
    "instance",
    "_Feature"
   ],
   "window_display": false
  }
 },
 "nbformat": 4,
 "nbformat_minor": 5
}
