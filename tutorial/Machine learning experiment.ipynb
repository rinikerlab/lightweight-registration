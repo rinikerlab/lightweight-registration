{
 "cells": [
  {
   "cell_type": "markdown",
   "id": "6610d338",
   "metadata": {},
   "source": [
    "This tutorial shows how to use lwreg together with machine learning experiments.\n",
    "\n",
    "We use the registration system itself to track the compounds that have been used and a set of additional tables to track the experiments we run and their results. The primary goal is to show how little additional code is required to use the database to track results along with some of the benefits of having compounds + results in one place.\n",
    "\n",
    "Some notes:\n",
    "\n",
    "- The tutorial uses PostgreSQL. Everything here will work with sqlite, but some of the specifics of the code for interacting with the experiments tables will need to be updated.\n",
    "- This is a tutorial, it isn't intended to be a production-quality framework for building and validating models. In the interests of having this be useful as a learning tool we skip a lot of complexity which would make this more efficient for use at scale."
   ]
  },
  {
   "cell_type": "code",
   "execution_count": 2,
   "id": "283fd25f",
   "metadata": {},
   "outputs": [],
   "source": [
    "from rdkit import Chem\n",
    "from rdkit.Chem.MolStandardize import rdMolStandardize\n",
    "from rdkit.Chem.Draw import IPythonConsole\n",
    "import lwreg\n",
    "from lwreg import utils,standardization_lib\n",
    "import pandas as pd\n",
    "import numpy as np\n",
    "import rdkit\n",
    "from rdkit.Chem import PandasTools\n",
    "PandasTools.RenderImagesInAllDataFrames(images=True)\n",
    "\n",
    "from rdkit.Chem import Draw\n",
    "\n",
    "# This notebook uses the intake library (and the RDKit support for it) to read the initial data sets.\n",
    "# You can find the library, along with installation instructions, here:\n",
    "# https://github.com/greglandrum/intake-rdkit\n",
    "import intake\n",
    "\n",
    "import json\n",
    "import uuid\n",
    "from datetime import datetime\n",
    "\n",
    "\n",
    "\n",
    "from rdkit import RDLogger\n",
    "RDLogger.DisableLog('rdApp.info')"
   ]
  },
  {
   "cell_type": "markdown",
   "id": "2bbd2fe6",
   "metadata": {},
   "source": [
    "# Set up the compound database"
   ]
  },
  {
   "cell_type": "code",
   "execution_count": 3,
   "id": "9936aa94",
   "metadata": {},
   "outputs": [],
   "source": [
    "config = utils.defaultConfig()\n",
    "config['dbtype'] = 'postgresql'\n",
    "config['dbname'] = 'lwreg_ml_tutorial'\n",
    "\n",
    "# We standardize molecules by selecting the largest fragment and then neutralizing that;\n",
    "config['standardization'] = standardization_lib.ChargeParent()"
   ]
  },
  {
   "cell_type": "markdown",
   "id": "20559365",
   "metadata": {},
   "source": [
    "The next command should only be run at the beginning of a project since it will destroy all existing registration information."
   ]
  },
  {
   "cell_type": "markdown",
   "id": "e8ca045c",
   "metadata": {},
   "source": [
    "Note that this will generate an error if the `lwreg_ml_tutorial` database doesn't already exist. You need to create it from the command line with `createdb lwreg_ml_tutorial`."
   ]
  },
  {
   "cell_type": "code",
   "execution_count": 4,
   "id": "e8a0e5e1",
   "metadata": {},
   "outputs": [
    {
     "name": "stdout",
     "output_type": "stream",
     "text": [
      "This will destroy any existing information in the registration database.\n"
     ]
    },
    {
     "name": "stdin",
     "output_type": "stream",
     "text": [
      "  are you sure? [yes/no]:  yes\n"
     ]
    }
   ],
   "source": [
    "lwreg.initdb(config=config)\n",
    "lwreg.set_default_config(config)"
   ]
  },
  {
   "cell_type": "markdown",
   "id": "7999b230",
   "metadata": {},
   "source": [
    "# Set up the experiments database"
   ]
  },
  {
   "cell_type": "code",
   "execution_count": 5,
   "id": "73465178",
   "metadata": {},
   "outputs": [
    {
     "name": "stdin",
     "output_type": "stream",
     "text": [
      "Executing this will destroy data. Do you want to continue? [yes/no] yes\n"
     ]
    },
    {
     "name": "stdout",
     "output_type": "stream",
     "text": [
      "experiments schema reset\n"
     ]
    }
   ],
   "source": [
    "resp = input(\"Executing this will destroy data. Do you want to continue? [yes/no]\")\n",
    "\n",
    "if resp=='yes':\n",
    "    conn = utils.connect(config)\n",
    "    curs = conn.cursor()\n",
    "    curs.execute('create schema if not exists experiments')\n",
    "    curs.execute('drop table if exists experiments.metadata')\n",
    "    curs.execute('create table experiments.metadata (expt_uid text primary key,metadata jsonb)')\n",
    "    curs.execute('drop table if exists experiments.data_sets')\n",
    "    curs.execute('create table experiments.data_sets (ds_uid text not null,molregnos integer array,metadata jsonb)')\n",
    "    curs.execute('drop table if exists experiments.results')\n",
    "    curs.execute('create table experiments.results (expt_uid text not null, ds_uid text not null,\\\n",
    "      split text,confusion_matrix float[2][2], accuracy float,kappa float,mcc float,auroc float,auprc float,\\\n",
    "      ef5 float,ef10 float,data jsonb,result_id serial primary key)')\n",
    "    conn.commit()\n",
    "    print('experiments schema reset')\n",
    "else:\n",
    "    print('cancelled')"
   ]
  },
  {
   "cell_type": "markdown",
   "id": "695a8770",
   "metadata": {},
   "source": [
    "# Read in a couple of data sets"
   ]
  },
  {
   "cell_type": "markdown",
   "id": "32e84c1b",
   "metadata": {},
   "source": [
    "Open the data catalog from the SIMPD paper and read one of the sets of compounds:"
   ]
  },
  {
   "cell_type": "code",
   "execution_count": 7,
   "id": "0da90e2d",
   "metadata": {},
   "outputs": [
    {
     "data": {
      "text/plain": [
       "{'url': 'https://www.ebi.ac.uk/chembl/target_report_card/CHEMBL1871/',\n",
       " 'source': 'ChEMBL_32',\n",
       " 'organism': 'Homo sapiens',\n",
       " 'assay_organism': 'Homo sapiens',\n",
       " 'assay_bao_format': 'BAO_0000219',\n",
       " 'activity_type': 'Ki',\n",
       " 'min pchembl_value': 5.21,\n",
       " 'max pchembl_value': 9.7,\n",
       " 'median pchembl_value': 7.58,\n",
       " 'is_log_data': True,\n",
       " 'activity bin': 7.800000000000001,\n",
       " 'Compounds': 347,\n",
       " 'Num Active': 142,\n",
       " 'Num Inactive': 205,\n",
       " 'catalog_dir': 'https://raw.githubusercontent.com/rinikerlab/molecular_time_series/JChemInf_publication/datasets'}"
      ]
     },
     "execution_count": 7,
     "metadata": {},
     "output_type": "execute_result"
    }
   ],
   "source": [
    "catalog = intake.open_catalog('https://raw.githubusercontent.com/rinikerlab/molecular_time_series/JChemInf_publication/datasets/chemblKi_SIMPD.yaml')\n",
    "simpd_name = 'CHEMBL1871-1'\n",
    "ds = catalog[simpd_name]\n",
    "ds.metadata"
   ]
  },
  {
   "cell_type": "code",
   "execution_count": 8,
   "id": "9dacbdcb",
   "metadata": {},
   "outputs": [
    {
     "data": {
      "text/html": [
       "<div>\n",
       "<style scoped>\n",
       "    .dataframe tbody tr th:only-of-type {\n",
       "        vertical-align: middle;\n",
       "    }\n",
       "\n",
       "    .dataframe tbody tr th {\n",
       "        vertical-align: top;\n",
       "    }\n",
       "\n",
       "    .dataframe thead th {\n",
       "        text-align: right;\n",
       "    }\n",
       "</style>\n",
       "<table border=\"1\" class=\"dataframe\">\n",
       "  <thead>\n",
       "    <tr style=\"text-align: right;\">\n",
       "      <th></th>\n",
       "      <th>mol</th>\n",
       "      <th>canonical_smiles</th>\n",
       "      <th>compound_chembl_id</th>\n",
       "      <th>pchembl_value</th>\n",
       "      <th>active</th>\n",
       "      <th>split</th>\n",
       "    </tr>\n",
       "  </thead>\n",
       "  <tbody>\n",
       "    <tr>\n",
       "      <th>0</th>\n",
       "      <td style=\"text-align: center;\"><div style=\"width: 200px; height: 200px\" data-content=\"rdkit/molecule\"><img src=\"data:image/png;base64,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\" alt=\"Mol\"/></div></td>\n",
       "      <td>O=c1cc(C(F)(F)F)c2c(ccc3c2oc(=O)c2cccc(O)c23)[...</td>\n",
       "      <td>CHEMBL257751</td>\n",
       "      <td>8.52</td>\n",
       "      <td>1</td>\n",
       "      <td>test</td>\n",
       "    </tr>\n",
       "    <tr>\n",
       "      <th>1</th>\n",
       "      <td style=\"text-align: center;\"><div style=\"width: 200px; height: 200px\" data-content=\"rdkit/molecule\"><img src=\"data:image/png;base64,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\" alt=\"Mol\"/></div></td>\n",
       "      <td>Cc1c(N2C(=O)[C@@H]3C[C@H](O)CN3S2(=O)=O)ccc(C#...</td>\n",
       "      <td>CHEMBL391769</td>\n",
       "      <td>7.36</td>\n",
       "      <td>0</td>\n",
       "      <td>train</td>\n",
       "    </tr>\n",
       "    <tr>\n",
       "      <th>2</th>\n",
       "      <td style=\"text-align: center;\"><div style=\"width: 200px; height: 200px\" data-content=\"rdkit/molecule\"><img src=\"data:image/png;base64,iVBORw0KGgoAAAANSUhEUgAAAMgAAADICAIAAAAiOjnJAAAABmJLR0QA/wD/AP+gvaeTAAAa1UlEQVR4nO2de1hTR/rHvyEhIKCAUYuIbhGtltYqYKuIKCDrXerqoiIq1vpQbX2sttrYutVatMV62+1uu4KuV9SnVuul3n5VUUAEWwEvGC8VRCiiXEy4yZ35/TE0RsQQkjNJxPk8/JEDh3fewCczc+bMzBERQsDhCI2FqRPgtE64WBwmcLE4TOBicZjAxeIwgYvFYQIXi8MELhaHCVwsDhO4WBwmcLE4TOBicZjAxeIwgYvFYQIXi8MELhaHCVwsDhO4WBwmcLE4TOBicZjAxeIwgYvFYQIXi8MELhaHCVwsDhO4WBwmcLE4TOBicZjAxeIwgYvFYQIXi8MELhaHCVwsDhO4WBwmcLE4TOBicZjAxeIwgYvFYQIXi8MELhaHCVwsDhO4WBwmcLE4TOBicZjAxeIwgYvFYQIXi8MELhaHCVwsDhO4WBwmcLE4TOBicZjAxeIwgYvFYcKLJ1ZqKiZOxJAhCAnBzZumzqbVIiKEmDoHI/LHHwgIwMGDcHdHcjJCQ5GaCnt7U6fVCnnBaqzduxEWBnd3ABg4EKNG4cABU+fUOnnBxMrJwV/+8vjw5Zfxxx+my6Y184KJ5eSE+/cfH96/j86dTZdNa+YFE2viRGzfjocPASA3F4cPY+xYU+fUOpGYOgHj0rs3vvwSY8dCKgUhiI7GSy+ZOqfWyYskVkwM9u/HnDk4f97UqbR+zLQpPHr06M6dO+lrlUr13nvvCRD0559x8CDu3sWjR3BxweTJqK8XICynKcy0xsrJybn/Zy+7uro6KSnJ0IiEIC4OAPz9cf48cnORmQkLM/1ctQJemL+sQoEHD+DsjJ49ceYMAPj7mzqn1oyZ1lgAtm7dGhsbC6CmpkaAcFSmgIDHr7lYLDHfGuudd96Jj4+Pj48/dOiQAOHUMj16hJQUSCTw8REgLOcZmK9YQkII4uMBwN8fCQmoroaXF9q1M3VarRkzFUsqlVpZWdHXFhYWdnZ2BoW7cgWFhejWDa6uvB00Dmbax5o1a5b6dYcOHc4bOPLEO1hGx0zFAvDTTz9t2rSpsrKysrIyICBg1apV+sc6exYA/P1RWorUVFha8g4Wa8xXrPz8/BMnTtDXr7zyit5x6uvrR926NdHHZ6afn0VCgqS2Fj4+sLUVKE1O05hpHwuAt7e3umsllUr1jnPp0qVfrl9fnZcn7dbt0zNnhnbtGjt+vEA5cp6J+dZYvXr1kslkZWVlAGwNqGDOnDkDwN/fH0BsbGxqTg48PYVKkjWPHj1SKpVKpVKlUik1oIe//PKLv7//+vXrnZycTJ1pY8xXLGtra5lMdvfuXQBt2rTRO45aLJVKdfnyZalUOnDgQMGy1BeFQpGYmNixY8dGrjQ6rKqq0h5nz549v//++2+//WactHXHfMUC0KFDB/rCxsZGvwh1dXWJiYkA/Pz84uLi6urqBg8erHc0oYiOjp43b54udxRsbGwcHR0dHBwcNVAfnjt3buvWrSkpKSdOnBg5cqQRMtcdsxarY8eO9IXeTWFqaqpKperZs2eXLl3Wrl0LwM/PT6j09GbdunU1NTVt2rQZMWJEI1caHaoH85pkxowZbm5uS5YsmT17dnp6uoODg9HeQvMQM4aqACAqKkq/CKtXrwYQHh5OCOnbty+As2fPCppji6FNs729/b179wyJo1AoTpw4QetgALNnzxYqQ0Ewa7GSkpJo7yomJka/CLSB2LNnT1FRkYWFhbW1dUVFhbBJtpSAgAAAX375JSGkqKhIvyBXr16lfdC8vLwbN27Qv9KxY8cEzdQgzFqs4uJiFxcXAAcPHtTj12tqatq2bQvg3XffpVVXQECA4Em2CHoLwd7eXqlUHj161M7OLjIyUr9Qo0ePBjBu3DhCyDfffAPA2dn54cOHguarP2YtFiGkT58+AE6fPt3SXywuLl6yZAltSUUiER0Ji4iIYJGk7gwfPhzA8uXLCSE+Pj4A1q1bp1+o3NxcR0dHADt37lQ3iLNmzRIyXQMwd7ECAgIkEkliYqLuv5KYmBgWFqa+9GvXrl379u3p6xMnTrBLtVmSk5NpPkVFRfSmQocOHUpLS/UOuHXrVgAODg45OTnqBvHo0aMC5qw3DMW6cuXK/v37P/nkk+PHj+v955s8eXKbNm0uXrzY7JkqlSoqKqpfv37qWiowMHDv3r1VVVUlJSW05vvrX/9aW1urXyaGM2rUKABLly4lhPj6+gJYvXq1gTHHjx8PYOzYseTPax0zaRCFF6uiomLv3r2BgYHQGNgUi8VeXl5yufzw4cPFxcW6R1uxYoWtrW16erqWcy5evBgeHq4eknjppZfkcvnt27c1z7lz5w4dvPj444/1fGOGkZKSIhKJbG1t8/PzT506BUAmk5WUlBgYVt0g7tixo66ujvo6c+ZMQXI2BCHFunLlyrx589SjKfb29m+++SYACwsLsVisHuCQSqW+vr7Lli07c+ZMs9dosbGxbdu2/f3335/+Ea2i6CACLUVdRTUZKiEhgQ4L6T14YQjjxo0DIJfLCSFDhw4FsGrVKkEib9u2jf61c3Jybt68ST/MBw4cECS43ggglmYVRfHy8oqKiiorKyOE0JVbTk5Ou3fvlsvlPj4+lpaW6jMlEgmtyU6ePNmkZAUFBfb29tnZ2Zrf1KWKahLaKbG0tIyNjTX8jetOWloara4ePHhw7tw52jFSKpVCxf/b3/4GYMyYMYSQdevWAejcubPeYxmCYJBYCoVCLpfLZDJ1Nzk8PDwtLU3znOrqanoD2NPTs7y8nBBSWlp68uRJuVzu5eVlobEAq02bNj4+PlSyyspKdYS2bds+ePCAPLuKqq6u1j3nhQsX0l7znTt5hrz3FkH/8YsWLSKEDBs2DMCKFSsEjH/v3j16gbJt27a6urohQ4YAmDFjhoBFtBR9xNJeRT1NYWFhjx49AEycOLG+vl7zRyUlJU1KZmNjExgYuHz58pMnT7q7u8fFxelXRT1NXV3duHFBQ4cee+01olLpEaDFpKen07HZ3Nxc9TiW4P3rHTt20MjZ2dkZGRl0xtFPP/0kbCm60zKxdKmimuT69eu076Xlk5qfn//jjz++//777nT/qj/RnPw+fPjwffv2taiKehqVqtbdnQBkzBhihGvE4OBgAAsWLCB/jmMtW7aMRUETJkygV7719fUbNmxg2iDGl8ZrP0EnsVpaRTXJ0aNHxWKxSCS6oMMw+oMHD/bu3Tt//nx3d3dbW1tra2u5XJ6RkaF7cdq5c4d07EgAsmiRUCGbRqFQWFhYWFlZ/fHHH5rjWCzKysvLow3ili1b6urq6CXC9OnTBQl+RHVk2K1hA28MnJs9t7Su1PWqq/bzmxErNjZWLperBxh1r6KaZP26db8MG0ZsbcmFCzr+ys2bNwG88sor+pWohYQEIpUSgERHCx77MSEhIQDmzZtH/rwJ89lnn7ErLiYmRt0gZmZm0gZx//79Boa9WH6x17VeWVVZhJB9yn13qu4YJNbUqVPVVdSgQYO2bdv26NEjA1Mk4eEEIJ07k5wcXU7Pz88H0LFjR0PLbYotWwhALC3JmTMswpNbt26JxWJLS8usrCzNcSwmhf0JbRADAwPr6+v/9a9/0UtyHevImvqagpqCW5W3LpRdOFF8Ys/DPf8t+G9SWdKCnAXf53+veaZBYolEIgBvv/321atXdUlLJ6qrib8/AYinJykv1+H0apFIJJFIGvX6heLDDwlAZDKi15VAM0ybNg3AnDlzCCFBQUEAPvnkE+GLeZL8/Hw6FPy///1P3SCOHz8+KSnp2LFju3bt+s9//hMREfHRRx+9884748eP9/Pzm3x6crer3dpeaosUPP31We5nkzInHVEd0SzFILFodzs3N1eAt6tJYSHp0YMA5O9/JzroQutzQ+6paaG2lowcSQDSpw9pSY+xeW7fvi2RSCwtLTMzM+k4lo2NDR03Yc2uXbsA9O7du7a29vbt21ZWVurrrSYZ+tNQ6pA4Vdzhcoee6T3fuvHWiN9HTM6cPOfunEOqQ/Nz5kcXPNFjaFYsbTNInZycVCpVSUmJs7OzltNajEyGw4fh7Y19+7BqFf7xD+2nOzo6lpWVKZVKQ9dDN4VYjL174eOD0aMh7IzllStX1tbWzp4929XVdeLEiYSQuXPndurUScgynsHUqVMLCwunTZsmFoulUikhpKSkpH///h07dmxynqqsp8y+o72j2LGtuG2TAduL28/LmTfBYYJMIiuuK7ax0OEvpUU6b29vAOfPnzf4I9QUx48TsZiIRGTPHu0nvvHGGwAuX77MJA1CCCF0zH/mTPLttw3fiYgghrzvjIwMiUQiFotv3bqlOY4lQK4t5IMPPgAQEhJiYJxthdu8b3gPuTkk4FZAVlXW4JuDtZ+vrcaidzeVSmXLPzM6MHIkVq/GokWYPRt+fnj2Aia2aQAArK0B4MYNJCdj7Fi4uiI7G8XFjU9TqaBUNnypVCgt3VtQcPfppTVKpfLhw4disXjMmDE9e/ZMS0vz8fHx8PAQuOLXgby8vC1btohEok8//dTAUGGysDBZmPow4ZUE7eebTiwAH3+MzEz4+mqxCgDt6jEVS83y5Xj/fRw/3nA4ahQKCho0UirR6CEebm4xGRk/PyuUSCS6detWdXW1h4dHfHx8dXU1y8SbZvXq1RUVFcHBwXTWkDExqVgAvvsOACor8cUXoPtB+vri88+hsTrFGGn8SUAA9u/H/v0Nh7/9hqKixz91cICjIxwdG164uo4WiXo3uczGysqqf//+169fj4iIiIiIgGGLufXjwYMHmzZtEolES5cuNXLRML1YlE8+Qdu2DVt3fPwx/vEPrFnTKA2VSsU8DQDAhg0YORIeHgBw8CCsrRtkcnSESNTo3Dla4mzbts3X1zcyMjIoKIhOHzIya9asefTo0YQJE9S37Y2Jtr0bjCfWDz9g2TKIRBCJsHIlYmJMkwYAwMUFM2c2VFqDB6N/f7i5oX37p61qBm9v7w8//LC2tjYsLKyyspJFqlooLCyMiooCYHjvSj+0iWWkzk15OSwtH7d9Njaor4dGj8RoYjk7g85H/PBDvPWWAKMPX331lbu7O20QDU+vRaxdu7asrCwoKKh///5GLroBLVeMBw4cAPD2228beKXaPJ06EfUErPJy0rmz5g/p/a/Q0FB25RcXk4kTiYD3F9QkJSWJxWKJRPLrr78KH/0ZFBYW0nVvxiy0EebRFE6ahK+/pprjyy8RGmrkNJYuxf79mDtX+MgDBw5cuHChkRvEDRs2lJaWjh492iR9uwa0SHf58mUAb7zxBnO9y8vJggXE15cMHkwWLyZPzlGmu3p4e3szKvzXX4lYTCQSkprKJH5lZeVrr70GYMmSJUwKeBKlUkn7MOfOnTNCcc9Cm1jZ2dkAunbtyjaFRYuI1kU4CoUCQO/evVkUXlNDPDwIQJj+05OTk8VisVgsvqDzfCG9WbZsGYDhw4ezLkg72sQqLS0FYGdnx7D8HTsaZtE8Y2kNISQvLw+Ak5MTi/K//poA5OWXBb4D/TSLFy+mHw+mm0eoVCrac4iPb2aGJ2uamehHV9Q8a0GVoRQWkk6dCEC2bdNyFu2aWFlZCV7+nTvE1pYA5P/+T/DYjVE3iHQFGCNWrFgBM9iigjQrFp3Zw2puWlgYAcjQoc1OnqFr5QSYZvgkw4cTgEybJmzUZ5KSkmJpaWlhYZGQkMAifmlpKd2qzuRbNZFmxaLbFd+8eVP4ks+eJSIRsbIi1683ey69fSvs7ICdOwlA2rcnRpki1YBcLgfQq1cvwT8khBC6Y7mPj4/gkfWgGbEGDBgAIDk5WeBiKytJ794EICtX6nI6bUS0L7RvEUVFRZ6egzw8Tm3ZIlRInaisrHz99dcBLF68WL8IZWVlOTk5V65ciYuLO3TokPpfU1ZWRpuXU6dOCZev/jSzVSSrMaSICNy4gddew+LFupxOVxRmZ2dTwwxn0aJFqannAwK+mjlzmCABdcTKymr79u0DBw5ct25dUFAQ3XsIQE5OTlFR0bO2uNU8bDRLYurUqXS+6HfffVdQUODt7U0XxJoe7d7RRSa7d+8WUub0dCKVEgsL0txAS11d3cmTJ4ODgy0sLGQymYWFhbu7e3h4+N69ew1Z8Hn27FmRSGRlZaVQKPQOYgj0/p1mg0irMV2wtbV1cXF5/fXXfX19g4KC6PZa5eXldG6qafdp0qSZGkvw24X19fWT5PJJXl6T+vbV8tyRe/fubd26dfPmzVlZWQAsLS1ramqkUqlCoVAoFNHR0WKx2NPT09/f38/Pz9fXV/dZy1VVVXPnziWELF269NVXXxXkTbWU5cuXHzly5OrVq59//jnde8jd3V0ikTxri1vNwyan32zcuDE/P3/AgAEjRoww+rtpGhFpNHvtSaZNm7Zr166RI0ceV09+M4yNGzfOnTvX2dn5pkJhZ2/f6Kf19fWxsbHR0dEHDx6ku1W7uLiEhoZ+8MEHAwYMyM7Ovnz58qlTp06dOpWQkKDeA10sFvfr1y8wMNDHx2fIkCH2T4XVZNmyZREREb169bp8+bL2PYmZkpaWNmDAgLq6urNnz9K9h56moqJC+SSVlZVPf1OpVN67d0+lUh0+fJjuaWMWaK/QwsPD6WmdOnUKDg7+5z//efHiRb1XYuXl5dFO2759+57+UWRkpKurKy1OLBbTDT/oPmnV1dVSqVRzaLG8vDwhISEyMjIwMFDzQ6y5fc3TV143btywsrISiUSMLvhbBJ1/J5VKQ0JC5s2bFxoaOnr06EGDBr366qtOTk4tkl4ikQD45ptvTP2eHtNMjVVTU+Pv73/16tWSkhL1N52dnWkb5O/v7+bmpvv7Dw4O3rdv36hRo44dO0a/o6WK6tq1q/oXy8rKXFxc4uPj6cKKRpSXlyclJZ07dy4xMVFzErBEIunbt29gYGBgYODgwYOtrKwGDRqUnJwsYAVsCJWVle3bt6+oqHjWCdbW1ppNYZs2bRp9R016enpISIhUKk1JSRHq+sZQdBQwIyNj+/bt4eHhmv9vAE5OTsHBwVFRUc1urEBlsrW1zczMJITcu3dPSxXViMLCwvbt22/cuLHZPIuLi3/++eePPvrI09NTc/saKysr9Y5wAwYM0PFds+bu3buhoaEhISH//ve/Y2Jijhw5kpiYqFAo8vLyNDdy0oV3332XvjUT7oWpiT7bGGVkZERFRU2fPr1Lly6aknXu3JlKdufOnUa/Ul5eTh3asGEDvdBTb7/m4uIil8sbba3WiNzc3E6dOrV0S2D1Rly0/QVgY2NDN70Vcm23eVBcXNytWzcIsa+pIBi6ox+VLDg4uNFa2+7du0+fPj0qKuru3buEkAULFlCHdKyini5FJpONHj1avyTpJN2uXbteuHBh7ty5AObPn69fKHPm1KlTdBhFwJFkvRFsD9K6urrU1NT169ePGzeu0XWZq6urSGPGuJubW2Rk5P3793UPrlAo6I6m+uVWWlrarl07AOnp6XSSmYODQ7kOO0c8d8yePRuAp6engVuIGQ6T7bhra2vT09NpTUZ7Nj169BCLxcHBwYcPH9ajE5CWlmZjY9O9e/eamhr9UqJboS5cuJAQ8tZbbwHYvn27fqHMGXWDqPcDL4SC+QMEampqzp8/f+3atRZVUY1ITk6WSqUODg43btzQL8KlS5cAyGSyioqKzZs3w2xu1grO6dOnaYNo2n6kuT+ZgkJvwgDYuXOn3kG8vLwAxMTElJWV0Zax9XXhKXT00cPDw4QNovk+E1oT2h8CkERXS+sF/XNHR0fb2tqGhoYCoFVX62P9+vXdu3dPS0tTP5fPBJjK6Bbxww8/0GyDgoL0DqLuwl+7di0tLQ3AoB496hnMizIH1A3ilStXTJLAc1Nj0RcFBQV6B7Gzs5syZQqAzZs39+vX73ZoaGJ2tujHH4VJ0cwICAh47733qqqqwsLCdHlGsOA8H2LRZR0ACgsL6+vr9Y7zwZw5x4YO/er0aVRWuvn5oboamzYJlKPZsXbtWjc3t7S0NPo0Q2NjknqypXxNl7MCHTp0yMrKMiiWlxcBSEwMKSsj7doRQPvis+ea2NhY+qxG4zeIz0eNpW4KHz58mJqaalAsOl9j0ybY2oJuC916Ky1/f/85c+ZUV1fPmDHDyA3i8yGWegpAfX19QkIze8k1w9SpaNcOcXFQKBoW1W/fjkePDM7RTFmzZo2bm9ulS5fow4uNhviLL74wZnn6oVQqa2pqPDw83nzzzQkTJnTv3l3/WFIpsrKQkgJra8yYgWPHkJmJ3r1hik2kjIBUKu3Tp8+OHTsSEhLGjBnTuXNnIxVs5KZXP3Jzc9VjfcXFxYY+kO233xo2d6+oINHRBCC+vgJkacbQLW779u1rtCHT50MsPz8/9cKHb7/9dqVui8a04elJALJrFyktbfVdeEJIeXk5fQCbsI+z08Lz0ccSHtqFj46GnV1DF76VjsJTbGxsNm3a1KVLFw+6ByZ7mlmlYz7ExcVlZGQAuHbtWqNZrPoQGorFixu68OHhyMrC8OECZGnG+Pn53b5925ruPM6e50asjIwMOkx6//59AcSys8OUKTh6FHfvYtQomMEUeCNgNKvwHIk1a9YsugzQ2tpac2WH/qxeje+/x8OHmDQJDx6gpgYeHlizRuAnn7yovKh9LACOjpBIEB6OsWMRF4fz52FnhxUrTJ1WK+H5EGvKlCnqOfWenp70IT8CUFWFX3/F9OkNh3I59u0TJvILTzPrCls5ubkYMQLp6Q2HhEAmw8OHJs2plfB81FiscHJCQcHjPeWzs/HkgjaO3rzYYonFCA7GF1+gthbl5Vi8GHO0PcWEozsvdlMIoLoakZE4cwZSKSZMQHh4i59twmmKF14sDhte7KaQwwwuFocJXCwOE7hYHCZwsThM4GJxmMDF4jCBi8VhAheLwwQuFocJXCwOE7hYHCZwsThM4GJxmMDF4jCBi8VhAheLwwQuFocJXCwOE7hYHCZwsThM4GJxmMDF4jCBi8VhAheLwwQuFocJXCwOE7hYHCZwsThM4GJxmMDF4jCBi8VhAheLwwQuFocJXCwOE7hYHCZwsThM4GJxmMDF4jCBi8VhAheLwwQuFocJXCwOE7hYHCZwsThM4GJxmMDF4jCBi8VhAheLwwQuFocJXCwOE7hYHCZwsThM4GJxmPD/xz6hGMpf09sAAAHJelRYdHJka2l0UEtMIHJka2l0IDIwMjQuMDkuNQAAeJx7v2/tPQYgEABiJgYIEANiSSBuYGRjSADSjMxsDhpAmpmFzSEDRDMzwgTYGcA0MxuEZuGA0ExsCiogA1kgBjBDDWJiQqWZGTkYFEB8hHI0YxD2oVksCNbIyAhWiKC5GRgZGJkymJiYE5hZFFhYFVjZNJhY2RnYORg4OBk4uRi4uBm4eRi4eRl4+Rj4+DWYmAUymAQEEwSFMpiEhBmEGBP4WBR42Rl4OBjYRVgYeUVZGJ1YgAazMQoJCjAzsbKy8PGys3Jy8HBzsfJw87JziAsxAq1lgIVc4oZZDqJLuA6AOPsYGhzUE7P3g9h3zRQcnMOawGz99VftF3Bl2YHYlecN7NTusoDZM3sV9t+5OBGsRnfPhL2i/Epgc3iNWA90eLmCxU0i4g74PVgJZudunnsgO70UzL55Z8EB0cOc9iB2z+SMA1NkesDsa+raB6ZE5u0FsZ+2cB/4ft8SLP69ynM/q/YSMLvX+do+TRV9BxD7k5Oow6y6k2DxSbylDl4q18DsHLOpDqeNboHduUf6qMORFDawePa+v/udZAXB7txzXfDAPCc+sDliABJ/YpEfl60eAAACOHpUWHRNT0wgcmRraXQgMjAyNC4wOS41AAB4nH1Uy47bMAy85yv0AxHEp8RDD5tku1sU6wBttv9QoMf+P0rKSKQAQu1IsOmRKM4Mc0hx/bh8//03PS68HA4plf/8zCz9olLK4SPFQzq9vn3b0vn2crpHztfP7fYzISYUX+P3M/bldv24RyCdE+dGXAjSETOoovqqXPo1lmIHRswcWLKBscACSA7ELIWILR0hF2godQFkB0JWNS7mnxGbiC5wkjaPQkXV+AxoVcoCp76fH0yxgkJkBjKEVeaaroEstWjtVQs5cFVMiz0xlwbQSqypvkZtgbRAUubKQBTZyc8hbYGEElDOhg2EOpfStKw2hZDnKLmgmgRAqMX2CyTu+dWVLOK8FmN1ByyQFNVj1spUtPMgDWxVPfBePlSzFty7BqXyCik7+bVVF97To4uuy4PqTj5D48bulEoqbXnQ2p1EhOg8QBantq4MAqES5YbNJHJrRVvvaN3EbvFmcTZGhaWY6BL9SZpBTCm6QZDddSskpPdQ2xOSM+NkoRMLKzZdjfcOcJLMe9Md7w5YFfS6XZ6adG/b03W7jLaNG0dzOpOJRgtyjNFo4ENGP4EPHW2DPuroDfDXNhoAfNhwOcSYvQx9gsmy0CecrAl9osmCe4Qnp0GfZHIUxgQ6OYejljoZJF5d/8kJHBPYJDnEhLO23COThBCZZBKqH+axLfbz0qABudPiK89f3748akfZF/oGT/HQc1Yv3u9/2P58+Ach4R8COvpKfgAAATp6VFh0U01JTEVTIHJka2l0IDIwMjQuMDkuNQAAeJwlkLtug0AQRX8lJUjr1c5zZ4IiWaJxFVepLFe06dP443MHU8DqMOdymcft+div1yfxvnzd1+/lkOM4lv13xW09ZD0xRp60PG7Pdad93/lOH6/lwp1nzGx4Mge3DYRmZrbRJ/uYCoRjzCHSqGPG/ERKoaEQp7hF2wY8dneIxDmtbdTdUwkA0VYadxFmQo5N+G2THhxpAD45ARQOCBxlJ8+2eSdLVxBjPXO1D1zZUCIp1ahQiA5p1R4B56cMja1dqA8Kfnd2nuRUjCSZTzbm8ElaqgnTPFcwglCvfhxvqwWUDJZZY+woDyRdcZCKkwoG0p4cZGc1Cx9lWh/sWXsxCcIWy3TUrT2MVH9vHaFCJQ4LSphr+/v5xEQjw2pf/1f/ZFM0avYVAAAAAElFTkSuQmCC\" alt=\"Mol\"/></div></td>\n",
       "      <td>Cc1cc(N2C(=O)[C@@H]3C4CCC(O4)[C@@H]3C2=O)ccc1Cl</td>\n",
       "      <td>CHEMBL255367</td>\n",
       "      <td>7.11</td>\n",
       "      <td>0</td>\n",
       "      <td>train</td>\n",
       "    </tr>\n",
       "    <tr>\n",
       "      <th>3</th>\n",
       "      <td style=\"text-align: center;\"><div style=\"width: 200px; height: 200px\" data-content=\"rdkit/molecule\"><img src=\"data:image/png;base64,iVBORw0KGgoAAAANSUhEUgAAAMgAAADICAIAAAAiOjnJAAAABmJLR0QA/wD/AP+gvaeTAAAZWklEQVR4nO2deVRT19bAd0IwgKAoWhDEquCASmvFKn3ggPB8ValD1frVlorFqQ7RUltQqijVFscH+voc4FWhdSgOaBygolVEWrQBAVEEUTTMUwAxAUnI+f44vpSiBXKTA/axf8vlYiX37ruBX8499wwbHiEEEETf8Ns7AeR/ExQLYQKKhTABxUKYgGIhTECxECagWAgTUCyECSgWwgQUC2ECioUwAcVCmIBiIUxAsRAmoFgIE1AshAkoFsIEFAthAoqFMAHFQpiAYiFMQLEQJqBYCBNQLIQJKBbCBBQLYQKKhTABxUKYgGIhTECxECagWAgTUCyECSgWwgQUC2ECioUwAcVCmIBiIUxAsRAmoFgIE1AshAkoFsIEFAthAoqFMAHFQpiAYiFMQLEQJqBYCBNQLIQJKBbCBBQLYQKKhTABxUKYgGIhTECxECagWAgTUCyECSgWwgQUC2ECioUwAcVCmIBiIUxAsRAmoFgIE1AshAkoFsIEFAthAoqFMAHFQpiAYiFMQLEQJnQssfLz893d3cVicUlJSXvnAlevXrWzs7Ozsztx4kR758IA0mFQqVQWFhaab7xXr16enp7BwcEJCQm1tbVtmUlBQYG3tzef//unes6cOVKptC1zYE0HEosQYmtrCwCOjo5mZmaNP11GRkZvvfXWp59+evTo0UePHrFLQKFQBAcHd+nSBQAMDQ3nzZv3+eef02RMTEwCAwPbWHF2dCyxNm/eDADe3t4qlSojIyMiIkIkEjk5OTVuPADAysrK09MzMDBQLBZXVlbq6+pisbhfv370Ep6enjk5OYSQ/fv3x8fHe3l58Xg8AOjdu3dERIS+rtiOdCyxsrKyAKB79+5KpbLx61VVVRcuXAgKCpoyZUrj2yUA8Pn8N998U8fr/vbbb2PGjKEB33jjjStXrtDXb9++bWhoaGhoKBKJzp8///rrr9Nj3Nzc0tPTdbxo+9KxxCKEODg4AMDFixebOaagoCAqKkokEg0dOpS6VV1dze1yBQUFixYtoi1ijx49QkJCVCqV5t3S0tKFCxfSd62srA4cOHDw4MGePXsCgEAgWLRoUVlZGbfrtjsdTqyAgAAAWLZsWYtHpqWlmZubA8CUKVM4XEgulwcHB9P+U6dOnUQi0Z/ZmZKS4urqStsqJyen2NhYkUgkEAho49rExb8KHU4siUQCADY2Nmq1upnDcnJyLC0tAWDu3LkNDQ1aXUKtVkdFRfXt21fTnbp//36LZ4nF4j59+gAAj8fz8vJKSEj4xz/+obl7JiQkaJVDu9PhxCKE0B50UlLSnx1QUFBAj/Hw8Hj69KlWwaOiolxcXDTNz9WrV1t/rlwuDwwMNDIyAoDOnTsHBgaeOHGCCsrj8WbPnn3nzh2tkmlHOqJYK1euBAA/P78XvltdXT18+HAAGDVqVE1NjVaRz58/T5WytrY+ePCgtk0dJScnZ/bs2TTOwIEDT548uX79emNjYwAwMDC4desWh5htT/uI1dDQsGzZMnt7e39//9jYWD0+0reGK1euAIC9vf3zbykUirFjxwLAkCFDKioqtI389ttvA0Dfvn2fPHmiY5IxMTGDBg2iek2bNk0ikfTo0QMAJk6cyDFiZSX55BOyfDn5+GPCcqyO0j5irVix4o/j/9C/f38vL6+QkJCEhARt7z7a0tDQYGVlBQBNPv0qlWrmzJm0B/bw4UMOkdeuXQsAmzdvDg8PDw4O1vGZrr6+PiQkpGvXrn369JHL5Rs3bgSA9evXcwzn50euXyeEEKmUfPCBLom1hnYQa/fu3XTcedasWb6+vi4uLrRXocHU1HT8+PH+/v6nTp0qKipikcOCBQsAYOPGjZpX1Go1fdHCwoJzV2bNmjUA8PXXX9NBDb10iYqKim7cuEEICQwMBIDAwECOgaZMIZrnlUmTdE+seQTQthw6dGjlypU8Hm/fvn0DBw6k/VyVSpWVlZWYmHjt2rXk5OTMzMwrV67QGxYA9OrVy8nJydXV1dnZefjw4V27dtU9jRkzZoSHh0dHR69fv56+snbt2vDwcBMTk9OnT1MtOKBWqwGAz+drvtA9VSsrK9q+EkJ0itm9O5SVwSuvQH096COxFmBtbmPOnj1raGgIADt37vzoo48EAsH333///GGlpaVnzpwJCAhwd3en02oaDAwMDh06pHsmdXV1NDIdCPj2228BwNDQ8Pz587qE/eKLLwBgy5YtAwcOBICsrCzdU9Wwbt06AAgKCuJ4fnIymTOH/Pgj8fEhZ88SQgibuwGl7cRKSkrq3LkzAHz55ZefffYZAJiZmUkkkubPamhouHXrVnh4uI+PDx2StrW11Us+77//PgDs2LHj8OHDfD6fx+MdOHBAx5irV68GgG3bttnb2wPAvXv39JHpM+jQ7qZNm7iHqKggV6+SwkJSUkLc3Ej//qSuTn8J/oE2Wo91586dyZMny+XyhQsXmpmZ7dixo1OnTseOHXNycmr+RD6fP2zYMB8fn/Dw8MzMTGNj44KCgqKiIt1TmjFjBgAcOHBg/vz5arV6+/bt3t7eOsYkhAAAj8fTfKFzmi8Izj1E9+4waBAEBkJMDFRUwIMHEBqqt/z+SFuIlZ+fP2nSJJlMNnXqVBcXF39/fz6f//3332tGllskLS1t9uzZW7du/fvf/65Wq8Vise5ZTZo0ycjIKCMj4+nTp35+fr6+vrrHZNHHej64TlHi4iAsDNauhW++AQDYtAmKi/WRXVNayNIrM3OrVLpVKlVzvUBFRcXEiROlUum4ceO8vb0XLFhACNm5c+d7773X+iAqler48eM//PDD9OnTASA6OpprOr9jamo6evTofv36TZ069Rv6U9aZl73FAoC5c8HFBQoLISkJ3nkHamogMFDbGDU1NRcuXGjhoObvlKtzcnS50crl8r/97W8A4OjoGBcXR/tY3EZi6BxLbGysQCAwNDSUyWS6JEYIUavVdMjxwYMHOobSIBKJACA0NJTO+ul3zeDnn38OAFu3btU10K+/Eh6PGBuTy5eJUFj3nqtCntbKUxsaGiIiIqysrIyMjHJzc5s5soUWK6u2NlgqPVxScvPJk0+ys/9dWHi1ulqmUrXGa6VSOWvWrF9++aV///67du2aM2eOXC5ftGgRHejTlmnTpgHAzz//PHbsWKVSee7cOQ5BGnPv3r3y8vJevXppFt/pDnn5WywAcHaG//s/qK1tuHii/Fe/jC+u5eV/2prz4uPjR44cOW/evOLi4hEjRtTW1jZzcAtiDTI29u/TZ66l5c2amt9qar4rKvLNyZmYljY9I2Ndbu6PpaW3i4uVSuXzJxJCFi5cGBMT07Nnz++++27evHkymWzatGn0wZ4DtK998uRJ+oXud8OkpCQAcHZ21jFOY/4CfSxKcHB5qFvq9H8L7V0Fgh41NT9XVZ1u5vC8vLyPPvrIzc3t5s2bdI3rtWvXmh/ta+0A6bs9e9obG9+Sy9Pl8ky5PP/p0/ynT2NkMpsLF2ICA1977TUXFxcnJycnJye6OG716tURERFdunQ5evTokiVLpFLp+PHjjx49SpcZccDV1dXKyionJ8fBwYHH48XGxsrlcnpv5cb169cBYPTo0ZwjPM9fo8UCgD596me5QtHl/Pw11taBUumK/PzPunZ9m8cTNjmwoeGxVLpl9Oj9ZWXlpqam/v7+vr6+dEa8eVr4Na+2taVfmAsEY83Nx5qbA4CakPt1dbeePLkllyfdvq1SqZKTk5OTk+mR1tbWPXv2TEtLEwqFR48eXbdu3d27dx0dHaOjo5tM3WgFn89/5513wsLCEhMTR40adf369QsXLtDWixtULP22WJrf/cveYgFYWflXVBxUKJL5/BVGRkPq6u6Ulv7b0rLxPVFdUfFDQcEXSmXJokXjCwr6bt682draurUX0KET+IzHjx8nJCQEBwd7enpqltV26dIlPDz8n//8JwDY2dnpZcqPLkoZPnx4cHAwAHh5eXEOpVAoDA0NDQwMtF0Y0zyLFy8GgL1799JFgsXFxXoMrnky0FfA8vKDEgmkpdlUVZ16+HBBff3v2T5+/PPt269LJCCRQGbm6CdPftE2uB7mCs3MzFxdXV1dXekKp+zs7A8//JAOqa9cubKmpmbu3Ll0tktHPDw8zM3NU1NTt2/fDgBnzpypr6/v1KkTh1ASiUSpVL7xxhumpqa6J6aBMGixqqqqKisr+/Xrp/dW0MLCq6zsWz7f1NjYqXNnV7n8hpHRYABVQUFAZeUxAOjUydbaepOFhReA1vdfPQ+Q8ni8QYMG0Q9udHQ0j8dbt26dnZ2dXoIbGhpOnjwZAFJTU4cNG1ZVVRUfH88tFIueOzS6W4WHh0dFRTWZ6OQQLTIyctCgQZq2GfTcb+Pb28cOHPizoWGvBw/mqNVyuTyppGRnZeUxAwMzG5tvhg7NtrD4iINVAGwmocvKygQCgVAo5Ly55c84duwYALi4uNAZ2U8++YRbHLru6uDBg3rMTaFQODo6duvWbcSIEc2P8bSGn376iT4GAYCbm1t2dvaQIUMAwNPTU6FQ6CPf31Gr6zMz36ytzSKEKJUljx4tra/XtevCahJ63LhxAHDkyBH9hpXL5SYmJnw+n478Wlpaclv+a2NjAwB3797VV2Ll5eV0KJjemk1MTIKCgrhta87KytIsTba3tz906NCWLVto40f3/PTt2/fEiRP6ylyhSCWEKBQZUunyhw999BWWlVghISEA8N577+k98tSpUwFgz549/fv3B4DExERtI0ilUgAwNzdvfqNO68nNzR08eDD9lV+5coXztmaZTObn50fVNDU1pZspNB0JDw+PI0eOjBo1StOM6biptbY26/792RIJr6YmnhA1IeTevclqdb0uMTWwEisvL4/H45mamuq93T5w4AAATJw4kU4br169WtsIUVFRADBJT6so09PTafvn6OiYl5dHX4yPj9dqW7NSqdy3bx99pubz+V5eXnFxcbTVB4DBgwefO3eOHqlSqfbs2UO3awsEgpUrV8pkWu8YUKlkUumq5GRDiQRu3uxaVhb26NHi3Nx5RUXfEEJqaq7JZFHaxmwCw/VYdEmMWCzWb9jy8vLFixdfvHjx0qVLtOFZunRpRETE3bt3W9kC0dVgGzZs0D2Zixcv0pvUhAkTqqqqGr9Fp9Vas605Li5u2LBh1KEJEybEx8eLRCIDAwMAsLCwCAkJaVIQgBAik8noplYTkx5DhjwNCSGt3NOqVJL794+nplpIJJCcbPDo0WKlskTz7tOnj2pqfpFIeDdvdlMqy7X7WfwRhmJt2rQJAObPn88iuEqlmjZtGo/Ha/yU1KVLFxcXFz8/P7FY3MxGBroeOjY2VsccIiMj6YLYDz/88M82gGgMgBdta87MzNSsHaI7vUJCQjS1aEQiURNZm5CWlrZgwQ0AAkBGjCDXrrWQcFwccXQkc+f+IpHwsrIm0N6VhrKy/SkpxoWFX2Vnvy2RgFS6vLU/iBfBUCxagcPCwuL5D5yONN74EBkZuXXr1nfffbfJoDCPx3NwcPD29t67d29qaqrm11lfX29sbMzj8XRcHxESEkKHlEQiUYsPEI0Faryt+fTp07TRDQ4OPnHiBO01QqNaNK1BLCZ9+xKql6fni3d23blDJk16dsyAASQ398bzx9TUJEokvJQUk8ePf05ONkxONlAouO9hZLs0mXZpL126pN+wdDOMsbHxtT9+SKVSaVRUVPM7f7Zt2wYADg4OnK+uUqmWLVtG3d22bVvrTxSLxY23NdNFNaGhoXTJBs3TwcEhJiZG25TkcrJ+PTE2JgDE1JSEhpJvv3321vHjZMUKIhAQAGJuTnbsIM1srrt/f6ZEArm53o8eLZNIIOcul6IVFLZi0X12y5fr1Kg2QbPxQdOffSFKpTIjI2Pfvn1eXl5DhgxpfMcUCATGxsbcyvnV1dXRJYpCofDHH3/UNnmFQhEYGEgncU1MTHx9fX18fBp3p3Sp/5GXR7y8CADZuZNYWZHDhwkhZOZMMnUq4fOJlxcpKWkhQl3dg5QUI4mEX119oejAOPWAvoTr7hK2Yv3222/QigocrefIkSPcNj6UlpaKxeKAgIDnJ5eEQqGzs/OqVauOHDnS/D5VmUxGy1x169YtPj6e83eRl5fn5eVFPx7w31o0zXenWk9CAqmsJD4+ZMYMUllJZs4kDx6QjIzWnp6f75cTPaBe9AHZsYMAkMGDST2XAQi2YqnVarqW8jrdg6sbly5dEgqFALB9+3bOQeiw0NmzZ7Ut5/fw4UO6AsnGxiYtrbVLLpshKCgIAPr376/HJayUx4/JwoUkJYWsWkVmztTu3Ia6amJtTQDIkSNk4EACQHbt4pAD8+1fdE7e39+fEBIfH79s2bLIyMjs7Gxt49y4cYNOGP9ZMY/WUFZWxuPxOnfu3Ph5orq6Oi4u7quvvvL09KSLlTUYGBi8/vrrS5Ys2bRpEx2sGjZsmGawSkf8/f0B4Msvv9RLtMZQsQghvr5k3Djtz9+/nwAQW1sSFUUASLdupFzroQfmYl2+fBkABgwYQP7b6dYMDXh4eNCGobylvO/du/fKK6/QB3td7qp0e4+bm1szx2jK+bm4uNAGkna3BQLB2LFj9XXDIoSMHz8eAM6cOaOvgBpqa0lkJCGEVFWRb77R/vyGBuLkRADI118TDw9iakri4rSNwVwsTRHsgICAxMTELVu2TJ8+vVevXo0bBj6fP3To0I8//jgsLCw9Pb1JB7agoIA+THl6euo4ckH3fK5Zs6aVxysUioSEhO3bt9MbemhoaHp6+gcffMCh294ElUpFG+CSFnvU2lNYSDQbVhYs4BTi0iUCQLp2JbdukcJCDgHaYif0yJEjNQ5pqsqcPXv28OHDq1ateuuttzQNA8XMzGzChAl0bWBVVRWdG3F2dta9NpC7uzsAnDp1StsTjx8/TtvdsLAwAHByctIxk5s3b8KflFLSHamUaB7Ep03jGmXDBpKSQqRSsmIFEYnItm1Em/n+thCrpqbG3d19xIgRLxQoICAgOjo6ISGh8dCAsbFxfX29QqGgxTmHDh3KoVpVExoaGuigNoflrCqVio5enjx5kq4OvdbiOHez7N27FwA+YFNOSColr71Gli8ny5eT0aN1izVjxrMSD6GhRJuqGW1aFKSZsSVo9KciTp8+ffHiRZVKRZe09+7dWy9/tSE9PR0A+vXrx+30HTt2AICHhwddCjZr1ixdklm8eDkA7OL0wNUi+mmxCCFqNdEU9s3NJdqsfmvPUpHFxcWnTp1as2bN+PHjmywRNjIyoqOIPXv21Neqqf379wPA+++/z+30x48f0wbv8uXLQqHQwMBAl2ECBwdia/tAImFSbVtvYhFC3n772RcpKcTfv/XnvSw1SF/4pyIMDAx++uknfV3Cx8cHAEJCQjhHoEMnPj4+dHiTw4odSmUl4fOJkVFzsyu6UF9PNEMiuo6RrV9Pdu8mSUlk5kySmdn6814WsZpQWlq6Z88e/e5yoSt9mymW3CIPHjwwMDAQCoVxcXF0xITb2uvYWAJAXFw4J9K2XLlCIiO1LVv6koqld6qrq/l8vlAorNOtIhTd6R8UFESnjXfv3s0hyIYNBIB89pkuibzsdJS/V3j9+nW1Wv38k6m20FLe//rXv5YuXQoAoaGhdGeOlskAAOh1D/ZLR0cRS1/7vdzc3IYPH15aWlpXV2dnZ5eTk6NteRJC4MYNAAB97z17uegoYumxUgPtwu/atYuuygrVsihedjZUVIC1Nfy3esH/KO19L24LNKWwuFVvb0JdXR1dexMTE0NLOKemprZ8GiGEEKmU1NeTX38lkZGkoeH3BVKcZk1eajpEi5WTk1NeXm5pafnqq6/qHk0oFNKt3mFhYbRsaetrM7m6QmwsODuDWAxVVeDv/+z1JUt0z+vloq3rvLcLFhYWYWFhzRcK04qlS5du2bLl9OnTly5dsra2XrhwYTMHV1VBYSEUF0OfPjBqFHz3HUyYoK9EXl6eVXJCtGX+/PkHDx789NNPd+7cKZPJioqKCgsL6f9y+StZWR8XFkJRERQVgcbnjRvhzh1YsQLOnYN792DfPhgzBtzdAQASEuDmzXb8bhjQ3vfivyq0HhiPx3u+6Nerr7rT/TD0n6kpGTyYjB1L/vMfMmcOIYQsWUJGjiQVFUSzNW7q1Hb8VpjQIW6FLBgxYsSYMWPu3r1bVlbWtWtXa2trKysrGxsbKyurPn0G9OgBvXuDpSXY2EDjqoOJiQAAQUHg5gZ8PmgmSM3M2uFbYAreCnUiKyvL1tbWxMSkvRN56UCxECZ0iOEGpO1BsRAmoFgIE1AshAkoFsIEFAthAoqFMAHFQpiAYiFMQLEQJqBYCBNQLIQJKBbCBBQLYQKKhTABxUKYgGIhTECxECagWAgTUCyECSgWwgQUC2ECioUwAcVCmIBiIUxAsRAmoFgIE1AshAkoFsIEFAthAoqFMAHFQpiAYiFMQLEQJqBYCBNQLIQJKBbCBBQLYQKKhTABxUKYgGIhTECxECagWAgTUCyECSgWwgQUC2ECioUwAcVCmIBiIUxAsRAmoFgIE1AshAkoFsIEFAthAoqFMAHFQpiAYiFMQLEQJqBYCBNQLIQJKBbCBBQLYQKKhTABxUKYgGIhTECxECagWAgTUCyECSgWwgQUC2HC/wOrFDen7qMFzAAAAgF6VFh0cmRraXRQS0wgcmRraXQgMjAyNC4wOS41AAB4nHu/b+09BiAQAGImBgiQAmJZIG5gZGNIANKMzGwMCkCahc1BA0gxA+kMEM3MiMSAyHCCFTLiVgAXYHewADGAZsNlIDQ7A1gFE6MA2Cw2mBs4GMDyTDAamx3oloG1MkO9wcQEo7kZGBkYmRiYmDOYmFkSWFgzmFjZGFjZE9g5MpgYORk4uTKYuLgTuHkSeHgzmHj5FPj4GfgFGPgFOZj4hTiYeIUThEUymEREE0TFgOrFGcQlGCQkGTiYEsQ4EyTFGcR4EpxYQC5nZmFl52Bi5eIU4+Fm4xUWERXjYZYQlxR3YgT6hwEW2CoZHAfes/EcAHFyLzzfr/HdYj+IHb0x8MDDd2f3gdjiV/MOuJQ224PYcv7LDiiUrgGzLy88duC7fIkdiJ3a9vXAVnZ+sPhX/h0H/uXMAJuTpN154GbOQTC758eGffnVrWD2q+hmO71VUmB7a57dt2fTEwSzdYpZHJon+4LV/LsT7iD5rHwviL0mZqrDgvRAsPhUwf0OXyfPAovXH3vhsOiQFtjej37LHVK15oLZVleuOTyp2QBWX5YV4fDffgdYXLqP1cF/Fo8DiK080cOeV2sXWNwl2s3eY4kV2MyJF/btz9G1A4tzSPzcf5OZG6z+l9i3fdfZ34LFxQARnIKboVrs+wAAAmp6VFh0TU9MIHJka2l0IDIwMjQuMDkuNQAAeJx9VVtu2zAQ/PcpeIEQ+97lZxKnRVHEBhq3d8h/74/uSnXFoGylaEHKo33OMKdW17fz1/ef7c9F59OpNfjP3xij/WAAOL22WrSnl89fLu359vh0f/N8/X65vTWyRiO/yfsj9vF2fb2/wfbcHqgjI6ttq/BB3KDDdh3fUiGxByJItAfoTqSECyQXkju5iUIhBYhw5VN2pDN6RscO5IC2AGoBteNw1EggizPJAmgFtE7gpPU7cQisQnv71B68m5NpRVQNx1U1sYd2xVF1YyYBQaskRyGlU5iKFVIRkVdZIhQUsgy1HQpCUdP6G1oTyjo008QakKAZ+wpJ7ZKtcRnZ7UKShazD14Sogw3NmJlHAAPTClkT4s6eRXEhwUBpidSMLt0sJ7khA33EMk9rb037cIhhm09X8VghPaN7Ekkod1DO/5FmtGu6JArOkJgLD12NCEcCrXuOBba+s0csx06wVx4ooxgnPESXusC9mWFZby5w2MBVNUTbJD1YTMujisASyDvQJXjTD4iqrVpJsotSBrhUh7JTWc8KqTtyiEEyLtN0SiWvkLZzUwJMJPMMxYBV118u5w9nyX66PF0v5+N0qZuOIyQ3jY9zQuo5DoO69ZB8bpodwsZ8/JCv5DYOkUo+41BiBcJZb1IGcZKVlEGa5CNlkCeZSBmUSQ64GZ1oj5uxid64GZ9oTNubmPi6vxkTMaU800zA2ia/JqZJGaKJUlKGeOJOlU4yUQTLkE5UwDJk08gle3Y4qe6WpyOZqG9s9jt+Y3imwzz82t//LeX69At7rUh50Xk0fgAAAU16VFh0U01JTEVTIHJka2l0IDIwMjQuMDkuNQAAeJwdkT1qBTEMhK+Schf8hP4ls7xqIaRKipQhlfuc4B0+kmEL78doNB7f97ForXW8n2vR2T8/fx+/i9fx+X3c5/H8OusrxSI+b7pvensdDwYSEh99yJg8rgdBEqGNB0IwG1MxAQ7XzRSZSTYLofBBgBzYkwY0g5qIhjRxYAy2gcCSij0W4MHuhcwyiPZcGM1ypzLAbJUCp9tGRrT3YbmaqzdD5ZaVrbk5dXwldx0XQehkbsKeWiIG9GnS2RMFO5eARPk3Qkfj0l8K7mGbJcXMGJfBDJxbFaYRNq6oIpSl0pd6exlwZZl1aeYoz8shSJQ6pkQm7XVJVgqVWSV2ovQcVfn0rryKTlHfCtMabRKaOzOqmZe6H0YnhtbuirCNC02tC7RV8O6yHijRVcsrjXKcr39Hn240zsbGpQAAAABJRU5ErkJggg==\" alt=\"Mol\"/></div></td>\n",
       "      <td>CC(c1ccc(F)cc1)(c1c[nH]c2c(NS(C)(=O)=O)cccc12)...</td>\n",
       "      <td>CHEMBL1672542</td>\n",
       "      <td>6.66</td>\n",
       "      <td>0</td>\n",
       "      <td>train</td>\n",
       "    </tr>\n",
       "    <tr>\n",
       "      <th>4</th>\n",
       "      <td style=\"text-align: center;\"><div style=\"width: 200px; height: 200px\" data-content=\"rdkit/molecule\"><img src=\"data:image/png;base64,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\" alt=\"Mol\"/></div></td>\n",
       "      <td>O=c1cc(C(F)(F)F)c2cc3c(cc2[nH]1)OCC(C(F)F)N3CC...</td>\n",
       "      <td>CHEMBL256326</td>\n",
       "      <td>8.18</td>\n",
       "      <td>1</td>\n",
       "      <td>train</td>\n",
       "    </tr>\n",
       "  </tbody>\n",
       "</table>\n",
       "</div>"
      ],
      "text/plain": [
       "                                                mol  \\\n",
       "0  <rdkit.Chem.rdchem.Mol object at 0x713dbb12b300>   \n",
       "1  <rdkit.Chem.rdchem.Mol object at 0x713dbb12b370>   \n",
       "2  <rdkit.Chem.rdchem.Mol object at 0x713dbb12b3e0>   \n",
       "3  <rdkit.Chem.rdchem.Mol object at 0x713dbb12b450>   \n",
       "4  <rdkit.Chem.rdchem.Mol object at 0x713dbb12b4c0>   \n",
       "\n",
       "                                    canonical_smiles compound_chembl_id  \\\n",
       "0  O=c1cc(C(F)(F)F)c2c(ccc3c2oc(=O)c2cccc(O)c23)[...       CHEMBL257751   \n",
       "1  Cc1c(N2C(=O)[C@@H]3C[C@H](O)CN3S2(=O)=O)ccc(C#...       CHEMBL391769   \n",
       "2    Cc1cc(N2C(=O)[C@@H]3C4CCC(O4)[C@@H]3C2=O)ccc1Cl       CHEMBL255367   \n",
       "3  CC(c1ccc(F)cc1)(c1c[nH]c2c(NS(C)(=O)=O)cccc12)...      CHEMBL1672542   \n",
       "4  O=c1cc(C(F)(F)F)c2cc3c(cc2[nH]1)OCC(C(F)F)N3CC...       CHEMBL256326   \n",
       "\n",
       "   pchembl_value  active  split  \n",
       "0           8.52       1   test  \n",
       "1           7.36       0  train  \n",
       "2           7.11       0  train  \n",
       "3           6.66       0  train  \n",
       "4           8.18       1  train  "
      ]
     },
     "execution_count": 8,
     "metadata": {},
     "output_type": "execute_result"
    }
   ],
   "source": [
    "df = ds.read()\n",
    "df.head()"
   ]
  },
  {
   "cell_type": "markdown",
   "id": "931fab8f",
   "metadata": {},
   "source": [
    "Register the compounds:"
   ]
  },
  {
   "cell_type": "code",
   "execution_count": 9,
   "id": "c2017dbf",
   "metadata": {},
   "outputs": [],
   "source": [
    "mrns = lwreg.bulk_register(mols=df.mol.to_list(),fail_on_duplicate=False)"
   ]
  },
  {
   "cell_type": "markdown",
   "id": "a9711195",
   "metadata": {},
   "source": [
    "Register the dataset"
   ]
  },
  {
   "cell_type": "code",
   "execution_count": 10,
   "id": "89dbbaaa",
   "metadata": {},
   "outputs": [],
   "source": [
    "ds_uid = str(uuid.uuid4())\n",
    "cn = utils.connect(config=config)\n",
    "\n",
    "chembl_target = ds.metadata[\"url\"].split(\"/\")[-2]\n",
    "md = dict(ds.metadata)\n",
    "md['dataset_source']='SIMPD'\n",
    "md['SIMD name']=simpd_name\n",
    "md['ChEMBL target'] = chembl_target\n",
    "md['description'] = ds.description\n",
    "with cn.cursor() as curs:\n",
    "    curs.execute('insert into experiments.data_sets values (%s,%s,%s)',(ds_uid,list(mrns),json.dumps(md)))\n",
    "    cn.commit()\n"
   ]
  },
  {
   "cell_type": "markdown",
   "id": "9ac87b32",
   "metadata": {},
   "source": [
    "Register another data set, just so there's more than one set in the registration system"
   ]
  },
  {
   "cell_type": "code",
   "execution_count": 11,
   "id": "4eceeee2",
   "metadata": {},
   "outputs": [],
   "source": [
    "simpd_name = 'CHEMBL217-1'\n",
    "ds = catalog[simpd_name]\n",
    "df = ds.read()\n",
    "mrns = lwreg.bulk_register(mols=df.mol.to_list(),fail_on_duplicate=False)\n",
    "chembl_target = ds.metadata[\"url\"].split(\"/\")[-2]\n",
    "ds_uid = str(uuid.uuid4())\n",
    "cn = utils.connect(config=config)\n",
    "md = dict(ds.metadata)\n",
    "md['dataset_source']='SIMPD'\n",
    "md['SIMD name']=simpd_name\n",
    "md['ChEMBL target'] = chembl_target\n",
    "md['description'] = ds.description\n",
    "with cn.cursor() as curs:\n",
    "    curs.execute('insert into experiments.data_sets values (%s,%s,%s)',(ds_uid,list(mrns),json.dumps(md)))\n",
    "    cn.commit()\n"
   ]
  },
  {
   "cell_type": "markdown",
   "id": "80b70eb1",
   "metadata": {},
   "source": [
    "# Run some experiments"
   ]
  },
  {
   "cell_type": "code",
   "execution_count": 13,
   "id": "b3aa9aa5",
   "metadata": {},
   "outputs": [],
   "source": [
    "import sklearn\n",
    "from sklearn.metrics import confusion_matrix,accuracy_score,cohen_kappa_score,matthews_corrcoef,roc_auc_score,\\\n",
    "   roc_curve,precision_recall_curve,auc\n",
    "from sklearn.ensemble import RandomForestClassifier\n",
    "from sklearn.linear_model import LogisticRegression\n",
    "from sklearn.model_selection import train_test_split\n",
    "\n",
    "from rdkit.Chem import rdFingerprintGenerator\n",
    "from rdkit import DataStructs\n",
    "import math\n",
    "def calc_enrichment(labels_test, test_probs, pcts=(5,10)):\n",
    "    ''' function to calculate enrichment factors \n",
    "    '''\n",
    "    assert(len(labels_test)==len(test_probs))\n",
    "    ordering = list(np.argsort(test_probs))\n",
    "    ordering.reverse()\n",
    "    sorted_labels = [labels_test[x] for x in ordering]\n",
    "    nPts = len(labels_test)\n",
    "    nAct = sum(labels_test)\n",
    "    res = {}\n",
    "    for pct in pcts:\n",
    "        if not nAct:\n",
    "            val = 0.0\n",
    "        else:\n",
    "            frac = pct/100\n",
    "            nExpected = nPts/nAct * frac\n",
    "            nFound = sum(sorted_labels[:math.floor(frac*nPts)])\n",
    "            val = nFound / nExpected\n",
    "        res[f'EF{pct}'] = val\n",
    "    return res\n",
    "\n",
    "\n",
    "def run_ml_model(config,tgtIds,split='SIMPD',radius=2,method='RandomForest',**kwargs):\n",
    "    ''' build and validate models for a set of targets and save the results to the database '''\n",
    "    \n",
    "    # meta data about the ML experiment:\n",
    "    md = {\n",
    "        'Experiment Type':'Machine learning',\n",
    "        'Method': method,\n",
    "        'RDKit Version': rdkit.__version__,\n",
    "        'sklearn Version:': sklearn.__version__,\n",
    "        'Date': str(datetime.now()),\n",
    "    }\n",
    "\n",
    "    fpg = rdFingerprintGenerator.GetMorganGenerator(radius=radius,fpSize=2048)\n",
    "    md['descriptors'] = 'count fingerprint '+fpg.GetInfoString()\n",
    "\n",
    "    expt_uid = str(uuid.uuid4())\n",
    "    rfcParams = kwargs\n",
    "    md['Parameters'] = rfcParams\n",
    "\n",
    "    # register the experiment:\n",
    "    cn = utils.connect(config=config)\n",
    "    with cn.cursor() as curs:\n",
    "        curs.execute('insert into experiments.metadata values (%s,%s)',(expt_uid,json.dumps(md)))\n",
    "        cn.commit()\n",
    "\n",
    "    for tgtId in tgtIds:\n",
    "        # get the molregnos for the data set from the database:\n",
    "        with cn.cursor() as curs:\n",
    "            curs.execute(\"select ds_uid,molregnos from experiments.data_sets where metadata->>'ChEMBL target'=%s\",(tgtId,))\n",
    "            row = curs.fetchone()\n",
    "        ds_uid,mrns = row\n",
    "\n",
    "        # we need to fetch the data set to get the activitity values and split column\n",
    "        #  It's worth considering storing these in the local database too.\n",
    "        catalog = intake.open_catalog('https://raw.githubusercontent.com/rinikerlab/molecular_time_series/JChemInf_publication/datasets/chemblKi_SIMPD.yaml')\n",
    "        for k in catalog:\n",
    "            if k.startswith(tgtId):\n",
    "                ds = catalog[k]\n",
    "        df = ds.read()\n",
    "        activities = df['active'].to_list()\n",
    "        simpd_split = df['split'].to_list()\n",
    "\n",
    "\n",
    "        # Get the mol blocks for the molregnos in this data set and convert them to RDKit molecules:\n",
    "        molblocks = lwreg.retrieve(ids=mrns)\n",
    "        mols = [Chem.MolFromMolBlock(molblocks[mrn][0]) for mrn in mrns]\n",
    "        \n",
    "        # generate fingerprints:\n",
    "        ofps = fpg.GetCountFingerprints(mols,numThreads=4)  # this function is available in RDKit versions >= 2023.09.3\n",
    "        # convert those to numpy vectors so that model building is faster:\n",
    "        fps = []\n",
    "        for i,fp in enumerate(ofps):\n",
    "            z = np.zeros(fp.GetLength(),int)\n",
    "            DataStructs.ConvertToNumpyArray(fp,z)\n",
    "            fps.append(z)    \n",
    "\n",
    "        # split the data into training and test sets:\n",
    "        if split=='SIMPD':\n",
    "            train_fps = [fp for fp,which in zip(fps,simpd_split) if which=='train']\n",
    "            test_fps = [fp for fp,which in zip(fps,simpd_split) if which=='test']\n",
    "            train_acts = [act for act,which in zip(activities,simpd_split) if which=='train']\n",
    "            test_acts = [act for act,which in zip(activities,simpd_split) if which=='test']\n",
    "        elif split=='random':\n",
    "            train_fps,test_fps,train_acts,test_acts = train_test_split(fps,activities,test_size=0.2,\n",
    "                random_state=kwargs.get('random_state',None),stratify=activities)\n",
    "        else:\n",
    "            raise ValueError(split)\n",
    "\n",
    "        # train our selected model type:\n",
    "        if method=='RandomForest':\n",
    "            cls = RandomForestClassifier(**kwargs)\n",
    "        elif method=='LogisticRegression':\n",
    "            cls = LogisticRegression(**kwargs)\n",
    "        else:\n",
    "            raise ValueError(method)\n",
    "        cls = cls.fit(train_fps,train_acts)\n",
    "        \n",
    "        # generate predictions and predicted probabilities for the test set:\n",
    "        test_preds = cls.predict(test_fps)\n",
    "        test_probs = [x[1] for x in cls.predict_proba(test_fps)]\n",
    "\n",
    "        # calculate our validation metrics:\n",
    "        conf = confusion_matrix(test_acts,test_preds,labels=list(set(test_acts)))\n",
    "        acc = accuracy_score(test_acts,test_preds)\n",
    "        kappa = cohen_kappa_score(test_acts,test_preds)\n",
    "        mcc = matthews_corrcoef(test_acts,test_preds)\n",
    "        auroc = roc_auc_score(test_acts,test_probs)\n",
    "        precision, recall, thresholds = precision_recall_curve(test_acts,test_probs)\n",
    "        auprc = auc(recall,precision)\n",
    "        enrich = calc_enrichment(test_acts,test_probs)\n",
    "\n",
    "        mlResults = [conf.tolist(),acc,kappa,mcc,auroc,auprc,enrich['EF5'],enrich['EF10']]    \n",
    "\n",
    "        # now save the validation metrics in the database:\n",
    "        with cn.cursor() as curs:\n",
    "            expt_row = [expt_uid,ds_uid,split]+mlResults+['{}']\n",
    "            qs = ','.join(['%s']*len(expt_row))\n",
    "            curs.execute(f'insert into experiments.results values ({qs})',(expt_row))\n",
    "            cn.commit()\n",
    "    \n",
    "    "
   ]
  },
  {
   "cell_type": "code",
   "execution_count": 14,
   "id": "6cfb903e",
   "metadata": {},
   "outputs": [],
   "source": [
    "run_ml_model(config,['CHEMBL1871','CHEMBL217'],n_estimators=300,min_samples_split=4,min_samples_leaf=2,max_depth=10,\n",
    "                 random_state=0xf00d)"
   ]
  },
  {
   "cell_type": "code",
   "execution_count": 15,
   "id": "61f796dd",
   "metadata": {
    "scrolled": true
   },
   "outputs": [],
   "source": [
    "run_ml_model(config,['CHEMBL1871','CHEMBL217'],n_estimators=300,min_samples_split=4,min_samples_leaf=2,max_depth=15,\n",
    "                 random_state=0xf00d)"
   ]
  },
  {
   "cell_type": "code",
   "execution_count": 16,
   "id": "47650b2e",
   "metadata": {},
   "outputs": [],
   "source": [
    "run_ml_model(config,['CHEMBL1871','CHEMBL217'],n_estimators=300,min_samples_split=2,min_samples_leaf=1,max_depth=15,\n",
    "                 random_state=0xf00d)"
   ]
  },
  {
   "cell_type": "code",
   "execution_count": 17,
   "id": "df9258f9",
   "metadata": {},
   "outputs": [],
   "source": [
    "run_ml_model(config,['CHEMBL1871','CHEMBL217'],method='LogisticRegression',max_iter=1000)"
   ]
  },
  {
   "cell_type": "code",
   "execution_count": 18,
   "id": "aacf7901",
   "metadata": {},
   "outputs": [],
   "source": [
    "run_ml_model(config,['CHEMBL1871','CHEMBL217'],method='LogisticRegression',radius=1,max_iter=1000)"
   ]
  },
  {
   "cell_type": "code",
   "execution_count": 19,
   "id": "6acaa52b",
   "metadata": {},
   "outputs": [],
   "source": [
    "run_ml_model(config,['CHEMBL1871','CHEMBL217'],split='random',n_estimators=300,min_samples_split=4,min_samples_leaf=2,max_depth=10,\n",
    "                 random_state=0xf00d)"
   ]
  },
  {
   "cell_type": "markdown",
   "id": "357ccfa0",
   "metadata": {},
   "source": [
    "# Look at some results"
   ]
  },
  {
   "cell_type": "code",
   "execution_count": 20,
   "id": "d98793f1",
   "metadata": {},
   "outputs": [],
   "source": [
    "%load_ext sql\n",
    "%config SqlMagic.named_parameters=\"enabled\""
   ]
  },
  {
   "cell_type": "code",
   "execution_count": 21,
   "id": "9870e301",
   "metadata": {},
   "outputs": [
    {
     "data": {
      "text/html": [
       "<span style=\"None\">Connecting to &#x27;postgresql://localhost/lwreg_ml_tutorial&#x27;</span>"
      ],
      "text/plain": [
       "Connecting to 'postgresql://localhost/lwreg_ml_tutorial'"
      ]
     },
     "metadata": {},
     "output_type": "display_data"
    },
    {
     "data": {
      "text/html": [
       "<span style=\"color: green\">1 rows affected.</span>"
      ],
      "text/plain": [
       "1 rows affected."
      ]
     },
     "metadata": {},
     "output_type": "display_data"
    },
    {
     "data": {
      "text/html": [
       "<table>\n",
       "    <thead>\n",
       "        <tr>\n",
       "            <th>count</th>\n",
       "        </tr>\n",
       "    </thead>\n",
       "    <tbody>\n",
       "        <tr>\n",
       "            <td>12</td>\n",
       "        </tr>\n",
       "    </tbody>\n",
       "</table>"
      ],
      "text/plain": [
       "+-------+\n",
       "| count |\n",
       "+-------+\n",
       "|   12  |\n",
       "+-------+"
      ]
     },
     "execution_count": 21,
     "metadata": {},
     "output_type": "execute_result"
    }
   ],
   "source": [
    "%sql postgresql://localhost/lwreg_ml_tutorial \\\n",
    "  select count(*) from experiments.results;\n"
   ]
  },
  {
   "cell_type": "markdown",
   "id": "3b4fb2da",
   "metadata": {},
   "source": [
    "Look at the values in the first couple of rows of the results table."
   ]
  },
  {
   "cell_type": "code",
   "execution_count": 23,
   "id": "5a96896b",
   "metadata": {},
   "outputs": [
    {
     "data": {
      "text/html": [
       "<span style=\"None\">Running query in &#x27;postgresql://localhost/lwreg_ml_tutorial&#x27;</span>"
      ],
      "text/plain": [
       "Running query in 'postgresql://localhost/lwreg_ml_tutorial'"
      ]
     },
     "metadata": {},
     "output_type": "display_data"
    },
    {
     "data": {
      "text/html": [
       "<span style=\"color: green\">12 rows affected.</span>"
      ],
      "text/plain": [
       "12 rows affected."
      ]
     },
     "metadata": {},
     "output_type": "display_data"
    },
    {
     "name": "stdout",
     "output_type": "stream",
     "text": [
      " expt_uid: 017da6f0-6f09-4525-9d29-92ae458f0046\n",
      " ds_uid: 6a1bc7a8-695f-4bab-8a14-dd3a70927da5\n",
      " split: SIMPD\n",
      " confusion_matrix: [[111.0, 6.0], [40.0, 42.0]]\n",
      " accuracy: 0.7688442211055276\n",
      " kappa: 0.4913879319924437\n",
      " mcc: 0.5302855449423597\n",
      " auroc: 0.8343756514488222\n",
      " auprc: 0.8062228050106831\n",
      " ef5: 65.92964824120604\n",
      " ef10: 74.17085427135679\n",
      " data: {}\n",
      " result_id: 4\n",
      "-----\n",
      " expt_uid: 586c7579-4815-472f-aa1e-eb0c49bbeda7\n",
      " ds_uid: 6a1bc7a8-695f-4bab-8a14-dd3a70927da5\n",
      " split: SIMPD\n",
      " confusion_matrix: [[109.0, 8.0], [41.0, 41.0]]\n",
      " accuracy: 0.7537688442211056\n",
      " kappa: 0.4592691177286087\n",
      " mcc: 0.4931303177866551\n",
      " auroc: 0.8273921200750469\n",
      " auprc: 0.801338267282674\n",
      " ef5: 74.17085427135679\n",
      " ef10: 74.17085427135679\n",
      " data: {}\n",
      " result_id: 6\n",
      "-----\n"
     ]
    }
   ],
   "source": [
    "d = %sql select * from experiments.results order by ds_uid,expt_uid,split\n",
    "for row in d[:2]:\n",
    "    for i,k in enumerate(d.keys):\n",
    "        print(f' {k}: {row[i]}')\n",
    "    print('-----')"
   ]
  },
  {
   "cell_type": "markdown",
   "id": "78351f73",
   "metadata": {},
   "source": [
    "Find parameters that yielded the best auroc value for SIMPD splits on each data set:"
   ]
  },
  {
   "cell_type": "code",
   "execution_count": 24,
   "id": "bfa402af",
   "metadata": {},
   "outputs": [
    {
     "data": {
      "text/html": [
       "<span style=\"None\">Running query in &#x27;postgresql://localhost/lwreg_ml_tutorial&#x27;</span>"
      ],
      "text/plain": [
       "Running query in 'postgresql://localhost/lwreg_ml_tutorial'"
      ]
     },
     "metadata": {},
     "output_type": "display_data"
    },
    {
     "data": {
      "text/html": [
       "<span style=\"color: green\">2 rows affected.</span>"
      ],
      "text/plain": [
       "2 rows affected."
      ]
     },
     "metadata": {},
     "output_type": "display_data"
    },
    {
     "data": {
      "text/html": [
       "<table>\n",
       "    <thead>\n",
       "        <tr>\n",
       "            <th>ds_uid</th>\n",
       "            <th>expt_uid</th>\n",
       "            <th>auroc</th>\n",
       "            <th>method</th>\n",
       "            <th>params</th>\n",
       "        </tr>\n",
       "    </thead>\n",
       "    <tbody>\n",
       "        <tr>\n",
       "            <td>6a1bc7a8-695f-4bab-8a14-dd3a70927da5</td>\n",
       "            <td>f0a9e849-8b35-4bec-9985-e03a257bfb0c</td>\n",
       "            <td>0.8227016885553471</td>\n",
       "            <td>RandomForest</td>\n",
       "            <td>{\"max_depth\": 10, \"n_estimators\": 300, \"random_state\": 61453, \"min_samples_leaf\": 2, \"min_samples_split\": 4}</td>\n",
       "        </tr>\n",
       "        <tr>\n",
       "            <td>c351c8cd-93e7-41fe-a3a2-02551296429b</td>\n",
       "            <td>f240be1b-6990-4c36-ae41-c216714feac2</td>\n",
       "            <td>0.7596638655462185</td>\n",
       "            <td>LogisticRegression</td>\n",
       "            <td>{\"max_iter\": 1000}</td>\n",
       "        </tr>\n",
       "    </tbody>\n",
       "</table>"
      ],
      "text/plain": [
       "+--------------------------------------+--------------------------------------+--------------------+--------------------+--------------------------------------------------------------------------------------------------------------+\n",
       "|                ds_uid                |               expt_uid               |       auroc        |       method       |                                                    params                                                    |\n",
       "+--------------------------------------+--------------------------------------+--------------------+--------------------+--------------------------------------------------------------------------------------------------------------+\n",
       "| 6a1bc7a8-695f-4bab-8a14-dd3a70927da5 | f0a9e849-8b35-4bec-9985-e03a257bfb0c | 0.8227016885553471 |    RandomForest    | {\"max_depth\": 10, \"n_estimators\": 300, \"random_state\": 61453, \"min_samples_leaf\": 2, \"min_samples_split\": 4} |\n",
       "| c351c8cd-93e7-41fe-a3a2-02551296429b | f240be1b-6990-4c36-ae41-c216714feac2 | 0.7596638655462185 | LogisticRegression |                                              {\"max_iter\": 1000}                                              |\n",
       "+--------------------------------------+--------------------------------------+--------------------+--------------------+--------------------------------------------------------------------------------------------------------------+"
      ]
     },
     "execution_count": 24,
     "metadata": {},
     "output_type": "execute_result"
    }
   ],
   "source": [
    "%sql select distinct on (ds_uid) ds_uid,expt_uid,auroc,\\\n",
    "   metadata->>'Method' method, metadata->>'Parameters' params\\\n",
    "   from (select * from experiments.results join experiments.metadata using (expt_uid) order by auroc desc) tmp\\\n",
    "   where split='SIMPD'\n",
    "    \n"
   ]
  },
  {
   "cell_type": "markdown",
   "id": "e795a60f",
   "metadata": {},
   "source": [
    "min and max MCC and kappa values for the SIMPD splits on each data set:"
   ]
  },
  {
   "cell_type": "code",
   "execution_count": 25,
   "id": "9b344c63",
   "metadata": {},
   "outputs": [
    {
     "data": {
      "text/html": [
       "<span style=\"None\">Running query in &#x27;postgresql://localhost/lwreg_ml_tutorial&#x27;</span>"
      ],
      "text/plain": [
       "Running query in 'postgresql://localhost/lwreg_ml_tutorial'"
      ]
     },
     "metadata": {},
     "output_type": "display_data"
    },
    {
     "data": {
      "text/html": [
       "<span style=\"color: green\">2 rows affected.</span>"
      ],
      "text/plain": [
       "2 rows affected."
      ]
     },
     "metadata": {},
     "output_type": "display_data"
    },
    {
     "data": {
      "text/html": [
       "<table>\n",
       "    <thead>\n",
       "        <tr>\n",
       "            <th>ds_uid</th>\n",
       "            <th>min_mcc</th>\n",
       "            <th>max_mcc</th>\n",
       "            <th>min_kappa</th>\n",
       "            <th>max_kappa</th>\n",
       "        </tr>\n",
       "    </thead>\n",
       "    <tbody>\n",
       "        <tr>\n",
       "            <td>6a1bc7a8-695f-4bab-8a14-dd3a70927da5</td>\n",
       "            <td>0.4207731435519047</td>\n",
       "            <td>0.5302855449423597</td>\n",
       "            <td>0.38866765274775283</td>\n",
       "            <td>0.4913879319924437</td>\n",
       "        </tr>\n",
       "        <tr>\n",
       "            <td>c351c8cd-93e7-41fe-a3a2-02551296429b</td>\n",
       "            <td>0.3207718441700005</td>\n",
       "            <td>0.37410614902153483</td>\n",
       "            <td>0.30711297071129706</td>\n",
       "            <td>0.33736951983298546</td>\n",
       "        </tr>\n",
       "    </tbody>\n",
       "</table>"
      ],
      "text/plain": [
       "+--------------------------------------+--------------------+---------------------+---------------------+---------------------+\n",
       "|                ds_uid                |      min_mcc       |       max_mcc       |      min_kappa      |      max_kappa      |\n",
       "+--------------------------------------+--------------------+---------------------+---------------------+---------------------+\n",
       "| 6a1bc7a8-695f-4bab-8a14-dd3a70927da5 | 0.4207731435519047 |  0.5302855449423597 | 0.38866765274775283 |  0.4913879319924437 |\n",
       "| c351c8cd-93e7-41fe-a3a2-02551296429b | 0.3207718441700005 | 0.37410614902153483 | 0.30711297071129706 | 0.33736951983298546 |\n",
       "+--------------------------------------+--------------------+---------------------+---------------------+---------------------+"
      ]
     },
     "execution_count": 25,
     "metadata": {},
     "output_type": "execute_result"
    }
   ],
   "source": [
    "%sql select ds_uid,min(mcc) min_mcc,max(mcc) max_mcc,min(kappa) min_kappa, max(kappa) max_kappa \\\n",
    "   from experiments.results tmp\\\n",
    "   where split='SIMPD'\\\n",
    "   group by (ds_uid)\n",
    "    \n"
   ]
  },
  {
   "cell_type": "markdown",
   "id": "c04deb35",
   "metadata": {},
   "source": [
    "Correlation of MCC and kappa across all of the experiments:"
   ]
  },
  {
   "cell_type": "code",
   "execution_count": 26,
   "id": "ecf8b6e5",
   "metadata": {},
   "outputs": [],
   "source": [
    "import matplotlib.pylab as plt\n",
    "%matplotlib inline"
   ]
  },
  {
   "cell_type": "code",
   "execution_count": 29,
   "id": "80b64836",
   "metadata": {},
   "outputs": [
    {
     "data": {
      "text/html": [
       "<span style=\"None\">Running query in &#x27;postgresql://localhost/lwreg_ml_tutorial&#x27;</span>"
      ],
      "text/plain": [
       "Running query in 'postgresql://localhost/lwreg_ml_tutorial'"
      ]
     },
     "metadata": {},
     "output_type": "display_data"
    },
    {
     "data": {
      "text/html": [
       "<span style=\"color: green\">12 rows affected.</span>"
      ],
      "text/plain": [
       "12 rows affected."
      ]
     },
     "metadata": {},
     "output_type": "display_data"
    },
    {
     "data": {
      "image/png": "[encoded data removed]",
      "text/plain": [
       "<Figure size 640x480 with 1 Axes>"
      ]
     },
     "metadata": {},
     "output_type": "display_data"
    }
   ],
   "source": [
    "d = %sql select mcc,kappa from experiments.results;\n",
    "x,y = zip(*d)\n",
    "plt.scatter(x,y);\n",
    "xmin,xmax = plt.xlim()\n",
    "ymin,ymax = plt.ylim()\n",
    "minv = min(xmin,ymin)\n",
    "maxv = max(xmax,ymax)\n",
    "plt.plot((minv,maxv),(minv,maxv),'k-')\n",
    "plt.xlabel('MCC')\n",
    "plt.ylabel('kappa');"
   ]
  },
  {
   "cell_type": "code",
   "execution_count": null,
   "id": "c6dd99e8-9d49-455d-bfb0-a9f71074cabd",
   "metadata": {},
   "outputs": [],
   "source": []
  }
 ],
 "metadata": {
  "kernelspec": {
   "display_name": "Python 3 (ipykernel)",
   "language": "python",
   "name": "python3"
  },
  "language_info": {
   "codemirror_mode": {
    "name": "ipython",
    "version": 3
   },
   "file_extension": ".py",
   "mimetype": "text/x-python",
   "name": "python",
   "nbconvert_exporter": "python",
   "pygments_lexer": "ipython3",
   "version": "3.13.2"
  }
 },
 "nbformat": 4,
 "nbformat_minor": 5
}
