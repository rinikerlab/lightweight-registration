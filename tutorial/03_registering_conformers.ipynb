{
 "cells": [
  {
   "cell_type": "code",
   "execution_count": 1,
   "id": "42e5b2ad",
   "metadata": {},
   "outputs": [
    {
     "name": "stdout",
     "output_type": "stream",
     "text": [
      "2024.09.5\n"
     ]
    }
   ],
   "source": [
    "from rdkit import Chem\n",
    "from rdkit.Chem import Draw\n",
    "from rdkit.Chem.Draw import IPythonConsole\n",
    "\n",
    "# switch the renderer to use black and white mode and increase the font size for legends\n",
    "IPythonConsole.drawOptions.useBWAtomPalette()\n",
    "IPythonConsole.drawOptions.legendFontSize=24\n",
    "\n",
    "# enable the 3D viewer for 3D conformers. You need to have py3Dmol installed for this to work:\n",
    "#   conda install py3dmol\n",
    "IPythonConsole.ipython_3d = True\n",
    "\n",
    "import rdkit\n",
    "print(rdkit.__version__)"
   ]
  },
  {
   "cell_type": "code",
   "execution_count": 2,
   "id": "04afadc3",
   "metadata": {},
   "outputs": [
    {
     "data": {
      "text/plain": [
       "{'dbname': './testdb.sqlt',\n",
       " 'dbtype': 'sqlite3',\n",
       " 'standardization': 'fragment',\n",
       " 'removeHs': 1,\n",
       " 'useTautomerHashv2': 0,\n",
       " 'registerConformers': 0,\n",
       " 'numConformerDigits': 3,\n",
       " 'lwregSchema': ''}"
      ]
     },
     "execution_count": 2,
     "metadata": {},
     "output_type": "execute_result"
    }
   ],
   "source": [
    "import lwreg\n",
    "\n",
    "# get the base lwreg configuration:\n",
    "config = lwreg.utils.defaultConfig()\n",
    "config"
   ]
  },
  {
   "cell_type": "markdown",
   "id": "abd5f78b-91fe-4ebd-ae3e-06e873aee66b",
   "metadata": {},
   "source": [
    "Now we set some configuration parameters.\n",
    "\n",
    "The two important things here are that we need to ensure that we are in conformer mode and that the only standardization that is done is to canonicalize the orientation of the conformers (i.e translate them to the origin and transform them to the principle axes frame)."
   ]
  },
  {
   "cell_type": "code",
   "execution_count": 3,
   "id": "9cb70f07-a426-4b51-b6c0-266910706b8f",
   "metadata": {},
   "outputs": [],
   "source": [
    "# set the name of the database we'll work with:\n",
    "config['dbname'] = 'jupyter_conformer_demo.sqlt'\n",
    "\n",
    "# set the database to be conformer mode:\n",
    "config['registerConformers'] = 1\n",
    "\n",
    "# these are just standard conformers, so we want to canonicalize their orientation\n",
    "# (i.e. align them to the pr)\n",
    "config['standardization'] = 'canonicalize'\n",
    "\n",
    "# now tell lwreg to use ths configuration as the default in all other commands\n",
    "# we call in this session:\n",
    "lwreg.set_default_config(config)"
   ]
  },
  {
   "cell_type": "markdown",
   "id": "5e918495",
   "metadata": {},
   "source": [
    "Initialize the database. \n",
    "    \n",
    "**Note** that this erases everything in the current database, so be very careful with this command!"
   ]
  },
  {
   "cell_type": "code",
   "execution_count": 4,
   "id": "523fde8d",
   "metadata": {},
   "outputs": [
    {
     "name": "stdout",
     "output_type": "stream",
     "text": [
      "This will destroy any existing information in the registration database.\n"
     ]
    },
    {
     "name": "stdin",
     "output_type": "stream",
     "text": [
      "  are you sure? [yes/no]:  yes\n"
     ]
    },
    {
     "data": {
      "text/plain": [
       "True"
      ]
     },
     "execution_count": 4,
     "metadata": {},
     "output_type": "execute_result"
    }
   ],
   "source": [
    "lwreg.initdb()"
   ]
  },
  {
   "cell_type": "markdown",
   "id": "b814945d-ce1d-4df5-969e-c2a24472a55c",
   "metadata": {},
   "source": [
    "## Register some compounds"
   ]
  },
  {
   "cell_type": "markdown",
   "id": "0db0fbcd-4446-4273-9dd1-4b26a1c470ce",
   "metadata": {},
   "source": [
    "An aside for those who care: the molecules here were constructed from smiles and the charge parent was generated. For each molecule, at most 5 tautomers were enumerated, for each tautomer at most 5 stereoisomers were enumerated, and then finally at most 10 conformers were generated using srETKDGv3 with an RMS pruning value of 0.5. These molecules were then written to the SDF that we read from in this tutorial\n",
    "\n",
    "Here's the code used for the enumeration and conformer generation:\n",
    "```python\n",
    "ps = rdDistGeom.srETKDGv3()\n",
    "ps.randomSeed = 0xbad5eed\n",
    "ps.pruneRmsThresh = 0.5\n",
    "w = Chem.SDWriter('../tutorial/tutorial_data/mols_with_confs.sdf')\n",
    "tenum = rdMolStandardize.TautomerEnumerator()\n",
    "for m in ms:\n",
    "    print(m.GetProp('_Name'))\n",
    "    tauts = tenum.Enumerate(m)\n",
    "    for ti,taut in enumerate(tauts):\n",
    "        print('\\t',ti)\n",
    "        Chem.SanitizeMol(taut)\n",
    "        taut = Chem.AddHs(taut)\n",
    "        nHere = 0\n",
    "        for si,siso in enumerate(EnumerateStereoisomers.EnumerateStereoisomers(taut)):\n",
    "            print('\\t\\t',si)\n",
    "            mh = Chem.AddHs(siso)\n",
    "            mh.SetProp('_Name',f'{mh.GetProp(\"_Name\")}-{ti+1}-{si+1}')\n",
    "            cids = rdDistGeom.EmbedMultipleConfs(mh,10,ps)\n",
    "            for cid in cids:\n",
    "                w.write(mh,confId=cid)\n",
    "            w.flush()\n",
    "            if si>5:\n",
    "                break\n",
    "        if ti>=5:\n",
    "            break\n",
    "w.close()\n",
    "```"
   ]
  },
  {
   "cell_type": "markdown",
   "id": "0e22a810-bf5a-4f03-827d-f784e0946b9e",
   "metadata": {},
   "source": [
    "Read in a set of 3D molecules:"
   ]
  },
  {
   "cell_type": "code",
   "execution_count": 5,
   "id": "e69a0718",
   "metadata": {},
   "outputs": [
    {
     "data": {
      "text/plain": [
       "125"
      ]
     },
     "execution_count": 5,
     "metadata": {},
     "output_type": "execute_result"
    }
   ],
   "source": [
    "with Chem.SDMolSupplier('./tutorial_data/mols_with_confs.sdf',removeHs=False) as suppl:\n",
    "    ms = [x for x in suppl]\n",
    "len(ms)"
   ]
  },
  {
   "cell_type": "markdown",
   "id": "2af29b93-500b-4a92-a788-4c62c77b7d49",
   "metadata": {},
   "source": [
    "The data set has 125 members, but there are multiple conformers for each molecule.\n",
    "                                                              \n",
    "How many unique molecules are there?"
   ]
  },
  {
   "cell_type": "code",
   "execution_count": 6,
   "id": "0a7356f0-90d4-4502-8a0d-d1b8c8c47167",
   "metadata": {},
   "outputs": [
    {
     "data": {
      "text/plain": [
       "15"
      ]
     },
     "execution_count": 6,
     "metadata": {},
     "output_type": "execute_result"
    }
   ],
   "source": [
    "len(set(Chem.MolToSmiles(m) for m in ms))"
   ]
  },
  {
   "cell_type": "markdown",
   "id": "b6b1a221",
   "metadata": {},
   "source": [
    "The best way to register a set of compounds is the `bulk_register()` function. In conformer mode, this returns a tuple of (molregnos,conformer_id) tuples for the registered molecules:"
   ]
  },
  {
   "cell_type": "code",
   "execution_count": 7,
   "id": "0315afb7",
   "metadata": {},
   "outputs": [],
   "source": [
    "res = lwreg.bulk_register(mols=ms)"
   ]
  },
  {
   "cell_type": "code",
   "execution_count": 8,
   "id": "67273035-3878-4bd3-9e8b-46a9cbe64631",
   "metadata": {},
   "outputs": [
    {
     "data": {
      "text/plain": [
       "125"
      ]
     },
     "execution_count": 8,
     "metadata": {},
     "output_type": "execute_result"
    }
   ],
   "source": [
    "len(res)"
   ]
  },
  {
   "cell_type": "code",
   "execution_count": 9,
   "id": "0ed18781-3d27-4030-b8ca-95d17f5f4052",
   "metadata": {},
   "outputs": [
    {
     "data": {
      "text/plain": [
       "((1, 1), (1, 2), (1, 3), (1, 4), (1, 5))"
      ]
     },
     "execution_count": 9,
     "metadata": {},
     "output_type": "execute_result"
    }
   ],
   "source": [
    "res[:5]"
   ]
  },
  {
   "cell_type": "code",
   "execution_count": null,
   "id": "377c9e73-be7e-4512-aa73-04ca9d9a6d95",
   "metadata": {},
   "outputs": [],
   "source": []
  },
  {
   "cell_type": "markdown",
   "id": "7094ac21",
   "metadata": {},
   "source": [
    "## Running queries and retrieving conformers"
   ]
  },
  {
   "cell_type": "markdown",
   "id": "08f34d79-9c6a-40a0-bce4-1d80a711ee09",
   "metadata": {},
   "source": [
    "Here's our query molecule:"
   ]
  },
  {
   "cell_type": "code",
   "execution_count": 10,
   "id": "6a632ef1",
   "metadata": {},
   "outputs": [
    {
     "data": {
      "image/png": "[encoded data removed]",
      "text/plain": [
       "<rdkit.Chem.rdchem.Mol at 0x71ee28d90890>"
      ]
     },
     "execution_count": 10,
     "metadata": {},
     "output_type": "execute_result"
    }
   ],
   "source": [
    "smi = 'CCN(C)C1CCCc2ccncc12'\n",
    "Chem.MolFromSmiles(smi)"
   ]
  },
  {
   "cell_type": "markdown",
   "id": "a217831f-e8d6-42e5-9a82-bcb387744aaf",
   "metadata": {},
   "source": [
    "The default behavior of the `query()` function is to return exact matches. This query has an unspecified stereo center, but all of the compounds in the database have their stereochemistry fully specified since they are 3D. So with default arguments to `query` we get no results: "
   ]
  },
  {
   "cell_type": "code",
   "execution_count": 11,
   "id": "a51c9714",
   "metadata": {},
   "outputs": [
    {
     "data": {
      "text/plain": [
       "[]"
      ]
     },
     "execution_count": 11,
     "metadata": {},
     "output_type": "execute_result"
    }
   ],
   "source": [
    "lwreg.query(smiles=smi)"
   ]
  },
  {
   "cell_type": "markdown",
   "id": "9dc9cfbd",
   "metadata": {},
   "source": [
    "If we query using the `no_stereo_smiles` layer we get the molregnos for the two stereoisomers we have registered:"
   ]
  },
  {
   "cell_type": "code",
   "execution_count": 13,
   "id": "7645b957",
   "metadata": {},
   "outputs": [
    {
     "data": {
      "text/plain": [
       "[1, 2]"
      ]
     },
     "execution_count": 13,
     "metadata": {},
     "output_type": "execute_result"
    }
   ],
   "source": [
    "ids = lwreg.query(smiles=smi,\n",
    "            layers=lwreg.utils.HashLayer.NO_STEREO_SMILES)\n",
    "ids"
   ]
  },
  {
   "cell_type": "markdown",
   "id": "9c6e576e-acab-428c-8adb-39ac94b68d03",
   "metadata": {},
   "source": [
    "We can also use the `query()` function to retrieve all of the conformer IDs for a list of molregnos:"
   ]
  },
  {
   "cell_type": "code",
   "execution_count": 14,
   "id": "f5f26610-3fb4-4b59-9a9e-35dd3f051b8b",
   "metadata": {},
   "outputs": [
    {
     "data": {
      "text/plain": [
       "11"
      ]
     },
     "execution_count": 14,
     "metadata": {},
     "output_type": "execute_result"
    }
   ],
   "source": [
    "confIds = lwreg.query(ids=ids)\n",
    "len(confIds)"
   ]
  },
  {
   "cell_type": "markdown",
   "id": "882bcd86-106d-41a8-bfcd-69e6e8bcf115",
   "metadata": {},
   "source": [
    "The result is a list of (molregno, conformer_id) tuples:"
   ]
  },
  {
   "cell_type": "code",
   "execution_count": 17,
   "id": "a6a1cc08-5523-4534-86dd-9f441eb8e6f7",
   "metadata": {},
   "outputs": [
    {
     "data": {
      "text/plain": [
       "[(1, 1), (1, 2), (1, 3)]"
      ]
     },
     "execution_count": 17,
     "metadata": {},
     "output_type": "execute_result"
    }
   ],
   "source": [
    "confIds[:3]"
   ]
  },
  {
   "cell_type": "markdown",
   "id": "1414a207",
   "metadata": {},
   "source": [
    "The `retrieve()` function allows us to fetch those conformers:"
   ]
  },
  {
   "cell_type": "code",
   "execution_count": 18,
   "id": "67282be1",
   "metadata": {},
   "outputs": [
    {
     "data": {
      "text/plain": [
       "11"
      ]
     },
     "execution_count": 18,
     "metadata": {},
     "output_type": "execute_result"
    }
   ],
   "source": [
    "res = lwreg.retrieve(ids=confIds)\n",
    "len(res)"
   ]
  },
  {
   "cell_type": "markdown",
   "id": "7fd4f632-d1ad-4a5d-ae93-efa6e95d1bb3",
   "metadata": {},
   "source": [
    "The individual results are, as always with `retrieve()`, (mol_data,format) tuples. With conformers the format is aways `mol` since the conformers are stored as V3000 Mol blocks."
   ]
  },
  {
   "cell_type": "code",
   "execution_count": 20,
   "id": "4170a15b-e256-4c43-be22-cfacae771202",
   "metadata": {},
   "outputs": [
    {
     "data": {
      "text/plain": [
       "('CHEMBL1794855-1-1\\n     RDKit          3D\\n\\n  0  0  0  0  0  0  0  0  0  0999 V3000\\nM  V30 BEGIN CTAB\\nM  V30 COUNTS 32 33 0 0 0\\nM  V30 BEGIN ATOM\\nM  V30 1 C 3.847123 0.293644 0.515021 0\\nM  V30 2 C 3.031191 -0.860458 0.101065 0\\nM  V30 3 N 1.593335 -0.817106 0.397340 0\\nM  V30 4 C 1.228970 -2.262662 0.255587 0\\nM  V30 5 C 0.825301 -0.199915 -0.684788 0 CFG=2\\nM  V30 6 C 1.282672 1.246759 -0.925551 0\\nM  V30 7 C 0.835870 2.136600 0.146114 0\\nM  V30 8 C -0.699256 2.210727 0.183787 0\\nM  V30 9 C -1.300210 0.898238 0.104970 0\\nM  V30 10 C -2.650817 0.797431 0.451277 0\\nM  V30 11 C -3.353963 -0.380443 0.358160 0\\nM  V30 12 N -2.672072 -1.442213 -0.087062 0\\nM  V30 13 C -1.372998 -1.381370 -0.436556 0\\nM  V30 14 C -0.595146 -0.239232 -0.379366 0\\nM  V30 15 H 4.672377 -0.096541 1.221346 0\\nM  V30 16 H 4.461861 0.785746 -0.273232 0\\nM  V30 17 H 3.304505 1.048644 1.108837 0\\nM  V30 18 H 3.467399 -1.819240 0.522975 0\\nM  V30 19 H 3.111916 -1.033649 -1.019040 0\\nM  V30 20 H 2.128761 -2.816629 0.720507 0\\nM  V30 21 H 0.414844 -2.546204 0.907267 0\\nM  V30 22 H 1.252858 -2.587885 -0.781783 0\\nM  V30 23 H 1.086675 -0.749636 -1.608689 0\\nM  V30 24 H 2.357126 1.251156 -1.049323 0\\nM  V30 25 H 0.759716 1.498988 -1.912986 0\\nM  V30 26 H 1.120103 1.875329 1.181409 0\\nM  V30 27 H 1.171570 3.168850 -0.042374 0\\nM  V30 28 H -0.949377 2.722077 1.136348 0\\nM  V30 29 H -1.006194 2.904526 -0.634018 0\\nM  V30 30 H -3.185998 1.660630 0.809685 0\\nM  V30 31 H -4.393407 -0.487028 0.618717 0\\nM  V30 32 H -0.984528 -2.337453 -0.822666 0\\nM  V30 END ATOM\\nM  V30 BEGIN BOND\\nM  V30 1 1 1 2\\nM  V30 2 1 2 3\\nM  V30 3 1 3 4\\nM  V30 4 1 3 5\\nM  V30 5 1 5 6\\nM  V30 6 1 6 7\\nM  V30 7 1 7 8\\nM  V30 8 1 8 9\\nM  V30 9 2 9 10\\nM  V30 10 1 10 11\\nM  V30 11 2 11 12\\nM  V30 12 1 12 13\\nM  V30 13 2 13 14\\nM  V30 14 1 14 5\\nM  V30 15 1 14 9\\nM  V30 16 1 1 15\\nM  V30 17 1 1 16\\nM  V30 18 1 1 17\\nM  V30 19 1 2 18\\nM  V30 20 1 2 19\\nM  V30 21 1 4 20\\nM  V30 22 1 4 21\\nM  V30 23 1 4 22\\nM  V30 24 1 5 23 CFG=3\\nM  V30 25 1 6 24\\nM  V30 26 1 6 25\\nM  V30 27 1 7 26\\nM  V30 28 1 7 27\\nM  V30 29 1 8 28\\nM  V30 30 1 8 29\\nM  V30 31 1 10 30\\nM  V30 32 1 11 31\\nM  V30 33 1 13 32\\nM  V30 END BOND\\nM  V30 END CTAB\\nM  END\\n',\n",
       " 'mol')"
      ]
     },
     "execution_count": 20,
     "metadata": {},
     "output_type": "execute_result"
    }
   ],
   "source": [
    "res[(1,1)]"
   ]
  },
  {
   "cell_type": "markdown",
   "id": "c1f9c63d-4d0d-4132-a317-e7f0a2efe48c",
   "metadata": {},
   "source": [
    "Let's look at a few of those conformers:"
   ]
  },
  {
   "cell_type": "code",
   "execution_count": 21,
   "id": "42a4cb3d-8b70-4ea1-bd99-da4fa3216832",
   "metadata": {},
   "outputs": [
    {
     "data": {
      "application/3dmoljs_load.v0": "<div id=\"3dmolviewer_17417860772148235\"  style=\"position: relative; width: 400px; height: 400px;\">\n        <p id=\"3dmolwarning_17417860772148235\" style=\"background-color:#ffcccc;color:black\">3Dmol.js failed to load for some reason.  Please check your browser console for error messages.<br></p>\n        </div>\n<script>\n\nvar loadScriptAsync = function(uri){\n  return new Promise((resolve, reject) => {\n    //this is to ignore the existence of requirejs amd\n    var savedexports, savedmodule;\n    if (typeof exports !== 'undefined') savedexports = exports;\n    else exports = {}\n    if (typeof module !== 'undefined') savedmodule = module;\n    else module = {}\n\n    var tag = document.createElement('script');\n    tag.src = uri;\n    tag.async = true;\n    tag.onload = () => {\n        exports = savedexports;\n        module = savedmodule;\n        resolve();\n    };\n  var firstScriptTag = document.getElementsByTagName('script')[0];\n  firstScriptTag.parentNode.insertBefore(tag, firstScriptTag);\n});\n};\n\nif(typeof $3Dmolpromise === 'undefined') {\n$3Dmolpromise = null;\n  $3Dmolpromise = loadScriptAsync('https://cdnjs.cloudflare.com/ajax/libs/3Dmol/2.4.2/3Dmol-min.js');\n}\n\nvar viewer_17417860772148235 = null;\nvar warn = document.getElementById(\"3dmolwarning_17417860772148235\");\nif(warn) {\n    warn.parentNode.removeChild(warn);\n}\n$3Dmolpromise.then(function() {\nviewer_17417860772148235 = $3Dmol.createViewer(document.getElementById(\"3dmolviewer_17417860772148235\"),{backgroundColor:\"white\"});\nviewer_17417860772148235.zoomTo();\n\tviewer_17417860772148235.removeAllModels();\n\tviewer_17417860772148235.addModel(\"CHEMBL1794855-1-1\\n     RDKit          3D\\n\\n 14 15  0  0  0  0  0  0  0  0999 V2000\\n    3.8471    0.2936    0.5150 C   0  0  0  0  0  0  0  0  0  0  0  0\\n    3.0312   -0.8605    0.1011 C   0  0  0  0  0  0  0  0  0  0  0  0\\n    1.5933   -0.8171    0.3973 N   0  0  0  0  0  0  0  0  0  0  0  0\\n    1.2290   -2.2627    0.2556 C   0  0  0  0  0  0  0  0  0  0  0  0\\n    0.8253   -0.1999   -0.6848 C   0  0  2  0  0  0  0  0  0  0  0  0\\n    1.2827    1.2468   -0.9256 C   0  0  0  0  0  0  0  0  0  0  0  0\\n    0.8359    2.1366    0.1461 C   0  0  0  0  0  0  0  0  0  0  0  0\\n   -0.6993    2.2107    0.1838 C   0  0  0  0  0  0  0  0  0  0  0  0\\n   -1.3002    0.8982    0.1050 C   0  0  0  0  0  0  0  0  0  0  0  0\\n   -2.6508    0.7974    0.4513 C   0  0  0  0  0  0  0  0  0  0  0  0\\n   -3.3540   -0.3804    0.3582 C   0  0  0  0  0  0  0  0  0  0  0  0\\n   -2.6721   -1.4422   -0.0871 N   0  0  0  0  0  0  0  0  0  0  0  0\\n   -1.3730   -1.3814   -0.4366 C   0  0  0  0  0  0  0  0  0  0  0  0\\n   -0.5951   -0.2392   -0.3794 C   0  0  0  0  0  0  0  0  0  0  0  0\\n  1  2  1  0\\n  2  3  1  0\\n  3  4  1  0\\n  5  3  1  1\\n  5  6  1  0\\n  6  7  1  0\\n  7  8  1  0\\n  8  9  1  0\\n  9 10  2  0\\n 10 11  1  0\\n 11 12  2  0\\n 12 13  1  0\\n 13 14  2  0\\n 14  5  1  0\\n 14  9  1  0\\nM  END\\n\",\"sdf\");\n\tviewer_17417860772148235.setStyle({\"stick\": {}});\n\tviewer_17417860772148235.setBackgroundColor(\"0xeeeeee\");\n\tviewer_17417860772148235.zoomTo();\nviewer_17417860772148235.render();\n});\n</script>",
      "text/html": [
       "<div id=\"3dmolviewer_17417860772148235\"  style=\"position: relative; width: 400px; height: 400px;\">\n",
       "        <p id=\"3dmolwarning_17417860772148235\" style=\"background-color:#ffcccc;color:black\">3Dmol.js failed to load for some reason.  Please check your browser console for error messages.<br></p>\n",
       "        </div>\n",
       "<script>\n",
       "\n",
       "var loadScriptAsync = function(uri){\n",
       "  return new Promise((resolve, reject) => {\n",
       "    //this is to ignore the existence of requirejs amd\n",
       "    var savedexports, savedmodule;\n",
       "    if (typeof exports !== 'undefined') savedexports = exports;\n",
       "    else exports = {}\n",
       "    if (typeof module !== 'undefined') savedmodule = module;\n",
       "    else module = {}\n",
       "\n",
       "    var tag = document.createElement('script');\n",
       "    tag.src = uri;\n",
       "    tag.async = true;\n",
       "    tag.onload = () => {\n",
       "        exports = savedexports;\n",
       "        module = savedmodule;\n",
       "        resolve();\n",
       "    };\n",
       "  var firstScriptTag = document.getElementsByTagName('script')[0];\n",
       "  firstScriptTag.parentNode.insertBefore(tag, firstScriptTag);\n",
       "});\n",
       "};\n",
       "\n",
       "if(typeof $3Dmolpromise === 'undefined') {\n",
       "$3Dmolpromise = null;\n",
       "  $3Dmolpromise = loadScriptAsync('https://cdnjs.cloudflare.com/ajax/libs/3Dmol/2.4.2/3Dmol-min.js');\n",
       "}\n",
       "\n",
       "var viewer_17417860772148235 = null;\n",
       "var warn = document.getElementById(\"3dmolwarning_17417860772148235\");\n",
       "if(warn) {\n",
       "    warn.parentNode.removeChild(warn);\n",
       "}\n",
       "$3Dmolpromise.then(function() {\n",
       "viewer_17417860772148235 = $3Dmol.createViewer(document.getElementById(\"3dmolviewer_17417860772148235\"),{backgroundColor:\"white\"});\n",
       "viewer_17417860772148235.zoomTo();\n",
       "\tviewer_17417860772148235.removeAllModels();\n",
       "\tviewer_17417860772148235.addModel(\"CHEMBL1794855-1-1\\n     RDKit          3D\\n\\n 14 15  0  0  0  0  0  0  0  0999 V2000\\n    3.8471    0.2936    0.5150 C   0  0  0  0  0  0  0  0  0  0  0  0\\n    3.0312   -0.8605    0.1011 C   0  0  0  0  0  0  0  0  0  0  0  0\\n    1.5933   -0.8171    0.3973 N   0  0  0  0  0  0  0  0  0  0  0  0\\n    1.2290   -2.2627    0.2556 C   0  0  0  0  0  0  0  0  0  0  0  0\\n    0.8253   -0.1999   -0.6848 C   0  0  2  0  0  0  0  0  0  0  0  0\\n    1.2827    1.2468   -0.9256 C   0  0  0  0  0  0  0  0  0  0  0  0\\n    0.8359    2.1366    0.1461 C   0  0  0  0  0  0  0  0  0  0  0  0\\n   -0.6993    2.2107    0.1838 C   0  0  0  0  0  0  0  0  0  0  0  0\\n   -1.3002    0.8982    0.1050 C   0  0  0  0  0  0  0  0  0  0  0  0\\n   -2.6508    0.7974    0.4513 C   0  0  0  0  0  0  0  0  0  0  0  0\\n   -3.3540   -0.3804    0.3582 C   0  0  0  0  0  0  0  0  0  0  0  0\\n   -2.6721   -1.4422   -0.0871 N   0  0  0  0  0  0  0  0  0  0  0  0\\n   -1.3730   -1.3814   -0.4366 C   0  0  0  0  0  0  0  0  0  0  0  0\\n   -0.5951   -0.2392   -0.3794 C   0  0  0  0  0  0  0  0  0  0  0  0\\n  1  2  1  0\\n  2  3  1  0\\n  3  4  1  0\\n  5  3  1  1\\n  5  6  1  0\\n  6  7  1  0\\n  7  8  1  0\\n  8  9  1  0\\n  9 10  2  0\\n 10 11  1  0\\n 11 12  2  0\\n 12 13  1  0\\n 13 14  2  0\\n 14  5  1  0\\n 14  9  1  0\\nM  END\\n\",\"sdf\");\n",
       "\tviewer_17417860772148235.setStyle({\"stick\": {}});\n",
       "\tviewer_17417860772148235.setBackgroundColor(\"0xeeeeee\");\n",
       "\tviewer_17417860772148235.zoomTo();\n",
       "viewer_17417860772148235.render();\n",
       "});\n",
       "</script>"
      ]
     },
     "metadata": {},
     "output_type": "display_data"
    },
    {
     "data": {
      "image/png": "[encoded data removed]",
      "text/html": [],
      "text/plain": [
       "<rdkit.Chem.rdchem.Mol at 0x71ee282146d0>"
      ]
     },
     "execution_count": 21,
     "metadata": {},
     "output_type": "execute_result"
    }
   ],
   "source": [
    "mol1 = Chem.MolFromMolBlock(res[(1,1)][0])\n",
    "mol1"
   ]
  },
  {
   "cell_type": "code",
   "execution_count": 23,
   "id": "a021a038-4537-48a5-9b0d-c5d96270fd55",
   "metadata": {},
   "outputs": [
    {
     "data": {
      "application/3dmoljs_load.v0": "<div id=\"3dmolviewer_17417860933834102\"  style=\"position: relative; width: 400px; height: 400px;\">\n        <p id=\"3dmolwarning_17417860933834102\" style=\"background-color:#ffcccc;color:black\">3Dmol.js failed to load for some reason.  Please check your browser console for error messages.<br></p>\n        </div>\n<script>\n\nvar loadScriptAsync = function(uri){\n  return new Promise((resolve, reject) => {\n    //this is to ignore the existence of requirejs amd\n    var savedexports, savedmodule;\n    if (typeof exports !== 'undefined') savedexports = exports;\n    else exports = {}\n    if (typeof module !== 'undefined') savedmodule = module;\n    else module = {}\n\n    var tag = document.createElement('script');\n    tag.src = uri;\n    tag.async = true;\n    tag.onload = () => {\n        exports = savedexports;\n        module = savedmodule;\n        resolve();\n    };\n  var firstScriptTag = document.getElementsByTagName('script')[0];\n  firstScriptTag.parentNode.insertBefore(tag, firstScriptTag);\n});\n};\n\nif(typeof $3Dmolpromise === 'undefined') {\n$3Dmolpromise = null;\n  $3Dmolpromise = loadScriptAsync('https://cdnjs.cloudflare.com/ajax/libs/3Dmol/2.4.2/3Dmol-min.js');\n}\n\nvar viewer_17417860933834102 = null;\nvar warn = document.getElementById(\"3dmolwarning_17417860933834102\");\nif(warn) {\n    warn.parentNode.removeChild(warn);\n}\n$3Dmolpromise.then(function() {\nviewer_17417860933834102 = $3Dmol.createViewer(document.getElementById(\"3dmolviewer_17417860933834102\"),{backgroundColor:\"white\"});\nviewer_17417860933834102.zoomTo();\n\tviewer_17417860933834102.removeAllModels();\n\tviewer_17417860933834102.addModel(\"CHEMBL1794855-1-1\\n     RDKit          3D\\n\\n 14 15  0  0  0  0  0  0  0  0999 V2000\\n    4.1134   -1.1418   -0.1996 C   0  0  0  0  0  0  0  0  0  0  0  0\\n    3.1317    0.0019   -0.3118 C   0  0  0  0  0  0  0  0  0  0  0  0\\n    1.8061   -0.4524    0.0331 N   0  0  0  0  0  0  0  0  0  0  0  0\\n    1.6644   -0.7890    1.4236 C   0  0  0  0  0  0  0  0  0  0  0  0\\n    0.7732    0.4206   -0.4531 C   0  0  2  0  0  0  0  0  0  0  0  0\\n    0.9258    1.8342    0.1220 C   0  0  0  0  0  0  0  0  0  0  0  0\\n   -0.2173    2.6388   -0.3213 C   0  0  0  0  0  0  0  0  0  0  0  0\\n   -1.5274    2.0370    0.2698 C   0  0  0  0  0  0  0  0  0  0  0  0\\n   -1.6306    0.6136    0.0762 C   0  0  0  0  0  0  0  0  0  0  0  0\\n   -2.8431   -0.0278    0.2388 C   0  0  0  0  0  0  0  0  0  0  0  0\\n   -3.0075   -1.3859    0.0701 C   0  0  0  0  0  0  0  0  0  0  0  0\\n   -1.9301   -2.0973   -0.2669 N   0  0  0  0  0  0  0  0  0  0  0  0\\n   -0.7398   -1.4994   -0.4227 C   0  0  0  0  0  0  0  0  0  0  0  0\\n   -0.5188   -0.1526   -0.2581 C   0  0  0  0  0  0  0  0  0  0  0  0\\n  1  2  1  0\\n  2  3  1  0\\n  3  4  1  0\\n  5  3  1  1\\n  5  6  1  0\\n  6  7  1  0\\n  7  8  1  0\\n  8  9  1  0\\n  9 10  2  0\\n 10 11  1  0\\n 11 12  2  0\\n 12 13  1  0\\n 13 14  2  0\\n 14  5  1  0\\n 14  9  1  0\\nM  END\\n\",\"sdf\");\n\tviewer_17417860933834102.setStyle({\"stick\": {}});\n\tviewer_17417860933834102.setBackgroundColor(\"0xeeeeee\");\n\tviewer_17417860933834102.zoomTo();\nviewer_17417860933834102.render();\n});\n</script>",
      "text/html": [
       "<div id=\"3dmolviewer_17417860933834102\"  style=\"position: relative; width: 400px; height: 400px;\">\n",
       "        <p id=\"3dmolwarning_17417860933834102\" style=\"background-color:#ffcccc;color:black\">3Dmol.js failed to load for some reason.  Please check your browser console for error messages.<br></p>\n",
       "        </div>\n",
       "<script>\n",
       "\n",
       "var loadScriptAsync = function(uri){\n",
       "  return new Promise((resolve, reject) => {\n",
       "    //this is to ignore the existence of requirejs amd\n",
       "    var savedexports, savedmodule;\n",
       "    if (typeof exports !== 'undefined') savedexports = exports;\n",
       "    else exports = {}\n",
       "    if (typeof module !== 'undefined') savedmodule = module;\n",
       "    else module = {}\n",
       "\n",
       "    var tag = document.createElement('script');\n",
       "    tag.src = uri;\n",
       "    tag.async = true;\n",
       "    tag.onload = () => {\n",
       "        exports = savedexports;\n",
       "        module = savedmodule;\n",
       "        resolve();\n",
       "    };\n",
       "  var firstScriptTag = document.getElementsByTagName('script')[0];\n",
       "  firstScriptTag.parentNode.insertBefore(tag, firstScriptTag);\n",
       "});\n",
       "};\n",
       "\n",
       "if(typeof $3Dmolpromise === 'undefined') {\n",
       "$3Dmolpromise = null;\n",
       "  $3Dmolpromise = loadScriptAsync('https://cdnjs.cloudflare.com/ajax/libs/3Dmol/2.4.2/3Dmol-min.js');\n",
       "}\n",
       "\n",
       "var viewer_17417860933834102 = null;\n",
       "var warn = document.getElementById(\"3dmolwarning_17417860933834102\");\n",
       "if(warn) {\n",
       "    warn.parentNode.removeChild(warn);\n",
       "}\n",
       "$3Dmolpromise.then(function() {\n",
       "viewer_17417860933834102 = $3Dmol.createViewer(document.getElementById(\"3dmolviewer_17417860933834102\"),{backgroundColor:\"white\"});\n",
       "viewer_17417860933834102.zoomTo();\n",
       "\tviewer_17417860933834102.removeAllModels();\n",
       "\tviewer_17417860933834102.addModel(\"CHEMBL1794855-1-1\\n     RDKit          3D\\n\\n 14 15  0  0  0  0  0  0  0  0999 V2000\\n    4.1134   -1.1418   -0.1996 C   0  0  0  0  0  0  0  0  0  0  0  0\\n    3.1317    0.0019   -0.3118 C   0  0  0  0  0  0  0  0  0  0  0  0\\n    1.8061   -0.4524    0.0331 N   0  0  0  0  0  0  0  0  0  0  0  0\\n    1.6644   -0.7890    1.4236 C   0  0  0  0  0  0  0  0  0  0  0  0\\n    0.7732    0.4206   -0.4531 C   0  0  2  0  0  0  0  0  0  0  0  0\\n    0.9258    1.8342    0.1220 C   0  0  0  0  0  0  0  0  0  0  0  0\\n   -0.2173    2.6388   -0.3213 C   0  0  0  0  0  0  0  0  0  0  0  0\\n   -1.5274    2.0370    0.2698 C   0  0  0  0  0  0  0  0  0  0  0  0\\n   -1.6306    0.6136    0.0762 C   0  0  0  0  0  0  0  0  0  0  0  0\\n   -2.8431   -0.0278    0.2388 C   0  0  0  0  0  0  0  0  0  0  0  0\\n   -3.0075   -1.3859    0.0701 C   0  0  0  0  0  0  0  0  0  0  0  0\\n   -1.9301   -2.0973   -0.2669 N   0  0  0  0  0  0  0  0  0  0  0  0\\n   -0.7398   -1.4994   -0.4227 C   0  0  0  0  0  0  0  0  0  0  0  0\\n   -0.5188   -0.1526   -0.2581 C   0  0  0  0  0  0  0  0  0  0  0  0\\n  1  2  1  0\\n  2  3  1  0\\n  3  4  1  0\\n  5  3  1  1\\n  5  6  1  0\\n  6  7  1  0\\n  7  8  1  0\\n  8  9  1  0\\n  9 10  2  0\\n 10 11  1  0\\n 11 12  2  0\\n 12 13  1  0\\n 13 14  2  0\\n 14  5  1  0\\n 14  9  1  0\\nM  END\\n\",\"sdf\");\n",
       "\tviewer_17417860933834102.setStyle({\"stick\": {}});\n",
       "\tviewer_17417860933834102.setBackgroundColor(\"0xeeeeee\");\n",
       "\tviewer_17417860933834102.zoomTo();\n",
       "viewer_17417860933834102.render();\n",
       "});\n",
       "</script>"
      ]
     },
     "metadata": {},
     "output_type": "display_data"
    },
    {
     "data": {
      "image/png": "[encoded data removed]",
      "text/html": [],
      "text/plain": [
       "<rdkit.Chem.rdchem.Mol at 0x71ee282149e0>"
      ]
     },
     "execution_count": 23,
     "metadata": {},
     "output_type": "execute_result"
    }
   ],
   "source": [
    "mol2 = Chem.MolFromMolBlock(res[(1,2)][0])\n",
    "mol2"
   ]
  },
  {
   "cell_type": "markdown",
   "id": "a82001ce-1140-4cc7-ab92-b616e181ec24",
   "metadata": {},
   "source": [
    "Now get a conformer for the other molregno, this is the other stereoisomer:"
   ]
  },
  {
   "cell_type": "code",
   "execution_count": 26,
   "id": "9e0fb40c-54bc-46f0-bf0f-26d6bb5ac5e0",
   "metadata": {},
   "outputs": [
    {
     "data": {
      "application/3dmoljs_load.v0": "<div id=\"3dmolviewer_17417861333194482\"  style=\"position: relative; width: 400px; height: 400px;\">\n        <p id=\"3dmolwarning_17417861333194482\" style=\"background-color:#ffcccc;color:black\">3Dmol.js failed to load for some reason.  Please check your browser console for error messages.<br></p>\n        </div>\n<script>\n\nvar loadScriptAsync = function(uri){\n  return new Promise((resolve, reject) => {\n    //this is to ignore the existence of requirejs amd\n    var savedexports, savedmodule;\n    if (typeof exports !== 'undefined') savedexports = exports;\n    else exports = {}\n    if (typeof module !== 'undefined') savedmodule = module;\n    else module = {}\n\n    var tag = document.createElement('script');\n    tag.src = uri;\n    tag.async = true;\n    tag.onload = () => {\n        exports = savedexports;\n        module = savedmodule;\n        resolve();\n    };\n  var firstScriptTag = document.getElementsByTagName('script')[0];\n  firstScriptTag.parentNode.insertBefore(tag, firstScriptTag);\n});\n};\n\nif(typeof $3Dmolpromise === 'undefined') {\n$3Dmolpromise = null;\n  $3Dmolpromise = loadScriptAsync('https://cdnjs.cloudflare.com/ajax/libs/3Dmol/2.4.2/3Dmol-min.js');\n}\n\nvar viewer_17417861333194482 = null;\nvar warn = document.getElementById(\"3dmolwarning_17417861333194482\");\nif(warn) {\n    warn.parentNode.removeChild(warn);\n}\n$3Dmolpromise.then(function() {\nviewer_17417861333194482 = $3Dmol.createViewer(document.getElementById(\"3dmolviewer_17417861333194482\"),{backgroundColor:\"white\"});\nviewer_17417861333194482.zoomTo();\n\tviewer_17417861333194482.removeAllModels();\n\tviewer_17417861333194482.addModel(\"CHEMBL1794855-1-2\\n     RDKit          3D\\n\\n 14 15  0  0  0  0  0  0  0  0999 V2000\\n    3.7192   -0.2049    1.0636 C   0  0  0  0  0  0  0  0  0  0  0  0\\n    3.1006   -0.7774   -0.1506 C   0  0  0  0  0  0  0  0  0  0  0  0\\n    1.6992   -0.8076   -0.2485 N   0  0  0  0  0  0  0  0  0  0  0  0\\n    1.2859   -1.3958   -1.4780 C   0  0  0  0  0  0  0  0  0  0  0  0\\n    0.9071    0.2254    0.2701 C   0  0  1  0  0  0  0  0  0  0  0  0\\n    1.1744    1.5996   -0.3430 C   0  0  0  0  0  0  0  0  0  0  0  0\\n    0.1883    2.5880    0.1673 C   0  0  0  0  0  0  0  0  0  0  0  0\\n   -1.2226    2.1949   -0.2813 C   0  0  0  0  0  0  0  0  0  0  0  0\\n   -1.5046    0.8018   -0.0339 C   0  0  0  0  0  0  0  0  0  0  0  0\\n   -2.7820    0.2917   -0.0635 C   0  0  0  0  0  0  0  0  0  0  0  0\\n   -3.1170   -1.0151    0.1275 C   0  0  0  0  0  0  0  0  0  0  0  0\\n   -2.1181   -1.8885    0.3665 N   0  0  0  0  0  0  0  0  0  0  0  0\\n   -0.8403   -1.4749    0.4041 C   0  0  0  0  0  0  0  0  0  0  0  0\\n   -0.4900   -0.1372    0.2001 C   0  0  0  0  0  0  0  0  0  0  0  0\\n  1  2  1  0\\n  2  3  1  0\\n  3  4  1  0\\n  5  3  1  6\\n  5  6  1  0\\n  6  7  1  0\\n  7  8  1  0\\n  8  9  1  0\\n  9 10  2  0\\n 10 11  1  0\\n 11 12  2  0\\n 12 13  1  0\\n 13 14  2  0\\n 14  5  1  0\\n 14  9  1  0\\nM  END\\n\",\"sdf\");\n\tviewer_17417861333194482.setStyle({\"stick\": {}});\n\tviewer_17417861333194482.setBackgroundColor(\"0xeeeeee\");\n\tviewer_17417861333194482.zoomTo();\nviewer_17417861333194482.render();\n});\n</script>",
      "text/html": [
       "<div id=\"3dmolviewer_17417861333194482\"  style=\"position: relative; width: 400px; height: 400px;\">\n",
       "        <p id=\"3dmolwarning_17417861333194482\" style=\"background-color:#ffcccc;color:black\">3Dmol.js failed to load for some reason.  Please check your browser console for error messages.<br></p>\n",
       "        </div>\n",
       "<script>\n",
       "\n",
       "var loadScriptAsync = function(uri){\n",
       "  return new Promise((resolve, reject) => {\n",
       "    //this is to ignore the existence of requirejs amd\n",
       "    var savedexports, savedmodule;\n",
       "    if (typeof exports !== 'undefined') savedexports = exports;\n",
       "    else exports = {}\n",
       "    if (typeof module !== 'undefined') savedmodule = module;\n",
       "    else module = {}\n",
       "\n",
       "    var tag = document.createElement('script');\n",
       "    tag.src = uri;\n",
       "    tag.async = true;\n",
       "    tag.onload = () => {\n",
       "        exports = savedexports;\n",
       "        module = savedmodule;\n",
       "        resolve();\n",
       "    };\n",
       "  var firstScriptTag = document.getElementsByTagName('script')[0];\n",
       "  firstScriptTag.parentNode.insertBefore(tag, firstScriptTag);\n",
       "});\n",
       "};\n",
       "\n",
       "if(typeof $3Dmolpromise === 'undefined') {\n",
       "$3Dmolpromise = null;\n",
       "  $3Dmolpromise = loadScriptAsync('https://cdnjs.cloudflare.com/ajax/libs/3Dmol/2.4.2/3Dmol-min.js');\n",
       "}\n",
       "\n",
       "var viewer_17417861333194482 = null;\n",
       "var warn = document.getElementById(\"3dmolwarning_17417861333194482\");\n",
       "if(warn) {\n",
       "    warn.parentNode.removeChild(warn);\n",
       "}\n",
       "$3Dmolpromise.then(function() {\n",
       "viewer_17417861333194482 = $3Dmol.createViewer(document.getElementById(\"3dmolviewer_17417861333194482\"),{backgroundColor:\"white\"});\n",
       "viewer_17417861333194482.zoomTo();\n",
       "\tviewer_17417861333194482.removeAllModels();\n",
       "\tviewer_17417861333194482.addModel(\"CHEMBL1794855-1-2\\n     RDKit          3D\\n\\n 14 15  0  0  0  0  0  0  0  0999 V2000\\n    3.7192   -0.2049    1.0636 C   0  0  0  0  0  0  0  0  0  0  0  0\\n    3.1006   -0.7774   -0.1506 C   0  0  0  0  0  0  0  0  0  0  0  0\\n    1.6992   -0.8076   -0.2485 N   0  0  0  0  0  0  0  0  0  0  0  0\\n    1.2859   -1.3958   -1.4780 C   0  0  0  0  0  0  0  0  0  0  0  0\\n    0.9071    0.2254    0.2701 C   0  0  1  0  0  0  0  0  0  0  0  0\\n    1.1744    1.5996   -0.3430 C   0  0  0  0  0  0  0  0  0  0  0  0\\n    0.1883    2.5880    0.1673 C   0  0  0  0  0  0  0  0  0  0  0  0\\n   -1.2226    2.1949   -0.2813 C   0  0  0  0  0  0  0  0  0  0  0  0\\n   -1.5046    0.8018   -0.0339 C   0  0  0  0  0  0  0  0  0  0  0  0\\n   -2.7820    0.2917   -0.0635 C   0  0  0  0  0  0  0  0  0  0  0  0\\n   -3.1170   -1.0151    0.1275 C   0  0  0  0  0  0  0  0  0  0  0  0\\n   -2.1181   -1.8885    0.3665 N   0  0  0  0  0  0  0  0  0  0  0  0\\n   -0.8403   -1.4749    0.4041 C   0  0  0  0  0  0  0  0  0  0  0  0\\n   -0.4900   -0.1372    0.2001 C   0  0  0  0  0  0  0  0  0  0  0  0\\n  1  2  1  0\\n  2  3  1  0\\n  3  4  1  0\\n  5  3  1  6\\n  5  6  1  0\\n  6  7  1  0\\n  7  8  1  0\\n  8  9  1  0\\n  9 10  2  0\\n 10 11  1  0\\n 11 12  2  0\\n 12 13  1  0\\n 13 14  2  0\\n 14  5  1  0\\n 14  9  1  0\\nM  END\\n\",\"sdf\");\n",
       "\tviewer_17417861333194482.setStyle({\"stick\": {}});\n",
       "\tviewer_17417861333194482.setBackgroundColor(\"0xeeeeee\");\n",
       "\tviewer_17417861333194482.zoomTo();\n",
       "viewer_17417861333194482.render();\n",
       "});\n",
       "</script>"
      ]
     },
     "metadata": {},
     "output_type": "display_data"
    },
    {
     "data": {
      "image/png": "[encoded data removed]",
      "text/html": [],
      "text/plain": [
       "<rdkit.Chem.rdchem.Mol at 0x71ee282150e0>"
      ]
     },
     "execution_count": 26,
     "metadata": {},
     "output_type": "execute_result"
    }
   ],
   "source": [
    "Chem.MolFromMolBlock(res[(2,7)][0])"
   ]
  },
  {
   "cell_type": "code",
   "execution_count": null,
   "id": "e28146c7-ff93-42cd-8d9e-6859e3da9fae",
   "metadata": {},
   "outputs": [],
   "source": []
  }
 ],
 "metadata": {
  "kernelspec": {
   "display_name": "Python 3 (ipykernel)",
   "language": "python",
   "name": "python3"
  },
  "language_info": {
   "codemirror_mode": {
    "name": "ipython",
    "version": 3
   },
   "file_extension": ".py",
   "mimetype": "text/x-python",
   "name": "python",
   "nbconvert_exporter": "python",
   "pygments_lexer": "ipython3",
   "version": "3.13.2"
  },
  "varInspector": {
   "cols": {
    "lenName": 16,
    "lenType": 16,
    "lenVar": 40
   },
   "kernels_config": {
    "python": {
     "delete_cmd_postfix": "",
     "delete_cmd_prefix": "del ",
     "library": "var_list.py",
     "varRefreshCmd": "print(var_dic_list())"
    },
    "r": {
     "delete_cmd_postfix": ") ",
     "delete_cmd_prefix": "rm(",
     "library": "var_list.r",
     "varRefreshCmd": "cat(var_dic_list()) "
    }
   },
   "types_to_exclude": [
    "module",
    "function",
    "builtin_function_or_method",
    "instance",
    "_Feature"
   ],
   "window_display": false
  }
 },
 "nbformat": 4,
 "nbformat_minor": 5
}
