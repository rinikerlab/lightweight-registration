{
 "cells": [
  {
   "cell_type": "markdown",
   "id": "5ba91b6a",
   "metadata": {},
   "source": [
    "# Tracking computational experiments which create files\n",
    "\n",
    "This notebooks demonstrates how to very simply track the results of computational experiments which create files. \n",
    "\n",
    "We'll start by registering the molecules that we're going to work with using standard lwreg functionality and then show three different, but related, use cases of working with those molecules.\n",
    "\n",
    "1. Generate a conformer for each molecules, calculate a few 3D descriptors for the conformers, save the conformers to an SDF file. Store the names of the SDF files and the computed descriptor values in the database\n",
    "2. Generate multiple conformers for each molecule and calculate their energies. Save the conformers to an SDF file. Store the names of the SDF files and the energies in the database.\n",
    "3. Read in the conformers generated in the first use case, run a simple QM calculation on them, and extract a few properties from the QM results. Store the QM results in the database.\n",
    "\n",
    "Note that it's possible to, with a little bit more effort up-front, make the database considerably more useful (this is demonstrated in the notebook for the second computational experiment), but you can already do a *lot* with a small amount of code."
   ]
  },
  {
   "cell_type": "code",
   "execution_count": 1,
   "id": "42e5b2ad",
   "metadata": {},
   "outputs": [
    {
     "name": "stdout",
     "output_type": "stream",
     "text": [
      "2024.09.5\n"
     ]
    }
   ],
   "source": [
    "from rdkit import Chem\n",
    "from rdkit.Chem import Draw\n",
    "from rdkit.Chem.Draw import IPythonConsole\n",
    "from rdkit.Chem import rdDepictor\n",
    "rdDepictor.SetPreferCoordGen(True)\n",
    "from rdkit.Chem import rdDistGeom\n",
    "import os\n",
    "import rdkit\n",
    "print(rdkit.__version__)\n",
    "%load_ext sql\n",
    "%config SqlMagic.named_parameters=\"enabled\""
   ]
  },
  {
   "cell_type": "markdown",
   "id": "58e8f8f3",
   "metadata": {},
   "source": [
    "Some data from ChEMBL"
   ]
  },
  {
   "cell_type": "code",
   "execution_count": 2,
   "id": "b50974f8",
   "metadata": {},
   "outputs": [
    {
     "name": "stderr",
     "output_type": "stream",
     "text": [
      "<>:3: SyntaxWarning: invalid escape sequence '\\C'\n",
      "<>:3: SyntaxWarning: invalid escape sequence '\\C'\n",
      "/tmp/ipykernel_3379498/688675569.py:3: SyntaxWarning: invalid escape sequence '\\C'\n",
      "  txt = '''\"standard_relation\",\"standard_value\",\"standard_type\",\"pchembl_value\",\"assay_chembl_id\",\"target_chembl_id\",\"canonical_smiles\",\"compound_chembl_id\"\n"
     ]
    },
    {
     "data": {
      "text/html": [
       "<div>\n",
       "<style scoped>\n",
       "    .dataframe tbody tr th:only-of-type {\n",
       "        vertical-align: middle;\n",
       "    }\n",
       "\n",
       "    .dataframe tbody tr th {\n",
       "        vertical-align: top;\n",
       "    }\n",
       "\n",
       "    .dataframe thead th {\n",
       "        text-align: right;\n",
       "    }\n",
       "</style>\n",
       "<table border=\"1\" class=\"dataframe\">\n",
       "  <thead>\n",
       "    <tr style=\"text-align: right;\">\n",
       "      <th></th>\n",
       "      <th>standard_relation</th>\n",
       "      <th>standard_value</th>\n",
       "      <th>standard_type</th>\n",
       "      <th>pchembl_value</th>\n",
       "      <th>assay_chembl_id</th>\n",
       "      <th>target_chembl_id</th>\n",
       "      <th>canonical_smiles</th>\n",
       "      <th>compound_chembl_id</th>\n",
       "    </tr>\n",
       "  </thead>\n",
       "  <tbody>\n",
       "    <tr>\n",
       "      <th>0</th>\n",
       "      <td>&gt;</td>\n",
       "      <td>10000.0</td>\n",
       "      <td>Ki</td>\n",
       "      <td>NaN</td>\n",
       "      <td>CHEMBL615807</td>\n",
       "      <td>CHEMBL214</td>\n",
       "      <td>CCN(C)C1CCCc2ccncc12.OC(=O)\\C=C/C(=O)O.OC(=O)\\...</td>\n",
       "      <td>CHEMBL1794855</td>\n",
       "    </tr>\n",
       "    <tr>\n",
       "      <th>1</th>\n",
       "      <td>=</td>\n",
       "      <td>168.0</td>\n",
       "      <td>Ki</td>\n",
       "      <td>6.78</td>\n",
       "      <td>CHEMBL615460</td>\n",
       "      <td>CHEMBL214</td>\n",
       "      <td>CCCN(CCC)[C@@H]1CCc2c(OC)cccc2[C@@H]1C</td>\n",
       "      <td>CHEMBL278751</td>\n",
       "    </tr>\n",
       "    <tr>\n",
       "      <th>2</th>\n",
       "      <td>=</td>\n",
       "      <td>181.0</td>\n",
       "      <td>Ki</td>\n",
       "      <td>6.74</td>\n",
       "      <td>CHEMBL615809</td>\n",
       "      <td>CHEMBL214</td>\n",
       "      <td>C(N1CCN(CC1)c2ncccn2)c3c[nH]c(n3)c4ccccc4</td>\n",
       "      <td>CHEMBL103772</td>\n",
       "    </tr>\n",
       "    <tr>\n",
       "      <th>3</th>\n",
       "      <td>=</td>\n",
       "      <td>3.9</td>\n",
       "      <td>Ki</td>\n",
       "      <td>8.41</td>\n",
       "      <td>CHEMBL615460</td>\n",
       "      <td>CHEMBL214</td>\n",
       "      <td>CCCN1CC[C@@H]2[C@H]1CCc3ccc4ccoc4c23</td>\n",
       "      <td>CHEMBL328107</td>\n",
       "    </tr>\n",
       "    <tr>\n",
       "      <th>4</th>\n",
       "      <td>=</td>\n",
       "      <td>1.6</td>\n",
       "      <td>Ki</td>\n",
       "      <td>8.80</td>\n",
       "      <td>CHEMBL615756</td>\n",
       "      <td>CHEMBL214</td>\n",
       "      <td>COc1cccc2OC[C@H](CN3[C@@H]4CC[C@H]3C[C@@](O)(C...</td>\n",
       "      <td>CHEMBL148860</td>\n",
       "    </tr>\n",
       "  </tbody>\n",
       "</table>\n",
       "</div>"
      ],
      "text/plain": [
       "  standard_relation  standard_value standard_type  pchembl_value  \\\n",
       "0                 >         10000.0            Ki            NaN   \n",
       "1                 =           168.0            Ki           6.78   \n",
       "2                 =           181.0            Ki           6.74   \n",
       "3                 =             3.9            Ki           8.41   \n",
       "4                 =             1.6            Ki           8.80   \n",
       "\n",
       "  assay_chembl_id target_chembl_id  \\\n",
       "0    CHEMBL615807        CHEMBL214   \n",
       "1    CHEMBL615460        CHEMBL214   \n",
       "2    CHEMBL615809        CHEMBL214   \n",
       "3    CHEMBL615460        CHEMBL214   \n",
       "4    CHEMBL615756        CHEMBL214   \n",
       "\n",
       "                                    canonical_smiles compound_chembl_id  \n",
       "0  CCN(C)C1CCCc2ccncc12.OC(=O)\\C=C/C(=O)O.OC(=O)\\...      CHEMBL1794855  \n",
       "1             CCCN(CCC)[C@@H]1CCc2c(OC)cccc2[C@@H]1C       CHEMBL278751  \n",
       "2          C(N1CCN(CC1)c2ncccn2)c3c[nH]c(n3)c4ccccc4       CHEMBL103772  \n",
       "3               CCCN1CC[C@@H]2[C@H]1CCc3ccc4ccoc4c23       CHEMBL328107  \n",
       "4  COc1cccc2OC[C@H](CN3[C@@H]4CC[C@H]3C[C@@](O)(C...       CHEMBL148860  "
      ]
     },
     "execution_count": 2,
     "metadata": {},
     "output_type": "execute_result"
    }
   ],
   "source": [
    "import pandas as pd\n",
    "from io import StringIO\n",
    "txt = '''\"standard_relation\",\"standard_value\",\"standard_type\",\"pchembl_value\",\"assay_chembl_id\",\"target_chembl_id\",\"canonical_smiles\",\"compound_chembl_id\"\n",
    "\">\",10000.0,\"Ki\",,\"CHEMBL615807\",\"CHEMBL214\",\"CCN(C)C1CCCc2ccncc12.OC(=O)\\C=C/C(=O)O.OC(=O)\\C=C/C(=O)O\",\"CHEMBL1794855\"\n",
    "\"=\",168.0,\"Ki\",6.78,\"CHEMBL615460\",\"CHEMBL214\",\"CCCN(CCC)[C@@H]1CCc2c(OC)cccc2[C@@H]1C\",\"CHEMBL278751\"\n",
    "\"=\",181.0,\"Ki\",6.74,\"CHEMBL615809\",\"CHEMBL214\",\"C(N1CCN(CC1)c2ncccn2)c3c[nH]c(n3)c4ccccc4\",\"CHEMBL103772\"\n",
    "\"=\",3.9,\"Ki\",8.41,\"CHEMBL615460\",\"CHEMBL214\",\"CCCN1CC[C@@H]2[C@H]1CCc3ccc4ccoc4c23\",\"CHEMBL328107\"\n",
    "\"=\",1.6,\"Ki\",8.8,\"CHEMBL615756\",\"CHEMBL214\",\"COc1cccc2OC[C@H](CN3[C@@H]4CC[C@H]3C[C@@](O)(C4)c5csc6ccccc56)Oc12\",\"CHEMBL148860\"\n",
    "\"=\",210.0,\"Ki\",6.68,\"CHEMBL615460\",\"CHEMBL214\",\"CCCN(CCC)C1CCc2c(C1)ccc3ccoc23\",\"CHEMBL96735\"\n",
    "\"=\",1.7,\"Ki\",8.77,\"CHEMBL616120\",\"CHEMBL214\",\"CCc1cccc(OC[C@@H](O)CN2CCC3(CC2)OCc4c3ccc5ccccc45)c1\",\"CHEMBL111065\"\n",
    "\"=\",344.0,\"Ki\",6.46,\"CHEMBL615460\",\"CHEMBL214\",\"CCCN(CCC)C1CCc2c(O)cccc2C1\",\"CHEMBL273273\"\n",
    "\"=\",127.7,\"Ki\",6.89,\"CHEMBL615756\",\"CHEMBL214\",\"COc1cccc2OC[C@H](CN3C4CCC3C=C(C4)n5ccc6cc(F)ccc56)Oc12\",\"CHEMBL150050\"\n",
    "\"=\",5.87,\"Ki\",8.23,\"CHEMBL615756\",\"CHEMBL214\",\"CCOc1cccc2OC[C@H](CN3[C@@H]4CC[C@H]3C[C@@](O)(C4)c5ccc6ccccc6c5)Oc12\",\"CHEMBL151786\"\n",
    "'''\n",
    "sio = StringIO(txt)\n",
    "df = pd.read_csv(sio)\n",
    "df.head()"
   ]
  },
  {
   "cell_type": "code",
   "execution_count": 3,
   "id": "e69a0718",
   "metadata": {},
   "outputs": [
    {
     "data": {
      "image/png": "[encoded data removed]",
      "text/plain": [
       "<IPython.core.display.Image object>"
      ]
     },
     "execution_count": 3,
     "metadata": {},
     "output_type": "execute_result"
    }
   ],
   "source": [
    "ms = [Chem.MolFromSmiles(smi) for smi in df.canonical_smiles]\n",
    "Draw.MolsToGridImage(ms,legends=list(df.compound_chembl_id),molsPerRow=3,subImgSize=(250,200))"
   ]
  },
  {
   "cell_type": "code",
   "execution_count": 4,
   "id": "04afadc3",
   "metadata": {},
   "outputs": [],
   "source": [
    "import lwreg\n",
    "from lwreg import standardization_lib\n",
    "from lwreg import utils\n",
    "\n",
    "config = lwreg.utils.defaultConfig()\n",
    "# set the name of the database we'll work with:\n",
    "config['dbtype'] = 'sqlite3'\n",
    "config['dbname'] = 'lwreg_experiments_demo.sqlite3'\n",
    "# be explicit about what our standardization is:\n",
    "config['standardization'] = standardization_lib.ChargeParent()\n",
    "lwreg.set_default_config(config)"
   ]
  },
  {
   "cell_type": "markdown",
   "id": "5e918495",
   "metadata": {},
   "source": [
    "Initialize the database. **Note** that this erases everything in the current database, so be very careful with this command!"
   ]
  },
  {
   "cell_type": "code",
   "execution_count": 5,
   "id": "523fde8d",
   "metadata": {},
   "outputs": [
    {
     "name": "stdout",
     "output_type": "stream",
     "text": [
      "This will destroy any existing information in the registration database.\n"
     ]
    },
    {
     "name": "stdin",
     "output_type": "stream",
     "text": [
      "  are you sure? [yes/no]:  yes\n"
     ]
    },
    {
     "data": {
      "text/plain": [
       "True"
      ]
     },
     "execution_count": 5,
     "metadata": {},
     "output_type": "execute_result"
    }
   ],
   "source": [
    "lwreg.initdb()"
   ]
  },
  {
   "cell_type": "markdown",
   "id": "b6b1a221",
   "metadata": {},
   "source": [
    "Register all of our compounds at once:"
   ]
  },
  {
   "cell_type": "code",
   "execution_count": 6,
   "id": "ff589f6a",
   "metadata": {},
   "outputs": [],
   "source": [
    "# The RDKit standardizer is quite verbose by default, make it be quiet:\n",
    "from rdkit import RDLogger\n",
    "RDLogger.DisableLog('rdApp.info')"
   ]
  },
  {
   "cell_type": "code",
   "execution_count": 7,
   "id": "0315afb7",
   "metadata": {},
   "outputs": [
    {
     "name": "stdout",
     "output_type": "stream",
     "text": [
      "Registered 10 unique compounds.\n"
     ]
    }
   ],
   "source": [
    "# now bulk register. We want to also collect IDs of compounds which were already registered.\n",
    "reg_ids = lwreg.bulk_register(mols=ms,fail_on_duplicate=False)\n",
    "reg_ids = set(reg_ids)\n",
    "print(f'Registered {len(reg_ids)} unique compounds.')"
   ]
  },
  {
   "cell_type": "code",
   "execution_count": 8,
   "id": "63623771",
   "metadata": {
    "scrolled": true
   },
   "outputs": [
    {
     "data": {
      "text/plain": [
       "{1, 2, 3, 4, 5, 6, 7, 8, 9, 10}"
      ]
     },
     "execution_count": 8,
     "metadata": {},
     "output_type": "execute_result"
    }
   ],
   "source": [
    "reg_ids"
   ]
  },
  {
   "cell_type": "markdown",
   "id": "ec345215",
   "metadata": {},
   "source": [
    "Get the registered mol blocks from lwreg and convert them to molecules."
   ]
  },
  {
   "cell_type": "code",
   "execution_count": 9,
   "id": "ebd25528",
   "metadata": {},
   "outputs": [
    {
     "data": {
      "image/png": "[encoded data removed]",
      "text/plain": [
       "<IPython.core.display.Image object>"
      ]
     },
     "execution_count": 9,
     "metadata": {},
     "output_type": "execute_result"
    }
   ],
   "source": [
    "mol_data = lwreg.retrieve(ids=list(reg_ids))\n",
    "mids,new_mols = zip(*[(mid,Chem.MolFromMolBlock(d)) for mid,(d,_) in mol_data.items()])\n",
    "Draw.MolsToGridImage(new_mols,legends=[str(x) for x in mids],molsPerRow=3,subImgSize=(250,200))"
   ]
  },
  {
   "cell_type": "markdown",
   "id": "4f01d8d0",
   "metadata": {},
   "source": [
    "# Set up schema to hold experiments and results in the database:"
   ]
  },
  {
   "cell_type": "markdown",
   "id": "495ebc3a",
   "metadata": {},
   "source": [
    "Initialize the experiment database. **Note** that executing this cell destroys the data in the existing experiments tables"
   ]
  },
  {
   "cell_type": "code",
   "execution_count": 10,
   "id": "d14a82a3",
   "metadata": {},
   "outputs": [],
   "source": [
    "cn = utils.connect(config)\n",
    "curs = cn.cursor()\n",
    "curs.execute('drop table if exists experiments_metadata')\n",
    "curs.execute('create table experiments_metadata (expt_uid text primary key,metadata jsonb)')\n",
    "curs.execute('drop table if exists experiments_data')\n",
    "curs.execute('create table experiments_data (result_id integer primary key, expt_uid text not null,molregno int not null,data jsonb)')\n",
    "cn.commit()"
   ]
  },
  {
   "cell_type": "code",
   "execution_count": 11,
   "id": "f2b49ae0",
   "metadata": {},
   "outputs": [],
   "source": [
    "from datetime import datetime\n",
    "def non_default_params_to_dict(obj,defaults):\n",
    "    res = {}\n",
    "    for k in dir(obj):\n",
    "        if k.startswith('__'):\n",
    "            continue\n",
    "        v = getattr(obj,k)\n",
    "        if callable(v):\n",
    "            continue\n",
    "        if v == getattr(defaults,k):\n",
    "            continue\n",
    "        else:\n",
    "            res[k] = v\n",
    "    return res\n"
   ]
  },
  {
   "cell_type": "markdown",
   "id": "5fe39960",
   "metadata": {},
   "source": [
    "# Part1: Generate conformers and storing results in files\n",
    "\n",
    "It's also possible to store the conformers directly in the database; this will be demonstrated in a different notebook."
   ]
  },
  {
   "cell_type": "code",
   "execution_count": 12,
   "id": "fa69288b",
   "metadata": {},
   "outputs": [],
   "source": [
    "from rdkit.Chem import rdMolDescriptors\n",
    "ps = rdDistGeom.ETKDGv3()\n",
    "ps.randomSeed = 0xf00d\n",
    "ps.numThreads = 8\n",
    "\n",
    "dg_metadata = non_default_params_to_dict(ps,rdDistGeom.ETKDGv3())\n",
    "\n",
    "cg_expt_metadata = {\n",
    "    'Experiment Type':'Conformer generation',\n",
    "    'Method': 'ETKDGv3',\n",
    "    'RDKit Version': rdkit.__version__,\n",
    "    'Date': str(datetime.now()),\n",
    "    'target_num_conformers':1,\n",
    "    'note':'run1: 3D conformers of some ChEMBL molecules + some 3D descriptors'\n",
    "}\n",
    "cg_expt_metadata.update(dg_metadata)"
   ]
  },
  {
   "cell_type": "code",
   "execution_count": 13,
   "id": "6ea3ab62",
   "metadata": {},
   "outputs": [
    {
     "name": "stdout",
     "output_type": "stream",
     "text": [
      "got a conformer for 10 of 10 molecules\n"
     ]
    }
   ],
   "source": [
    "m3ds = []\n",
    "for mid,m in zip(mids,new_mols):\n",
    "    mh = Chem.AddHs(m)\n",
    "    cid = rdDistGeom.EmbedMolecule(mh,ps)\n",
    "    if cid != -1:\n",
    "        mh.SetDoubleProp('NPR1',rdMolDescriptors.CalcNPR1(mh))\n",
    "        mh.SetDoubleProp('NPR2',rdMolDescriptors.CalcNPR2(mh))\n",
    "        mh.SetDoubleProp('RadiusOfGyration',rdMolDescriptors.CalcRadiusOfGyration(mh))\n",
    "        mh.SetDoubleProp('PBF',rdMolDescriptors.CalcPBF(mh))\n",
    "        m3ds.append((mid,mh))\n",
    "        \n",
    "print(f'got a conformer for {len(m3ds)} of {len(new_mols)} molecules')\n",
    "    "
   ]
  },
  {
   "cell_type": "code",
   "execution_count": 14,
   "id": "31286e2c",
   "metadata": {},
   "outputs": [
    {
     "data": {
      "text/plain": [
       "{'Experiment Type': 'Conformer generation',\n",
       " 'Method': 'ETKDGv3',\n",
       " 'RDKit Version': '2024.09.5',\n",
       " 'Date': '2025-02-25 10:09:36.148762',\n",
       " 'target_num_conformers': 1,\n",
       " 'note': 'run1: 3D conformers of some ChEMBL molecules + some 3D descriptors',\n",
       " 'numThreads': 8,\n",
       " 'randomSeed': 61453}"
      ]
     },
     "execution_count": 14,
     "metadata": {},
     "output_type": "execute_result"
    }
   ],
   "source": [
    "cg_expt_metadata"
   ]
  },
  {
   "cell_type": "markdown",
   "id": "b2a0106d",
   "metadata": {},
   "source": [
    "Register the experiment"
   ]
  },
  {
   "cell_type": "code",
   "execution_count": 15,
   "id": "2c668d4a",
   "metadata": {},
   "outputs": [],
   "source": [
    "import json\n",
    "import uuid\n",
    "cg_expt_uid = str(uuid.uuid4())\n",
    "curs.execute('insert into experiments_metadata values (?,?)',(str(cg_expt_uid),json.dumps(cg_expt_metadata)))\n",
    "cn.commit()"
   ]
  },
  {
   "cell_type": "markdown",
   "id": "d07e4845",
   "metadata": {},
   "source": [
    "And now capture the results"
   ]
  },
  {
   "cell_type": "code",
   "execution_count": 16,
   "id": "54588a80",
   "metadata": {},
   "outputs": [],
   "source": [
    "pathn = f'./results/expt_{cg_expt_uid}'\n",
    "try:\n",
    "    os.mkdir(pathn)\n",
    "except FileExistsError:\n",
    "    pass\n",
    "for mid,m in m3ds:\n",
    "    mol_uid = str(uuid.uuid4())\n",
    "    fn = f'{pathn}/{mol_uid}.sdf'\n",
    "    with Chem.SDWriter(fn) as w:\n",
    "        m.SetProp('_Name',str(mid))\n",
    "        w.write(m)\n",
    "    props = m.GetPropsAsDict()\n",
    "    props['sdf'] = fn\n",
    "    curs.execute('insert into experiments_data (expt_uid, molregno, data) values (?, ?, ?)',(cg_expt_uid,mid,json.dumps(props)))\n",
    "cn.commit()"
   ]
  },
  {
   "cell_type": "markdown",
   "id": "68b90e70",
   "metadata": {},
   "source": [
    "## Some queries"
   ]
  },
  {
   "cell_type": "markdown",
   "id": "02b5d527",
   "metadata": {},
   "source": [
    "Find the experiment ID we want to use:"
   ]
  },
  {
   "cell_type": "code",
   "execution_count": 17,
   "id": "9966ebd6",
   "metadata": {
    "scrolled": true
   },
   "outputs": [
    {
     "data": {
      "text/html": [
       "<span style=\"None\">Connecting to &#x27;sqlite:///lwreg_experiments_demo.sqlite3&#x27;</span>"
      ],
      "text/plain": [
       "Connecting to 'sqlite:///lwreg_experiments_demo.sqlite3'"
      ]
     },
     "metadata": {},
     "output_type": "display_data"
    },
    {
     "data": {
      "text/html": [
       "<table>\n",
       "    <thead>\n",
       "        <tr>\n",
       "            <th>expt_uid</th>\n",
       "            <th>(metadata->'note')</th>\n",
       "        </tr>\n",
       "    </thead>\n",
       "    <tbody>\n",
       "        <tr>\n",
       "            <td>b542dcad-c571-4580-81ea-c2938c5c4b73</td>\n",
       "            <td>\"run1: 3D conformers of some ChEMBL molecules + some 3D descriptors\"</td>\n",
       "        </tr>\n",
       "    </tbody>\n",
       "</table>"
      ],
      "text/plain": [
       "+--------------------------------------+----------------------------------------------------------------------+\n",
       "|               expt_uid               |                          (metadata->'note')                          |\n",
       "+--------------------------------------+----------------------------------------------------------------------+\n",
       "| b542dcad-c571-4580-81ea-c2938c5c4b73 | \"run1: 3D conformers of some ChEMBL molecules + some 3D descriptors\" |\n",
       "+--------------------------------------+----------------------------------------------------------------------+"
      ]
     },
     "execution_count": 17,
     "metadata": {},
     "output_type": "execute_result"
    }
   ],
   "source": [
    "d = %sql sqlite:///lwreg_experiments_demo.sqlite3 \\\n",
    "    select expt_uid,(metadata->'note') from experiments_metadata;\n",
    "d"
   ]
  },
  {
   "cell_type": "code",
   "execution_count": 18,
   "id": "9f1b7bc2",
   "metadata": {},
   "outputs": [
    {
     "data": {
      "text/plain": [
       "'b542dcad-c571-4580-81ea-c2938c5c4b73'"
      ]
     },
     "execution_count": 18,
     "metadata": {},
     "output_type": "execute_result"
    }
   ],
   "source": [
    "d = %sql sqlite:///lwreg_experiments_demo.sqlite3 \\\n",
    "    select expt_uid from experiments_metadata where \\\n",
    "       metadata->>'note' like 'run1:%';\n",
    "cg_expt_uid = d[0][0]\n",
    "cg_expt_uid"
   ]
  },
  {
   "cell_type": "markdown",
   "id": "b834d4c2",
   "metadata": {},
   "source": [
    "Another query: get SMILES for all the molecules where the PBF value is greater than 1.0"
   ]
  },
  {
   "cell_type": "code",
   "execution_count": 19,
   "id": "d5d45b01",
   "metadata": {},
   "outputs": [
    {
     "data": {
      "text/html": [
       "<table>\n",
       "    <thead>\n",
       "        <tr>\n",
       "            <th>molregno</th>\n",
       "            <th>canonical_smiles</th>\n",
       "            <th>pbf</th>\n",
       "        </tr>\n",
       "    </thead>\n",
       "    <tbody>\n",
       "        <tr>\n",
       "            <td>6</td>\n",
       "            <td>CCCN(CCC)C1CCc2c(ccc3ccoc23)C1</td>\n",
       "            <td>1.0574117932406821</td>\n",
       "        </tr>\n",
       "        <tr>\n",
       "            <td>7</td>\n",
       "            <td>CCc1cccc(OC[C@@H](O)CN2CCC3(CC2)OCc2c3ccc3ccccc23)c1</td>\n",
       "            <td>1.3337085295350457</td>\n",
       "        </tr>\n",
       "        <tr>\n",
       "            <td>9</td>\n",
       "            <td>COc1cccc2c1O[C@@H](CN1C3C=C(n4ccc5cc(F)ccc54)CC1CC3)CO2</td>\n",
       "            <td>1.1818511415833348</td>\n",
       "        </tr>\n",
       "        <tr>\n",
       "            <td>10</td>\n",
       "            <td>CCOc1cccc2c1O[C@@H](CN1[C@@H]3CC[C@H]1C[C@](O)(c1ccc4ccccc4c1)C3)CO2</td>\n",
       "            <td>1.322635377832186</td>\n",
       "        </tr>\n",
       "    </tbody>\n",
       "</table>"
      ],
      "text/plain": [
       "+----------+----------------------------------------------------------------------+--------------------+\n",
       "| molregno |                           canonical_smiles                           |        pbf         |\n",
       "+----------+----------------------------------------------------------------------+--------------------+\n",
       "|    6     |                    CCCN(CCC)C1CCc2c(ccc3ccoc23)C1                    | 1.0574117932406821 |\n",
       "|    7     |         CCc1cccc(OC[C@@H](O)CN2CCC3(CC2)OCc2c3ccc3ccccc23)c1         | 1.3337085295350457 |\n",
       "|    9     |       COc1cccc2c1O[C@@H](CN1C3C=C(n4ccc5cc(F)ccc54)CC1CC3)CO2        | 1.1818511415833348 |\n",
       "|    10    | CCOc1cccc2c1O[C@@H](CN1[C@@H]3CC[C@H]1C[C@](O)(c1ccc4ccccc4c1)C3)CO2 | 1.322635377832186  |\n",
       "+----------+----------------------------------------------------------------------+--------------------+"
      ]
     },
     "execution_count": 19,
     "metadata": {},
     "output_type": "execute_result"
    }
   ],
   "source": [
    "d = %sql sqlite:///lwreg_experiments_demo.sqlite3 \\\n",
    "    select molregno,canonical_smiles,data->>'PBF' pbf from experiments_data \\\n",
    "            join hashes using (molregno) where expt_uid=:cg_expt_uid and data->>'PBF'>1.0;\n",
    "d"
   ]
  },
  {
   "cell_type": "markdown",
   "id": "573cde2f",
   "metadata": {},
   "source": [
    "# Part 2: Multi-conformer generation"
   ]
  },
  {
   "cell_type": "markdown",
   "id": "458ff78b",
   "metadata": {},
   "source": [
    "For this experiment we will generate mulitple conformers for each molecule and calculate their MMFF94s energies. The conformers are written to SDF files and the filenames and MMFF94s energies are stored in the database"
   ]
  },
  {
   "cell_type": "code",
   "execution_count": 20,
   "id": "7361ce37",
   "metadata": {},
   "outputs": [],
   "source": [
    "ps = rdDistGeom.ETKDGv3()\n",
    "ps.randomSeed = 0xf00d\n",
    "ps.numThreads = 8\n",
    "ps.pruneRmsThresh = 0.5\n",
    "\n",
    "dg_metadata = non_default_params_to_dict(ps,rdDistGeom.ETKDGv3())\n",
    "\n",
    "target_num_confs = 100\n",
    "cg_expt_metadata = {\n",
    "    'Experiment Type':'Conformer generation',\n",
    "    'Method': 'ETKDGv3',\n",
    "    'RDKit Version': rdkit.__version__,\n",
    "    'Date': str(datetime.now()),\n",
    "    'target_num_conformers':target_num_confs,\n",
    "    'note':'run2: multiconf run ChEMBL molecules + MM94s energies'\n",
    "}\n",
    "cg_expt_metadata.update(dg_metadata)"
   ]
  },
  {
   "cell_type": "code",
   "execution_count": 21,
   "id": "f89b7e59",
   "metadata": {},
   "outputs": [],
   "source": [
    "import json\n",
    "import uuid\n",
    "cg_expt_uid = str(uuid.uuid4())\n",
    "curs.execute('insert into experiments_metadata values (?,?)',(str(cg_expt_uid),json.dumps(cg_expt_metadata)))\n",
    "cn.commit()"
   ]
  },
  {
   "cell_type": "code",
   "execution_count": 22,
   "id": "6c221fd7",
   "metadata": {},
   "outputs": [],
   "source": [
    "from rdkit.ForceField import rdForceField\n",
    "from rdkit.Chem import rdForceFieldHelpers\n",
    "\n",
    "pathn = f'./results/expt_{cg_expt_uid}'\n",
    "try:\n",
    "    os.mkdir(pathn)\n",
    "except FileExistsError:\n",
    "    pass\n",
    "for mid,m in zip(mids,new_mols):\n",
    "    mh = Chem.AddHs(m)\n",
    "    mol_uid = str(uuid.uuid4())\n",
    "    cids = rdDistGeom.EmbedMultipleConfs(mh,target_num_confs,ps)\n",
    "    mp = rdForceFieldHelpers.MMFFGetMoleculeProperties(mh,mmffVariant='MMFF94s')\n",
    "    fn = f'{pathn}/{mol_uid}.sdf'\n",
    "    energies = []\n",
    "    with Chem.SDWriter(fn) as w:\n",
    "        for cid in cids:\n",
    "            ff = rdForceFieldHelpers.MMFFGetMoleculeForceField(mh,mp,confId=cid)\n",
    "            mc = Chem.Mol(mh)\n",
    "            mc.SetProp('_Name',str(mid))\n",
    "            e = ff.CalcEnergy()\n",
    "            # store the conformer energy as a property on the molecule:\n",
    "            mc.SetDoubleProp('MMFF94s_Energy',e)\n",
    "            # remove all conformers except the one we're working with:\n",
    "            mc.RemoveAllConformers()\n",
    "            mc.AddConformer(mh.GetConformer(cid))\n",
    "            # write the conformer to our output SDF file:\n",
    "            w.write(mc)\n",
    "            \n",
    "            # and save the energy so that we can write it to the database\n",
    "            energies.append(e)\n",
    "            \n",
    "    props = m.GetPropsAsDict()\n",
    "    props['sdf'] = fn\n",
    "    props['MMFF94s_energies'] = energies\n",
    "    # write the results for this molecule to the data base\n",
    "    curs.execute('insert into experiments_data (expt_uid, molregno, data) values (?, ?, ?)',(cg_expt_uid,mid,json.dumps(props)))\n",
    "    cn.commit()\n",
    "    "
   ]
  },
  {
   "cell_type": "markdown",
   "id": "e989d5af",
   "metadata": {},
   "source": [
    "Example of querying the experiment results: retrieve the number of conformers generated for each molecule in this experiment\n",
    "\n",
    "We do this by counting the number of elements in each molecule's `MMFF94s_energies` array:"
   ]
  },
  {
   "cell_type": "code",
   "execution_count": 23,
   "id": "b45264e8",
   "metadata": {},
   "outputs": [
    {
     "data": {
      "text/html": [
       "<table>\n",
       "    <thead>\n",
       "        <tr>\n",
       "            <th>molregno</th>\n",
       "            <th>canonical_smiles</th>\n",
       "            <th>num_confs</th>\n",
       "        </tr>\n",
       "    </thead>\n",
       "    <tbody>\n",
       "        <tr>\n",
       "            <td>7</td>\n",
       "            <td>CCc1cccc(OC[C@@H](O)CN2CCC3(CC2)OCc2c3ccc3ccccc23)c1</td>\n",
       "            <td>100</td>\n",
       "        </tr>\n",
       "        <tr>\n",
       "            <td>9</td>\n",
       "            <td>COc1cccc2c1O[C@@H](CN1C3C=C(n4ccc5cc(F)ccc54)CC1CC3)CO2</td>\n",
       "            <td>72</td>\n",
       "        </tr>\n",
       "        <tr>\n",
       "            <td>6</td>\n",
       "            <td>CCCN(CCC)C1CCc2c(ccc3ccoc23)C1</td>\n",
       "            <td>69</td>\n",
       "        </tr>\n",
       "        <tr>\n",
       "            <td>8</td>\n",
       "            <td>CCCN(CCC)C1CCc2c(O)cccc2C1</td>\n",
       "            <td>69</td>\n",
       "        </tr>\n",
       "        <tr>\n",
       "            <td>2</td>\n",
       "            <td>CCCN(CCC)[C@@H]1CCc2c(OC)cccc2[C@@H]1C</td>\n",
       "            <td>67</td>\n",
       "        </tr>\n",
       "        <tr>\n",
       "            <td>10</td>\n",
       "            <td>CCOc1cccc2c1O[C@@H](CN1[C@@H]3CC[C@H]1C[C@](O)(c1ccc4ccccc4c1)C3)CO2</td>\n",
       "            <td>67</td>\n",
       "        </tr>\n",
       "        <tr>\n",
       "            <td>5</td>\n",
       "            <td>COc1cccc2c1O[C@@H](CN1[C@@H]3CC[C@H]1C[C@](O)(c1csc4ccccc14)C3)CO2</td>\n",
       "            <td>55</td>\n",
       "        </tr>\n",
       "        <tr>\n",
       "            <td>1</td>\n",
       "            <td>CCN(C)C1CCCc2ccncc21</td>\n",
       "            <td>34</td>\n",
       "        </tr>\n",
       "        <tr>\n",
       "            <td>3</td>\n",
       "            <td>c1ccc(-c2nc(CN3CCN(c4ncccn4)CC3)c[nH]2)cc1</td>\n",
       "            <td>33</td>\n",
       "        </tr>\n",
       "        <tr>\n",
       "            <td>4</td>\n",
       "            <td>CCCN1CC[C@H]2c3c(ccc4ccoc34)CC[C@H]21</td>\n",
       "            <td>24</td>\n",
       "        </tr>\n",
       "    </tbody>\n",
       "</table>\n",
       "<span style=\"font-style:italic;text-align:center;\">Truncated to <a href=\"https://jupysql.ploomber.io/en/latest/api/configuration.html#displaylimit\">displaylimit</a> of 10.</span>"
      ],
      "text/plain": [
       "+----------+----------------------------------------------------------------------+-----------+\n",
       "| molregno |                           canonical_smiles                           | num_confs |\n",
       "+----------+----------------------------------------------------------------------+-----------+\n",
       "|    7     |         CCc1cccc(OC[C@@H](O)CN2CCC3(CC2)OCc2c3ccc3ccccc23)c1         |    100    |\n",
       "|    9     |       COc1cccc2c1O[C@@H](CN1C3C=C(n4ccc5cc(F)ccc54)CC1CC3)CO2        |     72    |\n",
       "|    6     |                    CCCN(CCC)C1CCc2c(ccc3ccoc23)C1                    |     69    |\n",
       "|    8     |                      CCCN(CCC)C1CCc2c(O)cccc2C1                      |     69    |\n",
       "|    2     |                CCCN(CCC)[C@@H]1CCc2c(OC)cccc2[C@@H]1C                |     67    |\n",
       "|    10    | CCOc1cccc2c1O[C@@H](CN1[C@@H]3CC[C@H]1C[C@](O)(c1ccc4ccccc4c1)C3)CO2 |     67    |\n",
       "|    5     |  COc1cccc2c1O[C@@H](CN1[C@@H]3CC[C@H]1C[C@](O)(c1csc4ccccc14)C3)CO2  |     55    |\n",
       "|    1     |                         CCN(C)C1CCCc2ccncc21                         |     34    |\n",
       "|    3     |              c1ccc(-c2nc(CN3CCN(c4ncccn4)CC3)c[nH]2)cc1              |     33    |\n",
       "|    4     |                CCCN1CC[C@H]2c3c(ccc4ccoc34)CC[C@H]21                 |     24    |\n",
       "+----------+----------------------------------------------------------------------+-----------+\n",
       "Truncated to displaylimit of 10."
      ]
     },
     "execution_count": 23,
     "metadata": {},
     "output_type": "execute_result"
    }
   ],
   "source": [
    "%sql sqlite:///lwreg_experiments_demo.sqlite3 \\\n",
    "    select molregno,canonical_smiles,json_array_length(data->'MMFF94s_energies') num_confs from experiments_data \\\n",
    "            join hashes using (molregno) where expt_uid=:cg_expt_uid \\\n",
    "        order by num_confs desc;\n",
    "\n"
   ]
  },
  {
   "cell_type": "markdown",
   "id": "9b1a1b07",
   "metadata": {},
   "source": [
    "A more complex query: get the difference in energy between the highest and lowest energy conformers for each molecule. Sort the results by decreasing energy difference:"
   ]
  },
  {
   "cell_type": "code",
   "execution_count": 24,
   "id": "0719c7d8",
   "metadata": {},
   "outputs": [
    {
     "data": {
      "text/html": [
       "<table>\n",
       "    <thead>\n",
       "        <tr>\n",
       "            <th>molregno</th>\n",
       "            <th>delta_E</th>\n",
       "        </tr>\n",
       "    </thead>\n",
       "    <tbody>\n",
       "        <tr>\n",
       "            <td>5</td>\n",
       "            <td>118.46501866883895</td>\n",
       "        </tr>\n",
       "        <tr>\n",
       "            <td>9</td>\n",
       "            <td>90.94557601061695</td>\n",
       "        </tr>\n",
       "        <tr>\n",
       "            <td>2</td>\n",
       "            <td>84.57992971904252</td>\n",
       "        </tr>\n",
       "        <tr>\n",
       "            <td>7</td>\n",
       "            <td>78.97393715701878</td>\n",
       "        </tr>\n",
       "        <tr>\n",
       "            <td>8</td>\n",
       "            <td>57.88066583084663</td>\n",
       "        </tr>\n",
       "        <tr>\n",
       "            <td>10</td>\n",
       "            <td>56.22136678612077</td>\n",
       "        </tr>\n",
       "        <tr>\n",
       "            <td>6</td>\n",
       "            <td>42.298839018673874</td>\n",
       "        </tr>\n",
       "        <tr>\n",
       "            <td>1</td>\n",
       "            <td>35.338472726331986</td>\n",
       "        </tr>\n",
       "        <tr>\n",
       "            <td>4</td>\n",
       "            <td>23.84229995840532</td>\n",
       "        </tr>\n",
       "        <tr>\n",
       "            <td>3</td>\n",
       "            <td>18.882405074282957</td>\n",
       "        </tr>\n",
       "    </tbody>\n",
       "</table>\n",
       "<span style=\"font-style:italic;text-align:center;\">Truncated to <a href=\"https://jupysql.ploomber.io/en/latest/api/configuration.html#displaylimit\">displaylimit</a> of 10.</span>"
      ],
      "text/plain": [
       "+----------+--------------------+\n",
       "| molregno |      delta_E       |\n",
       "+----------+--------------------+\n",
       "|    5     | 118.46501866883895 |\n",
       "|    9     | 90.94557601061695  |\n",
       "|    2     | 84.57992971904252  |\n",
       "|    7     | 78.97393715701878  |\n",
       "|    8     | 57.88066583084663  |\n",
       "|    10    | 56.22136678612077  |\n",
       "|    6     | 42.298839018673874 |\n",
       "|    1     | 35.338472726331986 |\n",
       "|    4     | 23.84229995840532  |\n",
       "|    3     | 18.882405074282957 |\n",
       "+----------+--------------------+\n",
       "Truncated to displaylimit of 10."
      ]
     },
     "execution_count": 24,
     "metadata": {},
     "output_type": "execute_result"
    }
   ],
   "source": [
    "%sql sqlite:///lwreg_experiments_demo.sqlite3 \\\n",
    "  select molregno,max(mmffe.value)-min(mmffe.value) delta_E from \\\n",
    "    experiments_data ed,json_each(ed.data->'MMFF94s_energies') mmffe \\\n",
    "    where expt_uid=:cg_expt_uid group by molregno \\\n",
    "        order by delta_E desc;"
   ]
  },
  {
   "cell_type": "markdown",
   "id": "b18fd335",
   "metadata": {},
   "source": [
    "# Part 3: Calculating and storing partial charges"
   ]
  },
  {
   "cell_type": "markdown",
   "id": "bc065bc4",
   "metadata": {},
   "source": [
    "Here we will run a QM calculation (using extended Hueckel theory so that the calculations are fast) using the conformers generated in part 1. We will save the mulliken charges and reduced overlap populations (bond overlap populations) for each conformer in the database."
   ]
  },
  {
   "cell_type": "code",
   "execution_count": 25,
   "id": "5f7a9278",
   "metadata": {},
   "outputs": [],
   "source": [
    "from rdkit.Chem import rdEHTTools\n",
    "\n",
    "qm_expt_metadata = {\n",
    "    'Experiment Type':'QM Single Point',\n",
    "    'Method': 'eHT',\n",
    "    'RDKit Version': rdkit.__version__,\n",
    "    'Date': str(datetime.now()),\n",
    "    'note': 'property calculation with mulliken charges and reduced overlap populations'\n",
    "}\n",
    "import json\n",
    "import uuid\n",
    "qm_expt_uid = str(uuid.uuid4())\n",
    "curs.execute('insert into experiments_metadata values (?,?)',(str(qm_expt_uid),json.dumps(qm_expt_metadata)))\n",
    "cn.commit()"
   ]
  },
  {
   "cell_type": "markdown",
   "id": "008cbc1a",
   "metadata": {},
   "source": [
    "Retrieve the 3D structures we are going to work with.\n",
    "\n",
    "Start by finding the UUID for the experiment:"
   ]
  },
  {
   "cell_type": "code",
   "execution_count": 26,
   "id": "394ec867",
   "metadata": {},
   "outputs": [
    {
     "data": {
      "text/plain": [
       "'b542dcad-c571-4580-81ea-c2938c5c4b73'"
      ]
     },
     "execution_count": 26,
     "metadata": {},
     "output_type": "execute_result"
    }
   ],
   "source": [
    "d = %sql sqlite:///lwreg_experiments_demo.sqlite3 \\\n",
    "    select expt_uid from experiments_metadata where \\\n",
    "       metadata->>'note' like 'run1:%';\n",
    "cg_expt_uid = d[0][0]\n",
    "cg_expt_uid"
   ]
  },
  {
   "cell_type": "markdown",
   "id": "c4a3fb30",
   "metadata": {},
   "source": [
    "Use the database to look up the names of the SDF files generated during that experiment, and convert those into RDKit molecules:"
   ]
  },
  {
   "cell_type": "code",
   "execution_count": 27,
   "id": "b6e34221",
   "metadata": {},
   "outputs": [
    {
     "data": {
      "text/plain": [
       "10"
      ]
     },
     "execution_count": 27,
     "metadata": {},
     "output_type": "execute_result"
    }
   ],
   "source": [
    "d = %sql sqlite:///lwreg_experiments_demo.sqlite3 \\\n",
    "    select molregno,data->>'sdf' from experiments_data \\\n",
    "            where expt_uid=:cg_expt_uid;\n",
    "m3ds = []\n",
    "for mrn,sdname in d:\n",
    "    m = Chem.MolFromMolFile(sdname,removeHs=False)\n",
    "    m3ds.append((mrn,m))\n",
    "len(m3ds)"
   ]
  },
  {
   "cell_type": "markdown",
   "id": "ac1e1747",
   "metadata": {},
   "source": [
    "Let's look at one molecule just to make sure we've got something 3D"
   ]
  },
  {
   "cell_type": "code",
   "execution_count": 28,
   "id": "2d6e9b78",
   "metadata": {},
   "outputs": [],
   "source": [
    "IPythonConsole.ipython_3d = True"
   ]
  },
  {
   "cell_type": "code",
   "execution_count": 29,
   "id": "5b023788",
   "metadata": {},
   "outputs": [
    {
     "data": {
      "image/png": "[encoded data removed]",
      "text/plain": [
       "<rdkit.Chem.rdchem.Mol at 0x7e10fc453ed0>"
      ]
     },
     "execution_count": 29,
     "metadata": {},
     "output_type": "execute_result"
    }
   ],
   "source": [
    "m3ds[0][1]"
   ]
  },
  {
   "cell_type": "markdown",
   "id": "6da79e56",
   "metadata": {},
   "source": [
    "Run the eHT calculation each molecule, grab the computed properties from those results, and store everything in the database:"
   ]
  },
  {
   "cell_type": "code",
   "execution_count": 30,
   "id": "d507371f",
   "metadata": {},
   "outputs": [
    {
     "name": "stderr",
     "output_type": "stream",
     "text": [
      "!!! Warning !!! Distance between atoms 51 and 19 (0.987491 A) is suspicious.\n",
      "!!! Warning !!! Distance between atoms 43 and 11 (0.986334 A) is suspicious.\n"
     ]
    }
   ],
   "source": [
    "for mid,mh in m3ds:\n",
    "    # run the calculation:\n",
    "    ok,res = rdEHTTools.RunMol(mh)\n",
    "    if not ok:\n",
    "        continue\n",
    "    # grab the atomic charges:\n",
    "    d = {'atomic_charges':list(res.GetAtomicCharges())}\n",
    "    \n",
    "    # now find the reduced overlap populations for the bonds:\n",
    "    opm = res.GetReducedOverlapPopulationMatrix()\n",
    "    bnds = []\n",
    "    nats = mh.GetNumAtoms()\n",
    "    for bond in mh.GetBonds():\n",
    "        a1 = bond.GetBeginAtomIdx()\n",
    "        a2 = bond.GetEndAtomIdx()\n",
    "        if a1<a2:\n",
    "            a1,a2 = a2,a1\n",
    "        # the matrix is symmetric and stored in a compressed form, here's how to \n",
    "        # get element opm[a1][a2] where a1>a2:\n",
    "        o = opm[(a1*(a1+1))//2 + a2]\n",
    "        bnds.append(o)\n",
    "    d['mulliken_overlap_pops'] = bnds\n",
    "    \n",
    "    # store the results in the database\n",
    "    curs.execute('insert into experiments_data (expt_uid, molregno, data) values (?, ?, ?)',(qm_expt_uid,mid,json.dumps(d)))\n",
    "cn.commit()"
   ]
  },
  {
   "cell_type": "markdown",
   "id": "b5111fea",
   "metadata": {},
   "source": [
    "Check how many results we have"
   ]
  },
  {
   "cell_type": "code",
   "execution_count": 31,
   "id": "69c3c769",
   "metadata": {},
   "outputs": [
    {
     "data": {
      "text/html": [
       "<table>\n",
       "    <thead>\n",
       "        <tr>\n",
       "            <th>count(*)</th>\n",
       "        </tr>\n",
       "    </thead>\n",
       "    <tbody>\n",
       "        <tr>\n",
       "            <td>10</td>\n",
       "        </tr>\n",
       "    </tbody>\n",
       "</table>"
      ],
      "text/plain": [
       "+----------+\n",
       "| count(*) |\n",
       "+----------+\n",
       "|    10    |\n",
       "+----------+"
      ]
     },
     "execution_count": 31,
     "metadata": {},
     "output_type": "execute_result"
    }
   ],
   "source": [
    "%sql sqlite:///lwreg_experiments_demo.sqlite3 \\\n",
    "    select count(*) from experiments_data where expt_uid=:qm_expt_uid"
   ]
  },
  {
   "cell_type": "markdown",
   "id": "df96a304",
   "metadata": {},
   "source": [
    "retrieve the reduced overlap populations for each molecule's bonds as an array:"
   ]
  },
  {
   "cell_type": "code",
   "execution_count": 32,
   "id": "58e7f2e8",
   "metadata": {},
   "outputs": [
    {
     "data": {
      "text/html": [
       "<table>\n",
       "    <thead>\n",
       "        <tr>\n",
       "            <th>molregno</th>\n",
       "            <th>data->>'mulliken_overlap_pops'</th>\n",
       "        </tr>\n",
       "    </thead>\n",
       "    <tbody>\n",
       "        <tr>\n",
       "            <td>1</td>\n",
       "            <td>[0.7532468211409893,0.6828602786586407,0.6617527295381088,0.686789647205431,0.8047796773162955,0.7674382521007178,0.7270912892798937,0.7907108555888139,1.0985357530889024,1.1160373477943286,0.9586451508417231,0.9246392621189311,1.120133281193136,0.8086650301709231,1.093755172650467,0.7937431041759968,0.7849122353066897,0.7725327495332708,0.799683658911537,0.8037466689131881,0.7879077698029229,0.8009934598831069,0.8051125926633401,0.7856679530405674,0.7973882060814462,0.7739388510344183,0.7938490825580038,0.7979650355109786,0.799295842873313,0.7945679092073765,0.7991485930946862,0.8019561567638424,0.815038371844909]</td>\n",
       "        </tr>\n",
       "        <tr>\n",
       "            <td>2</td>\n",
       "            <td>[0.7776074296047532,0.7981245155914027,0.7402918103744955,0.7394442582890376,0.7645540762243164,0.753257904124829,0.7330039079744686,0.7688444074729129,0.7612749173440101,0.7959239001225229,1.0943520925839778,0.6280289912613681,0.5949270281383111,1.1176317970562848,1.0854349052742203,1.0873146661943047,1.102042831330051,0.8047801108423144,0.7424616648874904,0.7855511052972423,1.130388401679868,0.7635682213545082,0.7894068199929912,0.774659993786233,0.7798604945905745,0.7657688928025637,0.7604598014610494,0.7842526084670424,0.7924836403145556,0.8109192077368879,0.8033484250953407,0.7824665344315456,0.7821602219724715,0.7807472548878164,0.7903689501000614,0.8076297103625848,0.7966266045393215,0.8035562511767542,0.7823310643214242,0.7856332138627591,0.7855108428248129,0.7801718856823868,0.7684330533956807,0.7972884802230149,0.8096237554674958,0.7914992445304453,0.800369875037509,0.7864442491317237,0.7972311109721082,0.7708578109754083]</td>\n",
       "        </tr>\n",
       "        <tr>\n",
       "            <td>3</td>\n",
       "            <td>[0.6998966051949411,0.7169850229756896,0.7733231772732382,0.7020740620290026,0.7228112674907962,0.7700735894660973,0.8752653889585522,0.9483198454343278,0.9347489614111906,1.0981447089715228,1.1040389517859552,0.934598345192769,0.8328870821646037,1.1840732899314035,0.8901536077289537,0.9721377269389172,0.9810154048003767,0.909878268086808,1.0801666205842568,1.0967868490231032,1.085899903020373,1.0951684252654614,1.09967565678217,0.70113552972067,0.9515145843256454,0.8689455967865616,1.0850628094936146,0.7738227007994108,0.7883234426128083,0.7881530654342113,0.7788786201321252,0.7806239726376262,0.7886981102890374,0.7780791215694088,0.7829284007677627,0.8036338473432548,0.778574749161318,0.7974654100097972,0.7999416122114418,0.8081561690086344,0.802047184181091,0.7075583866580832,0.8004013285790598,0.802657748346212,0.8034533703585053,0.7927973234821776,0.8068798844318671]</td>\n",
       "        </tr>\n",
       "        <tr>\n",
       "            <td>4</td>\n",
       "            <td>[0.7715466420829221,0.7535660877170369,0.7186719197003808,0.705629562518978,0.7786885677580951,0.7356634392651826,0.7865204610686656,0.7931171342665433,0.7493406458916346,0.7926561562933759,1.1009218958315479,1.1048110015283514,1.0713791618333741,0.97405157672337,1.2101217913324662,0.7262729211961716,0.7108198153093606,1.0922778250849796,0.7296146659267544,0.8263428699707818,1.1163635031089567,1.0822831788147256,0.7725929822921345,0.7779985446826585,0.7948908926411696,0.7812062599955247,0.7946119476218869,0.7851687123997784,0.79932467054453,0.7906992437961013,0.7933497383432228,0.7980913725104072,0.7987933666925339,0.7888573932753689,0.7958440815274428,0.7943604902641426,0.7863327464874585,0.7897296589863232,0.7825772994911939,0.7974838017303526,0.804866247027607,0.7862099061077475,0.7953130398858798]</td>\n",
       "        </tr>\n",
       "        <tr>\n",
       "            <td>5</td>\n",
       "            <td>[0.576442765270729,0.6243121725077688,1.1154287841624209,1.0788123143436879,1.0915665380520825,1.1124254823233173,0.6079063517483173,0.5666910572828466,0.8005964769024865,0.785724979598099,0.727156169904026,0.6746759826186417,0.8004245303856656,0.7486808237191919,0.7672190920601899,0.8021950899393675,0.8005443920129678,0.5653122233882449,0.8009493362192097,0.783603710242938,1.153281345715514,0.7696360932968856,0.7458398097016247,1.1036056183223306,1.1015580341214475,1.0752493905369416,1.1373220498638326,1.0026795012594065,0.5437347614606238,0.6069700661731475,1.1127588935982666,1.1107034741184116,0.6934400239895708,0.7737737739016102,1.0863047733606364,1.0545945339662628,0.7906047877610035,0.7770382013389829,0.7788475414816483,0.7914855966430481,0.7973018099259671,0.7929173383128373,0.7793823148106047,0.7925225335475335,0.7949009776787633,0.7929789372952195,0.7804164366126948,0.8031789820291599,0.7794047167537226,0.7891548221809133,0.8042570703561462,0.8005178675468992,0.7997460187357963,0.7740683451003415,0.7970092169722884,0.6082264107897213,0.7875939448274728,0.783968054731571,0.8069345527820216,0.7946102763626062,0.8005825278093265,0.7947005140149992,0.8126406220879219]</td>\n",
       "        </tr>\n",
       "        <tr>\n",
       "            <td>6</td>\n",
       "            <td>[0.7361965982908605,0.7852097540855079,0.6755715243828052,0.7604195979932411,0.7773801866901953,0.729641873789351,0.7072307976107673,0.8200824621589203,0.7352647781093901,0.8070534583590159,1.0871378197429005,0.831799323532275,1.096674662106975,1.099216890903471,1.0638130604822904,0.981070495655972,1.1839563884440143,0.737940535542161,0.7276096961195453,0.7460752200150575,1.1275234547974755,1.0691835994465317,0.782585913482225,0.7983200811520148,0.7840758502626469,0.7923141534342901,0.7865005443218681,0.8012322924466395,0.8014044125284442,0.7700087800174649,0.7838909265246155,0.7798193307627266,0.8006894087514158,0.7934398077327987,0.7917588607020817,0.7720885633753081,0.7961678495644996,0.7624137978931695,0.7991205006101657,0.7956102357811944,0.7851207422875595,0.7896893927386208,0.7802807680398267,0.7968644065124928,0.7970642040195981,0.7913339671999268,0.7949849056229521]</td>\n",
       "        </tr>\n",
       "        <tr>\n",
       "            <td>7</td>\n",
       "            <td>[0.7486398243559773,0.8014432093600601,1.1179000887946118,1.0896373455599453,1.129241569298496,1.059139438938308,0.6798598522270931,0.6280675102672243,0.7887080257484976,0.5909206027801105,0.7906631841972702,0.7096859123431758,0.7292670821677342,0.7598138917827625,0.7905492357119595,0.7865325706940485,0.7723129354488626,0.5527809472804256,0.5832853877000012,0.8158397004536558,1.1027513972317418,1.0727118410727843,1.1224265569048886,1.0587499498267214,1.0462583386567317,1.1295948522715273,1.052698082381,1.154788081239401,1.0233503188631963,1.1069915545124538,1.091145971223695,0.7264059696492758,0.8361869847772491,1.0743016755330725,1.0245215759855224,0.7732847031929564,0.7919247930305733,0.7730446089840204,0.7838183762339607,0.784266897273384,0.8054560635049355,0.792176752492286,0.7923779137240871,0.7743980613473549,0.7698294419378262,0.7750606662085251,0.6068814977278194,0.78645967444528,0.7848368703115962,0.7788937230570249,0.7931084003849892,0.7866443431211745,0.78980723017423,0.7783864040686415,0.7916096650144215,0.786477443912289,0.7772276600162783,0.7827006811543131,0.7759177920447742,0.7964045393714236,0.8018739608435675,0.8023271609884909,0.7980080651556636,0.7992144604008088,0.8045964014079433,0.8073966869073477]</td>\n",
       "        </tr>\n",
       "        <tr>\n",
       "            <td>8</td>\n",
       "            <td>[0.7496298013410867,0.794082210057267,0.7520393381952764,0.7332301708326977,0.7910066891716524,0.7298318983467015,0.6961373007378456,0.7905812176282432,0.7539011662855799,0.7941185970175867,1.1162449714905849,0.6089224572718681,1.0985016917674089,1.0969289778828768,1.1046536538651284,1.0916132029517034,0.8118272026797173,0.7991845290782136,1.1140177607064874,0.7782902935183372,0.7844931711067393,0.785897164841409,0.799381179883521,0.7535442192698465,0.7714119202156718,0.7605746668250011,0.8074294901374298,0.7723810703480041,0.7868523759541987,0.7902167396424173,0.7962378845851359,0.788745451258722,0.7793332981913108,0.780976152554475,0.7970069889915403,0.800122019405087,0.7830524594902114,0.7890009803495976,0.590602308109337,0.78748892981637,0.7986853426476941,0.8084530903913341,0.7869260554718613,0.7558965103177515]</td>\n",
       "        </tr>\n",
       "        <tr>\n",
       "            <td>9</td>\n",
       "            <td>[0.5778577496182908,0.6040844686054967,1.1126837669304388,1.0851831349325696,1.1034388953985663,1.0770331241171076,0.6241572661634418,0.568006472527997,0.8085731326472563,0.7923248118056894,0.7255072856808951,0.6862202514490269,0.7921350157556405,0.7629059984018773,0.7390909267863749,0.8206399605158999,1.2979538719868124,0.8176072043199312,0.7894352753901073,0.9070118402276144,1.1866622350351952,1.0000766672821326,1.0651753075520236,1.1186160008899724,0.48722880035535504,1.095942720444874,1.1072678750984775,1.0873858391633249,0.5586482285992952,0.6275892628730089,1.0909413371164665,1.1502249043146306,0.698298000421433,0.7879202142868474,0.896230288164156,1.0541432824493928,0.7833544403075543,0.7766785678131707,0.7824723333193062,0.8061922066761458,0.7954887509148459,0.8034947596100852,0.7885810961184627,0.7780407677233825,0.7689707766529895,0.7789148844363015,0.776393882006422,0.7836402360996775,0.7876301587504476,0.7757001654115108,0.7918419474928584,0.7866819601765591,0.8093776722064845,0.8005829337934983,0.7791632768313227,0.7660210939266303,0.7933520958381254,0.793987109356701,0.7932081482458813,0.7934446299702387,0.8050726859433011]</td>\n",
       "        </tr>\n",
       "        <tr>\n",
       "            <td>10</td>\n",
       "            <td>[0.7791489706452928,0.5744824805423635,0.6411751591039035,1.1073858656152475,1.0899471657981232,1.1083360529598985,1.1062828019932647,0.6209158435482662,0.5603144412491523,0.794392728082764,0.7790869241738542,0.779800066470832,0.7273105439577578,0.7711167357925622,0.7584715393480845,0.7712915863135883,0.759731131983563,0.8104054798377587,0.5358996893769956,0.7823673217659899,0.8232851552463628,1.0566252163811003,1.1424263995409225,1.033970480265832,1.037608665048605,1.1385704200705629,1.0497235290776865,1.1377466806387424,1.037441897142169,1.03870227290269,0.5807480349944327,0.6063079514861547,1.1028957471055263,1.1167832554998725,0.7361169678793414,0.7745967162573066,1.1477531159555596,1.0529470853667622,0.7820080779937346,0.7682353296821931,0.7758550741278126,0.794220552346835,0.7788592764123748,0.8060258247391129,0.7885502257423814,0.7914182035045974,0.7886049485273857,0.7969403448602612,0.7849864974823426,0.7756593250723472,0.7723077308063389,0.8017515474881278,0.7803562918855623,0.8030980679573321,0.8050527605216596,0.7787457303256022,0.8107140968013482,0.7889601782260887,0.7909018027157029,0.5976123766985808,0.7766989525850672,0.8019677241433796,0.7947253204447408,0.7955836003038729,0.8024054347042839,0.7878869587944433,0.7912961461997562,0.8027187494325027,0.8163152824021831]</td>\n",
       "        </tr>\n",
       "    </tbody>\n",
       "</table>\n",
       "<span style=\"font-style:italic;text-align:center;\">Truncated to <a href=\"https://jupysql.ploomber.io/en/latest/api/configuration.html#displaylimit\">displaylimit</a> of 10.</span>"
      ],
      "text/plain": [
       "+----------+---------------------------------------------------------------------------------------------------------------------------------------------------------------------------------------------------------------------------------------------------------------------------------------------------------------------------------------------------------------------------------------------------------------------------------------------------------------------------------------------------------------------------------------------------------------------------------------------------------------------------------------------------------------------------------------------------------------------------------------------------------------------------------------------------------------------------------------------------------------------------------------------------------------------------------------------------------------------------------------------------------------------------------------------------------------------------------------------------------------------------------------------------------------------------------------------------------------------------------------------------------------------------------------------------------------------------------------------------------+\n",
       "| molregno |                                                                                                                                                                                                                                                                                                                                                                                                                                                                                                                                                                                                                                                              data->>'mulliken_overlap_pops'                                                                                                                                                                                                                                                                                                                                                                                                                                                                                                                                                                                                                                                             |\n",
       "+----------+---------------------------------------------------------------------------------------------------------------------------------------------------------------------------------------------------------------------------------------------------------------------------------------------------------------------------------------------------------------------------------------------------------------------------------------------------------------------------------------------------------------------------------------------------------------------------------------------------------------------------------------------------------------------------------------------------------------------------------------------------------------------------------------------------------------------------------------------------------------------------------------------------------------------------------------------------------------------------------------------------------------------------------------------------------------------------------------------------------------------------------------------------------------------------------------------------------------------------------------------------------------------------------------------------------------------------------------------------------+\n",
       "|    1     |                                                                                                                                                                                                                                                                                                                                                      [0.7532468211409893,0.6828602786586407,0.6617527295381088,0.686789647205431,0.8047796773162955,0.7674382521007178,0.7270912892798937,0.7907108555888139,1.0985357530889024,1.1160373477943286,0.9586451508417231,0.9246392621189311,1.120133281193136,0.8086650301709231,1.093755172650467,0.7937431041759968,0.7849122353066897,0.7725327495332708,0.799683658911537,0.8037466689131881,0.7879077698029229,0.8009934598831069,0.8051125926633401,0.7856679530405674,0.7973882060814462,0.7739388510344183,0.7938490825580038,0.7979650355109786,0.799295842873313,0.7945679092073765,0.7991485930946862,0.8019561567638424,0.815038371844909]                                                                                                                                                                                                                                                                                                                                                     |\n",
       "|    2     |                                                                                                                                                                                    [0.7776074296047532,0.7981245155914027,0.7402918103744955,0.7394442582890376,0.7645540762243164,0.753257904124829,0.7330039079744686,0.7688444074729129,0.7612749173440101,0.7959239001225229,1.0943520925839778,0.6280289912613681,0.5949270281383111,1.1176317970562848,1.0854349052742203,1.0873146661943047,1.102042831330051,0.8047801108423144,0.7424616648874904,0.7855511052972423,1.130388401679868,0.7635682213545082,0.7894068199929912,0.774659993786233,0.7798604945905745,0.7657688928025637,0.7604598014610494,0.7842526084670424,0.7924836403145556,0.8109192077368879,0.8033484250953407,0.7824665344315456,0.7821602219724715,0.7807472548878164,0.7903689501000614,0.8076297103625848,0.7966266045393215,0.8035562511767542,0.7823310643214242,0.7856332138627591,0.7855108428248129,0.7801718856823868,0.7684330533956807,0.7972884802230149,0.8096237554674958,0.7914992445304453,0.800369875037509,0.7864442491317237,0.7972311109721082,0.7708578109754083]                                                                                                                                                                                   |\n",
       "|    3     |                                                                                                                                                                                                                   [0.6998966051949411,0.7169850229756896,0.7733231772732382,0.7020740620290026,0.7228112674907962,0.7700735894660973,0.8752653889585522,0.9483198454343278,0.9347489614111906,1.0981447089715228,1.1040389517859552,0.934598345192769,0.8328870821646037,1.1840732899314035,0.8901536077289537,0.9721377269389172,0.9810154048003767,0.909878268086808,1.0801666205842568,1.0967868490231032,1.085899903020373,1.0951684252654614,1.09967565678217,0.70113552972067,0.9515145843256454,0.8689455967865616,1.0850628094936146,0.7738227007994108,0.7883234426128083,0.7881530654342113,0.7788786201321252,0.7806239726376262,0.7886981102890374,0.7780791215694088,0.7829284007677627,0.8036338473432548,0.778574749161318,0.7974654100097972,0.7999416122114418,0.8081561690086344,0.802047184181091,0.7075583866580832,0.8004013285790598,0.802657748346212,0.8034533703585053,0.7927973234821776,0.8068798844318671]                                                                                                                                                                                                                  |\n",
       "|    4     |                                                                                                                                                                                                                                                       [0.7715466420829221,0.7535660877170369,0.7186719197003808,0.705629562518978,0.7786885677580951,0.7356634392651826,0.7865204610686656,0.7931171342665433,0.7493406458916346,0.7926561562933759,1.1009218958315479,1.1048110015283514,1.0713791618333741,0.97405157672337,1.2101217913324662,0.7262729211961716,0.7108198153093606,1.0922778250849796,0.7296146659267544,0.8263428699707818,1.1163635031089567,1.0822831788147256,0.7725929822921345,0.7779985446826585,0.7948908926411696,0.7812062599955247,0.7946119476218869,0.7851687123997784,0.79932467054453,0.7906992437961013,0.7933497383432228,0.7980913725104072,0.7987933666925339,0.7888573932753689,0.7958440815274428,0.7943604902641426,0.7863327464874585,0.7897296589863232,0.7825772994911939,0.7974838017303526,0.804866247027607,0.7862099061077475,0.7953130398858798]                                                                                                                                                                                                                                                      |\n",
       "|    5     |                                                         [0.576442765270729,0.6243121725077688,1.1154287841624209,1.0788123143436879,1.0915665380520825,1.1124254823233173,0.6079063517483173,0.5666910572828466,0.8005964769024865,0.785724979598099,0.727156169904026,0.6746759826186417,0.8004245303856656,0.7486808237191919,0.7672190920601899,0.8021950899393675,0.8005443920129678,0.5653122233882449,0.8009493362192097,0.783603710242938,1.153281345715514,0.7696360932968856,0.7458398097016247,1.1036056183223306,1.1015580341214475,1.0752493905369416,1.1373220498638326,1.0026795012594065,0.5437347614606238,0.6069700661731475,1.1127588935982666,1.1107034741184116,0.6934400239895708,0.7737737739016102,1.0863047733606364,1.0545945339662628,0.7906047877610035,0.7770382013389829,0.7788475414816483,0.7914855966430481,0.7973018099259671,0.7929173383128373,0.7793823148106047,0.7925225335475335,0.7949009776787633,0.7929789372952195,0.7804164366126948,0.8031789820291599,0.7794047167537226,0.7891548221809133,0.8042570703561462,0.8005178675468992,0.7997460187357963,0.7740683451003415,0.7970092169722884,0.6082264107897213,0.7875939448274728,0.783968054731571,0.8069345527820216,0.7946102763626062,0.8005825278093265,0.7947005140149992,0.8126406220879219]                                                        |\n",
       "|    6     |                                                                                                                                                                                                                 [0.7361965982908605,0.7852097540855079,0.6755715243828052,0.7604195979932411,0.7773801866901953,0.729641873789351,0.7072307976107673,0.8200824621589203,0.7352647781093901,0.8070534583590159,1.0871378197429005,0.831799323532275,1.096674662106975,1.099216890903471,1.0638130604822904,0.981070495655972,1.1839563884440143,0.737940535542161,0.7276096961195453,0.7460752200150575,1.1275234547974755,1.0691835994465317,0.782585913482225,0.7983200811520148,0.7840758502626469,0.7923141534342901,0.7865005443218681,0.8012322924466395,0.8014044125284442,0.7700087800174649,0.7838909265246155,0.7798193307627266,0.8006894087514158,0.7934398077327987,0.7917588607020817,0.7720885633753081,0.7961678495644996,0.7624137978931695,0.7991205006101657,0.7956102357811944,0.7851207422875595,0.7896893927386208,0.7802807680398267,0.7968644065124928,0.7970642040195981,0.7913339671999268,0.7949849056229521]                                                                                                                                                                                                                 |\n",
       "|    7     |                                 [0.7486398243559773,0.8014432093600601,1.1179000887946118,1.0896373455599453,1.129241569298496,1.059139438938308,0.6798598522270931,0.6280675102672243,0.7887080257484976,0.5909206027801105,0.7906631841972702,0.7096859123431758,0.7292670821677342,0.7598138917827625,0.7905492357119595,0.7865325706940485,0.7723129354488626,0.5527809472804256,0.5832853877000012,0.8158397004536558,1.1027513972317418,1.0727118410727843,1.1224265569048886,1.0587499498267214,1.0462583386567317,1.1295948522715273,1.052698082381,1.154788081239401,1.0233503188631963,1.1069915545124538,1.091145971223695,0.7264059696492758,0.8361869847772491,1.0743016755330725,1.0245215759855224,0.7732847031929564,0.7919247930305733,0.7730446089840204,0.7838183762339607,0.784266897273384,0.8054560635049355,0.792176752492286,0.7923779137240871,0.7743980613473549,0.7698294419378262,0.7750606662085251,0.6068814977278194,0.78645967444528,0.7848368703115962,0.7788937230570249,0.7931084003849892,0.7866443431211745,0.78980723017423,0.7783864040686415,0.7916096650144215,0.786477443912289,0.7772276600162783,0.7827006811543131,0.7759177920447742,0.7964045393714236,0.8018739608435675,0.8023271609884909,0.7980080651556636,0.7992144604008088,0.8045964014079433,0.8073966869073477]                                |\n",
       "|    8     |                                                                                                                                                                                                                                               [0.7496298013410867,0.794082210057267,0.7520393381952764,0.7332301708326977,0.7910066891716524,0.7298318983467015,0.6961373007378456,0.7905812176282432,0.7539011662855799,0.7941185970175867,1.1162449714905849,0.6089224572718681,1.0985016917674089,1.0969289778828768,1.1046536538651284,1.0916132029517034,0.8118272026797173,0.7991845290782136,1.1140177607064874,0.7782902935183372,0.7844931711067393,0.785897164841409,0.799381179883521,0.7535442192698465,0.7714119202156718,0.7605746668250011,0.8074294901374298,0.7723810703480041,0.7868523759541987,0.7902167396424173,0.7962378845851359,0.788745451258722,0.7793332981913108,0.780976152554475,0.7970069889915403,0.800122019405087,0.7830524594902114,0.7890009803495976,0.590602308109337,0.78748892981637,0.7986853426476941,0.8084530903913341,0.7869260554718613,0.7558965103177515]                                                                                                                                                                                                                                              |\n",
       "|    9     |                                                                           [0.5778577496182908,0.6040844686054967,1.1126837669304388,1.0851831349325696,1.1034388953985663,1.0770331241171076,0.6241572661634418,0.568006472527997,0.8085731326472563,0.7923248118056894,0.7255072856808951,0.6862202514490269,0.7921350157556405,0.7629059984018773,0.7390909267863749,0.8206399605158999,1.2979538719868124,0.8176072043199312,0.7894352753901073,0.9070118402276144,1.1866622350351952,1.0000766672821326,1.0651753075520236,1.1186160008899724,0.48722880035535504,1.095942720444874,1.1072678750984775,1.0873858391633249,0.5586482285992952,0.6275892628730089,1.0909413371164665,1.1502249043146306,0.698298000421433,0.7879202142868474,0.896230288164156,1.0541432824493928,0.7833544403075543,0.7766785678131707,0.7824723333193062,0.8061922066761458,0.7954887509148459,0.8034947596100852,0.7885810961184627,0.7780407677233825,0.7689707766529895,0.7789148844363015,0.776393882006422,0.7836402360996775,0.7876301587504476,0.7757001654115108,0.7918419474928584,0.7866819601765591,0.8093776722064845,0.8005829337934983,0.7791632768313227,0.7660210939266303,0.7933520958381254,0.793987109356701,0.7932081482458813,0.7934446299702387,0.8050726859433011]                                                                           |\n",
       "|    10    | [0.7791489706452928,0.5744824805423635,0.6411751591039035,1.1073858656152475,1.0899471657981232,1.1083360529598985,1.1062828019932647,0.6209158435482662,0.5603144412491523,0.794392728082764,0.7790869241738542,0.779800066470832,0.7273105439577578,0.7711167357925622,0.7584715393480845,0.7712915863135883,0.759731131983563,0.8104054798377587,0.5358996893769956,0.7823673217659899,0.8232851552463628,1.0566252163811003,1.1424263995409225,1.033970480265832,1.037608665048605,1.1385704200705629,1.0497235290776865,1.1377466806387424,1.037441897142169,1.03870227290269,0.5807480349944327,0.6063079514861547,1.1028957471055263,1.1167832554998725,0.7361169678793414,0.7745967162573066,1.1477531159555596,1.0529470853667622,0.7820080779937346,0.7682353296821931,0.7758550741278126,0.794220552346835,0.7788592764123748,0.8060258247391129,0.7885502257423814,0.7914182035045974,0.7886049485273857,0.7969403448602612,0.7849864974823426,0.7756593250723472,0.7723077308063389,0.8017515474881278,0.7803562918855623,0.8030980679573321,0.8050527605216596,0.7787457303256022,0.8107140968013482,0.7889601782260887,0.7909018027157029,0.5976123766985808,0.7766989525850672,0.8019677241433796,0.7947253204447408,0.7955836003038729,0.8024054347042839,0.7878869587944433,0.7912961461997562,0.8027187494325027,0.8163152824021831] |\n",
       "+----------+---------------------------------------------------------------------------------------------------------------------------------------------------------------------------------------------------------------------------------------------------------------------------------------------------------------------------------------------------------------------------------------------------------------------------------------------------------------------------------------------------------------------------------------------------------------------------------------------------------------------------------------------------------------------------------------------------------------------------------------------------------------------------------------------------------------------------------------------------------------------------------------------------------------------------------------------------------------------------------------------------------------------------------------------------------------------------------------------------------------------------------------------------------------------------------------------------------------------------------------------------------------------------------------------------------------------------------------------------------+\n",
       "Truncated to displaylimit of 10."
      ]
     },
     "execution_count": 32,
     "metadata": {},
     "output_type": "execute_result"
    }
   ],
   "source": [
    "%sql sqlite:///lwreg_experiments_demo.sqlite3 \\\n",
    "    select molregno,data->>'mulliken_overlap_pops' from experiments_data \\\n",
    "    where experiments_data.expt_uid=:qm_expt_uid limit 10;"
   ]
  },
  {
   "cell_type": "markdown",
   "id": "3b7c962e",
   "metadata": {},
   "source": [
    "Max reduced overlap population in each molecule"
   ]
  },
  {
   "cell_type": "code",
   "execution_count": 33,
   "id": "83f0bb2d",
   "metadata": {},
   "outputs": [
    {
     "data": {
      "text/html": [
       "<table>\n",
       "    <thead>\n",
       "        <tr>\n",
       "            <th>molregno</th>\n",
       "            <th>max(mops.value)</th>\n",
       "        </tr>\n",
       "    </thead>\n",
       "    <tbody>\n",
       "        <tr>\n",
       "            <td>1</td>\n",
       "            <td>1.120133281193136</td>\n",
       "        </tr>\n",
       "        <tr>\n",
       "            <td>2</td>\n",
       "            <td>1.130388401679868</td>\n",
       "        </tr>\n",
       "        <tr>\n",
       "            <td>3</td>\n",
       "            <td>1.1840732899314035</td>\n",
       "        </tr>\n",
       "        <tr>\n",
       "            <td>4</td>\n",
       "            <td>1.2101217913324662</td>\n",
       "        </tr>\n",
       "        <tr>\n",
       "            <td>5</td>\n",
       "            <td>1.153281345715514</td>\n",
       "        </tr>\n",
       "        <tr>\n",
       "            <td>6</td>\n",
       "            <td>1.1839563884440143</td>\n",
       "        </tr>\n",
       "        <tr>\n",
       "            <td>7</td>\n",
       "            <td>1.154788081239401</td>\n",
       "        </tr>\n",
       "        <tr>\n",
       "            <td>8</td>\n",
       "            <td>1.1162449714905849</td>\n",
       "        </tr>\n",
       "        <tr>\n",
       "            <td>9</td>\n",
       "            <td>1.2979538719868124</td>\n",
       "        </tr>\n",
       "        <tr>\n",
       "            <td>10</td>\n",
       "            <td>1.1477531159555596</td>\n",
       "        </tr>\n",
       "    </tbody>\n",
       "</table>\n",
       "<span style=\"font-style:italic;text-align:center;\">Truncated to <a href=\"https://jupysql.ploomber.io/en/latest/api/configuration.html#displaylimit\">displaylimit</a> of 10.</span>"
      ],
      "text/plain": [
       "+----------+--------------------+\n",
       "| molregno |  max(mops.value)   |\n",
       "+----------+--------------------+\n",
       "|    1     | 1.120133281193136  |\n",
       "|    2     | 1.130388401679868  |\n",
       "|    3     | 1.1840732899314035 |\n",
       "|    4     | 1.2101217913324662 |\n",
       "|    5     | 1.153281345715514  |\n",
       "|    6     | 1.1839563884440143 |\n",
       "|    7     | 1.154788081239401  |\n",
       "|    8     | 1.1162449714905849 |\n",
       "|    9     | 1.2979538719868124 |\n",
       "|    10    | 1.1477531159555596 |\n",
       "+----------+--------------------+\n",
       "Truncated to displaylimit of 10."
      ]
     },
     "execution_count": 33,
     "metadata": {},
     "output_type": "execute_result"
    }
   ],
   "source": [
    "%sql sqlite:///lwreg_experiments_demo.sqlite3 \\\n",
    "  select molregno,max(mops.value) from \\\n",
    "    experiments_data ed,json_each(ed.data->'mulliken_overlap_pops') mops \\\n",
    "    where expt_uid=:qm_expt_uid  group by molregno;"
   ]
  },
  {
   "cell_type": "markdown",
   "id": "ba00dcc3",
   "metadata": {},
   "source": [
    "Max and min charges in each molecule"
   ]
  },
  {
   "cell_type": "code",
   "execution_count": 34,
   "id": "bfd6d703",
   "metadata": {},
   "outputs": [
    {
     "data": {
      "text/html": [
       "<table>\n",
       "    <thead>\n",
       "        <tr>\n",
       "            <th>molregno</th>\n",
       "            <th>max(mops.value)</th>\n",
       "            <th>min(mops.value)</th>\n",
       "        </tr>\n",
       "    </thead>\n",
       "    <tbody>\n",
       "        <tr>\n",
       "            <td>1</td>\n",
       "            <td>0.32207929379970324</td>\n",
       "            <td>-0.8415317006684404</td>\n",
       "        </tr>\n",
       "        <tr>\n",
       "            <td>2</td>\n",
       "            <td>0.4464337591830656</td>\n",
       "            <td>-0.7275443528624947</td>\n",
       "        </tr>\n",
       "        <tr>\n",
       "            <td>3</td>\n",
       "            <td>0.9223286627423888</td>\n",
       "            <td>-0.9845470892724062</td>\n",
       "        </tr>\n",
       "        <tr>\n",
       "            <td>4</td>\n",
       "            <td>0.4094480942687895</td>\n",
       "            <td>-0.6308753886232896</td>\n",
       "        </tr>\n",
       "        <tr>\n",
       "            <td>5</td>\n",
       "            <td>0.504622497533133</td>\n",
       "            <td>-0.8412284460643846</td>\n",
       "        </tr>\n",
       "        <tr>\n",
       "            <td>6</td>\n",
       "            <td>0.43105816536369446</td>\n",
       "            <td>-0.6189208077307082</td>\n",
       "        </tr>\n",
       "        <tr>\n",
       "            <td>7</td>\n",
       "            <td>0.5656531859020788</td>\n",
       "            <td>-0.8853606953343736</td>\n",
       "        </tr>\n",
       "        <tr>\n",
       "            <td>8</td>\n",
       "            <td>0.44264233360152616</td>\n",
       "            <td>-0.7758854367973527</td>\n",
       "        </tr>\n",
       "        <tr>\n",
       "            <td>9</td>\n",
       "            <td>0.6302052232843918</td>\n",
       "            <td>-0.7655907009219209</td>\n",
       "        </tr>\n",
       "        <tr>\n",
       "            <td>10</td>\n",
       "            <td>0.5218461316287515</td>\n",
       "            <td>-0.8773649904919394</td>\n",
       "        </tr>\n",
       "    </tbody>\n",
       "</table>\n",
       "<span style=\"font-style:italic;text-align:center;\">Truncated to <a href=\"https://jupysql.ploomber.io/en/latest/api/configuration.html#displaylimit\">displaylimit</a> of 10.</span>"
      ],
      "text/plain": [
       "+----------+---------------------+---------------------+\n",
       "| molregno |   max(mops.value)   |   min(mops.value)   |\n",
       "+----------+---------------------+---------------------+\n",
       "|    1     | 0.32207929379970324 | -0.8415317006684404 |\n",
       "|    2     |  0.4464337591830656 | -0.7275443528624947 |\n",
       "|    3     |  0.9223286627423888 | -0.9845470892724062 |\n",
       "|    4     |  0.4094480942687895 | -0.6308753886232896 |\n",
       "|    5     |  0.504622497533133  | -0.8412284460643846 |\n",
       "|    6     | 0.43105816536369446 | -0.6189208077307082 |\n",
       "|    7     |  0.5656531859020788 | -0.8853606953343736 |\n",
       "|    8     | 0.44264233360152616 | -0.7758854367973527 |\n",
       "|    9     |  0.6302052232843918 | -0.7655907009219209 |\n",
       "|    10    |  0.5218461316287515 | -0.8773649904919394 |\n",
       "+----------+---------------------+---------------------+\n",
       "Truncated to displaylimit of 10."
      ]
     },
     "execution_count": 34,
     "metadata": {},
     "output_type": "execute_result"
    }
   ],
   "source": [
    "%sql sqlite:///lwreg_experiments_demo.sqlite3 \\\n",
    "  select molregno,max(mops.value),min(mops.value) from \\\n",
    "    experiments_data ed,json_each(ed.data->'atomic_charges') mops \\\n",
    "    where expt_uid=:qm_expt_uid  group by molregno;"
   ]
  },
  {
   "cell_type": "markdown",
   "id": "c1d88bd5",
   "metadata": {},
   "source": [
    "Extract the arrays directly"
   ]
  },
  {
   "cell_type": "code",
   "execution_count": 35,
   "id": "55337942",
   "metadata": {},
   "outputs": [
    {
     "data": {
      "text/plain": [
       "'[-0.07284737178542855,0.24796048617872657,-0.6929872801972579,0.19616673124573936,0.29707145753664577,-0.014495393909541576,-0.004142665676567958,-0.04680858422796064,0.1793341410673861,-0.09795212113724006,0.32207929379970324,-0.8415317006684404,0.2883012413368533,0.0010110412434585214,0.024768164552369853,0.015618090578755073,0.007965459675233433,0.004645703826099634,0.00517717487673508,0.0011626988480202272,0.01792055617988808,0.01695297010610375,-0.007850034176954068,0.015216652565868571,-0.011135999138787156,0.0082506491598906,0.009519949333480326,0.014629170615918952,0.03220310606286603,0.027335976305039367,0.027839451192448905,0.028621000621569692]'"
      ]
     },
     "execution_count": 35,
     "metadata": {},
     "output_type": "execute_result"
    }
   ],
   "source": [
    "d = %sql sqlite:///lwreg_experiments_demo.sqlite3 \\\n",
    "  select molregno,data->'atomic_charges' \\\n",
    "    from experiments_data where expt_uid=:qm_expt_uid;\n",
    "d[0][1]"
   ]
  },
  {
   "cell_type": "markdown",
   "id": "52cf68c2",
   "metadata": {},
   "source": [
    "Note that the above is a string, *not* a list, but we can safely convert it to a list of numbers:"
   ]
  },
  {
   "cell_type": "code",
   "execution_count": 36,
   "id": "e5c784c8",
   "metadata": {},
   "outputs": [
    {
     "data": {
      "text/plain": [
       "[-0.07284737178542855,\n",
       " 0.24796048617872657,\n",
       " -0.6929872801972579,\n",
       " 0.19616673124573936,\n",
       " 0.29707145753664577,\n",
       " -0.014495393909541576,\n",
       " -0.004142665676567958,\n",
       " -0.04680858422796064,\n",
       " 0.1793341410673861,\n",
       " -0.09795212113724006,\n",
       " 0.32207929379970324,\n",
       " -0.8415317006684404,\n",
       " 0.2883012413368533,\n",
       " 0.0010110412434585214,\n",
       " 0.024768164552369853,\n",
       " 0.015618090578755073,\n",
       " 0.007965459675233433,\n",
       " 0.004645703826099634,\n",
       " 0.00517717487673508,\n",
       " 0.0011626988480202272,\n",
       " 0.01792055617988808,\n",
       " 0.01695297010610375,\n",
       " -0.007850034176954068,\n",
       " 0.015216652565868571,\n",
       " -0.011135999138787156,\n",
       " 0.0082506491598906,\n",
       " 0.009519949333480326,\n",
       " 0.014629170615918952,\n",
       " 0.03220310606286603,\n",
       " 0.027335976305039367,\n",
       " 0.027839451192448905,\n",
       " 0.028621000621569692]"
      ]
     },
     "execution_count": 36,
     "metadata": {},
     "output_type": "execute_result"
    }
   ],
   "source": [
    "json.loads(d[0][1])"
   ]
  },
  {
   "cell_type": "code",
   "execution_count": 37,
   "id": "d24cf2df",
   "metadata": {},
   "outputs": [],
   "source": [
    "import matplotlib.pyplot as plt\n",
    "%matplotlib inline\n",
    "plt.style.use('tableau-colorblind10')"
   ]
  },
  {
   "cell_type": "markdown",
   "id": "b5a8a5bf",
   "metadata": {},
   "source": [
    "Plot C-C overlap population vs distance for these molecules"
   ]
  },
  {
   "cell_type": "code",
   "execution_count": 38,
   "id": "e71c2c2a",
   "metadata": {},
   "outputs": [],
   "source": [
    "import ast\n",
    "\n",
    "rows = %sql sqlite:///lwreg_experiments_demo.sqlite3 \\\n",
    "    select molregno,data->>'mulliken_overlap_pops' from experiments_data \\\n",
    "    where experiments_data.expt_uid=:qm_expt_uid limit 10;\n",
    "cc_mops = []\n",
    "cc_dists = []\n",
    "cc_bos = []\n",
    "for mrn,mops in rows:\n",
    "    mops = ast.literal_eval(mops)\n",
    "    mol = None\n",
    "    for tpl in m3ds:\n",
    "        if tpl[0]==mrn:\n",
    "            mol = tpl[1]\n",
    "            break\n",
    "    assert mol is not None\n",
    "    conf = mol.GetConformer()\n",
    "    for idx,mop in enumerate(mops):\n",
    "        bnd = mol.GetBondWithIdx(idx)\n",
    "        if bnd.GetBeginAtom().GetAtomicNum()==6 and bnd.GetEndAtom().GetAtomicNum()==6:\n",
    "            dist = (conf.GetAtomPosition(bnd.GetBeginAtomIdx())-conf.GetAtomPosition(bnd.GetEndAtomIdx())).Length()\n",
    "            cc_mops.append(mop)\n",
    "            cc_dists.append(dist)\n",
    "            cc_bos.append(bnd.GetBondType())\n",
    "    "
   ]
  },
  {
   "cell_type": "code",
   "execution_count": 39,
   "id": "95c4396f",
   "metadata": {},
   "outputs": [],
   "source": [
    "from collections import defaultdict\n",
    "cc_dists_1 = defaultdict(list)\n",
    "cc_mops_1 = defaultdict(list)\n",
    "for bo,d,mop in zip(cc_bos,cc_dists,cc_mops):\n",
    "    cc_dists_1[bo].append(d)\n",
    "    cc_mops_1[bo].append(mop)\n",
    "        "
   ]
  },
  {
   "cell_type": "code",
   "execution_count": 41,
   "id": "a37141e4",
   "metadata": {},
   "outputs": [
    {
     "data": {
      "image/png": "[encoded data removed]",
      "text/plain": [
       "<Figure size 640x480 with 1 Axes>"
      ]
     },
     "metadata": {},
     "output_type": "display_data"
    }
   ],
   "source": [
    "for k in cc_dists_1.keys():\n",
    "    plt.scatter(cc_dists_1[k],cc_mops_1[k],label=str(k))\n",
    "plt.legend()\n",
    "plt.xlabel(r'C-C distance ($\\AA$)')\n",
    "plt.ylabel('Mulliken overlap population');"
   ]
  },
  {
   "cell_type": "code",
   "execution_count": null,
   "id": "624f9f18",
   "metadata": {},
   "outputs": [],
   "source": []
  }
 ],
 "metadata": {
  "kernelspec": {
   "display_name": "Python 3 (ipykernel)",
   "language": "python",
   "name": "python3"
  },
  "language_info": {
   "codemirror_mode": {
    "name": "ipython",
    "version": 3
   },
   "file_extension": ".py",
   "mimetype": "text/x-python",
   "name": "python",
   "nbconvert_exporter": "python",
   "pygments_lexer": "ipython3",
   "version": "3.13.2"
  },
  "varInspector": {
   "cols": {
    "lenName": 16,
    "lenType": 16,
    "lenVar": 40
   },
   "kernels_config": {
    "python": {
     "delete_cmd_postfix": "",
     "delete_cmd_prefix": "del ",
     "library": "var_list.py",
     "varRefreshCmd": "print(var_dic_list())"
    },
    "r": {
     "delete_cmd_postfix": ") ",
     "delete_cmd_prefix": "rm(",
     "library": "var_list.r",
     "varRefreshCmd": "cat(var_dic_list()) "
    }
   },
   "types_to_exclude": [
    "module",
    "function",
    "builtin_function_or_method",
    "instance",
    "_Feature"
   ],
   "window_display": false
  }
 },
 "nbformat": 4,
 "nbformat_minor": 5
}
