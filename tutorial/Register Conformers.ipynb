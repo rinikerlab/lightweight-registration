{
 "cells": [
  {
   "cell_type": "code",
   "execution_count": 1,
   "id": "e97113bf",
   "metadata": {},
   "outputs": [],
   "source": [
    "from rdkit import Chem\n",
    "from rdkit.Chem.MolStandardize import rdMolStandardize\n",
    "from rdkit.Chem import rdForceFieldHelpers\n",
    "from rdkit.Chem.Draw import IPythonConsole\n",
    "IPythonConsole.ipython_3d = True\n",
    "import lwreg\n",
    "from lwreg import utils,standardization_lib\n",
    "import pandas as pd\n",
    "import rdkit\n",
    "\n",
    "from rdkit import RDLogger\n",
    "RDLogger.DisableLog('rdApp.info')"
   ]
  },
  {
   "cell_type": "markdown",
   "id": "fa04e42b",
   "metadata": {},
   "source": [
    "# Start by reading in a data set from ChEMBL"
   ]
  },
  {
   "cell_type": "code",
   "execution_count": 2,
   "id": "9f1e8d9b",
   "metadata": {},
   "outputs": [
    {
     "data": {
      "text/html": [
       "<div>\n",
       "<style scoped>\n",
       "    .dataframe tbody tr th:only-of-type {\n",
       "        vertical-align: middle;\n",
       "    }\n",
       "\n",
       "    .dataframe tbody tr th {\n",
       "        vertical-align: top;\n",
       "    }\n",
       "\n",
       "    .dataframe thead th {\n",
       "        text-align: right;\n",
       "    }\n",
       "</style>\n",
       "<table border=\"1\" class=\"dataframe\">\n",
       "  <thead>\n",
       "    <tr style=\"text-align: right;\">\n",
       "      <th></th>\n",
       "      <th>doc_id</th>\n",
       "      <th>molregno</th>\n",
       "      <th>standard_relation</th>\n",
       "      <th>standard_value</th>\n",
       "      <th>standard_units</th>\n",
       "      <th>standard_flag</th>\n",
       "      <th>standard_type</th>\n",
       "      <th>pchembl_value</th>\n",
       "      <th>canonical_smiles</th>\n",
       "      <th>compound_chembl_id</th>\n",
       "    </tr>\n",
       "  </thead>\n",
       "  <tbody>\n",
       "    <tr>\n",
       "      <th>0</th>\n",
       "      <td>5839</td>\n",
       "      <td>189018</td>\n",
       "      <td>=</td>\n",
       "      <td>82.0</td>\n",
       "      <td>nM</td>\n",
       "      <td>1</td>\n",
       "      <td>EC50</td>\n",
       "      <td>7.09</td>\n",
       "      <td>CCCCCCCCc1ccc(NC(=O)[C@@H](N)COP(=O)(O)O)cc1.O...</td>\n",
       "      <td>CHEMBL332050</td>\n",
       "    </tr>\n",
       "    <tr>\n",
       "      <th>1</th>\n",
       "      <td>5839</td>\n",
       "      <td>188442</td>\n",
       "      <td>=</td>\n",
       "      <td>322.1</td>\n",
       "      <td>nM</td>\n",
       "      <td>1</td>\n",
       "      <td>EC50</td>\n",
       "      <td>6.49</td>\n",
       "      <td>CCCCCCCCCCCCCCONC(=O)[C@@H](N)COP(=O)(O)O.OC(=...</td>\n",
       "      <td>CHEMBL115505</td>\n",
       "    </tr>\n",
       "    <tr>\n",
       "      <th>2</th>\n",
       "      <td>5839</td>\n",
       "      <td>188375</td>\n",
       "      <td>=</td>\n",
       "      <td>260.0</td>\n",
       "      <td>nM</td>\n",
       "      <td>1</td>\n",
       "      <td>EC50</td>\n",
       "      <td>6.58</td>\n",
       "      <td>CCCCCCc1ccc(NC(=O)[C@H](N)COP(=O)(O)O)cc1.OC(=...</td>\n",
       "      <td>CHEMBL115344</td>\n",
       "    </tr>\n",
       "    <tr>\n",
       "      <th>3</th>\n",
       "      <td>5839</td>\n",
       "      <td>188376</td>\n",
       "      <td>=</td>\n",
       "      <td>598.4</td>\n",
       "      <td>nM</td>\n",
       "      <td>1</td>\n",
       "      <td>EC50</td>\n",
       "      <td>6.22</td>\n",
       "      <td>CCCCCCCCCCCCNC(=O)[C@@H](N)COP(=O)(O)O.OC(=O)C...</td>\n",
       "      <td>CHEMBL324358</td>\n",
       "    </tr>\n",
       "    <tr>\n",
       "      <th>4</th>\n",
       "      <td>5839</td>\n",
       "      <td>188766</td>\n",
       "      <td>=</td>\n",
       "      <td>12.7</td>\n",
       "      <td>nM</td>\n",
       "      <td>1</td>\n",
       "      <td>EC50</td>\n",
       "      <td>7.90</td>\n",
       "      <td>CCCCCCCCCCCCCCNC(=O)[C@H](N)COP(=O)(O)O.OC(=O)...</td>\n",
       "      <td>CHEMBL332472</td>\n",
       "    </tr>\n",
       "  </tbody>\n",
       "</table>\n",
       "</div>"
      ],
      "text/plain": [
       "   doc_id  molregno standard_relation  standard_value standard_units   \n",
       "0    5839    189018                 =            82.0             nM  \\\n",
       "1    5839    188442                 =           322.1             nM   \n",
       "2    5839    188375                 =           260.0             nM   \n",
       "3    5839    188376                 =           598.4             nM   \n",
       "4    5839    188766                 =            12.7             nM   \n",
       "\n",
       "   standard_flag standard_type  pchembl_value   \n",
       "0              1          EC50           7.09  \\\n",
       "1              1          EC50           6.49   \n",
       "2              1          EC50           6.58   \n",
       "3              1          EC50           6.22   \n",
       "4              1          EC50           7.90   \n",
       "\n",
       "                                    canonical_smiles compound_chembl_id  \n",
       "0  CCCCCCCCc1ccc(NC(=O)[C@@H](N)COP(=O)(O)O)cc1.O...       CHEMBL332050  \n",
       "1  CCCCCCCCCCCCCCONC(=O)[C@@H](N)COP(=O)(O)O.OC(=...       CHEMBL115505  \n",
       "2  CCCCCCc1ccc(NC(=O)[C@H](N)COP(=O)(O)O)cc1.OC(=...       CHEMBL115344  \n",
       "3  CCCCCCCCCCCCNC(=O)[C@@H](N)COP(=O)(O)O.OC(=O)C...       CHEMBL324358  \n",
       "4  CCCCCCCCCCCCCCNC(=O)[C@H](N)COP(=O)(O)O.OC(=O)...       CHEMBL332472  "
      ]
     },
     "execution_count": 2,
     "metadata": {},
     "output_type": "execute_result"
    }
   ],
   "source": [
    "df = pd.read_csv('../demos/demo_data/S1P1_data.csv')\n",
    "df.head()"
   ]
  },
  {
   "cell_type": "markdown",
   "id": "436c5964",
   "metadata": {},
   "source": [
    "# Generate conformers"
   ]
  },
  {
   "cell_type": "markdown",
   "id": "7c89201e",
   "metadata": {},
   "source": [
    "Now we can go ahead and register ten unique molecules (we limit the size to allow the tutorial to run faster):"
   ]
  },
  {
   "cell_type": "code",
   "execution_count": 3,
   "id": "6680c8d7",
   "metadata": {},
   "outputs": [],
   "source": [
    "unique_smis = set()\n",
    "mols = []\n",
    "for smi in df.canonical_smiles:\n",
    "    mol = Chem.AddHs(rdMolStandardize.ChargeParent(Chem.MolFromSmiles(smi)))\n",
    "    smi = Chem.MolToSmiles(mol)\n",
    "    if smi not in unique_smis:\n",
    "        mols.append(mol)\n",
    "        unique_smis.add(smi)\n",
    "    if len(unique_smis) >= 10:\n",
    "        break"
   ]
  },
  {
   "cell_type": "code",
   "execution_count": 4,
   "id": "2e14c2de",
   "metadata": {},
   "outputs": [],
   "source": [
    "from rdkit.Chem import rdDistGeom\n",
    "params = rdDistGeom.ETKDGv3()\n",
    "params.numThreads = 8\n",
    "params.randomSeed = 0xf00d\n",
    "params.pruneRmsThresh = 1.0\n",
    "\n",
    "for mol in mols:\n",
    "    rdDistGeom.EmbedMultipleConfs(mol,5,params)\n",
    "    rdForceFieldHelpers.MMFFOptimizeMoleculeConfs(mol,numThreads=8)\n"
   ]
  },
  {
   "cell_type": "markdown",
   "id": "96791212",
   "metadata": {},
   "source": [
    "# Set up our lwreg instance"
   ]
  },
  {
   "cell_type": "code",
   "execution_count": 5,
   "id": "bb4cddb5",
   "metadata": {},
   "outputs": [],
   "source": [
    "config = utils.defaultConfig()\n",
    "config['dbtype'] = 'postgresql'\n",
    "config['dbname'] = 'lwreg_conformer_tutorial'\n",
    "\n",
    "# for each molecule we want to register one or more conformers\n",
    "config['registerConformers'] = True\n",
    "\n",
    "# For this application we're going to assume that the molecules which \n",
    "# come in are already standardized, so we won't make any changes to them\n",
    "config['standardization'] = 'none'"
   ]
  },
  {
   "cell_type": "markdown",
   "id": "2a3b6317",
   "metadata": {},
   "source": [
    "The next command should only be run at the beginning of a project since it will destroy all existing registration information."
   ]
  },
  {
   "cell_type": "markdown",
   "id": "ac3dacdd",
   "metadata": {},
   "source": [
    "Note that this will generate an error if the `lwreg_conformer_tutorial` database doesn't already exist. You need to create it from the command line with `createdb lwreg_conformer_tutorial`."
   ]
  },
  {
   "cell_type": "code",
   "execution_count": 6,
   "id": "a11dba39",
   "metadata": {},
   "outputs": [
    {
     "name": "stdout",
     "output_type": "stream",
     "text": [
      "This will destroy any existing information in the registration database.\n",
      "  are you sure? [yes/no]: yes\n"
     ]
    }
   ],
   "source": [
    "lwreg.initdb(config=config)\n",
    "lwreg.set_default_config(config)"
   ]
  },
  {
   "cell_type": "code",
   "execution_count": 7,
   "id": "cc1806e8",
   "metadata": {},
   "outputs": [],
   "source": [
    "from datetime import datetime\n",
    "def non_default_params_to_dict(obj,defaults):\n",
    "    ''' returns a dict of the non-default parameter values in an object'''\n",
    "    res = {}\n",
    "    for k in dir(obj):\n",
    "        if k.startswith('__'):\n",
    "            continue\n",
    "        v = getattr(obj,k)\n",
    "        if callable(v):\n",
    "            continue\n",
    "        if v == getattr(defaults,k):\n",
    "            continue\n",
    "        else:\n",
    "            res[k] = v\n",
    "    return res\n"
   ]
  },
  {
   "cell_type": "markdown",
   "id": "b271d11c",
   "metadata": {},
   "source": [
    "## Set up the experiments table which we will use to track what was done"
   ]
  },
  {
   "cell_type": "markdown",
   "id": "c8e423d0",
   "metadata": {},
   "source": [
    "This next one destroys data, so it needs to be manually activated. :-)"
   ]
  },
  {
   "cell_type": "code",
   "execution_count": 8,
   "id": "38eb79f8",
   "metadata": {},
   "outputs": [
    {
     "name": "stdout",
     "output_type": "stream",
     "text": [
      "Executing this will destroy data. Do you want to continue? [yes/no]yes\n",
      "experiments schema reset\n"
     ]
    }
   ],
   "source": [
    "resp = input(\"Executing this will destroy data. Do you want to continue? [yes/no]\")\n",
    "\n",
    "if resp=='yes':\n",
    "    conn = utils.connect(config=config)\n",
    "    curs = conn.cursor()\n",
    "    curs.execute('create schema if not exists experiments')\n",
    "    curs.execute('drop table if exists experiments.metadata')\n",
    "    curs.execute('create table experiments.metadata (expt_uid text primary key,metadata jsonb)')\n",
    "    curs.execute('drop table if exists experiments.data')\n",
    "    curs.execute('create table experiments.data (expt_uid text not null,conf_id int not null,data jsonb)')\n",
    "    conn.commit()\n",
    "    print('experiments schema reset')\n",
    "else:\n",
    "    print('cancelled')"
   ]
  },
  {
   "cell_type": "markdown",
   "id": "00bc7955",
   "metadata": {},
   "source": [
    "# Register the experiment:"
   ]
  },
  {
   "cell_type": "code",
   "execution_count": 9,
   "id": "6da4cfa8",
   "metadata": {},
   "outputs": [
    {
     "name": "stdout",
     "output_type": "stream",
     "text": [
      "{'Experiment Type': 'Conformer generation', 'Method': 'ETKDGv3', 'RDKit Version': '2023.09.3', 'Date': '2023-12-19 16:06:22.075549', 'target_num_conformers': 5, 'note': 'conformer generation then MMFF94 minimization', 'maxIterations': 540, 'numThreads': 8, 'pruneRmsThresh': 1.0, 'randomSeed': 61453}\n"
     ]
    }
   ],
   "source": [
    "from datetime import datetime\n",
    "\n",
    "# capture the non-default part of our conformer generation parameters\n",
    "dg_metadata = non_default_params_to_dict(params,rdDistGeom.ETKDGv3())\n",
    "\n",
    "cg_expt_metadata = {\n",
    "    'Experiment Type':'Conformer generation',\n",
    "    'Method': 'ETKDGv3',\n",
    "    'RDKit Version': rdkit.__version__,\n",
    "    'Date': str(datetime.now()),\n",
    "    'target_num_conformers':5,\n",
    "    'note':'conformer generation then MMFF94 minimization'\n",
    "}\n",
    "cg_expt_metadata.update(dg_metadata)\n",
    "print(cg_expt_metadata)"
   ]
  },
  {
   "cell_type": "code",
   "execution_count": 10,
   "id": "7d0b7764",
   "metadata": {},
   "outputs": [],
   "source": [
    "import json\n",
    "import uuid\n",
    "cg_expt_uid = str(uuid.uuid4())\n",
    "\n",
    "\n",
    "conn = utils.connect(config=config)\n",
    "curs = conn.cursor()\n",
    "curs.execute('insert into experiments.metadata values (%s,%s)',(str(cg_expt_uid),json.dumps(cg_expt_metadata)))\n",
    "conn.commit()"
   ]
  },
  {
   "cell_type": "markdown",
   "id": "ae089c27",
   "metadata": {},
   "source": [
    "# Register the conformers"
   ]
  },
  {
   "cell_type": "markdown",
   "id": "c167b00a",
   "metadata": {},
   "source": [
    "Here's what the results look like for a single molecule:"
   ]
  },
  {
   "cell_type": "code",
   "execution_count": 11,
   "id": "8c74b872",
   "metadata": {},
   "outputs": [
    {
     "data": {
      "text/plain": [
       "4"
      ]
     },
     "execution_count": 11,
     "metadata": {},
     "output_type": "execute_result"
    }
   ],
   "source": [
    "mols[0].GetNumConformers()"
   ]
  },
  {
   "cell_type": "code",
   "execution_count": 12,
   "id": "55470851",
   "metadata": {},
   "outputs": [],
   "source": [
    "results = lwreg.register_multiple_conformers(mol=mols[0])"
   ]
  },
  {
   "cell_type": "markdown",
   "id": "cdc21147",
   "metadata": {},
   "source": [
    "The return value is a list of (molregno,conf_id) tuples, one entry for each conformer:"
   ]
  },
  {
   "cell_type": "code",
   "execution_count": 13,
   "id": "4a95c427",
   "metadata": {},
   "outputs": [
    {
     "data": {
      "text/plain": [
       "[(1, 1), (1, 2), (1, 3), (1, 4)]"
      ]
     },
     "execution_count": 13,
     "metadata": {},
     "output_type": "execute_result"
    }
   ],
   "source": [
    "results"
   ]
  },
  {
   "cell_type": "markdown",
   "id": "85a0baa0",
   "metadata": {},
   "source": [
    "Now do the rest of the molecules"
   ]
  },
  {
   "cell_type": "code",
   "execution_count": 14,
   "id": "de6d64c5",
   "metadata": {},
   "outputs": [],
   "source": [
    "for mol in mols[1:]:\n",
    "    results.extend(lwreg.register_multiple_conformers(mol=mol))"
   ]
  },
  {
   "cell_type": "code",
   "execution_count": 15,
   "id": "fe230d69",
   "metadata": {},
   "outputs": [
    {
     "data": {
      "text/plain": [
       "(37, 37)"
      ]
     },
     "execution_count": 15,
     "metadata": {},
     "output_type": "execute_result"
    }
   ],
   "source": [
    "unique_results = set(results)\n",
    "len(results),len(unique_results)"
   ]
  },
  {
   "cell_type": "markdown",
   "id": "1271827f",
   "metadata": {},
   "source": [
    "And now store the association between the conformers and the experiment:"
   ]
  },
  {
   "cell_type": "code",
   "execution_count": 16,
   "id": "44ef6344",
   "metadata": {},
   "outputs": [],
   "source": [
    "rows = [(cg_expt_uid,cid) for _,cid in results]\n",
    "conn = utils.connect(config=config)\n",
    "curs = conn.cursor()\n",
    "curs.executemany('insert into experiments.data values (%s,%s,null)',rows)\n",
    "conn.commit()"
   ]
  },
  {
   "cell_type": "markdown",
   "id": "d96ca08a",
   "metadata": {},
   "source": [
    "# Working with the registered conformers"
   ]
  },
  {
   "cell_type": "markdown",
   "id": "3a98cdbd",
   "metadata": {},
   "source": [
    "## Find all conformers for a given molecule:"
   ]
  },
  {
   "cell_type": "code",
   "execution_count": 17,
   "id": "24a5e419",
   "metadata": {},
   "outputs": [
    {
     "data": {
      "image/png": "[encoded data removed]",
      "text/plain": [
       "<rdkit.Chem.rdchem.Mol at 0x7f053e9bc040>"
      ]
     },
     "execution_count": 17,
     "metadata": {},
     "output_type": "execute_result"
    }
   ],
   "source": [
    "query = Chem.MolFromSmiles('CCCCCCCCCCCCNC(=O)[C@@H](N)COP(=O)(O)O.OC(=O)C(F)(F)F')\n",
    "query"
   ]
  },
  {
   "cell_type": "markdown",
   "id": "0a168e4f",
   "metadata": {},
   "source": [
    "We start by finding the molregno for the molecule (if there is one). For this we need to prepare the molecule the same way that the original structures were prepared: calling `ChargeParent()` and `AddHs()`:"
   ]
  },
  {
   "cell_type": "code",
   "execution_count": 18,
   "id": "6dd8671c",
   "metadata": {},
   "outputs": [],
   "source": [
    "query = Chem.AddHs(rdMolStandardize.ChargeParent(query))"
   ]
  },
  {
   "cell_type": "markdown",
   "id": "b8d21580",
   "metadata": {},
   "source": [
    "Get the molregno for any matching topologies in the registration database:"
   ]
  },
  {
   "cell_type": "code",
   "execution_count": 19,
   "id": "b43ad0a8",
   "metadata": {},
   "outputs": [
    {
     "data": {
      "text/plain": [
       "[4]"
      ]
     },
     "execution_count": 19,
     "metadata": {},
     "output_type": "execute_result"
    }
   ],
   "source": [
    "ids = lwreg.query(mol=query)\n",
    "ids"
   ]
  },
  {
   "cell_type": "markdown",
   "id": "c353c59c",
   "metadata": {},
   "source": [
    "Now query for the (molregno,conf_id) pairs for those molregnos:"
   ]
  },
  {
   "cell_type": "code",
   "execution_count": 20,
   "id": "a2aa2286",
   "metadata": {},
   "outputs": [
    {
     "data": {
      "text/plain": [
       "[(4, 14), (4, 13), (4, 15)]"
      ]
     },
     "execution_count": 20,
     "metadata": {},
     "output_type": "execute_result"
    }
   ],
   "source": [
    "ids_with_confids = lwreg.query(ids=ids)\n",
    "ids_with_confids"
   ]
  },
  {
   "cell_type": "markdown",
   "id": "755f7157",
   "metadata": {},
   "source": [
    "And now we can actually retrieve the conformers:"
   ]
  },
  {
   "cell_type": "code",
   "execution_count": 21,
   "id": "00637681",
   "metadata": {},
   "outputs": [],
   "source": [
    "t = lwreg.retrieve(ids=ids_with_confids)"
   ]
  },
  {
   "cell_type": "markdown",
   "id": "40df8946",
   "metadata": {},
   "source": [
    "The result is a dictory of (molblock, 'mol') two-tuples keyed by (molregno,conf_id):"
   ]
  },
  {
   "cell_type": "code",
   "execution_count": 22,
   "id": "a9f86073",
   "metadata": {},
   "outputs": [
    {
     "name": "stdout",
     "output_type": "stream",
     "text": [
      "('\\n     RDKit          3D\\n\\n  0  0  0  0  0  0  0  0  0  0999 V3000\\nM  V30 BEGIN CTAB\\nM  V30 COUNTS 56 55 0 0 0\\nM  V30 BEGIN ATOM\\nM  V30 1 C 8.476694 0.382872 -0.928753 0\\nM  V30 2 C 7.641653 -0.579971 -0.099546 0\\nM  V30 3 C 6.174977 -0.150217 -0.048186 0\\nM  V30 4 C 5.342874 -1.124523 0.788330 0\\nM  V30 5 C 3.880918 -0.694726 0.947714 0\\nM  V30 6 C 3.102656 -0.700894 -0.370899 0\\nM  V30 7 C 1.591135 -0.523386 -0.185001 0\\nM  V30 8 C 1.204833 0.855795 0.355860 0\\nM  V30 9 C -0.307280 1.039216 0.536995 0\\nM  V30 10 C -1.022707 1.709981 -0.641184 0\\nM  V30 11 C -1.096786 0.911126 -1.945314 0\\nM  V30 12 C -1.796524 -0.440570 -1.824230 0\\nM  V30 13 N -3.175825 -0.303541 -1.401412 0\\nM  V30 14 C -3.842426 -1.352031 -0.799073 0\\nM  V30 15 O -3.302350 -2.416908 -0.507953 0\\nM  V30 16 C -5.325768 -1.069127 -0.499033 0 CFG=1\\nM  V30 17 N -6.048874 -2.346850 -0.279184 0\\nM  V30 18 C -5.426309 -0.140619 0.716939 0\\nM  V30 19 O -6.726285 0.431214 0.774683 0\\nM  V30 20 P -7.070152 1.303260 2.066067 0 VAL=5\\nM  V30 21 O -6.873940 0.672918 3.398586 0\\nM  V30 22 O -6.250637 2.656062 1.849239 0\\nM  V30 23 O -8.564373 1.785459 1.784357 0\\nM  V30 24 H 9.519325 0.050817 -0.959687 0\\nM  V30 25 H 8.107009 0.437181 -1.957799 0\\nM  V30 26 H 8.453803 1.390539 -0.501262 0\\nM  V30 27 H 8.052386 -0.629058 0.915602 0\\nM  V30 28 H 7.718978 -1.585119 -0.529905 0\\nM  V30 29 H 5.780788 -0.099448 -1.069460 0\\nM  V30 30 H 6.101929 0.856864 0.379365 0\\nM  V30 31 H 5.786152 -1.206318 1.788754 0\\nM  V30 32 H 5.384777 -2.125733 0.342515 0\\nM  V30 33 H 3.398493 -1.382585 1.653266 0\\nM  V30 34 H 3.848429 0.302065 1.402094 0\\nM  V30 35 H 3.477476 0.085880 -1.035579 0\\nM  V30 36 H 3.271855 -1.656678 -0.881943 0\\nM  V30 37 H 1.211413 -1.303859 0.485560 0\\nM  V30 38 H 1.118228 -0.688794 -1.156900 0\\nM  V30 39 H 1.613642 1.645501 -0.285072 0\\nM  V30 40 H 1.668265 0.981777 1.341504 0\\nM  V30 41 H -0.452121 1.699498 1.402884 0\\nM  V30 42 H -0.789264 0.092287 0.803386 0\\nM  V30 43 H -0.535105 2.670311 -0.851609 0\\nM  V30 44 H -2.042562 1.958861 -0.321871 0\\nM  V30 45 H -0.089141 0.766464 -2.349039 0\\nM  V30 46 H -1.632894 1.521559 -2.683773 0\\nM  V30 47 H -1.265318 -1.105606 -1.136712 0\\nM  V30 48 H -1.812555 -0.934575 -2.802036 0\\nM  V30 49 H -3.731405 0.420292 -1.841346 0\\nM  V30 50 H -5.777161 -0.590040 -1.375721 0\\nM  V30 51 H -5.558836 -2.850227 0.466623 0\\nM  V30 52 H -5.898803 -2.936414 -1.100220 0\\nM  V30 53 H -5.219251 -0.688753 1.644083 0\\nM  V30 54 H -4.698697 0.676006 0.648403 0\\nM  V30 55 H -6.401615 3.267870 2.591305 0\\nM  V30 56 H -9.193726 1.054891 1.924181 0\\nM  V30 END ATOM\\nM  V30 BEGIN BOND\\nM  V30 1 1 1 2\\nM  V30 2 1 2 3\\nM  V30 3 1 3 4\\nM  V30 4 1 4 5\\nM  V30 5 1 5 6\\nM  V30 6 1 6 7\\nM  V30 7 1 7 8\\nM  V30 8 1 8 9\\nM  V30 9 1 9 10\\nM  V30 10 1 10 11\\nM  V30 11 1 11 12\\nM  V30 12 1 12 13\\nM  V30 13 1 13 14\\nM  V30 14 2 14 15\\nM  V30 15 1 14 16\\nM  V30 16 1 16 17\\nM  V30 17 1 16 18\\nM  V30 18 1 18 19\\nM  V30 19 1 19 20\\nM  V30 20 2 20 21\\nM  V30 21 1 20 22\\nM  V30 22 1 20 23\\nM  V30 23 1 1 24\\nM  V30 24 1 1 25\\nM  V30 25 1 1 26\\nM  V30 26 1 2 27\\nM  V30 27 1 2 28\\nM  V30 28 1 3 29\\nM  V30 29 1 3 30\\nM  V30 30 1 4 31\\nM  V30 31 1 4 32\\nM  V30 32 1 5 33\\nM  V30 33 1 5 34\\nM  V30 34 1 6 35\\nM  V30 35 1 6 36\\nM  V30 36 1 7 37\\nM  V30 37 1 7 38\\nM  V30 38 1 8 39\\nM  V30 39 1 8 40\\nM  V30 40 1 9 41\\nM  V30 41 1 9 42\\nM  V30 42 1 10 43\\nM  V30 43 1 10 44\\nM  V30 44 1 11 45\\nM  V30 45 1 11 46\\nM  V30 46 1 12 47\\nM  V30 47 1 12 48\\nM  V30 48 1 13 49\\nM  V30 49 1 16 50 CFG=3\\nM  V30 50 1 17 51\\nM  V30 51 1 17 52\\nM  V30 52 1 18 53\\nM  V30 53 1 18 54\\nM  V30 54 1 22 55\\nM  V30 55 1 23 56\\nM  V30 END BOND\\nM  V30 END CTAB\\nM  END\\n', 'mol')\n"
     ]
    }
   ],
   "source": [
    "print(t[(4,14)])"
   ]
  },
  {
   "cell_type": "code",
   "execution_count": 23,
   "id": "d5b87214",
   "metadata": {},
   "outputs": [
    {
     "data": {
      "application/3dmoljs_load.v0": "<div id=\"3dmolviewer_17029987125870905\"  style=\"position: relative; width: 400px; height: 400px\">\n        <p id=\"3dmolwarning_17029987125870905\" style=\"background-color:#ffcccc;color:black\">You appear to be running in JupyterLab (or JavaScript failed to load for some other reason).  You need to install the 3dmol extension: <br>\n        <tt>jupyter labextension install jupyterlab_3dmol</tt></p>\n        </div>\n<script>\n\nvar loadScriptAsync = function(uri){\n  return new Promise((resolve, reject) => {\n    //this is to ignore the existence of requirejs amd\n    var savedexports, savedmodule;\n    if (typeof exports !== 'undefined') savedexports = exports;\n    else exports = {}\n    if (typeof module !== 'undefined') savedmodule = module;\n    else module = {}\n\n    var tag = document.createElement('script');\n    tag.src = uri;\n    tag.async = true;\n    tag.onload = () => {\n        exports = savedexports;\n        module = savedmodule;\n        resolve();\n    };\n  var firstScriptTag = document.getElementsByTagName('script')[0];\n  firstScriptTag.parentNode.insertBefore(tag, firstScriptTag);\n});\n};\n\nif(typeof $3Dmolpromise === 'undefined') {\n$3Dmolpromise = null;\n  $3Dmolpromise = loadScriptAsync('https://cdnjs.cloudflare.com/ajax/libs/3Dmol/2.0.1/3Dmol-min.js');\n}\n\nvar viewer_17029987125870905 = null;\nvar warn = document.getElementById(\"3dmolwarning_17029987125870905\");\nif(warn) {\n    warn.parentNode.removeChild(warn);\n}\n$3Dmolpromise.then(function() {\nviewer_17029987125870905 = $3Dmol.createViewer(document.getElementById(\"3dmolviewer_17029987125870905\"),{backgroundColor:\"white\"});\nviewer_17029987125870905.zoomTo();\n\tviewer_17029987125870905.removeAllModels();\n\tviewer_17029987125870905.addModel(\"\\n     RDKit          3D\\n\\n 56 55  0  0  0  0  0  0  0  0999 V2000\\n    8.4767    0.3829   -0.9288 C   0  0  0  0  0  0  0  0  0  0  0  0\\n    7.6417   -0.5800   -0.0995 C   0  0  0  0  0  0  0  0  0  0  0  0\\n    6.1750   -0.1502   -0.0482 C   0  0  0  0  0  0  0  0  0  0  0  0\\n    5.3429   -1.1245    0.7883 C   0  0  0  0  0  0  0  0  0  0  0  0\\n    3.8809   -0.6947    0.9477 C   0  0  0  0  0  0  0  0  0  0  0  0\\n    3.1027   -0.7009   -0.3709 C   0  0  0  0  0  0  0  0  0  0  0  0\\n    1.5911   -0.5234   -0.1850 C   0  0  0  0  0  0  0  0  0  0  0  0\\n    1.2048    0.8558    0.3559 C   0  0  0  0  0  0  0  0  0  0  0  0\\n   -0.3073    1.0392    0.5370 C   0  0  0  0  0  0  0  0  0  0  0  0\\n   -1.0227    1.7100   -0.6412 C   0  0  0  0  0  0  0  0  0  0  0  0\\n   -1.0968    0.9111   -1.9453 C   0  0  0  0  0  0  0  0  0  0  0  0\\n   -1.7965   -0.4406   -1.8242 C   0  0  0  0  0  0  0  0  0  0  0  0\\n   -3.1758   -0.3035   -1.4014 N   0  0  0  0  0  0  0  0  0  0  0  0\\n   -3.8424   -1.3520   -0.7991 C   0  0  0  0  0  0  0  0  0  0  0  0\\n   -3.3024   -2.4169   -0.5080 O   0  0  0  0  0  0  0  0  0  0  0  0\\n   -5.3258   -1.0691   -0.4990 C   0  0  1  0  0  0  0  0  0  0  0  0\\n   -6.0489   -2.3468   -0.2792 N   0  0  0  0  0  0  0  0  0  0  0  0\\n   -5.4263   -0.1406    0.7169 C   0  0  0  0  0  0  0  0  0  0  0  0\\n   -6.7263    0.4312    0.7747 O   0  0  0  0  0  0  0  0  0  0  0  0\\n   -7.0702    1.3033    2.0661 P   0  0  0  0  0  5  0  0  0  0  0  0\\n   -6.8739    0.6729    3.3986 O   0  0  0  0  0  0  0  0  0  0  0  0\\n   -6.2506    2.6561    1.8492 O   0  0  0  0  0  0  0  0  0  0  0  0\\n   -8.5644    1.7855    1.7844 O   0  0  0  0  0  0  0  0  0  0  0  0\\n    9.5193    0.0508   -0.9597 H   0  0  0  0  0  0  0  0  0  0  0  0\\n    8.1070    0.4372   -1.9578 H   0  0  0  0  0  0  0  0  0  0  0  0\\n    8.4538    1.3905   -0.5013 H   0  0  0  0  0  0  0  0  0  0  0  0\\n    8.0524   -0.6291    0.9156 H   0  0  0  0  0  0  0  0  0  0  0  0\\n    7.7190   -1.5851   -0.5299 H   0  0  0  0  0  0  0  0  0  0  0  0\\n    5.7808   -0.0994   -1.0695 H   0  0  0  0  0  0  0  0  0  0  0  0\\n    6.1019    0.8569    0.3794 H   0  0  0  0  0  0  0  0  0  0  0  0\\n    5.7862   -1.2063    1.7888 H   0  0  0  0  0  0  0  0  0  0  0  0\\n    5.3848   -2.1257    0.3425 H   0  0  0  0  0  0  0  0  0  0  0  0\\n    3.3985   -1.3826    1.6533 H   0  0  0  0  0  0  0  0  0  0  0  0\\n    3.8484    0.3021    1.4021 H   0  0  0  0  0  0  0  0  0  0  0  0\\n    3.4775    0.0859   -1.0356 H   0  0  0  0  0  0  0  0  0  0  0  0\\n    3.2719   -1.6567   -0.8819 H   0  0  0  0  0  0  0  0  0  0  0  0\\n    1.2114   -1.3039    0.4856 H   0  0  0  0  0  0  0  0  0  0  0  0\\n    1.1182   -0.6888   -1.1569 H   0  0  0  0  0  0  0  0  0  0  0  0\\n    1.6136    1.6455   -0.2851 H   0  0  0  0  0  0  0  0  0  0  0  0\\n    1.6683    0.9818    1.3415 H   0  0  0  0  0  0  0  0  0  0  0  0\\n   -0.4521    1.6995    1.4029 H   0  0  0  0  0  0  0  0  0  0  0  0\\n   -0.7893    0.0923    0.8034 H   0  0  0  0  0  0  0  0  0  0  0  0\\n   -0.5351    2.6703   -0.8516 H   0  0  0  0  0  0  0  0  0  0  0  0\\n   -2.0426    1.9589   -0.3219 H   0  0  0  0  0  0  0  0  0  0  0  0\\n   -0.0891    0.7665   -2.3490 H   0  0  0  0  0  0  0  0  0  0  0  0\\n   -1.6329    1.5216   -2.6838 H   0  0  0  0  0  0  0  0  0  0  0  0\\n   -1.2653   -1.1056   -1.1367 H   0  0  0  0  0  0  0  0  0  0  0  0\\n   -1.8126   -0.9346   -2.8020 H   0  0  0  0  0  0  0  0  0  0  0  0\\n   -3.7314    0.4203   -1.8413 H   0  0  0  0  0  0  0  0  0  0  0  0\\n   -5.7772   -0.5900   -1.3757 H   0  0  0  0  0  0  0  0  0  0  0  0\\n   -5.5588   -2.8502    0.4666 H   0  0  0  0  0  0  0  0  0  0  0  0\\n   -5.8988   -2.9364   -1.1002 H   0  0  0  0  0  0  0  0  0  0  0  0\\n   -5.2193   -0.6888    1.6441 H   0  0  0  0  0  0  0  0  0  0  0  0\\n   -4.6987    0.6760    0.6484 H   0  0  0  0  0  0  0  0  0  0  0  0\\n   -6.4016    3.2679    2.5913 H   0  0  0  0  0  0  0  0  0  0  0  0\\n   -9.1937    1.0549    1.9242 H   0  0  0  0  0  0  0  0  0  0  0  0\\n  1  2  1  0\\n  2  3  1  0\\n  3  4  1  0\\n  4  5  1  0\\n  5  6  1  0\\n  6  7  1  0\\n  7  8  1  0\\n  8  9  1  0\\n  9 10  1  0\\n 10 11  1  0\\n 11 12  1  0\\n 12 13  1  0\\n 13 14  1  0\\n 14 15  2  0\\n 14 16  1  0\\n 16 17  1  0\\n 16 18  1  0\\n 18 19  1  0\\n 19 20  1  0\\n 20 21  2  0\\n 20 22  1  0\\n 20 23  1  0\\n  1 24  1  0\\n  1 25  1  0\\n  1 26  1  0\\n  2 27  1  0\\n  2 28  1  0\\n  3 29  1  0\\n  3 30  1  0\\n  4 31  1  0\\n  4 32  1  0\\n  5 33  1  0\\n  5 34  1  0\\n  6 35  1  0\\n  6 36  1  0\\n  7 37  1  0\\n  7 38  1  0\\n  8 39  1  0\\n  8 40  1  0\\n  9 41  1  0\\n  9 42  1  0\\n 10 43  1  0\\n 10 44  1  0\\n 11 45  1  0\\n 11 46  1  0\\n 12 47  1  0\\n 12 48  1  0\\n 13 49  1  0\\n 16 50  1  6\\n 17 51  1  0\\n 17 52  1  0\\n 18 53  1  0\\n 18 54  1  0\\n 22 55  1  0\\n 23 56  1  0\\nM  END\\n\",\"sdf\");\n\tviewer_17029987125870905.setStyle({\"stick\": {}});\n\tviewer_17029987125870905.setBackgroundColor(\"0xeeeeee\");\n\tviewer_17029987125870905.zoomTo();\nviewer_17029987125870905.render();\n});\n</script>",
      "text/html": [
       "<div id=\"3dmolviewer_17029987125870905\"  style=\"position: relative; width: 400px; height: 400px\">\n",
       "        <p id=\"3dmolwarning_17029987125870905\" style=\"background-color:#ffcccc;color:black\">You appear to be running in JupyterLab (or JavaScript failed to load for some other reason).  You need to install the 3dmol extension: <br>\n",
       "        <tt>jupyter labextension install jupyterlab_3dmol</tt></p>\n",
       "        </div>\n",
       "<script>\n",
       "\n",
       "var loadScriptAsync = function(uri){\n",
       "  return new Promise((resolve, reject) => {\n",
       "    //this is to ignore the existence of requirejs amd\n",
       "    var savedexports, savedmodule;\n",
       "    if (typeof exports !== 'undefined') savedexports = exports;\n",
       "    else exports = {}\n",
       "    if (typeof module !== 'undefined') savedmodule = module;\n",
       "    else module = {}\n",
       "\n",
       "    var tag = document.createElement('script');\n",
       "    tag.src = uri;\n",
       "    tag.async = true;\n",
       "    tag.onload = () => {\n",
       "        exports = savedexports;\n",
       "        module = savedmodule;\n",
       "        resolve();\n",
       "    };\n",
       "  var firstScriptTag = document.getElementsByTagName('script')[0];\n",
       "  firstScriptTag.parentNode.insertBefore(tag, firstScriptTag);\n",
       "});\n",
       "};\n",
       "\n",
       "if(typeof $3Dmolpromise === 'undefined') {\n",
       "$3Dmolpromise = null;\n",
       "  $3Dmolpromise = loadScriptAsync('https://cdnjs.cloudflare.com/ajax/libs/3Dmol/2.0.1/3Dmol-min.js');\n",
       "}\n",
       "\n",
       "var viewer_17029987125870905 = null;\n",
       "var warn = document.getElementById(\"3dmolwarning_17029987125870905\");\n",
       "if(warn) {\n",
       "    warn.parentNode.removeChild(warn);\n",
       "}\n",
       "$3Dmolpromise.then(function() {\n",
       "viewer_17029987125870905 = $3Dmol.createViewer(document.getElementById(\"3dmolviewer_17029987125870905\"),{backgroundColor:\"white\"});\n",
       "viewer_17029987125870905.zoomTo();\n",
       "\tviewer_17029987125870905.removeAllModels();\n",
       "\tviewer_17029987125870905.addModel(\"\\n     RDKit          3D\\n\\n 56 55  0  0  0  0  0  0  0  0999 V2000\\n    8.4767    0.3829   -0.9288 C   0  0  0  0  0  0  0  0  0  0  0  0\\n    7.6417   -0.5800   -0.0995 C   0  0  0  0  0  0  0  0  0  0  0  0\\n    6.1750   -0.1502   -0.0482 C   0  0  0  0  0  0  0  0  0  0  0  0\\n    5.3429   -1.1245    0.7883 C   0  0  0  0  0  0  0  0  0  0  0  0\\n    3.8809   -0.6947    0.9477 C   0  0  0  0  0  0  0  0  0  0  0  0\\n    3.1027   -0.7009   -0.3709 C   0  0  0  0  0  0  0  0  0  0  0  0\\n    1.5911   -0.5234   -0.1850 C   0  0  0  0  0  0  0  0  0  0  0  0\\n    1.2048    0.8558    0.3559 C   0  0  0  0  0  0  0  0  0  0  0  0\\n   -0.3073    1.0392    0.5370 C   0  0  0  0  0  0  0  0  0  0  0  0\\n   -1.0227    1.7100   -0.6412 C   0  0  0  0  0  0  0  0  0  0  0  0\\n   -1.0968    0.9111   -1.9453 C   0  0  0  0  0  0  0  0  0  0  0  0\\n   -1.7965   -0.4406   -1.8242 C   0  0  0  0  0  0  0  0  0  0  0  0\\n   -3.1758   -0.3035   -1.4014 N   0  0  0  0  0  0  0  0  0  0  0  0\\n   -3.8424   -1.3520   -0.7991 C   0  0  0  0  0  0  0  0  0  0  0  0\\n   -3.3024   -2.4169   -0.5080 O   0  0  0  0  0  0  0  0  0  0  0  0\\n   -5.3258   -1.0691   -0.4990 C   0  0  1  0  0  0  0  0  0  0  0  0\\n   -6.0489   -2.3468   -0.2792 N   0  0  0  0  0  0  0  0  0  0  0  0\\n   -5.4263   -0.1406    0.7169 C   0  0  0  0  0  0  0  0  0  0  0  0\\n   -6.7263    0.4312    0.7747 O   0  0  0  0  0  0  0  0  0  0  0  0\\n   -7.0702    1.3033    2.0661 P   0  0  0  0  0  5  0  0  0  0  0  0\\n   -6.8739    0.6729    3.3986 O   0  0  0  0  0  0  0  0  0  0  0  0\\n   -6.2506    2.6561    1.8492 O   0  0  0  0  0  0  0  0  0  0  0  0\\n   -8.5644    1.7855    1.7844 O   0  0  0  0  0  0  0  0  0  0  0  0\\n    9.5193    0.0508   -0.9597 H   0  0  0  0  0  0  0  0  0  0  0  0\\n    8.1070    0.4372   -1.9578 H   0  0  0  0  0  0  0  0  0  0  0  0\\n    8.4538    1.3905   -0.5013 H   0  0  0  0  0  0  0  0  0  0  0  0\\n    8.0524   -0.6291    0.9156 H   0  0  0  0  0  0  0  0  0  0  0  0\\n    7.7190   -1.5851   -0.5299 H   0  0  0  0  0  0  0  0  0  0  0  0\\n    5.7808   -0.0994   -1.0695 H   0  0  0  0  0  0  0  0  0  0  0  0\\n    6.1019    0.8569    0.3794 H   0  0  0  0  0  0  0  0  0  0  0  0\\n    5.7862   -1.2063    1.7888 H   0  0  0  0  0  0  0  0  0  0  0  0\\n    5.3848   -2.1257    0.3425 H   0  0  0  0  0  0  0  0  0  0  0  0\\n    3.3985   -1.3826    1.6533 H   0  0  0  0  0  0  0  0  0  0  0  0\\n    3.8484    0.3021    1.4021 H   0  0  0  0  0  0  0  0  0  0  0  0\\n    3.4775    0.0859   -1.0356 H   0  0  0  0  0  0  0  0  0  0  0  0\\n    3.2719   -1.6567   -0.8819 H   0  0  0  0  0  0  0  0  0  0  0  0\\n    1.2114   -1.3039    0.4856 H   0  0  0  0  0  0  0  0  0  0  0  0\\n    1.1182   -0.6888   -1.1569 H   0  0  0  0  0  0  0  0  0  0  0  0\\n    1.6136    1.6455   -0.2851 H   0  0  0  0  0  0  0  0  0  0  0  0\\n    1.6683    0.9818    1.3415 H   0  0  0  0  0  0  0  0  0  0  0  0\\n   -0.4521    1.6995    1.4029 H   0  0  0  0  0  0  0  0  0  0  0  0\\n   -0.7893    0.0923    0.8034 H   0  0  0  0  0  0  0  0  0  0  0  0\\n   -0.5351    2.6703   -0.8516 H   0  0  0  0  0  0  0  0  0  0  0  0\\n   -2.0426    1.9589   -0.3219 H   0  0  0  0  0  0  0  0  0  0  0  0\\n   -0.0891    0.7665   -2.3490 H   0  0  0  0  0  0  0  0  0  0  0  0\\n   -1.6329    1.5216   -2.6838 H   0  0  0  0  0  0  0  0  0  0  0  0\\n   -1.2653   -1.1056   -1.1367 H   0  0  0  0  0  0  0  0  0  0  0  0\\n   -1.8126   -0.9346   -2.8020 H   0  0  0  0  0  0  0  0  0  0  0  0\\n   -3.7314    0.4203   -1.8413 H   0  0  0  0  0  0  0  0  0  0  0  0\\n   -5.7772   -0.5900   -1.3757 H   0  0  0  0  0  0  0  0  0  0  0  0\\n   -5.5588   -2.8502    0.4666 H   0  0  0  0  0  0  0  0  0  0  0  0\\n   -5.8988   -2.9364   -1.1002 H   0  0  0  0  0  0  0  0  0  0  0  0\\n   -5.2193   -0.6888    1.6441 H   0  0  0  0  0  0  0  0  0  0  0  0\\n   -4.6987    0.6760    0.6484 H   0  0  0  0  0  0  0  0  0  0  0  0\\n   -6.4016    3.2679    2.5913 H   0  0  0  0  0  0  0  0  0  0  0  0\\n   -9.1937    1.0549    1.9242 H   0  0  0  0  0  0  0  0  0  0  0  0\\n  1  2  1  0\\n  2  3  1  0\\n  3  4  1  0\\n  4  5  1  0\\n  5  6  1  0\\n  6  7  1  0\\n  7  8  1  0\\n  8  9  1  0\\n  9 10  1  0\\n 10 11  1  0\\n 11 12  1  0\\n 12 13  1  0\\n 13 14  1  0\\n 14 15  2  0\\n 14 16  1  0\\n 16 17  1  0\\n 16 18  1  0\\n 18 19  1  0\\n 19 20  1  0\\n 20 21  2  0\\n 20 22  1  0\\n 20 23  1  0\\n  1 24  1  0\\n  1 25  1  0\\n  1 26  1  0\\n  2 27  1  0\\n  2 28  1  0\\n  3 29  1  0\\n  3 30  1  0\\n  4 31  1  0\\n  4 32  1  0\\n  5 33  1  0\\n  5 34  1  0\\n  6 35  1  0\\n  6 36  1  0\\n  7 37  1  0\\n  7 38  1  0\\n  8 39  1  0\\n  8 40  1  0\\n  9 41  1  0\\n  9 42  1  0\\n 10 43  1  0\\n 10 44  1  0\\n 11 45  1  0\\n 11 46  1  0\\n 12 47  1  0\\n 12 48  1  0\\n 13 49  1  0\\n 16 50  1  6\\n 17 51  1  0\\n 17 52  1  0\\n 18 53  1  0\\n 18 54  1  0\\n 22 55  1  0\\n 23 56  1  0\\nM  END\\n\",\"sdf\");\n",
       "\tviewer_17029987125870905.setStyle({\"stick\": {}});\n",
       "\tviewer_17029987125870905.setBackgroundColor(\"0xeeeeee\");\n",
       "\tviewer_17029987125870905.zoomTo();\n",
       "viewer_17029987125870905.render();\n",
       "});\n",
       "</script>"
      ]
     },
     "metadata": {},
     "output_type": "display_data"
    },
    {
     "data": {
      "image/png": "[encoded data removed]",
      "text/html": [],
      "text/plain": [
       "<rdkit.Chem.rdchem.Mol at 0x7f053e9bc3c0>"
      ]
     },
     "execution_count": 23,
     "metadata": {},
     "output_type": "execute_result"
    }
   ],
   "source": [
    "sampleMol = Chem.MolFromMolBlock(t[(4,14)][0],removeHs=False)\n",
    "sampleMol"
   ]
  },
  {
   "cell_type": "code",
   "execution_count": null,
   "id": "edecfe50",
   "metadata": {},
   "outputs": [],
   "source": []
  }
 ],
 "metadata": {
  "kernelspec": {
   "display_name": "Python 3 (ipykernel)",
   "language": "python",
   "name": "python3"
  },
  "language_info": {
   "codemirror_mode": {
    "name": "ipython",
    "version": 3
   },
   "file_extension": ".py",
   "mimetype": "text/x-python",
   "name": "python",
   "nbconvert_exporter": "python",
   "pygments_lexer": "ipython3",
   "version": "3.11.3"
  }
 },
 "nbformat": 4,
 "nbformat_minor": 5
}
