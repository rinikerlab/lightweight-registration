{
 "cells": [
  {
   "cell_type": "markdown",
   "id": "fdb393fe",
   "metadata": {},
   "source": [
    "In the \"Register Conformers\" tutorial we generated conformers for a set of molecules and save the conformers, along with metadata about how they were generated in lwreg. Here we show how to use those conformers in a computational experiment."
   ]
  },
  {
   "cell_type": "code",
   "execution_count": 1,
   "id": "e97113bf",
   "metadata": {},
   "outputs": [],
   "source": [
    "from rdkit import Chem\n",
    "from rdkit.Chem.MolStandardize import rdMolStandardize\n",
    "from rdkit.Chem.Draw import IPythonConsole\n",
    "IPythonConsole.ipython_3d = True\n",
    "import lwreg\n",
    "from lwreg import utils,standardization_lib\n",
    "import rdkit\n",
    "from rdkit.Chem import rdEHTTools\n",
    "\n",
    "\n",
    "from rdkit import RDLogger\n",
    "RDLogger.DisableLog('rdApp.info')"
   ]
  },
  {
   "cell_type": "code",
   "execution_count": 2,
   "id": "f35c1baf",
   "metadata": {},
   "outputs": [],
   "source": [
    "from datetime import datetime\n",
    "def non_default_params_to_dict(obj,defaults):\n",
    "    res = {}\n",
    "    for k in dir(obj):\n",
    "        if k.startswith('__'):\n",
    "            continue\n",
    "        v = getattr(obj,k)\n",
    "        if callable(v):\n",
    "            continue\n",
    "        if v == getattr(defaults,k):\n",
    "            continue\n",
    "        else:\n",
    "            res[k] = v\n",
    "    return res"
   ]
  },
  {
   "cell_type": "code",
   "execution_count": 3,
   "id": "a67eaf49",
   "metadata": {},
   "outputs": [],
   "source": [
    "config = utils.defaultConfig()\n",
    "config['dbtype'] = 'postgresql'\n",
    "config['dbname'] = 'lwreg_conformer_tutorial'\n",
    "\n",
    "# for each molecule we want to register one or more conformers\n",
    "config['registerConformers'] = True\n",
    "\n",
    "# For this application we're going to assume that the molecules which \n",
    "# come in are already standardized, so we won't make any changes to them\n",
    "config['standardization'] = 'none'"
   ]
  },
  {
   "cell_type": "code",
   "execution_count": 4,
   "id": "1b058a6f",
   "metadata": {},
   "outputs": [],
   "source": [
    "utils.set_default_config(config)\n",
    "cn = utils.connect(config)"
   ]
  },
  {
   "cell_type": "markdown",
   "id": "d1ec4511",
   "metadata": {},
   "source": [
    "# Register the experiment:"
   ]
  },
  {
   "cell_type": "markdown",
   "id": "f138bcf3",
   "metadata": {},
   "source": [
    "Here we will do a simple QM calculation (using extended Hueckel theory so that it goes fast) and store some of the calculated properties from those calculations in the database.\n",
    "\n",
    "Start by registering some metadata about the experiment itself"
   ]
  },
  {
   "cell_type": "code",
   "execution_count": 5,
   "id": "52ec034f",
   "metadata": {},
   "outputs": [],
   "source": [
    "qm_expt_metadata = {\n",
    "    'Experiment Type':'QM single point',\n",
    "    'Method': 'eHT',\n",
    "    'RDKit Version': rdkit.__version__,\n",
    "    'Date': str(datetime.now()),\n",
    "    'note': 'property calculation with mulliken charges and reduced overlap populations'\n",
    "}\n",
    "import json\n",
    "import uuid\n",
    "qm_expt_uid = str(uuid.uuid4())\n",
    "curs = cn.cursor()\n",
    "curs.execute('insert into experiments.metadata values (%s,%s)',(str(qm_expt_uid),json.dumps(qm_expt_metadata)))\n",
    "cn.commit()"
   ]
  },
  {
   "cell_type": "markdown",
   "id": "2c8266bc",
   "metadata": {},
   "source": [
    "# Run the experiment and store the results"
   ]
  },
  {
   "cell_type": "markdown",
   "id": "0b0c8e15",
   "metadata": {},
   "source": [
    "We'll run all the conformers stored in the database:"
   ]
  },
  {
   "cell_type": "code",
   "execution_count": 6,
   "id": "6f403a10",
   "metadata": {},
   "outputs": [
    {
     "name": "stderr",
     "output_type": "stream",
     "text": [
      "!!! Warning !!! Distance between atoms 51 and 22 (0.976972 A) is suspicious.\n",
      "!!! Warning !!! Distance between atoms 52 and 23 (0.974408 A) is suspicious.\n",
      "!!! Warning !!! Distance between atoms 51 and 22 (0.978295 A) is suspicious.\n",
      "!!! Warning !!! Distance between atoms 52 and 23 (0.974997 A) is suspicious.\n",
      "!!! Warning !!! Distance between atoms 51 and 22 (0.975127 A) is suspicious.\n",
      "!!! Warning !!! Distance between atoms 52 and 23 (0.976151 A) is suspicious.\n",
      "!!! Warning !!! Distance between atoms 51 and 22 (0.973903 A) is suspicious.\n",
      "!!! Warning !!! Distance between atoms 52 and 23 (0.975672 A) is suspicious.\n",
      "!!! Warning !!! Distance between atoms 62 and 25 (0.974070 A) is suspicious.\n",
      "!!! Warning !!! Distance between atoms 63 and 26 (0.989091 A) is suspicious.\n",
      "!!! Warning !!! Distance between atoms 62 and 25 (0.977331 A) is suspicious.\n",
      "!!! Warning !!! Distance between atoms 63 and 26 (0.982133 A) is suspicious.\n",
      "!!! Warning !!! Distance between atoms 55 and 22 (0.973532 A) is suspicious.\n",
      "!!! Warning !!! Distance between atoms 56 and 23 (0.974354 A) is suspicious.\n",
      "!!! Warning !!! Distance between atoms 62 and 25 (0.973938 A) is suspicious.\n",
      "!!! Warning !!! Distance between atoms 63 and 26 (0.974707 A) is suspicious.\n",
      "!!! Warning !!! Distance between atoms 62 and 25 (0.976278 A) is suspicious.\n",
      "!!! Warning !!! Distance between atoms 63 and 26 (0.976429 A) is suspicious.\n",
      "!!! Warning !!! Distance between atoms 62 and 25 (0.973455 A) is suspicious.\n",
      "!!! Warning !!! Distance between atoms 63 and 26 (0.973900 A) is suspicious.\n",
      "!!! Warning !!! Distance between atoms 45 and 20 (0.974658 A) is suspicious.\n",
      "!!! Warning !!! Distance between atoms 46 and 21 (0.973684 A) is suspicious.\n",
      "!!! Warning !!! Distance between atoms 45 and 20 (0.974610 A) is suspicious.\n",
      "!!! Warning !!! Distance between atoms 46 and 21 (0.973952 A) is suspicious.\n",
      "!!! Warning !!! Distance between atoms 45 and 20 (0.974676 A) is suspicious.\n",
      "!!! Warning !!! Distance between atoms 46 and 21 (0.985236 A) is suspicious.\n",
      "!!! Warning !!! Distance between atoms 55 and 22 (0.976337 A) is suspicious.\n",
      "!!! Warning !!! Distance between atoms 56 and 23 (0.974122 A) is suspicious.\n",
      "!!! Warning !!! Distance between atoms 55 and 22 (0.985639 A) is suspicious.\n",
      "!!! Warning !!! Distance between atoms 56 and 23 (0.974470 A) is suspicious.\n",
      "!!! Warning !!! Distance between atoms 61 and 24 (0.972699 A) is suspicious.\n",
      "!!! Warning !!! Distance between atoms 62 and 25 (0.990969 A) is suspicious.\n",
      "!!! Warning !!! Distance between atoms 61 and 24 (0.975619 A) is suspicious.\n",
      "!!! Warning !!! Distance between atoms 62 and 25 (0.974274 A) is suspicious.\n",
      "!!! Warning !!! Distance between atoms 61 and 24 (0.973062 A) is suspicious.\n",
      "!!! Warning !!! Distance between atoms 62 and 25 (0.975188 A) is suspicious.\n",
      "!!! Warning !!! Distance between atoms 61 and 24 (0.974740 A) is suspicious.\n",
      "!!! Warning !!! Distance between atoms 62 and 25 (0.978533 A) is suspicious.\n",
      "!!! Warning !!! Distance between atoms 51 and 22 (0.975694 A) is suspicious.\n",
      "!!! Warning !!! Distance between atoms 52 and 23 (0.972923 A) is suspicious.\n",
      "!!! Warning !!! Distance between atoms 51 and 22 (0.976919 A) is suspicious.\n",
      "!!! Warning !!! Distance between atoms 52 and 23 (0.976841 A) is suspicious.\n",
      "!!! Warning !!! Distance between atoms 51 and 22 (0.977297 A) is suspicious.\n",
      "!!! Warning !!! Distance between atoms 52 and 23 (0.975860 A) is suspicious.\n",
      "!!! Warning !!! Distance between atoms 51 and 22 (0.986572 A) is suspicious.\n",
      "!!! Warning !!! Distance between atoms 52 and 23 (0.973760 A) is suspicious.\n",
      "!!! Warning !!! Distance between atoms 63 and 26 (0.974060 A) is suspicious.\n",
      "!!! Warning !!! Distance between atoms 64 and 27 (0.976873 A) is suspicious.\n",
      "!!! Warning !!! Distance between atoms 63 and 26 (0.973435 A) is suspicious.\n",
      "!!! Warning !!! Distance between atoms 64 and 27 (0.973832 A) is suspicious.\n",
      "!!! Warning !!! Distance between atoms 63 and 26 (0.978479 A) is suspicious.\n",
      "!!! Warning !!! Distance between atoms 64 and 27 (0.973077 A) is suspicious.\n",
      "!!! Warning !!! Distance between atoms 63 and 26 (0.984558 A) is suspicious.\n",
      "!!! Warning !!! Distance between atoms 64 and 27 (0.974178 A) is suspicious.\n",
      "!!! Warning !!! Distance between atoms 57 and 24 (0.973632 A) is suspicious.\n",
      "!!! Warning !!! Distance between atoms 58 and 25 (0.974238 A) is suspicious.\n",
      "!!! Warning !!! Distance between atoms 57 and 24 (0.973237 A) is suspicious.\n",
      "!!! Warning !!! Distance between atoms 58 and 25 (0.973734 A) is suspicious.\n",
      "!!! Warning !!! Distance between atoms 57 and 24 (0.987372 A) is suspicious.\n",
      "!!! Warning !!! Distance between atoms 58 and 25 (0.979740 A) is suspicious.\n",
      "!!! Warning !!! Distance between atoms 57 and 24 (0.970519 A) is suspicious.\n",
      "!!! Warning !!! Distance between atoms 58 and 25 (0.976277 A) is suspicious.\n",
      "!!! Warning !!! Distance between atoms 67 and 26 (0.975966 A) is suspicious.\n",
      "!!! Warning !!! Distance between atoms 68 and 27 (0.973421 A) is suspicious.\n",
      "!!! Warning !!! Distance between atoms 67 and 26 (0.989052 A) is suspicious.\n",
      "!!! Warning !!! Distance between atoms 68 and 27 (0.973777 A) is suspicious.\n",
      "!!! Warning !!! Distance between atoms 67 and 26 (0.979559 A) is suspicious.\n",
      "!!! Warning !!! Distance between atoms 68 and 27 (0.973730 A) is suspicious.\n",
      "!!! Warning !!! Distance between atoms 67 and 26 (0.973627 A) is suspicious.\n",
      "!!! Warning !!! Distance between atoms 68 and 27 (0.974970 A) is suspicious.\n",
      "!!! Warning !!! Distance between atoms 45 and 20 (0.976145 A) is suspicious.\n",
      "!!! Warning !!! Distance between atoms 46 and 21 (0.979451 A) is suspicious.\n",
      "!!! Warning !!! Distance between atoms 45 and 20 (0.974123 A) is suspicious.\n",
      "!!! Warning !!! Distance between atoms 46 and 21 (0.974690 A) is suspicious.\n"
     ]
    }
   ],
   "source": [
    "# get all the molregnos\n",
    "mrns = lwreg.get_all_registry_numbers()\n",
    "\n",
    "# get all the (molregno,conf_id) pairs:\n",
    "conf_tpls = lwreg.query(ids=mrns)\n",
    "\n",
    "# retrieve the conformers themselves, this is a dictionary keyed by\n",
    "# (molregno,conf_id) tuples. The values are (molblock,'mol') tuples\n",
    "confs = lwreg.retrieve(ids=conf_tpls)\n",
    "\n",
    "\n",
    "# loop over all the conformers, run the calculation, and save\n",
    "# the computed results\n",
    "for (mrn,conf_id) in confs:\n",
    "    mb,_ = confs[(mrn,conf_id)]\n",
    "    mol = Chem.MolFromMolBlock(mb,removeHs=False)\n",
    "\n",
    "    # run the calculation:\n",
    "    ok,res = rdEHTTools.RunMol(mol)\n",
    "    if not ok:\n",
    "        continue\n",
    "\n",
    "    # fetch the values we're interested in and store them in a dictionary:\n",
    "    d = {'atomic_charges':list(res.GetAtomicCharges())}\n",
    "    opm = res.GetReducedOverlapPopulationMatrix()\n",
    "    bnds = []\n",
    "    nats = mol.GetNumAtoms()\n",
    "    for bond in mol.GetBonds():\n",
    "        a1 = bond.GetBeginAtomIdx()\n",
    "        a2 = bond.GetEndAtomIdx()\n",
    "        if a1<a2:\n",
    "            a1,a2 = a2,a1\n",
    "            \n",
    "        o = opm[(a1*(a1+1))//2 + a2]\n",
    "        bnds.append(o)\n",
    "    d['mulliken_overlap_pops'] = bnds\n",
    "    \n",
    "    # write that result to the experiments table:\n",
    "    with cn.cursor() as writeCurs:\n",
    "        writeCurs.execute('insert into experiments.data values (%s,%s,%s)',(qm_expt_uid,conf_id,json.dumps(d)))\n",
    "        cn.commit()\n",
    "\n"
   ]
  },
  {
   "cell_type": "markdown",
   "id": "6c2555bc",
   "metadata": {},
   "source": [
    "# Retrieving and working with the experiment data"
   ]
  },
  {
   "cell_type": "code",
   "execution_count": 7,
   "id": "f5f34e5c",
   "metadata": {},
   "outputs": [],
   "source": [
    "cn = utils.connect(config)\n",
    "curs = cn.cursor()\n"
   ]
  },
  {
   "cell_type": "markdown",
   "id": "8a04d52b",
   "metadata": {},
   "source": [
    "Get the most recent experiment of the appropriate type:\n"
   ]
  },
  {
   "cell_type": "code",
   "execution_count": 8,
   "id": "7fcbdc6e",
   "metadata": {},
   "outputs": [
    {
     "name": "stdout",
     "output_type": "stream",
     "text": [
      "feb28bc2-f386-4d08-b663-b571557805b8\n",
      "{'Date': '2023-12-19 16:34:30.716708', 'note': 'property calculation with mulliken charges and reduced overlap populations', 'Method': 'eHT', 'RDKit Version': '2023.09.3', 'Experiment Type': 'QM single point'}\n"
     ]
    }
   ],
   "source": [
    "# it's cool that we can query with JSON directly:\n",
    "expt_query = {'Experiment Type':'QM single point', 'Method':'eHT'}\n",
    "curs.execute(\"select * from experiments.metadata where metadata@>%s order by metadata->>'Date' desc\",\n",
    "            (json.dumps(expt_query),))\n",
    "expt_uid,md = curs.fetchone()\n",
    "print(expt_uid)\n",
    "print(md)\n"
   ]
  },
  {
   "cell_type": "markdown",
   "id": "4aa5ae43",
   "metadata": {},
   "source": [
    "Get the results for that experiment along with the corresponding conformers.\n",
    "\n",
    "Here we are explicit about the expt_uid so that we get the same results even if we later add new experiments to the database."
   ]
  },
  {
   "cell_type": "code",
   "execution_count": 9,
   "id": "02bdfd12",
   "metadata": {},
   "outputs": [
    {
     "data": {
      "text/plain": [
       "37"
      ]
     },
     "execution_count": 9,
     "metadata": {},
     "output_type": "execute_result"
    }
   ],
   "source": [
    "expt_uid = 'feb28bc2-f386-4d08-b663-b571557805b8'\n",
    "curs.execute(f'select conf_id,data,molblock from experiments.data join {utils.conformersTableName} using (conf_id) \\\n",
    "    where expt_uid=%s',(expt_uid,))\n",
    "rows = curs.fetchall()\n",
    "len(rows)"
   ]
  },
  {
   "cell_type": "markdown",
   "id": "e5475e0d",
   "metadata": {},
   "source": [
    "Now do something with the results.\n",
    "\n",
    "We'll plot the mulliken overlap population vs bond distance for all the C-C bonds in the data set and color the points by the bond type."
   ]
  },
  {
   "cell_type": "code",
   "execution_count": 10,
   "id": "04f9650d",
   "metadata": {},
   "outputs": [],
   "source": [
    "cc_mops = []\n",
    "cc_dists = []\n",
    "cc_bos = []\n",
    "for cid,qmd,molb in rows:\n",
    "    mops = qmd['mulliken_overlap_pops']\n",
    "    mol = Chem.MolFromMolBlock(molb,removeHs=False)\n",
    "    assert mol is not None\n",
    "    conf = mol.GetConformer()\n",
    "    for idx,mop in enumerate(mops):\n",
    "        bnd = mol.GetBondWithIdx(idx)\n",
    "        if bnd.GetBeginAtom().GetAtomicNum()==6 and bnd.GetEndAtom().GetAtomicNum()==6:\n",
    "            dist = (conf.GetAtomPosition(bnd.GetBeginAtomIdx())-conf.GetAtomPosition(bnd.GetEndAtomIdx())).Length()\n",
    "            cc_mops.append(mop)\n",
    "            cc_dists.append(dist)\n",
    "            cc_bos.append(bnd.GetBondType())"
   ]
  },
  {
   "cell_type": "code",
   "execution_count": 11,
   "id": "af05886a",
   "metadata": {},
   "outputs": [],
   "source": [
    "from collections import defaultdict\n",
    "cc_dists_1 = defaultdict(list)\n",
    "cc_mops_1 = defaultdict(list)\n",
    "for bo,d,mop in zip(cc_bos,cc_dists,cc_mops):\n",
    "    cc_dists_1[bo].append(d)\n",
    "    cc_mops_1[bo].append(mop)"
   ]
  },
  {
   "cell_type": "code",
   "execution_count": 12,
   "id": "23c206d2",
   "metadata": {},
   "outputs": [],
   "source": [
    "import matplotlib.pyplot as plt\n",
    "%matplotlib inline"
   ]
  },
  {
   "cell_type": "code",
   "execution_count": 13,
   "id": "717721fa",
   "metadata": {},
   "outputs": [
    {
     "data": {
      "image/png": "[encoded data removed]",
      "text/plain": [
       "<Figure size 640x480 with 1 Axes>"
      ]
     },
     "metadata": {},
     "output_type": "display_data"
    }
   ],
   "source": [
    "for k in cc_dists_1.keys():\n",
    "    plt.scatter(cc_dists_1[k],cc_mops_1[k],label=str(k))\n",
    "plt.legend()\n",
    "plt.xlabel('C-C distance ($\\AA$)')\n",
    "plt.ylabel('Mulliken overlap population');"
   ]
  },
  {
   "cell_type": "code",
   "execution_count": null,
   "id": "b54a2e84",
   "metadata": {},
   "outputs": [],
   "source": []
  }
 ],
 "metadata": {
  "kernelspec": {
   "display_name": "Python 3 (ipykernel)",
   "language": "python",
   "name": "python3"
  },
  "language_info": {
   "codemirror_mode": {
    "name": "ipython",
    "version": 3
   },
   "file_extension": ".py",
   "mimetype": "text/x-python",
   "name": "python",
   "nbconvert_exporter": "python",
   "pygments_lexer": "ipython3",
   "version": "3.11.3"
  }
 },
 "nbformat": 4,
 "nbformat_minor": 5
}
